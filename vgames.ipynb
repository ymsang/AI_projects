{
  "nbformat": 4,
  "nbformat_minor": 0,
  "metadata": {
    "colab": {
      "name": "vgames",
      "provenance": [],
      "authorship_tag": "ABX9TyPgqmoD+gpjh6eTEJGMbfgd",
      "include_colab_link": true
    },
    "kernelspec": {
      "name": "python3",
      "display_name": "Python 3"
    },
    "language_info": {
      "name": "python"
    }
  },
  "cells": [
    {
      "cell_type": "markdown",
      "metadata": {
        "id": "view-in-github",
        "colab_type": "text"
      },
      "source": [
        "<a href=\"https://colab.research.google.com/github/ymsang/AI_projects/blob/main/vgames.ipynb\" target=\"_parent\"><img src=\"https://colab.research.google.com/assets/colab-badge.svg\" alt=\"Open In Colab\"/></a>"
      ]
    },
    {
      "cell_type": "markdown",
      "metadata": {
        "id": "z2q9ZNgOi1xC"
      },
      "source": [
        "Video Games Data analysis\n",
        "\n",
        "목적: \n",
        "- 다음 분기에 어떤 게임을 설계해야 할까\n",
        "\n",
        "알아야 하는것: \n",
        "- 트랜드 파악 (장르, 년도별, sales)\n",
        "- 장르에 대한 hypothesis? 통계? - 선택한 게임이 인기가 있을지? \n",
        "\n",
        "필수: \n",
        "1. 지역에 따라서 선호하는 게임 장르가 다를까 \n",
        "2. 연도별 게임의 트렌드가 있을까 \n",
        "3. 출고량이 높은 게임에 대한 분석 및 시각화 프로세스\n",
        "\n",
        "추가 분석하고자 하는 것: \n",
        "- let's see\n",
        "\n",
        "과정: \n"
      ]
    },
    {
      "cell_type": "code",
      "metadata": {
        "colab": {
          "resources": {
            "http://localhost:8080/nbextensions/google.colab/files.js": {
              "data": "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",
              "ok": true,
              "headers": [
                [
                  "content-type",
                  "application/javascript"
                ]
              ],
              "status": 200,
              "status_text": ""
            }
          },
          "base_uri": "https://localhost:8080/",
          "height": 440
        },
        "id": "cBH06k6XioF3",
        "outputId": "76d32ade-22c4-4cbb-f39e-9afcc2730f29"
      },
      "source": [
        "import pandas as pd\n",
        "import numpy as np\n",
        "from sklearn.cluster import KMeans \n",
        "from sklearn.preprocessing import StandardScaler \n",
        "import seaborn as sns\n",
        "\n",
        "# read data as df\n",
        "from google.colab import files\n",
        "uploaded = files.upload()\n",
        "\n",
        "import io\n",
        "df = pd.read_csv('vgames2.csv', index_col=0)\n",
        "df\n",
        "\n"
      ],
      "execution_count": 39,
      "outputs": [
        {
          "output_type": "display_data",
          "data": {
            "text/html": [
              "\n",
              "     <input type=\"file\" id=\"files-e0f9168a-a053-4c67-89ed-098cb2fc4e3c\" name=\"files[]\" multiple disabled\n",
              "        style=\"border:none\" />\n",
              "     <output id=\"result-e0f9168a-a053-4c67-89ed-098cb2fc4e3c\">\n",
              "      Upload widget is only available when the cell has been executed in the\n",
              "      current browser session. Please rerun this cell to enable.\n",
              "      </output>\n",
              "      <script src=\"/nbextensions/google.colab/files.js\"></script> "
            ],
            "text/plain": [
              "<IPython.core.display.HTML object>"
            ]
          },
          "metadata": {
            "tags": []
          }
        },
        {
          "output_type": "execute_result",
          "data": {
            "text/html": [
              "<div>\n",
              "<style scoped>\n",
              "    .dataframe tbody tr th:only-of-type {\n",
              "        vertical-align: middle;\n",
              "    }\n",
              "\n",
              "    .dataframe tbody tr th {\n",
              "        vertical-align: top;\n",
              "    }\n",
              "\n",
              "    .dataframe thead th {\n",
              "        text-align: right;\n",
              "    }\n",
              "</style>\n",
              "<table border=\"1\" class=\"dataframe\">\n",
              "  <thead>\n",
              "    <tr style=\"text-align: right;\">\n",
              "      <th></th>\n",
              "      <th>Name</th>\n",
              "      <th>Platform</th>\n",
              "      <th>Year</th>\n",
              "      <th>Genre</th>\n",
              "      <th>Publisher</th>\n",
              "      <th>NA_Sales</th>\n",
              "      <th>EU_Sales</th>\n",
              "      <th>JP_Sales</th>\n",
              "      <th>Other_Sales</th>\n",
              "    </tr>\n",
              "  </thead>\n",
              "  <tbody>\n",
              "    <tr>\n",
              "      <th>1</th>\n",
              "      <td>Candace Kane's Candy Factory</td>\n",
              "      <td>DS</td>\n",
              "      <td>2008.0</td>\n",
              "      <td>Action</td>\n",
              "      <td>Destineer</td>\n",
              "      <td>0.04</td>\n",
              "      <td>0</td>\n",
              "      <td>0</td>\n",
              "      <td>0</td>\n",
              "    </tr>\n",
              "    <tr>\n",
              "      <th>2</th>\n",
              "      <td>The Munchables</td>\n",
              "      <td>Wii</td>\n",
              "      <td>2009.0</td>\n",
              "      <td>Action</td>\n",
              "      <td>Namco Bandai Games</td>\n",
              "      <td>0.17</td>\n",
              "      <td>0</td>\n",
              "      <td>0</td>\n",
              "      <td>0.01</td>\n",
              "    </tr>\n",
              "    <tr>\n",
              "      <th>3</th>\n",
              "      <td>Otome wa Oanesama Boku ni Koi Shiteru Portable</td>\n",
              "      <td>PSP</td>\n",
              "      <td>2010.0</td>\n",
              "      <td>Adventure</td>\n",
              "      <td>Alchemist</td>\n",
              "      <td>0</td>\n",
              "      <td>0</td>\n",
              "      <td>0.02</td>\n",
              "      <td>0</td>\n",
              "    </tr>\n",
              "    <tr>\n",
              "      <th>4</th>\n",
              "      <td>Deal or No Deal: Special Edition</td>\n",
              "      <td>DS</td>\n",
              "      <td>2010.0</td>\n",
              "      <td>Misc</td>\n",
              "      <td>Zoo Games</td>\n",
              "      <td>0.04</td>\n",
              "      <td>0</td>\n",
              "      <td>0</td>\n",
              "      <td>0</td>\n",
              "    </tr>\n",
              "    <tr>\n",
              "      <th>5</th>\n",
              "      <td>Ben 10 Ultimate Alien: Cosmic Destruction</td>\n",
              "      <td>PS3</td>\n",
              "      <td>2010.0</td>\n",
              "      <td>Platform</td>\n",
              "      <td>D3Publisher</td>\n",
              "      <td>0.12</td>\n",
              "      <td>0.09</td>\n",
              "      <td>0</td>\n",
              "      <td>0.04</td>\n",
              "    </tr>\n",
              "    <tr>\n",
              "      <th>...</th>\n",
              "      <td>...</td>\n",
              "      <td>...</td>\n",
              "      <td>...</td>\n",
              "      <td>...</td>\n",
              "      <td>...</td>\n",
              "      <td>...</td>\n",
              "      <td>...</td>\n",
              "      <td>...</td>\n",
              "      <td>...</td>\n",
              "    </tr>\n",
              "    <tr>\n",
              "      <th>16594</th>\n",
              "      <td>Ice Age 2: The Meltdown</td>\n",
              "      <td>GC</td>\n",
              "      <td>2006.0</td>\n",
              "      <td>Platform</td>\n",
              "      <td>Vivendi Games</td>\n",
              "      <td>0.15</td>\n",
              "      <td>0.04</td>\n",
              "      <td>0</td>\n",
              "      <td>0.01</td>\n",
              "    </tr>\n",
              "    <tr>\n",
              "      <th>16595</th>\n",
              "      <td>Rainbow Islands: Revolution</td>\n",
              "      <td>PSP</td>\n",
              "      <td>2005.0</td>\n",
              "      <td>Action</td>\n",
              "      <td>Rising Star Games</td>\n",
              "      <td>0.01</td>\n",
              "      <td>0</td>\n",
              "      <td>0</td>\n",
              "      <td>0</td>\n",
              "    </tr>\n",
              "    <tr>\n",
              "      <th>16596</th>\n",
              "      <td>NBA 2K16</td>\n",
              "      <td>PS3</td>\n",
              "      <td>2015.0</td>\n",
              "      <td>Sports</td>\n",
              "      <td>Take-Two Interactive</td>\n",
              "      <td>0.44</td>\n",
              "      <td>0.19</td>\n",
              "      <td>0.03</td>\n",
              "      <td>0.13</td>\n",
              "    </tr>\n",
              "    <tr>\n",
              "      <th>16597</th>\n",
              "      <td>Toukiden: The Age of Demons</td>\n",
              "      <td>PSV</td>\n",
              "      <td>2013.0</td>\n",
              "      <td>Action</td>\n",
              "      <td>Tecmo Koei</td>\n",
              "      <td>0.05</td>\n",
              "      <td>0.05</td>\n",
              "      <td>0.25</td>\n",
              "      <td>0.03</td>\n",
              "    </tr>\n",
              "    <tr>\n",
              "      <th>16598</th>\n",
              "      <td>The King of Fighters '95</td>\n",
              "      <td>PS</td>\n",
              "      <td>1996.0</td>\n",
              "      <td>Fighting</td>\n",
              "      <td>Sony Computer Entertainment</td>\n",
              "      <td>0</td>\n",
              "      <td>0</td>\n",
              "      <td>0.16</td>\n",
              "      <td>0.01</td>\n",
              "    </tr>\n",
              "  </tbody>\n",
              "</table>\n",
              "<p>16598 rows × 9 columns</p>\n",
              "</div>"
            ],
            "text/plain": [
              "                                                 Name  ... Other_Sales\n",
              "1                        Candace Kane's Candy Factory  ...           0\n",
              "2                                      The Munchables  ...        0.01\n",
              "3      Otome wa Oanesama Boku ni Koi Shiteru Portable  ...           0\n",
              "4                    Deal or No Deal: Special Edition  ...           0\n",
              "5           Ben 10 Ultimate Alien: Cosmic Destruction  ...        0.04\n",
              "...                                               ...  ...         ...\n",
              "16594                         Ice Age 2: The Meltdown  ...        0.01\n",
              "16595                     Rainbow Islands: Revolution  ...           0\n",
              "16596                                        NBA 2K16  ...        0.13\n",
              "16597                     Toukiden: The Age of Demons  ...        0.03\n",
              "16598                        The King of Fighters '95  ...        0.01\n",
              "\n",
              "[16598 rows x 9 columns]"
            ]
          },
          "metadata": {
            "tags": []
          },
          "execution_count": 39
        }
      ]
    },
    {
      "cell_type": "markdown",
      "metadata": {
        "id": "zIw9Ps5Pojci"
      },
      "source": [
        "전처리 해야 하는 부분\n",
        "- missingdata\n",
        "- 년도 missing, or shortened\n",
        "- sales M, K\n"
      ]
    },
    {
      "cell_type": "code",
      "metadata": {
        "id": "7cF7U2F48gUt"
      },
      "source": [
        "#erase M\n",
        "\n",
        "df['NA_Sales'] = df['NA_Sales'].str.replace(\"M\",\"\")\n",
        "df['EU_Sales'] = df['EU_Sales'].str.replace(\"M\",\"\")\n",
        "df['JP_Sales'] = df['JP_Sales'].str.replace(\"M\",\"\")\n",
        "df['Other_Sales'] = df['Other_Sales'].str.replace(\"M\",\"\")\n",
        "\n",
        "#df.dtypes "
      ],
      "execution_count": 40,
      "outputs": []
    },
    {
      "cell_type": "code",
      "metadata": {
        "id": "S32ZuC_fNNn0"
      },
      "source": [
        "def value_to_float(x):  #erase K and divide by 1000\n",
        "    if type(x) == float or type(x) == int:\n",
        "        return x\n",
        "    if 'K' in x:\n",
        "        if len(x) > 1:\n",
        "            x= float(x.replace('K', '')) / 1000\n",
        "    return float(x)\n",
        "\n",
        "#tesing with NA\n",
        "df['NA_Sales'] = df['NA_Sales'].apply(value_to_float)"
      ],
      "execution_count": 41,
      "outputs": []
    },
    {
      "cell_type": "code",
      "metadata": {
        "colab": {
          "base_uri": "https://localhost:8080/"
        },
        "id": "E3W4k4mRNt3y",
        "outputId": "17c2bf41-e03a-4332-9b83-83d252832ada"
      },
      "source": [
        "df.iloc[5296] #value is correct"
      ],
      "execution_count": 42,
      "outputs": [
        {
          "output_type": "execute_result",
          "data": {
            "text/plain": [
              "Name               Forza Motorsport 5\n",
              "Platform                         XOne\n",
              "Year                             2013\n",
              "Genre                          Racing\n",
              "Publisher      Microsoft Game Studios\n",
              "NA_Sales                         1.21\n",
              "EU_Sales                         0.78\n",
              "JP_Sales                         0.01\n",
              "Other_Sales                      0.17\n",
              "Name: 5297, dtype: object"
            ]
          },
          "metadata": {
            "tags": []
          },
          "execution_count": 42
        }
      ]
    },
    {
      "cell_type": "code",
      "metadata": {
        "id": "BtY-aOEaN15o"
      },
      "source": [
        "#apply to other sales column\n",
        "df['EU_Sales'] = df['EU_Sales'].apply(value_to_float)\n",
        "df['JP_Sales'] = df['JP_Sales'].apply(value_to_float)\n",
        "df['Other_Sales'] = df['Other_Sales'].apply(value_to_float)"
      ],
      "execution_count": 43,
      "outputs": []
    },
    {
      "cell_type": "code",
      "metadata": {
        "colab": {
          "base_uri": "https://localhost:8080/"
        },
        "id": "fDR5sfLzN-v9",
        "outputId": "a1d34c71-b926-40b8-e82c-9d9c17300500"
      },
      "source": [
        "df.iloc[5296] #value is correct"
      ],
      "execution_count": 44,
      "outputs": [
        {
          "output_type": "execute_result",
          "data": {
            "text/plain": [
              "Name               Forza Motorsport 5\n",
              "Platform                         XOne\n",
              "Year                             2013\n",
              "Genre                          Racing\n",
              "Publisher      Microsoft Game Studios\n",
              "NA_Sales                         1.21\n",
              "EU_Sales                         0.78\n",
              "JP_Sales                         0.01\n",
              "Other_Sales                      0.17\n",
              "Name: 5297, dtype: object"
            ]
          },
          "metadata": {
            "tags": []
          },
          "execution_count": 44
        }
      ]
    },
    {
      "cell_type": "code",
      "metadata": {
        "colab": {
          "base_uri": "https://localhost:8080/"
        },
        "id": "Qfc8lDZROt1G",
        "outputId": "7fdbc2d7-1aa0-4206-f5bd-bc9612b2e9a4"
      },
      "source": [
        "df.dtypes #sales float 로 변경 확인"
      ],
      "execution_count": 45,
      "outputs": [
        {
          "output_type": "execute_result",
          "data": {
            "text/plain": [
              "Name            object\n",
              "Platform        object\n",
              "Year           float64\n",
              "Genre           object\n",
              "Publisher       object\n",
              "NA_Sales       float64\n",
              "EU_Sales       float64\n",
              "JP_Sales       float64\n",
              "Other_Sales    float64\n",
              "dtype: object"
            ]
          },
          "metadata": {
            "tags": []
          },
          "execution_count": 45
        }
      ]
    },
    {
      "cell_type": "markdown",
      "metadata": {
        "id": "-dovIPCuPofG"
      },
      "source": [
        "현재까지: \n",
        "- df upload\n",
        "- sales 를 million 값으로 모두 처리\n",
        "- null 요약: \n",
        "    - Year: 271\n",
        "    - Genre: 50\n",
        "    - Publisher: 58"
      ]
    },
    {
      "cell_type": "code",
      "metadata": {
        "colab": {
          "base_uri": "https://localhost:8080/"
        },
        "id": "JxL3h8IAQAVw",
        "outputId": "b7ea577f-2f62-4aa6-d811-6edfdb4edb0a"
      },
      "source": [
        "df.isnull().sum()"
      ],
      "execution_count": 46,
      "outputs": [
        {
          "output_type": "execute_result",
          "data": {
            "text/plain": [
              "Name             0\n",
              "Platform         0\n",
              "Year           271\n",
              "Genre           50\n",
              "Publisher       58\n",
              "NA_Sales         0\n",
              "EU_Sales         0\n",
              "JP_Sales         0\n",
              "Other_Sales      0\n",
              "dtype: int64"
            ]
          },
          "metadata": {
            "tags": []
          },
          "execution_count": 46
        }
      ]
    },
    {
      "cell_type": "code",
      "metadata": {
        "id": "ale-TyU9Tcqi"
      },
      "source": [
        "def clean_year(x):\n",
        "    if x < 20:\n",
        "        x = x + 2000\n",
        "    else:\n",
        "        if 60 < x < 99:\n",
        "            x = x + 1900\n",
        "    return x\n",
        "\n",
        "#fix 2-digit data and change to int or float\n",
        "df['Year']= df['Year'].apply(clean_year)\n"
      ],
      "execution_count": 47,
      "outputs": []
    },
    {
      "cell_type": "code",
      "metadata": {
        "colab": {
          "base_uri": "https://localhost:8080/"
        },
        "id": "d0eixvWfVOYy",
        "outputId": "ad89a57b-f73b-4b67-c49d-4eb4b47f8f2a"
      },
      "source": [
        "df.iloc[2429] #value is correct"
      ],
      "execution_count": 48,
      "outputs": [
        {
          "output_type": "execute_result",
          "data": {
            "text/plain": [
              "Name              Casper\n",
              "Platform              PS\n",
              "Year                1996\n",
              "Genre          Adventure\n",
              "Publisher      Interplay\n",
              "NA_Sales            0.46\n",
              "EU_Sales            0.31\n",
              "JP_Sales               0\n",
              "Other_Sales         0.05\n",
              "Name: 2430, dtype: object"
            ]
          },
          "metadata": {
            "tags": []
          },
          "execution_count": 48
        }
      ]
    },
    {
      "cell_type": "code",
      "metadata": {
        "id": "j_lqpP02QZKX"
      },
      "source": [
        "#fill Nan in 'year' to 0, change to int\n",
        "df['Year']= df['Year'].fillna(0).astype(int)\n"
      ],
      "execution_count": 49,
      "outputs": []
    },
    {
      "cell_type": "markdown",
      "metadata": {
        "id": "99JQ0MIKWife"
      },
      "source": [
        "#Q1. 지역에 따라서 선호하는 게임 장르가 다를까\n",
        "\n",
        "진행 순서:\n",
        "1. genre 종류 파악\n",
        "2. genre 그룹별로 묶어 means 를 확인\n",
        "3. 표로 결과 시각화 \n",
        "4.  \n"
      ]
    },
    {
      "cell_type": "code",
      "metadata": {
        "colab": {
          "base_uri": "https://localhost:8080/"
        },
        "id": "4FvCk-1uWhzT",
        "outputId": "94df492a-16af-47bd-c0ed-95dba2b59abb"
      },
      "source": [
        "#Genre 종류 보기\n",
        "df['Genre'].unique()"
      ],
      "execution_count": 50,
      "outputs": [
        {
          "output_type": "execute_result",
          "data": {
            "text/plain": [
              "array(['Action', 'Adventure', 'Misc', 'Platform', 'Sports', 'Simulation',\n",
              "       'Racing', 'Role-Playing', 'Puzzle', 'Strategy', 'Fighting',\n",
              "       'Shooter', nan], dtype=object)"
            ]
          },
          "metadata": {
            "tags": []
          },
          "execution_count": 50
        }
      ]
    },
    {
      "cell_type": "code",
      "metadata": {
        "id": "Fz853pNvA9Kl"
      },
      "source": [
        "#df1= genre + location \n",
        "gen_loc = {'Genre': df['Genre'], 'NA': df['NA_Sales'], 'EU': df['EU_Sales'], 'JP': df['JP_Sales'], 'Other': df['Other_Sales']}\n",
        "\n",
        "df1= pd.DataFrame(data=gen_loc)\n"
      ],
      "execution_count": 51,
      "outputs": []
    },
    {
      "cell_type": "code",
      "metadata": {
        "id": "go65KwRZ_4YU",
        "colab": {
          "base_uri": "https://localhost:8080/",
          "height": 452
        },
        "outputId": "688e898b-0ef2-4ecf-8f41-7c2a0a971e51"
      },
      "source": [
        "#grouby 이용해서 그룹별로 나누기이용해서 그룹별로 나누기\n",
        "\n",
        "df_genre= df1.groupby('Genre').mean()\n",
        "df_genre"
      ],
      "execution_count": 52,
      "outputs": [
        {
          "output_type": "execute_result",
          "data": {
            "text/html": [
              "<div>\n",
              "<style scoped>\n",
              "    .dataframe tbody tr th:only-of-type {\n",
              "        vertical-align: middle;\n",
              "    }\n",
              "\n",
              "    .dataframe tbody tr th {\n",
              "        vertical-align: top;\n",
              "    }\n",
              "\n",
              "    .dataframe thead th {\n",
              "        text-align: right;\n",
              "    }\n",
              "</style>\n",
              "<table border=\"1\" class=\"dataframe\">\n",
              "  <thead>\n",
              "    <tr style=\"text-align: right;\">\n",
              "      <th></th>\n",
              "      <th>NA</th>\n",
              "      <th>EU</th>\n",
              "      <th>JP</th>\n",
              "      <th>Other</th>\n",
              "    </tr>\n",
              "    <tr>\n",
              "      <th>Genre</th>\n",
              "      <th></th>\n",
              "      <th></th>\n",
              "      <th></th>\n",
              "      <th></th>\n",
              "    </tr>\n",
              "  </thead>\n",
              "  <tbody>\n",
              "    <tr>\n",
              "      <th>Action</th>\n",
              "      <td>0.264693</td>\n",
              "      <td>0.157991</td>\n",
              "      <td>0.047776</td>\n",
              "      <td>0.056415</td>\n",
              "    </tr>\n",
              "    <tr>\n",
              "      <th>Adventure</th>\n",
              "      <td>0.082547</td>\n",
              "      <td>0.050039</td>\n",
              "      <td>0.040586</td>\n",
              "      <td>0.013133</td>\n",
              "    </tr>\n",
              "    <tr>\n",
              "      <th>Fighting</th>\n",
              "      <td>0.263518</td>\n",
              "      <td>0.119504</td>\n",
              "      <td>0.103117</td>\n",
              "      <td>0.043259</td>\n",
              "    </tr>\n",
              "    <tr>\n",
              "      <th>Misc</th>\n",
              "      <td>0.235323</td>\n",
              "      <td>0.122468</td>\n",
              "      <td>0.060709</td>\n",
              "      <td>0.042699</td>\n",
              "    </tr>\n",
              "    <tr>\n",
              "      <th>Platform</th>\n",
              "      <td>0.505023</td>\n",
              "      <td>0.228066</td>\n",
              "      <td>0.147794</td>\n",
              "      <td>0.058292</td>\n",
              "    </tr>\n",
              "    <tr>\n",
              "      <th>Puzzle</th>\n",
              "      <td>0.213408</td>\n",
              "      <td>0.087768</td>\n",
              "      <td>0.098391</td>\n",
              "      <td>0.021661</td>\n",
              "    </tr>\n",
              "    <tr>\n",
              "      <th>Racing</th>\n",
              "      <td>0.287361</td>\n",
              "      <td>0.190748</td>\n",
              "      <td>0.045374</td>\n",
              "      <td>0.062027</td>\n",
              "    </tr>\n",
              "    <tr>\n",
              "      <th>Role-Playing</th>\n",
              "      <td>0.215469</td>\n",
              "      <td>0.123790</td>\n",
              "      <td>0.232603</td>\n",
              "      <td>0.038409</td>\n",
              "    </tr>\n",
              "    <tr>\n",
              "      <th>Shooter</th>\n",
              "      <td>0.444893</td>\n",
              "      <td>0.239335</td>\n",
              "      <td>0.029266</td>\n",
              "      <td>0.078479</td>\n",
              "    </tr>\n",
              "    <tr>\n",
              "      <th>Simulation</th>\n",
              "      <td>0.211514</td>\n",
              "      <td>0.131040</td>\n",
              "      <td>0.073642</td>\n",
              "      <td>0.036393</td>\n",
              "    </tr>\n",
              "    <tr>\n",
              "      <th>Sports</th>\n",
              "      <td>0.290696</td>\n",
              "      <td>0.160820</td>\n",
              "      <td>0.057826</td>\n",
              "      <td>0.057527</td>\n",
              "    </tr>\n",
              "    <tr>\n",
              "      <th>Strategy</th>\n",
              "      <td>0.101029</td>\n",
              "      <td>0.066647</td>\n",
              "      <td>0.072735</td>\n",
              "      <td>0.016706</td>\n",
              "    </tr>\n",
              "  </tbody>\n",
              "</table>\n",
              "</div>"
            ],
            "text/plain": [
              "                    NA        EU        JP     Other\n",
              "Genre                                               \n",
              "Action        0.264693  0.157991  0.047776  0.056415\n",
              "Adventure     0.082547  0.050039  0.040586  0.013133\n",
              "Fighting      0.263518  0.119504  0.103117  0.043259\n",
              "Misc          0.235323  0.122468  0.060709  0.042699\n",
              "Platform      0.505023  0.228066  0.147794  0.058292\n",
              "Puzzle        0.213408  0.087768  0.098391  0.021661\n",
              "Racing        0.287361  0.190748  0.045374  0.062027\n",
              "Role-Playing  0.215469  0.123790  0.232603  0.038409\n",
              "Shooter       0.444893  0.239335  0.029266  0.078479\n",
              "Simulation    0.211514  0.131040  0.073642  0.036393\n",
              "Sports        0.290696  0.160820  0.057826  0.057527\n",
              "Strategy      0.101029  0.066647  0.072735  0.016706"
            ]
          },
          "metadata": {
            "tags": []
          },
          "execution_count": 52
        }
      ]
    },
    {
      "cell_type": "code",
      "metadata": {
        "colab": {
          "base_uri": "https://localhost:8080/",
          "height": 1000
        },
        "id": "bjygSikM9p0a",
        "outputId": "5dcb2d5a-fe10-44bf-b605-7c35258ebc86"
      },
      "source": [
        "#sns 시각화를 위해 tidy 형태로 변형\n",
        "tidy_genre = df_genre.reset_index()\n",
        "tidy_genre= tidy_genre.melt(id_vars = 'Genre', value_vars = ['NA', 'EU', 'JP', 'Other'])\n",
        "tidy_genre"
      ],
      "execution_count": 53,
      "outputs": [
        {
          "output_type": "execute_result",
          "data": {
            "text/html": [
              "<div>\n",
              "<style scoped>\n",
              "    .dataframe tbody tr th:only-of-type {\n",
              "        vertical-align: middle;\n",
              "    }\n",
              "\n",
              "    .dataframe tbody tr th {\n",
              "        vertical-align: top;\n",
              "    }\n",
              "\n",
              "    .dataframe thead th {\n",
              "        text-align: right;\n",
              "    }\n",
              "</style>\n",
              "<table border=\"1\" class=\"dataframe\">\n",
              "  <thead>\n",
              "    <tr style=\"text-align: right;\">\n",
              "      <th></th>\n",
              "      <th>Genre</th>\n",
              "      <th>variable</th>\n",
              "      <th>value</th>\n",
              "    </tr>\n",
              "  </thead>\n",
              "  <tbody>\n",
              "    <tr>\n",
              "      <th>0</th>\n",
              "      <td>Action</td>\n",
              "      <td>NA</td>\n",
              "      <td>0.264693</td>\n",
              "    </tr>\n",
              "    <tr>\n",
              "      <th>1</th>\n",
              "      <td>Adventure</td>\n",
              "      <td>NA</td>\n",
              "      <td>0.082547</td>\n",
              "    </tr>\n",
              "    <tr>\n",
              "      <th>2</th>\n",
              "      <td>Fighting</td>\n",
              "      <td>NA</td>\n",
              "      <td>0.263518</td>\n",
              "    </tr>\n",
              "    <tr>\n",
              "      <th>3</th>\n",
              "      <td>Misc</td>\n",
              "      <td>NA</td>\n",
              "      <td>0.235323</td>\n",
              "    </tr>\n",
              "    <tr>\n",
              "      <th>4</th>\n",
              "      <td>Platform</td>\n",
              "      <td>NA</td>\n",
              "      <td>0.505023</td>\n",
              "    </tr>\n",
              "    <tr>\n",
              "      <th>5</th>\n",
              "      <td>Puzzle</td>\n",
              "      <td>NA</td>\n",
              "      <td>0.213408</td>\n",
              "    </tr>\n",
              "    <tr>\n",
              "      <th>6</th>\n",
              "      <td>Racing</td>\n",
              "      <td>NA</td>\n",
              "      <td>0.287361</td>\n",
              "    </tr>\n",
              "    <tr>\n",
              "      <th>7</th>\n",
              "      <td>Role-Playing</td>\n",
              "      <td>NA</td>\n",
              "      <td>0.215469</td>\n",
              "    </tr>\n",
              "    <tr>\n",
              "      <th>8</th>\n",
              "      <td>Shooter</td>\n",
              "      <td>NA</td>\n",
              "      <td>0.444893</td>\n",
              "    </tr>\n",
              "    <tr>\n",
              "      <th>9</th>\n",
              "      <td>Simulation</td>\n",
              "      <td>NA</td>\n",
              "      <td>0.211514</td>\n",
              "    </tr>\n",
              "    <tr>\n",
              "      <th>10</th>\n",
              "      <td>Sports</td>\n",
              "      <td>NA</td>\n",
              "      <td>0.290696</td>\n",
              "    </tr>\n",
              "    <tr>\n",
              "      <th>11</th>\n",
              "      <td>Strategy</td>\n",
              "      <td>NA</td>\n",
              "      <td>0.101029</td>\n",
              "    </tr>\n",
              "    <tr>\n",
              "      <th>12</th>\n",
              "      <td>Action</td>\n",
              "      <td>EU</td>\n",
              "      <td>0.157991</td>\n",
              "    </tr>\n",
              "    <tr>\n",
              "      <th>13</th>\n",
              "      <td>Adventure</td>\n",
              "      <td>EU</td>\n",
              "      <td>0.050039</td>\n",
              "    </tr>\n",
              "    <tr>\n",
              "      <th>14</th>\n",
              "      <td>Fighting</td>\n",
              "      <td>EU</td>\n",
              "      <td>0.119504</td>\n",
              "    </tr>\n",
              "    <tr>\n",
              "      <th>15</th>\n",
              "      <td>Misc</td>\n",
              "      <td>EU</td>\n",
              "      <td>0.122468</td>\n",
              "    </tr>\n",
              "    <tr>\n",
              "      <th>16</th>\n",
              "      <td>Platform</td>\n",
              "      <td>EU</td>\n",
              "      <td>0.228066</td>\n",
              "    </tr>\n",
              "    <tr>\n",
              "      <th>17</th>\n",
              "      <td>Puzzle</td>\n",
              "      <td>EU</td>\n",
              "      <td>0.087768</td>\n",
              "    </tr>\n",
              "    <tr>\n",
              "      <th>18</th>\n",
              "      <td>Racing</td>\n",
              "      <td>EU</td>\n",
              "      <td>0.190748</td>\n",
              "    </tr>\n",
              "    <tr>\n",
              "      <th>19</th>\n",
              "      <td>Role-Playing</td>\n",
              "      <td>EU</td>\n",
              "      <td>0.123790</td>\n",
              "    </tr>\n",
              "    <tr>\n",
              "      <th>20</th>\n",
              "      <td>Shooter</td>\n",
              "      <td>EU</td>\n",
              "      <td>0.239335</td>\n",
              "    </tr>\n",
              "    <tr>\n",
              "      <th>21</th>\n",
              "      <td>Simulation</td>\n",
              "      <td>EU</td>\n",
              "      <td>0.131040</td>\n",
              "    </tr>\n",
              "    <tr>\n",
              "      <th>22</th>\n",
              "      <td>Sports</td>\n",
              "      <td>EU</td>\n",
              "      <td>0.160820</td>\n",
              "    </tr>\n",
              "    <tr>\n",
              "      <th>23</th>\n",
              "      <td>Strategy</td>\n",
              "      <td>EU</td>\n",
              "      <td>0.066647</td>\n",
              "    </tr>\n",
              "    <tr>\n",
              "      <th>24</th>\n",
              "      <td>Action</td>\n",
              "      <td>JP</td>\n",
              "      <td>0.047776</td>\n",
              "    </tr>\n",
              "    <tr>\n",
              "      <th>25</th>\n",
              "      <td>Adventure</td>\n",
              "      <td>JP</td>\n",
              "      <td>0.040586</td>\n",
              "    </tr>\n",
              "    <tr>\n",
              "      <th>26</th>\n",
              "      <td>Fighting</td>\n",
              "      <td>JP</td>\n",
              "      <td>0.103117</td>\n",
              "    </tr>\n",
              "    <tr>\n",
              "      <th>27</th>\n",
              "      <td>Misc</td>\n",
              "      <td>JP</td>\n",
              "      <td>0.060709</td>\n",
              "    </tr>\n",
              "    <tr>\n",
              "      <th>28</th>\n",
              "      <td>Platform</td>\n",
              "      <td>JP</td>\n",
              "      <td>0.147794</td>\n",
              "    </tr>\n",
              "    <tr>\n",
              "      <th>29</th>\n",
              "      <td>Puzzle</td>\n",
              "      <td>JP</td>\n",
              "      <td>0.098391</td>\n",
              "    </tr>\n",
              "    <tr>\n",
              "      <th>30</th>\n",
              "      <td>Racing</td>\n",
              "      <td>JP</td>\n",
              "      <td>0.045374</td>\n",
              "    </tr>\n",
              "    <tr>\n",
              "      <th>31</th>\n",
              "      <td>Role-Playing</td>\n",
              "      <td>JP</td>\n",
              "      <td>0.232603</td>\n",
              "    </tr>\n",
              "    <tr>\n",
              "      <th>32</th>\n",
              "      <td>Shooter</td>\n",
              "      <td>JP</td>\n",
              "      <td>0.029266</td>\n",
              "    </tr>\n",
              "    <tr>\n",
              "      <th>33</th>\n",
              "      <td>Simulation</td>\n",
              "      <td>JP</td>\n",
              "      <td>0.073642</td>\n",
              "    </tr>\n",
              "    <tr>\n",
              "      <th>34</th>\n",
              "      <td>Sports</td>\n",
              "      <td>JP</td>\n",
              "      <td>0.057826</td>\n",
              "    </tr>\n",
              "    <tr>\n",
              "      <th>35</th>\n",
              "      <td>Strategy</td>\n",
              "      <td>JP</td>\n",
              "      <td>0.072735</td>\n",
              "    </tr>\n",
              "    <tr>\n",
              "      <th>36</th>\n",
              "      <td>Action</td>\n",
              "      <td>Other</td>\n",
              "      <td>0.056415</td>\n",
              "    </tr>\n",
              "    <tr>\n",
              "      <th>37</th>\n",
              "      <td>Adventure</td>\n",
              "      <td>Other</td>\n",
              "      <td>0.013133</td>\n",
              "    </tr>\n",
              "    <tr>\n",
              "      <th>38</th>\n",
              "      <td>Fighting</td>\n",
              "      <td>Other</td>\n",
              "      <td>0.043259</td>\n",
              "    </tr>\n",
              "    <tr>\n",
              "      <th>39</th>\n",
              "      <td>Misc</td>\n",
              "      <td>Other</td>\n",
              "      <td>0.042699</td>\n",
              "    </tr>\n",
              "    <tr>\n",
              "      <th>40</th>\n",
              "      <td>Platform</td>\n",
              "      <td>Other</td>\n",
              "      <td>0.058292</td>\n",
              "    </tr>\n",
              "    <tr>\n",
              "      <th>41</th>\n",
              "      <td>Puzzle</td>\n",
              "      <td>Other</td>\n",
              "      <td>0.021661</td>\n",
              "    </tr>\n",
              "    <tr>\n",
              "      <th>42</th>\n",
              "      <td>Racing</td>\n",
              "      <td>Other</td>\n",
              "      <td>0.062027</td>\n",
              "    </tr>\n",
              "    <tr>\n",
              "      <th>43</th>\n",
              "      <td>Role-Playing</td>\n",
              "      <td>Other</td>\n",
              "      <td>0.038409</td>\n",
              "    </tr>\n",
              "    <tr>\n",
              "      <th>44</th>\n",
              "      <td>Shooter</td>\n",
              "      <td>Other</td>\n",
              "      <td>0.078479</td>\n",
              "    </tr>\n",
              "    <tr>\n",
              "      <th>45</th>\n",
              "      <td>Simulation</td>\n",
              "      <td>Other</td>\n",
              "      <td>0.036393</td>\n",
              "    </tr>\n",
              "    <tr>\n",
              "      <th>46</th>\n",
              "      <td>Sports</td>\n",
              "      <td>Other</td>\n",
              "      <td>0.057527</td>\n",
              "    </tr>\n",
              "    <tr>\n",
              "      <th>47</th>\n",
              "      <td>Strategy</td>\n",
              "      <td>Other</td>\n",
              "      <td>0.016706</td>\n",
              "    </tr>\n",
              "  </tbody>\n",
              "</table>\n",
              "</div>"
            ],
            "text/plain": [
              "           Genre variable     value\n",
              "0         Action       NA  0.264693\n",
              "1      Adventure       NA  0.082547\n",
              "2       Fighting       NA  0.263518\n",
              "3           Misc       NA  0.235323\n",
              "4       Platform       NA  0.505023\n",
              "5         Puzzle       NA  0.213408\n",
              "6         Racing       NA  0.287361\n",
              "7   Role-Playing       NA  0.215469\n",
              "8        Shooter       NA  0.444893\n",
              "9     Simulation       NA  0.211514\n",
              "10        Sports       NA  0.290696\n",
              "11      Strategy       NA  0.101029\n",
              "12        Action       EU  0.157991\n",
              "13     Adventure       EU  0.050039\n",
              "14      Fighting       EU  0.119504\n",
              "15          Misc       EU  0.122468\n",
              "16      Platform       EU  0.228066\n",
              "17        Puzzle       EU  0.087768\n",
              "18        Racing       EU  0.190748\n",
              "19  Role-Playing       EU  0.123790\n",
              "20       Shooter       EU  0.239335\n",
              "21    Simulation       EU  0.131040\n",
              "22        Sports       EU  0.160820\n",
              "23      Strategy       EU  0.066647\n",
              "24        Action       JP  0.047776\n",
              "25     Adventure       JP  0.040586\n",
              "26      Fighting       JP  0.103117\n",
              "27          Misc       JP  0.060709\n",
              "28      Platform       JP  0.147794\n",
              "29        Puzzle       JP  0.098391\n",
              "30        Racing       JP  0.045374\n",
              "31  Role-Playing       JP  0.232603\n",
              "32       Shooter       JP  0.029266\n",
              "33    Simulation       JP  0.073642\n",
              "34        Sports       JP  0.057826\n",
              "35      Strategy       JP  0.072735\n",
              "36        Action    Other  0.056415\n",
              "37     Adventure    Other  0.013133\n",
              "38      Fighting    Other  0.043259\n",
              "39          Misc    Other  0.042699\n",
              "40      Platform    Other  0.058292\n",
              "41        Puzzle    Other  0.021661\n",
              "42        Racing    Other  0.062027\n",
              "43  Role-Playing    Other  0.038409\n",
              "44       Shooter    Other  0.078479\n",
              "45    Simulation    Other  0.036393\n",
              "46        Sports    Other  0.057527\n",
              "47      Strategy    Other  0.016706"
            ]
          },
          "metadata": {
            "tags": []
          },
          "execution_count": 53
        }
      ]
    },
    {
      "cell_type": "code",
      "metadata": {
        "colab": {
          "base_uri": "https://localhost:8080/",
          "height": 279
        },
        "id": "4LoB9TGNvrQc",
        "outputId": "813a55a8-1ba8-410b-d2de-38e8656256d6"
      },
      "source": [
        "import seaborn as sns\n",
        "import matplotlib.pyplot as plt\n",
        "#barplot\n",
        "sns.barplot(x= 'value', y= 'variable', hue= 'Genre', palette = 'hls', data=tidy_genre)\n",
        "plt.show()\n",
        "# g.despine(left=True)\n",
        "# g.set_axis_labels(\"\", \"Body mass (g)\")\n",
        "# g.legend.set_title(\"\")"
      ],
      "execution_count": 54,
      "outputs": [
        {
          "output_type": "display_data",
          "data": {
            "image/png": "[encoded data removed]",
            "text/plain": [
              "<Figure size 432x288 with 1 Axes>"
            ]
          },
          "metadata": {
            "tags": [],
            "needs_background": "light"
          }
        }
      ]
    },
    {
      "cell_type": "code",
      "metadata": {
        "colab": {
          "base_uri": "https://localhost:8080/"
        },
        "id": "HNoEv2PsBr0K",
        "outputId": "0a0882fe-349d-461f-f900-e7ce2d75ba32"
      },
      "source": [
        "#top 5 for each region\n",
        "NA_genre_list= df_genre.nlargest(5, 'NA'). drop(['EU', 'JP', 'Other'], axis=1)\n",
        "print(NA_genre_list)\n",
        "EU_genre_list= df_genre.nlargest(5, 'EU'). drop(['NA', 'JP', 'Other'], axis=1)\n",
        "print(EU_genre_list)\n",
        "JP_genre_list= df_genre.nlargest(5, 'JP'). drop(['NA', 'EU', 'Other'], axis=1)\n",
        "print(JP_genre_list)\n",
        "Other_genre_list= df_genre.nlargest(5, 'Other'). drop(['NA', 'EU', 'JP'], axis=1)\n",
        "print(Other_genre_list)"
      ],
      "execution_count": 55,
      "outputs": [
        {
          "output_type": "stream",
          "text": [
            "                NA\n",
            "Genre             \n",
            "Platform  0.505023\n",
            "Shooter   0.444893\n",
            "Sports    0.290696\n",
            "Racing    0.287361\n",
            "Action    0.264693\n",
            "                EU\n",
            "Genre             \n",
            "Shooter   0.239335\n",
            "Platform  0.228066\n",
            "Racing    0.190748\n",
            "Sports    0.160820\n",
            "Action    0.157991\n",
            "                    JP\n",
            "Genre                 \n",
            "Role-Playing  0.232603\n",
            "Platform      0.147794\n",
            "Fighting      0.103117\n",
            "Puzzle        0.098391\n",
            "Simulation    0.073642\n",
            "             Other\n",
            "Genre             \n",
            "Shooter   0.078479\n",
            "Racing    0.062027\n",
            "Platform  0.058292\n",
            "Sports    0.057527\n",
            "Action    0.056415\n"
          ],
          "name": "stdout"
        }
      ]
    },
    {
      "cell_type": "markdown",
      "metadata": {
        "id": "M9sfyZLfDTLO"
      },
      "source": [
        "##Findings: \n",
        "- 북미에서는 Platform, Shooter, sports, racing action 순으로 많이 팔렸다. \n",
        "- Europe 에서는 1위가 Shooter 이며 shooter>platform>racing>sports>action 순이였다 \n",
        "- 일본에서는 특이하게 Role-playing 이 1위로 나타났다. 그 다음 순위는 platform, fighting, puzzle, simulation 으로 북미와 유럽에 비해 싸움과 액션보다는 시뮬레이션, 퍼즐 위주의 게임이 많이 팔림을 볼 수 있다. \n",
        "- 그 외 Other 에서는 shooter 이 가장 많이 팔렸으며 그 이후는 racing, platform, sports, action 등으로 북미와 유럽의 최고 5순위와 비슷했다. "
      ]
    },
    {
      "cell_type": "code",
      "metadata": {
        "id": "HJ_TNwdaAtBo"
      },
      "source": [
        ""
      ],
      "execution_count": null,
      "outputs": []
    },
    {
      "cell_type": "markdown",
      "metadata": {
        "id": "u_3AHZAgWqae"
      },
      "source": [
        "#Q2. 연도별 게임의 트렌드가 있을까 \n",
        "- year vs genre"
      ]
    },
    {
      "cell_type": "code",
      "metadata": {
        "colab": {
          "base_uri": "https://localhost:8080/",
          "height": 419
        },
        "id": "jQ8_Apm6f7QC",
        "outputId": "2dd1f8ea-f8c0-4803-cecd-412d860eeddc"
      },
      "source": [
        "#df2= year+ genre\n",
        "year_genre = {'Year2': df['Year'], 'Genre2': df['Genre'], 'Count': 1 }\n",
        "\n",
        "df2= pd.DataFrame(data=year_genre)\n",
        "df2"
      ],
      "execution_count": 56,
      "outputs": [
        {
          "output_type": "execute_result",
          "data": {
            "text/html": [
              "<div>\n",
              "<style scoped>\n",
              "    .dataframe tbody tr th:only-of-type {\n",
              "        vertical-align: middle;\n",
              "    }\n",
              "\n",
              "    .dataframe tbody tr th {\n",
              "        vertical-align: top;\n",
              "    }\n",
              "\n",
              "    .dataframe thead th {\n",
              "        text-align: right;\n",
              "    }\n",
              "</style>\n",
              "<table border=\"1\" class=\"dataframe\">\n",
              "  <thead>\n",
              "    <tr style=\"text-align: right;\">\n",
              "      <th></th>\n",
              "      <th>Year2</th>\n",
              "      <th>Genre2</th>\n",
              "      <th>Count</th>\n",
              "    </tr>\n",
              "  </thead>\n",
              "  <tbody>\n",
              "    <tr>\n",
              "      <th>1</th>\n",
              "      <td>2008</td>\n",
              "      <td>Action</td>\n",
              "      <td>1</td>\n",
              "    </tr>\n",
              "    <tr>\n",
              "      <th>2</th>\n",
              "      <td>2009</td>\n",
              "      <td>Action</td>\n",
              "      <td>1</td>\n",
              "    </tr>\n",
              "    <tr>\n",
              "      <th>3</th>\n",
              "      <td>2010</td>\n",
              "      <td>Adventure</td>\n",
              "      <td>1</td>\n",
              "    </tr>\n",
              "    <tr>\n",
              "      <th>4</th>\n",
              "      <td>2010</td>\n",
              "      <td>Misc</td>\n",
              "      <td>1</td>\n",
              "    </tr>\n",
              "    <tr>\n",
              "      <th>5</th>\n",
              "      <td>2010</td>\n",
              "      <td>Platform</td>\n",
              "      <td>1</td>\n",
              "    </tr>\n",
              "    <tr>\n",
              "      <th>...</th>\n",
              "      <td>...</td>\n",
              "      <td>...</td>\n",
              "      <td>...</td>\n",
              "    </tr>\n",
              "    <tr>\n",
              "      <th>16594</th>\n",
              "      <td>2006</td>\n",
              "      <td>Platform</td>\n",
              "      <td>1</td>\n",
              "    </tr>\n",
              "    <tr>\n",
              "      <th>16595</th>\n",
              "      <td>2005</td>\n",
              "      <td>Action</td>\n",
              "      <td>1</td>\n",
              "    </tr>\n",
              "    <tr>\n",
              "      <th>16596</th>\n",
              "      <td>2015</td>\n",
              "      <td>Sports</td>\n",
              "      <td>1</td>\n",
              "    </tr>\n",
              "    <tr>\n",
              "      <th>16597</th>\n",
              "      <td>2013</td>\n",
              "      <td>Action</td>\n",
              "      <td>1</td>\n",
              "    </tr>\n",
              "    <tr>\n",
              "      <th>16598</th>\n",
              "      <td>1996</td>\n",
              "      <td>Fighting</td>\n",
              "      <td>1</td>\n",
              "    </tr>\n",
              "  </tbody>\n",
              "</table>\n",
              "<p>16598 rows × 3 columns</p>\n",
              "</div>"
            ],
            "text/plain": [
              "       Year2     Genre2  Count\n",
              "1       2008     Action      1\n",
              "2       2009     Action      1\n",
              "3       2010  Adventure      1\n",
              "4       2010       Misc      1\n",
              "5       2010   Platform      1\n",
              "...      ...        ...    ...\n",
              "16594   2006   Platform      1\n",
              "16595   2005     Action      1\n",
              "16596   2015     Sports      1\n",
              "16597   2013     Action      1\n",
              "16598   1996   Fighting      1\n",
              "\n",
              "[16598 rows x 3 columns]"
            ]
          },
          "metadata": {
            "tags": []
          },
          "execution_count": 56
        }
      ]
    },
    {
      "cell_type": "code",
      "metadata": {
        "id": "IoLE4xoZmgU8"
      },
      "source": [
        "#rid null values\n",
        "df2=df2.dropna()\n",
        "df2 = df2.loc[(df2[['Year2']] != 0).all(axis=1)]  #drop row with year:0\n"
      ],
      "execution_count": 57,
      "outputs": []
    },
    {
      "cell_type": "code",
      "metadata": {
        "colab": {
          "base_uri": "https://localhost:8080/",
          "height": 419
        },
        "id": "kTtWk8ZrzuWa",
        "outputId": "a513fd31-cd33-45fe-c035-de1673e0a7ba"
      },
      "source": [
        "df2_tidy= df2.groupby(['Year2', 'Genre2'], as_index=False)['Count'].count()\n",
        "df2_tidy"
      ],
      "execution_count": 58,
      "outputs": [
        {
          "output_type": "execute_result",
          "data": {
            "text/html": [
              "<div>\n",
              "<style scoped>\n",
              "    .dataframe tbody tr th:only-of-type {\n",
              "        vertical-align: middle;\n",
              "    }\n",
              "\n",
              "    .dataframe tbody tr th {\n",
              "        vertical-align: top;\n",
              "    }\n",
              "\n",
              "    .dataframe thead th {\n",
              "        text-align: right;\n",
              "    }\n",
              "</style>\n",
              "<table border=\"1\" class=\"dataframe\">\n",
              "  <thead>\n",
              "    <tr style=\"text-align: right;\">\n",
              "      <th></th>\n",
              "      <th>Year2</th>\n",
              "      <th>Genre2</th>\n",
              "      <th>Count</th>\n",
              "    </tr>\n",
              "  </thead>\n",
              "  <tbody>\n",
              "    <tr>\n",
              "      <th>0</th>\n",
              "      <td>1980</td>\n",
              "      <td>Action</td>\n",
              "      <td>1</td>\n",
              "    </tr>\n",
              "    <tr>\n",
              "      <th>1</th>\n",
              "      <td>1980</td>\n",
              "      <td>Fighting</td>\n",
              "      <td>1</td>\n",
              "    </tr>\n",
              "    <tr>\n",
              "      <th>2</th>\n",
              "      <td>1980</td>\n",
              "      <td>Misc</td>\n",
              "      <td>4</td>\n",
              "    </tr>\n",
              "    <tr>\n",
              "      <th>3</th>\n",
              "      <td>1980</td>\n",
              "      <td>Shooter</td>\n",
              "      <td>2</td>\n",
              "    </tr>\n",
              "    <tr>\n",
              "      <th>4</th>\n",
              "      <td>1981</td>\n",
              "      <td>Action</td>\n",
              "      <td>25</td>\n",
              "    </tr>\n",
              "    <tr>\n",
              "      <th>...</th>\n",
              "      <td>...</td>\n",
              "      <td>...</td>\n",
              "      <td>...</td>\n",
              "    </tr>\n",
              "    <tr>\n",
              "      <th>383</th>\n",
              "      <td>2016</td>\n",
              "      <td>Sports</td>\n",
              "      <td>38</td>\n",
              "    </tr>\n",
              "    <tr>\n",
              "      <th>384</th>\n",
              "      <td>2016</td>\n",
              "      <td>Strategy</td>\n",
              "      <td>10</td>\n",
              "    </tr>\n",
              "    <tr>\n",
              "      <th>385</th>\n",
              "      <td>2017</td>\n",
              "      <td>Action</td>\n",
              "      <td>1</td>\n",
              "    </tr>\n",
              "    <tr>\n",
              "      <th>386</th>\n",
              "      <td>2017</td>\n",
              "      <td>Role-Playing</td>\n",
              "      <td>2</td>\n",
              "    </tr>\n",
              "    <tr>\n",
              "      <th>387</th>\n",
              "      <td>2020</td>\n",
              "      <td>Simulation</td>\n",
              "      <td>1</td>\n",
              "    </tr>\n",
              "  </tbody>\n",
              "</table>\n",
              "<p>388 rows × 3 columns</p>\n",
              "</div>"
            ],
            "text/plain": [
              "     Year2        Genre2  Count\n",
              "0     1980        Action      1\n",
              "1     1980      Fighting      1\n",
              "2     1980          Misc      4\n",
              "3     1980       Shooter      2\n",
              "4     1981        Action     25\n",
              "..     ...           ...    ...\n",
              "383   2016        Sports     38\n",
              "384   2016      Strategy     10\n",
              "385   2017        Action      1\n",
              "386   2017  Role-Playing      2\n",
              "387   2020    Simulation      1\n",
              "\n",
              "[388 rows x 3 columns]"
            ]
          },
          "metadata": {
            "tags": []
          },
          "execution_count": 58
        }
      ]
    },
    {
      "cell_type": "code",
      "metadata": {
        "colab": {
          "base_uri": "https://localhost:8080/",
          "height": 296
        },
        "id": "5eTVYcROWc5b",
        "outputId": "3833c256-5648-4a0f-ad7e-3170832a98de"
      },
      "source": [
        "#lineplot\n",
        "sns.lineplot(x='Year2', y='Count', hue= 'Genre2', data=df2_tidy)"
      ],
      "execution_count": 59,
      "outputs": [
        {
          "output_type": "execute_result",
          "data": {
            "text/plain": [
              "<matplotlib.axes._subplots.AxesSubplot at 0x7f4a838884d0>"
            ]
          },
          "metadata": {
            "tags": []
          },
          "execution_count": 59
        },
        {
          "output_type": "display_data",
          "data": {
            "image/png": "[encoded data removed]",
            "text/plain": [
              "<Figure size 432x288 with 1 Axes>"
            ]
          },
          "metadata": {
            "tags": [],
            "needs_background": "light"
          }
        }
      ]
    },
    {
      "cell_type": "code",
      "metadata": {
        "colab": {
          "base_uri": "https://localhost:8080/"
        },
        "id": "rEusLlpJ0WD7",
        "outputId": "f1a34056-9c5c-4d02-ab1d-0d2bf2cb49b7"
      },
      "source": [
        "top_year= df2_tidy.nlargest(50, 'Count')\n",
        "print(top_year)"
      ],
      "execution_count": 60,
      "outputs": [
        {
          "output_type": "stream",
          "text": [
            "     Year2        Genre2  Count\n",
            "290   2009        Action    271\n",
            "326   2012        Action    264\n",
            "362   2015        Action    253\n",
            "314   2011        Action    239\n",
            "302   2010        Action    226\n",
            "278   2008        Action    219\n",
            "266   2007        Action    210\n",
            "281   2008          Misc    210\n",
            "293   2009          Misc    207\n",
            "288   2008        Sports    200\n",
            "305   2010          Misc    200\n",
            "242   2005        Action    192\n",
            "216   2002        Sports    188\n",
            "350   2014        Action    186\n",
            "312   2010        Sports    185\n",
            "254   2006        Action    184\n",
            "300   2009        Sports    184\n",
            "317   2011          Misc    183\n",
            "276   2007        Sports    167\n",
            "279   2008     Adventure    166\n",
            "303   2010     Adventure    153\n",
            "269   2007          Misc    151\n",
            "338   2013        Action    148\n",
            "218   2003        Action    144\n",
            "291   2009     Adventure    141\n",
            "264   2006        Sports    138\n",
            "206   2002        Action    125\n",
            "228   2003        Sports    125\n",
            "230   2004        Action    125\n",
            "299   2009    Simulation    123\n",
            "252   2005        Sports    122\n",
            "324   2011        Sports    122\n",
            "374   2016        Action    119\n",
            "287   2008    Simulation    118\n",
            "245   2005          Misc    115\n",
            "285   2008  Role-Playing    112\n",
            "224   2003        Racing    109\n",
            "257   2006          Misc    109\n",
            "261   2006  Role-Playing    108\n",
            "315   2011     Adventure    107\n",
            "212   2002        Racing    103\n",
            "240   2004        Sports    103\n",
            "273   2007  Role-Playing    103\n",
            "297   2009  Role-Playing    103\n",
            "309   2010  Role-Playing    103\n",
            "204   2001        Sports     96\n",
            "250   2005       Shooter     96\n",
            "321   2011  Role-Playing     95\n",
            "322   2011       Shooter     94\n",
            "298   2009       Shooter     91\n"
          ],
          "name": "stdout"
        }
      ]
    },
    {
      "cell_type": "markdown",
      "metadata": {
        "id": "HJWaDuYcJJVE"
      },
      "source": [
        "##Findings: \n",
        "\n",
        "- 2005년도부터 2015년까지 Action 장르가 가장 많이 출시됨\n",
        "- Simulation 은 1995 부터 2000초반까지 가장 많이 출기가 되었다가 Action 게임으로 2위로 밀려났음\n",
        "- 2010년도 초반까지는 Action과 simulation 이 가장 많은 출시를 보였지만 2010년도 초반부터 role-playing 이 simulation장르를 앞서나가고 있음 "
      ]
    },
    {
      "cell_type": "markdown",
      "metadata": {
        "id": "N7qy7iQWf8GH"
      },
      "source": [
        "#Q3. 출고량이 높은 게임에 대한 분석 및 시각화 프로세스\n",
        "1. find top 10 games \n",
        "- check for each location (NA, EU, JP, Other)- maybe\n",
        "2. top10 게임들의 장르, 플랫폼, 회사, 년도(?) 분석\n",
        "3. find:\n",
        " - 어느 플랫폼을 선호하는지\n",
        " - 어느 회사가 인기 게임을 만드는지\n",
        " - sales 는 Pc이용해서 하나로 통합\n"
      ]
    },
    {
      "cell_type": "code",
      "metadata": {
        "colab": {
          "base_uri": "https://localhost:8080/",
          "height": 498
        },
        "id": "c6gGaqJxPA5w",
        "outputId": "5ea1eeaf-ef52-4512-c610-1a94e4294222"
      },
      "source": [
        "import numpy as np\n",
        "#find total sales number \n",
        "df['Total_Sales']= df['EU_Sales']+ df['JP_Sales'] + df['Other_Sales']+ df['NA_Sales']\n",
        "df\n",
        "\n",
        "#find top 10 sales games\n",
        "top_ten= df.nlargest(10, 'Total_Sales')\n",
        "top_ten.rename_axis('id').reset_index()\n",
        "\n"
      ],
      "execution_count": 84,
      "outputs": [
        {
          "output_type": "execute_result",
          "data": {
            "text/html": [
              "<div>\n",
              "<style scoped>\n",
              "    .dataframe tbody tr th:only-of-type {\n",
              "        vertical-align: middle;\n",
              "    }\n",
              "\n",
              "    .dataframe tbody tr th {\n",
              "        vertical-align: top;\n",
              "    }\n",
              "\n",
              "    .dataframe thead th {\n",
              "        text-align: right;\n",
              "    }\n",
              "</style>\n",
              "<table border=\"1\" class=\"dataframe\">\n",
              "  <thead>\n",
              "    <tr style=\"text-align: right;\">\n",
              "      <th></th>\n",
              "      <th>id</th>\n",
              "      <th>Name</th>\n",
              "      <th>Platform</th>\n",
              "      <th>Year</th>\n",
              "      <th>Genre</th>\n",
              "      <th>Publisher</th>\n",
              "      <th>NA_Sales</th>\n",
              "      <th>EU_Sales</th>\n",
              "      <th>JP_Sales</th>\n",
              "      <th>Other_Sales</th>\n",
              "      <th>Total_sales</th>\n",
              "      <th>Total_Sales</th>\n",
              "    </tr>\n",
              "  </thead>\n",
              "  <tbody>\n",
              "    <tr>\n",
              "      <th>0</th>\n",
              "      <td>2909</td>\n",
              "      <td>Wii Sports</td>\n",
              "      <td>Wii</td>\n",
              "      <td>2006</td>\n",
              "      <td>Sports</td>\n",
              "      <td>Nintendo</td>\n",
              "      <td>41.49</td>\n",
              "      <td>29.02</td>\n",
              "      <td>3.77</td>\n",
              "      <td>8.46</td>\n",
              "      <td>82.74</td>\n",
              "      <td>82.74</td>\n",
              "    </tr>\n",
              "    <tr>\n",
              "      <th>1</th>\n",
              "      <td>4200</td>\n",
              "      <td>Super Mario Bros.</td>\n",
              "      <td>NES</td>\n",
              "      <td>1985</td>\n",
              "      <td>Platform</td>\n",
              "      <td>Nintendo</td>\n",
              "      <td>29.08</td>\n",
              "      <td>3.58</td>\n",
              "      <td>6.81</td>\n",
              "      <td>0.77</td>\n",
              "      <td>40.24</td>\n",
              "      <td>40.24</td>\n",
              "    </tr>\n",
              "    <tr>\n",
              "      <th>2</th>\n",
              "      <td>12580</td>\n",
              "      <td>Mario Kart Wii</td>\n",
              "      <td>Wii</td>\n",
              "      <td>2008</td>\n",
              "      <td>Racing</td>\n",
              "      <td>Nintendo</td>\n",
              "      <td>15.85</td>\n",
              "      <td>12.88</td>\n",
              "      <td>3.79</td>\n",
              "      <td>3.31</td>\n",
              "      <td>35.83</td>\n",
              "      <td>35.83</td>\n",
              "    </tr>\n",
              "    <tr>\n",
              "      <th>3</th>\n",
              "      <td>3353</td>\n",
              "      <td>Wii Sports Resort</td>\n",
              "      <td>Wii</td>\n",
              "      <td>2009</td>\n",
              "      <td>Sports</td>\n",
              "      <td>Nintendo</td>\n",
              "      <td>15.75</td>\n",
              "      <td>11.01</td>\n",
              "      <td>3.28</td>\n",
              "      <td>2.96</td>\n",
              "      <td>33.00</td>\n",
              "      <td>33.00</td>\n",
              "    </tr>\n",
              "    <tr>\n",
              "      <th>4</th>\n",
              "      <td>7830</td>\n",
              "      <td>Pokemon Red/Pokemon Blue</td>\n",
              "      <td>GB</td>\n",
              "      <td>1996</td>\n",
              "      <td>Role-Playing</td>\n",
              "      <td>Nintendo</td>\n",
              "      <td>11.27</td>\n",
              "      <td>8.89</td>\n",
              "      <td>10.22</td>\n",
              "      <td>1.00</td>\n",
              "      <td>31.38</td>\n",
              "      <td>31.38</td>\n",
              "    </tr>\n",
              "    <tr>\n",
              "      <th>5</th>\n",
              "      <td>1204</td>\n",
              "      <td>Tetris</td>\n",
              "      <td>GB</td>\n",
              "      <td>1989</td>\n",
              "      <td>Puzzle</td>\n",
              "      <td>Nintendo</td>\n",
              "      <td>23.20</td>\n",
              "      <td>2.26</td>\n",
              "      <td>4.22</td>\n",
              "      <td>0.58</td>\n",
              "      <td>30.26</td>\n",
              "      <td>30.26</td>\n",
              "    </tr>\n",
              "    <tr>\n",
              "      <th>6</th>\n",
              "      <td>6938</td>\n",
              "      <td>New Super Mario Bros.</td>\n",
              "      <td>DS</td>\n",
              "      <td>2006</td>\n",
              "      <td>Platform</td>\n",
              "      <td>Nintendo</td>\n",
              "      <td>11.38</td>\n",
              "      <td>9.23</td>\n",
              "      <td>6.50</td>\n",
              "      <td>2.90</td>\n",
              "      <td>30.01</td>\n",
              "      <td>30.01</td>\n",
              "    </tr>\n",
              "    <tr>\n",
              "      <th>7</th>\n",
              "      <td>3015</td>\n",
              "      <td>Wii Play</td>\n",
              "      <td>Wii</td>\n",
              "      <td>2006</td>\n",
              "      <td>Misc</td>\n",
              "      <td>Nintendo</td>\n",
              "      <td>14.03</td>\n",
              "      <td>9.20</td>\n",
              "      <td>2.93</td>\n",
              "      <td>2.85</td>\n",
              "      <td>29.01</td>\n",
              "      <td>29.01</td>\n",
              "    </tr>\n",
              "    <tr>\n",
              "      <th>8</th>\n",
              "      <td>16532</td>\n",
              "      <td>New Super Mario Bros. Wii</td>\n",
              "      <td>Wii</td>\n",
              "      <td>2009</td>\n",
              "      <td>Platform</td>\n",
              "      <td>Nintendo</td>\n",
              "      <td>14.59</td>\n",
              "      <td>7.06</td>\n",
              "      <td>4.70</td>\n",
              "      <td>2.26</td>\n",
              "      <td>28.61</td>\n",
              "      <td>28.61</td>\n",
              "    </tr>\n",
              "    <tr>\n",
              "      <th>9</th>\n",
              "      <td>10489</td>\n",
              "      <td>Duck Hunt</td>\n",
              "      <td>NES</td>\n",
              "      <td>1984</td>\n",
              "      <td>Shooter</td>\n",
              "      <td>Nintendo</td>\n",
              "      <td>26.93</td>\n",
              "      <td>0.63</td>\n",
              "      <td>0.28</td>\n",
              "      <td>0.47</td>\n",
              "      <td>28.31</td>\n",
              "      <td>28.31</td>\n",
              "    </tr>\n",
              "  </tbody>\n",
              "</table>\n",
              "</div>"
            ],
            "text/plain": [
              "      id                       Name  ... Total_sales  Total_Sales\n",
              "0   2909                 Wii Sports  ...       82.74        82.74\n",
              "1   4200          Super Mario Bros.  ...       40.24        40.24\n",
              "2  12580             Mario Kart Wii  ...       35.83        35.83\n",
              "3   3353          Wii Sports Resort  ...       33.00        33.00\n",
              "4   7830   Pokemon Red/Pokemon Blue  ...       31.38        31.38\n",
              "5   1204                     Tetris  ...       30.26        30.26\n",
              "6   6938      New Super Mario Bros.  ...       30.01        30.01\n",
              "7   3015                   Wii Play  ...       29.01        29.01\n",
              "8  16532  New Super Mario Bros. Wii  ...       28.61        28.61\n",
              "9  10489                  Duck Hunt  ...       28.31        28.31\n",
              "\n",
              "[10 rows x 12 columns]"
            ]
          },
          "metadata": {
            "tags": []
          },
          "execution_count": 84
        }
      ]
    },
    {
      "cell_type": "code",
      "metadata": {
        "id": "xzvgBX3vbOlY"
      },
      "source": [
        ""
      ],
      "execution_count": null,
      "outputs": []
    },
    {
      "cell_type": "code",
      "metadata": {
        "colab": {
          "base_uri": "https://localhost:8080/",
          "height": 498
        },
        "id": "XOss4tZbW5cg",
        "outputId": "0ab2eb41-6e03-4b2e-e13b-b8862e214a9c"
      },
      "source": [
        "#top ten after 2000\n",
        "\n",
        "top_ten2= df.where(df['Year']>=2000)\n",
        "top_ten2= top_ten2.nlargest(10, 'Total_Sales')\n",
        "top_ten2.rename_axis('id').reset_index()"
      ],
      "execution_count": 85,
      "outputs": [
        {
          "output_type": "execute_result",
          "data": {
            "text/html": [
              "<div>\n",
              "<style scoped>\n",
              "    .dataframe tbody tr th:only-of-type {\n",
              "        vertical-align: middle;\n",
              "    }\n",
              "\n",
              "    .dataframe tbody tr th {\n",
              "        vertical-align: top;\n",
              "    }\n",
              "\n",
              "    .dataframe thead th {\n",
              "        text-align: right;\n",
              "    }\n",
              "</style>\n",
              "<table border=\"1\" class=\"dataframe\">\n",
              "  <thead>\n",
              "    <tr style=\"text-align: right;\">\n",
              "      <th></th>\n",
              "      <th>id</th>\n",
              "      <th>Name</th>\n",
              "      <th>Platform</th>\n",
              "      <th>Year</th>\n",
              "      <th>Genre</th>\n",
              "      <th>Publisher</th>\n",
              "      <th>NA_Sales</th>\n",
              "      <th>EU_Sales</th>\n",
              "      <th>JP_Sales</th>\n",
              "      <th>Other_Sales</th>\n",
              "      <th>Total_sales</th>\n",
              "      <th>Total_Sales</th>\n",
              "    </tr>\n",
              "  </thead>\n",
              "  <tbody>\n",
              "    <tr>\n",
              "      <th>0</th>\n",
              "      <td>2909</td>\n",
              "      <td>Wii Sports</td>\n",
              "      <td>Wii</td>\n",
              "      <td>2006.0</td>\n",
              "      <td>Sports</td>\n",
              "      <td>Nintendo</td>\n",
              "      <td>41.49</td>\n",
              "      <td>29.02</td>\n",
              "      <td>3.77</td>\n",
              "      <td>8.46</td>\n",
              "      <td>82.74</td>\n",
              "      <td>82.74</td>\n",
              "    </tr>\n",
              "    <tr>\n",
              "      <th>1</th>\n",
              "      <td>12580</td>\n",
              "      <td>Mario Kart Wii</td>\n",
              "      <td>Wii</td>\n",
              "      <td>2008.0</td>\n",
              "      <td>Racing</td>\n",
              "      <td>Nintendo</td>\n",
              "      <td>15.85</td>\n",
              "      <td>12.88</td>\n",
              "      <td>3.79</td>\n",
              "      <td>3.31</td>\n",
              "      <td>35.83</td>\n",
              "      <td>35.83</td>\n",
              "    </tr>\n",
              "    <tr>\n",
              "      <th>2</th>\n",
              "      <td>3353</td>\n",
              "      <td>Wii Sports Resort</td>\n",
              "      <td>Wii</td>\n",
              "      <td>2009.0</td>\n",
              "      <td>Sports</td>\n",
              "      <td>Nintendo</td>\n",
              "      <td>15.75</td>\n",
              "      <td>11.01</td>\n",
              "      <td>3.28</td>\n",
              "      <td>2.96</td>\n",
              "      <td>33.00</td>\n",
              "      <td>33.00</td>\n",
              "    </tr>\n",
              "    <tr>\n",
              "      <th>3</th>\n",
              "      <td>6938</td>\n",
              "      <td>New Super Mario Bros.</td>\n",
              "      <td>DS</td>\n",
              "      <td>2006.0</td>\n",
              "      <td>Platform</td>\n",
              "      <td>Nintendo</td>\n",
              "      <td>11.38</td>\n",
              "      <td>9.23</td>\n",
              "      <td>6.50</td>\n",
              "      <td>2.90</td>\n",
              "      <td>30.01</td>\n",
              "      <td>30.01</td>\n",
              "    </tr>\n",
              "    <tr>\n",
              "      <th>4</th>\n",
              "      <td>3015</td>\n",
              "      <td>Wii Play</td>\n",
              "      <td>Wii</td>\n",
              "      <td>2006.0</td>\n",
              "      <td>Misc</td>\n",
              "      <td>Nintendo</td>\n",
              "      <td>14.03</td>\n",
              "      <td>9.20</td>\n",
              "      <td>2.93</td>\n",
              "      <td>2.85</td>\n",
              "      <td>29.01</td>\n",
              "      <td>29.01</td>\n",
              "    </tr>\n",
              "    <tr>\n",
              "      <th>5</th>\n",
              "      <td>16532</td>\n",
              "      <td>New Super Mario Bros. Wii</td>\n",
              "      <td>Wii</td>\n",
              "      <td>2009.0</td>\n",
              "      <td>Platform</td>\n",
              "      <td>Nintendo</td>\n",
              "      <td>14.59</td>\n",
              "      <td>7.06</td>\n",
              "      <td>4.70</td>\n",
              "      <td>2.26</td>\n",
              "      <td>28.61</td>\n",
              "      <td>28.61</td>\n",
              "    </tr>\n",
              "    <tr>\n",
              "      <th>6</th>\n",
              "      <td>11138</td>\n",
              "      <td>Nintendogs</td>\n",
              "      <td>DS</td>\n",
              "      <td>2005.0</td>\n",
              "      <td>Simulation</td>\n",
              "      <td>Nintendo</td>\n",
              "      <td>9.07</td>\n",
              "      <td>11.00</td>\n",
              "      <td>1.93</td>\n",
              "      <td>2.75</td>\n",
              "      <td>24.75</td>\n",
              "      <td>24.75</td>\n",
              "    </tr>\n",
              "    <tr>\n",
              "      <th>7</th>\n",
              "      <td>10651</td>\n",
              "      <td>Mario Kart DS</td>\n",
              "      <td>DS</td>\n",
              "      <td>2005.0</td>\n",
              "      <td>Racing</td>\n",
              "      <td>Nintendo</td>\n",
              "      <td>9.81</td>\n",
              "      <td>7.57</td>\n",
              "      <td>4.13</td>\n",
              "      <td>1.92</td>\n",
              "      <td>23.43</td>\n",
              "      <td>23.43</td>\n",
              "    </tr>\n",
              "    <tr>\n",
              "      <th>8</th>\n",
              "      <td>3436</td>\n",
              "      <td>Wii Fit</td>\n",
              "      <td>Wii</td>\n",
              "      <td>2007.0</td>\n",
              "      <td>Sports</td>\n",
              "      <td>Nintendo</td>\n",
              "      <td>8.94</td>\n",
              "      <td>8.03</td>\n",
              "      <td>3.60</td>\n",
              "      <td>2.15</td>\n",
              "      <td>22.72</td>\n",
              "      <td>22.72</td>\n",
              "    </tr>\n",
              "    <tr>\n",
              "      <th>9</th>\n",
              "      <td>10900</td>\n",
              "      <td>Wii Fit Plus</td>\n",
              "      <td>Wii</td>\n",
              "      <td>2009.0</td>\n",
              "      <td>Sports</td>\n",
              "      <td>Nintendo</td>\n",
              "      <td>9.09</td>\n",
              "      <td>8.59</td>\n",
              "      <td>2.53</td>\n",
              "      <td>1.79</td>\n",
              "      <td>22.00</td>\n",
              "      <td>22.00</td>\n",
              "    </tr>\n",
              "  </tbody>\n",
              "</table>\n",
              "</div>"
            ],
            "text/plain": [
              "      id                       Name  ... Total_sales  Total_Sales\n",
              "0   2909                 Wii Sports  ...       82.74        82.74\n",
              "1  12580             Mario Kart Wii  ...       35.83        35.83\n",
              "2   3353          Wii Sports Resort  ...       33.00        33.00\n",
              "3   6938      New Super Mario Bros.  ...       30.01        30.01\n",
              "4   3015                   Wii Play  ...       29.01        29.01\n",
              "5  16532  New Super Mario Bros. Wii  ...       28.61        28.61\n",
              "6  11138                 Nintendogs  ...       24.75        24.75\n",
              "7  10651              Mario Kart DS  ...       23.43        23.43\n",
              "8   3436                    Wii Fit  ...       22.72        22.72\n",
              "9  10900               Wii Fit Plus  ...       22.00        22.00\n",
              "\n",
              "[10 rows x 12 columns]"
            ]
          },
          "metadata": {
            "tags": []
          },
          "execution_count": 85
        }
      ]
    },
    {
      "cell_type": "markdown",
      "metadata": {
        "id": "ZuCcL3gzYb3J"
      },
      "source": [
        "##Findings: \n",
        "\n",
        "- 우선 전체 중 top 10 sales 와 2000년도 이후 출고된 게임의 top ten을 비교하였다 \n",
        "- 전체와 2000년이후 게임 비교결과 가장 많은 sales를 기록한 게임회사는 Nintendo 였다. \n",
        "\n"
      ]
    },
    {
      "cell_type": "code",
      "metadata": {
        "id": "1mrt2ss-aYiL"
      },
      "source": [
        ""
      ],
      "execution_count": null,
      "outputs": []
    },
    {
      "cell_type": "code",
      "metadata": {
        "id": "5pErxznaaZBq"
      },
      "source": [
        ""
      ],
      "execution_count": null,
      "outputs": []
    },
    {
      "cell_type": "markdown",
      "metadata": {
        "id": "gYmDjN8faiyw"
      },
      "source": [
        "#Extra: Sales 숫자로 얻을 수 있는건 없을까? "
      ]
    },
    {
      "cell_type": "code",
      "metadata": {
        "colab": {
          "base_uri": "https://localhost:8080/",
          "height": 359
        },
        "id": "vGvdY_ytMMY0",
        "outputId": "be4c082a-699b-4dc4-8611-6fd0c5348de0"
      },
      "source": [
        "#sales DataFrame\n",
        "#sales dic\n",
        "sales= {'NA_Sales', 'EU_Sales', 'JP_Sales', 'Other_Sales', 'Total_Sales'}\n",
        "\n",
        "sales_df= pd.DataFrame(top_ten, columns= sales)\n",
        "sales_df\n"
      ],
      "execution_count": 81,
      "outputs": [
        {
          "output_type": "execute_result",
          "data": {
            "text/html": [
              "<div>\n",
              "<style scoped>\n",
              "    .dataframe tbody tr th:only-of-type {\n",
              "        vertical-align: middle;\n",
              "    }\n",
              "\n",
              "    .dataframe tbody tr th {\n",
              "        vertical-align: top;\n",
              "    }\n",
              "\n",
              "    .dataframe thead th {\n",
              "        text-align: right;\n",
              "    }\n",
              "</style>\n",
              "<table border=\"1\" class=\"dataframe\">\n",
              "  <thead>\n",
              "    <tr style=\"text-align: right;\">\n",
              "      <th></th>\n",
              "      <th>JP_Sales</th>\n",
              "      <th>Other_Sales</th>\n",
              "      <th>Total_Sales</th>\n",
              "      <th>NA_Sales</th>\n",
              "      <th>EU_Sales</th>\n",
              "    </tr>\n",
              "  </thead>\n",
              "  <tbody>\n",
              "    <tr>\n",
              "      <th>2909</th>\n",
              "      <td>3.77</td>\n",
              "      <td>8.46</td>\n",
              "      <td>82.74</td>\n",
              "      <td>41.49</td>\n",
              "      <td>29.02</td>\n",
              "    </tr>\n",
              "    <tr>\n",
              "      <th>4200</th>\n",
              "      <td>6.81</td>\n",
              "      <td>0.77</td>\n",
              "      <td>40.24</td>\n",
              "      <td>29.08</td>\n",
              "      <td>3.58</td>\n",
              "    </tr>\n",
              "    <tr>\n",
              "      <th>12580</th>\n",
              "      <td>3.79</td>\n",
              "      <td>3.31</td>\n",
              "      <td>35.83</td>\n",
              "      <td>15.85</td>\n",
              "      <td>12.88</td>\n",
              "    </tr>\n",
              "    <tr>\n",
              "      <th>3353</th>\n",
              "      <td>3.28</td>\n",
              "      <td>2.96</td>\n",
              "      <td>33.00</td>\n",
              "      <td>15.75</td>\n",
              "      <td>11.01</td>\n",
              "    </tr>\n",
              "    <tr>\n",
              "      <th>7830</th>\n",
              "      <td>10.22</td>\n",
              "      <td>1.00</td>\n",
              "      <td>31.38</td>\n",
              "      <td>11.27</td>\n",
              "      <td>8.89</td>\n",
              "    </tr>\n",
              "    <tr>\n",
              "      <th>1204</th>\n",
              "      <td>4.22</td>\n",
              "      <td>0.58</td>\n",
              "      <td>30.26</td>\n",
              "      <td>23.20</td>\n",
              "      <td>2.26</td>\n",
              "    </tr>\n",
              "    <tr>\n",
              "      <th>6938</th>\n",
              "      <td>6.50</td>\n",
              "      <td>2.90</td>\n",
              "      <td>30.01</td>\n",
              "      <td>11.38</td>\n",
              "      <td>9.23</td>\n",
              "    </tr>\n",
              "    <tr>\n",
              "      <th>3015</th>\n",
              "      <td>2.93</td>\n",
              "      <td>2.85</td>\n",
              "      <td>29.01</td>\n",
              "      <td>14.03</td>\n",
              "      <td>9.20</td>\n",
              "    </tr>\n",
              "    <tr>\n",
              "      <th>16532</th>\n",
              "      <td>4.70</td>\n",
              "      <td>2.26</td>\n",
              "      <td>28.61</td>\n",
              "      <td>14.59</td>\n",
              "      <td>7.06</td>\n",
              "    </tr>\n",
              "    <tr>\n",
              "      <th>10489</th>\n",
              "      <td>0.28</td>\n",
              "      <td>0.47</td>\n",
              "      <td>28.31</td>\n",
              "      <td>26.93</td>\n",
              "      <td>0.63</td>\n",
              "    </tr>\n",
              "  </tbody>\n",
              "</table>\n",
              "</div>"
            ],
            "text/plain": [
              "       JP_Sales  Other_Sales  Total_Sales  NA_Sales  EU_Sales\n",
              "2909       3.77         8.46        82.74     41.49     29.02\n",
              "4200       6.81         0.77        40.24     29.08      3.58\n",
              "12580      3.79         3.31        35.83     15.85     12.88\n",
              "3353       3.28         2.96        33.00     15.75     11.01\n",
              "7830      10.22         1.00        31.38     11.27      8.89\n",
              "1204       4.22         0.58        30.26     23.20      2.26\n",
              "6938       6.50         2.90        30.01     11.38      9.23\n",
              "3015       2.93         2.85        29.01     14.03      9.20\n",
              "16532      4.70         2.26        28.61     14.59      7.06\n",
              "10489      0.28         0.47        28.31     26.93      0.63"
            ]
          },
          "metadata": {
            "tags": []
          },
          "execution_count": 81
        }
      ]
    },
    {
      "cell_type": "code",
      "metadata": {
        "id": "5R_jrWinTuBc"
      },
      "source": [
        ""
      ],
      "execution_count": null,
      "outputs": []
    }
  ]
}