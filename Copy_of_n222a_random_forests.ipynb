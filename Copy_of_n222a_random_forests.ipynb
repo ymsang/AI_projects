{
  "nbformat": 4,
  "nbformat_minor": 0,
  "metadata": {
    "kernelspec": {
      "display_name": "Python 3",
      "language": "python",
      "name": "python3"
    },
    "language_info": {
      "codemirror_mode": {
        "name": "ipython",
        "version": 3
      },
      "file_extension": ".py",
      "mimetype": "text/x-python",
      "name": "python",
      "nbconvert_exporter": "python",
      "pygments_lexer": "ipython3",
      "version": "3.7.7"
    },
    "colab": {
      "name": "Copy of n222a-random-forests.ipynb",
      "provenance": [],
      "include_colab_link": true
    }
  },
  "cells": [
    {
      "cell_type": "markdown",
      "metadata": {
        "id": "view-in-github",
        "colab_type": "text"
      },
      "source": [
        "<a href=\"https://colab.research.google.com/github/ymsang/AI_projects/blob/main/Copy_of_n222a_random_forests.ipynb\" target=\"_parent\"><img src=\"https://colab.research.google.com/assets/colab-badge.svg\" alt=\"Open In Colab\"/></a>"
      ]
    },
    {
      "cell_type": "markdown",
      "metadata": {
        "id": "QoZHAanArew_"
      },
      "source": [
        "<img align=\"right\" src=\"https://ds-cs-images.s3.ap-northeast-2.amazonaws.com/Codestates_Fulllogo_Color.png\" width=100>\n",
        "\n",
        "## *DATA SCIENCE / SECTION 2 / SPRINT 2 / NOTE 2*\n",
        "\n",
        "# 📝 Assignment\n",
        "---"
      ]
    },
    {
      "cell_type": "markdown",
      "metadata": {
        "id": "7IXUfiQ2UKj6"
      },
      "source": [
        "# 랜덤포레스트(Random Forests)\n",
        "\n",
        "### 1) 캐글 대회를 이어서 진행합니다. EDA, 데이터 전처리 부분을 업데이트 하세요.\n",
        "- EDA는 항상 완벽할 수 없지요 한 주간 계속 같은 데이터로 과제를 진행하므로 부족한 부분을 추가하거나 논하세요.\n",
        "- (지금은 feature engineering에 너무 시간을 들이지 마세요!)\n",
        "- Ordinal Encoding을 적용해 보세요.\n",
        "- **(객관식) 다음 특성들 중에 순서를 고려한 Ordinal Encoding이 필요해 보이는 특성을 선택하고 과제 제출폼에 제출하세요.**\n",
        "    1. opinion_h1n1_vacc_effective\n",
        "    2. state\n",
        "    3. marital\n",
        "    4. employment_occupation\n"
      ]
    },
    {
      "cell_type": "code",
      "metadata": {
        "id": "wdtEcT6FrexQ"
      },
      "source": [
        "### 이곳에서 과제를 진행해 주세요 ###\n",
        "\n",
        "import pandas as pd\n",
        "\n",
        "target = 'vacc_h1n1_f'\n",
        "# target = 'vacc_seas_f'\n",
        "train = pd.merge(pd.read_csv('https://ds-lecture-data.s3.ap-northeast-2.amazonaws.com/vacc_flu/train.csv'), \n",
        "                 pd.read_csv('https://ds-lecture-data.s3.ap-northeast-2.amazonaws.com/vacc_flu/train_labels.csv')[target], left_index=True, right_index=True)\n",
        "test = pd.read_csv('https://ds-lecture-data.s3.ap-northeast-2.amazonaws.com/vacc_flu/test.csv')\n",
        "sample_submission = pd.read_csv('https://ds-lecture-data.s3.ap-northeast-2.amazonaws.com/vacc_flu/submission.csv')"
      ],
      "execution_count": 16,
      "outputs": []
    },
    {
      "cell_type": "code",
      "metadata": {
        "colab": {
          "base_uri": "https://localhost:8080/",
          "height": 1000
        },
        "id": "0RXvqS8t5Pfs",
        "outputId": "a1ab3ea7-b5c5-4198-820d-ad345b71ab46"
      },
      "source": [
        "train.head().T"
      ],
      "execution_count": 17,
      "outputs": [
        {
          "output_type": "execute_result",
          "data": {
            "text/html": [
              "<div>\n",
              "<style scoped>\n",
              "    .dataframe tbody tr th:only-of-type {\n",
              "        vertical-align: middle;\n",
              "    }\n",
              "\n",
              "    .dataframe tbody tr th {\n",
              "        vertical-align: top;\n",
              "    }\n",
              "\n",
              "    .dataframe thead th {\n",
              "        text-align: right;\n",
              "    }\n",
              "</style>\n",
              "<table border=\"1\" class=\"dataframe\">\n",
              "  <thead>\n",
              "    <tr style=\"text-align: right;\">\n",
              "      <th></th>\n",
              "      <th>0</th>\n",
              "      <th>1</th>\n",
              "      <th>2</th>\n",
              "      <th>3</th>\n",
              "      <th>4</th>\n",
              "    </tr>\n",
              "  </thead>\n",
              "  <tbody>\n",
              "    <tr>\n",
              "      <th>h1n1_concern</th>\n",
              "      <td>NaN</td>\n",
              "      <td>3</td>\n",
              "      <td>2</td>\n",
              "      <td>2</td>\n",
              "      <td>1</td>\n",
              "    </tr>\n",
              "    <tr>\n",
              "      <th>h1n1_knowledge</th>\n",
              "      <td>NaN</td>\n",
              "      <td>1</td>\n",
              "      <td>1</td>\n",
              "      <td>2</td>\n",
              "      <td>2</td>\n",
              "    </tr>\n",
              "    <tr>\n",
              "      <th>behavioral_antiviral_meds</th>\n",
              "      <td>NaN</td>\n",
              "      <td>0</td>\n",
              "      <td>0</td>\n",
              "      <td>1</td>\n",
              "      <td>0</td>\n",
              "    </tr>\n",
              "    <tr>\n",
              "      <th>behavioral_avoidance</th>\n",
              "      <td>NaN</td>\n",
              "      <td>0</td>\n",
              "      <td>1</td>\n",
              "      <td>1</td>\n",
              "      <td>1</td>\n",
              "    </tr>\n",
              "    <tr>\n",
              "      <th>behavioral_face_mask</th>\n",
              "      <td>NaN</td>\n",
              "      <td>0</td>\n",
              "      <td>0</td>\n",
              "      <td>0</td>\n",
              "      <td>0</td>\n",
              "    </tr>\n",
              "    <tr>\n",
              "      <th>behavioral_wash_hands</th>\n",
              "      <td>NaN</td>\n",
              "      <td>1</td>\n",
              "      <td>1</td>\n",
              "      <td>1</td>\n",
              "      <td>1</td>\n",
              "    </tr>\n",
              "    <tr>\n",
              "      <th>behavioral_large_gatherings</th>\n",
              "      <td>NaN</td>\n",
              "      <td>0</td>\n",
              "      <td>1</td>\n",
              "      <td>0</td>\n",
              "      <td>0</td>\n",
              "    </tr>\n",
              "    <tr>\n",
              "      <th>behavioral_outside_home</th>\n",
              "      <td>NaN</td>\n",
              "      <td>0</td>\n",
              "      <td>0</td>\n",
              "      <td>0</td>\n",
              "      <td>0</td>\n",
              "    </tr>\n",
              "    <tr>\n",
              "      <th>behavioral_touch_face</th>\n",
              "      <td>NaN</td>\n",
              "      <td>1</td>\n",
              "      <td>1</td>\n",
              "      <td>0</td>\n",
              "      <td>1</td>\n",
              "    </tr>\n",
              "    <tr>\n",
              "      <th>doctor_recc_h1n1</th>\n",
              "      <td>0</td>\n",
              "      <td>0</td>\n",
              "      <td>0</td>\n",
              "      <td>0</td>\n",
              "      <td>0</td>\n",
              "    </tr>\n",
              "    <tr>\n",
              "      <th>doctor_recc_seasonal</th>\n",
              "      <td>0</td>\n",
              "      <td>0</td>\n",
              "      <td>1</td>\n",
              "      <td>1</td>\n",
              "      <td>0</td>\n",
              "    </tr>\n",
              "    <tr>\n",
              "      <th>chronic_med_condition</th>\n",
              "      <td>0</td>\n",
              "      <td>0</td>\n",
              "      <td>0</td>\n",
              "      <td>1</td>\n",
              "      <td>0</td>\n",
              "    </tr>\n",
              "    <tr>\n",
              "      <th>child_under_6_months</th>\n",
              "      <td>NaN</td>\n",
              "      <td>0</td>\n",
              "      <td>0</td>\n",
              "      <td>0</td>\n",
              "      <td>0</td>\n",
              "    </tr>\n",
              "    <tr>\n",
              "      <th>health_insurance</th>\n",
              "      <td>1</td>\n",
              "      <td>NaN</td>\n",
              "      <td>NaN</td>\n",
              "      <td>1</td>\n",
              "      <td>1</td>\n",
              "    </tr>\n",
              "    <tr>\n",
              "      <th>health_worker</th>\n",
              "      <td>NaN</td>\n",
              "      <td>0</td>\n",
              "      <td>0</td>\n",
              "      <td>0</td>\n",
              "      <td>0</td>\n",
              "    </tr>\n",
              "    <tr>\n",
              "      <th>opinion_h1n1_vacc_effective</th>\n",
              "      <td>NaN</td>\n",
              "      <td>Very Effective</td>\n",
              "      <td>Somewhat Effective</td>\n",
              "      <td>Very Effective</td>\n",
              "      <td>Very Effective</td>\n",
              "    </tr>\n",
              "    <tr>\n",
              "      <th>opinion_h1n1_risk</th>\n",
              "      <td>NaN</td>\n",
              "      <td>Very Low</td>\n",
              "      <td>Somewhat Low</td>\n",
              "      <td>Very Low</td>\n",
              "      <td>Very Low</td>\n",
              "    </tr>\n",
              "    <tr>\n",
              "      <th>opinion_h1n1_sick_from_vacc</th>\n",
              "      <td>NaN</td>\n",
              "      <td>Not Very Worried</td>\n",
              "      <td>Very Worried</td>\n",
              "      <td>Not Very Worried</td>\n",
              "      <td>Not At All Worried</td>\n",
              "    </tr>\n",
              "    <tr>\n",
              "      <th>opinion_seas_vacc_effective</th>\n",
              "      <td>NaN</td>\n",
              "      <td>Very Effective</td>\n",
              "      <td>Somewhat Effective</td>\n",
              "      <td>Very Effective</td>\n",
              "      <td>Not At All Effective</td>\n",
              "    </tr>\n",
              "    <tr>\n",
              "      <th>opinion_seas_risk</th>\n",
              "      <td>NaN</td>\n",
              "      <td>Somewhat Low</td>\n",
              "      <td>Somewhat Low</td>\n",
              "      <td>Very High</td>\n",
              "      <td>Very Low</td>\n",
              "    </tr>\n",
              "    <tr>\n",
              "      <th>opinion_seas_sick_from_vacc</th>\n",
              "      <td>NaN</td>\n",
              "      <td>Not At All Worried</td>\n",
              "      <td>Very Worried</td>\n",
              "      <td>Not At All Worried</td>\n",
              "      <td>Not At All Worried</td>\n",
              "    </tr>\n",
              "    <tr>\n",
              "      <th>agegrp</th>\n",
              "      <td>10 - 17 Years</td>\n",
              "      <td>45 - 54 Years</td>\n",
              "      <td>45 - 54 Years</td>\n",
              "      <td>35 - 44 Years</td>\n",
              "      <td>55 - 64 Years</td>\n",
              "    </tr>\n",
              "    <tr>\n",
              "      <th>education_comp</th>\n",
              "      <td>NaN</td>\n",
              "      <td>3</td>\n",
              "      <td>3</td>\n",
              "      <td>4</td>\n",
              "      <td>3</td>\n",
              "    </tr>\n",
              "    <tr>\n",
              "      <th>raceeth4_i</th>\n",
              "      <td>3</td>\n",
              "      <td>3</td>\n",
              "      <td>3</td>\n",
              "      <td>1</td>\n",
              "      <td>3</td>\n",
              "    </tr>\n",
              "    <tr>\n",
              "      <th>sex_i</th>\n",
              "      <td>1</td>\n",
              "      <td>1</td>\n",
              "      <td>1</td>\n",
              "      <td>2</td>\n",
              "      <td>2</td>\n",
              "    </tr>\n",
              "    <tr>\n",
              "      <th>inc_pov</th>\n",
              "      <td>2</td>\n",
              "      <td>2</td>\n",
              "      <td>2</td>\n",
              "      <td>1</td>\n",
              "      <td>2</td>\n",
              "    </tr>\n",
              "    <tr>\n",
              "      <th>marital</th>\n",
              "      <td>NaN</td>\n",
              "      <td>2</td>\n",
              "      <td>2</td>\n",
              "      <td>1</td>\n",
              "      <td>1</td>\n",
              "    </tr>\n",
              "    <tr>\n",
              "      <th>rent_own_r</th>\n",
              "      <td>2</td>\n",
              "      <td>1</td>\n",
              "      <td>2</td>\n",
              "      <td>1</td>\n",
              "      <td>1</td>\n",
              "    </tr>\n",
              "    <tr>\n",
              "      <th>employment_status</th>\n",
              "      <td>NaN</td>\n",
              "      <td>Employed</td>\n",
              "      <td>Employed</td>\n",
              "      <td>Employed</td>\n",
              "      <td>Employed</td>\n",
              "    </tr>\n",
              "    <tr>\n",
              "      <th>census_region</th>\n",
              "      <td>4</td>\n",
              "      <td>2</td>\n",
              "      <td>1</td>\n",
              "      <td>3</td>\n",
              "      <td>3</td>\n",
              "    </tr>\n",
              "    <tr>\n",
              "      <th>census_msa</th>\n",
              "      <td>MSA, Not Principle City</td>\n",
              "      <td>MSA, Principle City</td>\n",
              "      <td>MSA, Not Principle City</td>\n",
              "      <td>MSA, Not Principle City</td>\n",
              "      <td>MSA, Not Principle City</td>\n",
              "    </tr>\n",
              "    <tr>\n",
              "      <th>n_adult_r</th>\n",
              "      <td>2</td>\n",
              "      <td>1</td>\n",
              "      <td>1</td>\n",
              "      <td>2</td>\n",
              "      <td>3</td>\n",
              "    </tr>\n",
              "    <tr>\n",
              "      <th>household_children</th>\n",
              "      <td>3</td>\n",
              "      <td>0</td>\n",
              "      <td>2</td>\n",
              "      <td>2</td>\n",
              "      <td>0</td>\n",
              "    </tr>\n",
              "    <tr>\n",
              "      <th>n_people_r</th>\n",
              "      <td>5</td>\n",
              "      <td>1</td>\n",
              "      <td>3</td>\n",
              "      <td>4</td>\n",
              "      <td>3</td>\n",
              "    </tr>\n",
              "    <tr>\n",
              "      <th>employment_industry</th>\n",
              "      <td>NaN</td>\n",
              "      <td>Accommodation and Food Services Industries</td>\n",
              "      <td>Transportation and Warehousing Industries</td>\n",
              "      <td>Professional, Scientific, and Technical Servic...</td>\n",
              "      <td>Education Services Industries</td>\n",
              "    </tr>\n",
              "    <tr>\n",
              "      <th>employment_occupation</th>\n",
              "      <td>NaN</td>\n",
              "      <td>Food Preparation and Serving Related Occupations</td>\n",
              "      <td>Transportation and Material Moving Occupations</td>\n",
              "      <td>Legal Occupations</td>\n",
              "      <td>Office and Administrative Support Occupations</td>\n",
              "    </tr>\n",
              "    <tr>\n",
              "      <th>hhs_region</th>\n",
              "      <td>9</td>\n",
              "      <td>7</td>\n",
              "      <td>1</td>\n",
              "      <td>6</td>\n",
              "      <td>4</td>\n",
              "    </tr>\n",
              "    <tr>\n",
              "      <th>state</th>\n",
              "      <td>CALIFORNIA</td>\n",
              "      <td>NEBRASKA</td>\n",
              "      <td>MASSACHUSETTS</td>\n",
              "      <td>LOUISIANA</td>\n",
              "      <td>ALABAMA</td>\n",
              "    </tr>\n",
              "    <tr>\n",
              "      <th>vacc_h1n1_f</th>\n",
              "      <td>0</td>\n",
              "      <td>0</td>\n",
              "      <td>0</td>\n",
              "      <td>0</td>\n",
              "      <td>1</td>\n",
              "    </tr>\n",
              "  </tbody>\n",
              "</table>\n",
              "</div>"
            ],
            "text/plain": [
              "                                                   0  ...                                              4\n",
              "h1n1_concern                                     NaN  ...                                              1\n",
              "h1n1_knowledge                                   NaN  ...                                              2\n",
              "behavioral_antiviral_meds                        NaN  ...                                              0\n",
              "behavioral_avoidance                             NaN  ...                                              1\n",
              "behavioral_face_mask                             NaN  ...                                              0\n",
              "behavioral_wash_hands                            NaN  ...                                              1\n",
              "behavioral_large_gatherings                      NaN  ...                                              0\n",
              "behavioral_outside_home                          NaN  ...                                              0\n",
              "behavioral_touch_face                            NaN  ...                                              1\n",
              "doctor_recc_h1n1                                   0  ...                                              0\n",
              "doctor_recc_seasonal                               0  ...                                              0\n",
              "chronic_med_condition                              0  ...                                              0\n",
              "child_under_6_months                             NaN  ...                                              0\n",
              "health_insurance                                   1  ...                                              1\n",
              "health_worker                                    NaN  ...                                              0\n",
              "opinion_h1n1_vacc_effective                      NaN  ...                                 Very Effective\n",
              "opinion_h1n1_risk                                NaN  ...                                       Very Low\n",
              "opinion_h1n1_sick_from_vacc                      NaN  ...                             Not At All Worried\n",
              "opinion_seas_vacc_effective                      NaN  ...                           Not At All Effective\n",
              "opinion_seas_risk                                NaN  ...                                       Very Low\n",
              "opinion_seas_sick_from_vacc                      NaN  ...                             Not At All Worried\n",
              "agegrp                                 10 - 17 Years  ...                                  55 - 64 Years\n",
              "education_comp                                   NaN  ...                                              3\n",
              "raceeth4_i                                         3  ...                                              3\n",
              "sex_i                                              1  ...                                              2\n",
              "inc_pov                                            2  ...                                              2\n",
              "marital                                          NaN  ...                                              1\n",
              "rent_own_r                                         2  ...                                              1\n",
              "employment_status                                NaN  ...                                       Employed\n",
              "census_region                                      4  ...                                              3\n",
              "census_msa                   MSA, Not Principle City  ...                        MSA, Not Principle City\n",
              "n_adult_r                                          2  ...                                              3\n",
              "household_children                                 3  ...                                              0\n",
              "n_people_r                                         5  ...                                              3\n",
              "employment_industry                              NaN  ...                  Education Services Industries\n",
              "employment_occupation                            NaN  ...  Office and Administrative Support Occupations\n",
              "hhs_region                                         9  ...                                              4\n",
              "state                                     CALIFORNIA  ...                                        ALABAMA\n",
              "vacc_h1n1_f                                        0  ...                                              1\n",
              "\n",
              "[39 rows x 5 columns]"
            ]
          },
          "metadata": {
            "tags": []
          },
          "execution_count": 17
        }
      ]
    },
    {
      "cell_type": "code",
      "metadata": {
        "colab": {
          "base_uri": "https://localhost:8080/"
        },
        "id": "t8Fiy3kZ86Lj",
        "outputId": "68150774-07c5-4845-a25a-2b630a4730fa"
      },
      "source": [
        "#train 을 훈련/검증 세트로 분리\n",
        "\n",
        "from sklearn.model_selection import train_test_split\n",
        "train, val = train_test_split(train, train_size=0.80, test_size=0.20, \n",
        "                              stratify=train[target], random_state=2)\n",
        "\n",
        "\n",
        "train.shape, val.shape, test.shape"
      ],
      "execution_count": 18,
      "outputs": [
        {
          "output_type": "execute_result",
          "data": {
            "text/plain": [
              "((33723, 39), (8431, 39), (28104, 38))"
            ]
          },
          "metadata": {
            "tags": []
          },
          "execution_count": 18
        }
      ]
    },
    {
      "cell_type": "code",
      "metadata": {
        "colab": {
          "base_uri": "https://localhost:8080/"
        },
        "id": "aLFIgtu7zBCo",
        "outputId": "d82204b8-c3a4-4384-af92-870f3613ec77"
      },
      "source": [
        "!pip install category_encoders"
      ],
      "execution_count": 5,
      "outputs": [
        {
          "output_type": "stream",
          "text": [
            "Collecting category_encoders\n",
            "\u001b[?25l  Downloading https://files.pythonhosted.org/packages/44/57/fcef41c248701ee62e8325026b90c432adea35555cbc870aff9cfba23727/category_encoders-2.2.2-py2.py3-none-any.whl (80kB)\n",
            "\r\u001b[K     |████                            | 10kB 11.9MB/s eta 0:00:01\r\u001b[K     |████████▏                       | 20kB 8.9MB/s eta 0:00:01\r\u001b[K     |████████████▏                   | 30kB 9.2MB/s eta 0:00:01\r\u001b[K     |████████████████▎               | 40kB 6.6MB/s eta 0:00:01\r\u001b[K     |████████████████████▎           | 51kB 4.6MB/s eta 0:00:01\r\u001b[K     |████████████████████████▍       | 61kB 5.2MB/s eta 0:00:01\r\u001b[K     |████████████████████████████▍   | 71kB 4.9MB/s eta 0:00:01\r\u001b[K     |████████████████████████████████| 81kB 3.2MB/s \n",
            "\u001b[?25hRequirement already satisfied: patsy>=0.5.1 in /usr/local/lib/python3.7/dist-packages (from category_encoders) (0.5.1)\n",
            "Requirement already satisfied: scipy>=1.0.0 in /usr/local/lib/python3.7/dist-packages (from category_encoders) (1.4.1)\n",
            "Requirement already satisfied: pandas>=0.21.1 in /usr/local/lib/python3.7/dist-packages (from category_encoders) (1.1.5)\n",
            "Requirement already satisfied: statsmodels>=0.9.0 in /usr/local/lib/python3.7/dist-packages (from category_encoders) (0.10.2)\n",
            "Requirement already satisfied: numpy>=1.14.0 in /usr/local/lib/python3.7/dist-packages (from category_encoders) (1.19.5)\n",
            "Requirement already satisfied: scikit-learn>=0.20.0 in /usr/local/lib/python3.7/dist-packages (from category_encoders) (0.22.2.post1)\n",
            "Requirement already satisfied: six in /usr/local/lib/python3.7/dist-packages (from patsy>=0.5.1->category_encoders) (1.15.0)\n",
            "Requirement already satisfied: pytz>=2017.2 in /usr/local/lib/python3.7/dist-packages (from pandas>=0.21.1->category_encoders) (2018.9)\n",
            "Requirement already satisfied: python-dateutil>=2.7.3 in /usr/local/lib/python3.7/dist-packages (from pandas>=0.21.1->category_encoders) (2.8.1)\n",
            "Requirement already satisfied: joblib>=0.11 in /usr/local/lib/python3.7/dist-packages (from scikit-learn>=0.20.0->category_encoders) (1.0.1)\n",
            "Installing collected packages: category-encoders\n",
            "Successfully installed category-encoders-2.2.2\n"
          ],
          "name": "stdout"
        }
      ]
    },
    {
      "cell_type": "code",
      "metadata": {
        "colab": {
          "base_uri": "https://localhost:8080/"
        },
        "id": "QNK7pE129B6O",
        "outputId": "2e7d543a-21a9-433d-eb69-9d36b5facb31"
      },
      "source": [
        "#ordinal encoder\n",
        "\n",
        "from category_encoders import OrdinalEncoder\n",
        "enc = OrdinalEncoder()\n",
        "enc.fit(train)\n"
      ],
      "execution_count": 20,
      "outputs": [
        {
          "output_type": "execute_result",
          "data": {
            "text/plain": [
              "OrdinalEncoder(cols=['opinion_h1n1_vacc_effective', 'opinion_h1n1_risk',\n",
              "                     'opinion_h1n1_sick_from_vacc',\n",
              "                     'opinion_seas_vacc_effective', 'opinion_seas_risk',\n",
              "                     'opinion_seas_sick_from_vacc', 'agegrp',\n",
              "                     'employment_status', 'census_msa', 'employment_industry',\n",
              "                     'employment_occupation', 'state'],\n",
              "               drop_invariant=False, handle_missing='value',\n",
              "               handle_unknown='value',\n",
              "               mappi...\n",
              "ILLINOIS               22\n",
              "RHODE ISLAND           23\n",
              "VIRGINIA               24\n",
              "COLORADO               25\n",
              "SOUTH DAKOTA           26\n",
              "MICHIGAN               27\n",
              "VERMONT                28\n",
              "KANSAS                 29\n",
              "INDIANA                30\n",
              "ARIZONA                31\n",
              "WYOMING                32\n",
              "NEW YORK               33\n",
              "NORTH CAROLINA         34\n",
              "CALIFORNIA             35\n",
              "MISSOURI               36\n",
              "NEW MEXICO             37\n",
              "OHIO                   38\n",
              "TENNESSEE              39\n",
              "FLORIDA                40\n",
              "NEW HAMPSHIRE          41\n",
              "IDAHO                  42\n",
              "MAINE                  43\n",
              "ALASKA                 44\n",
              "WISCONSIN              45\n",
              "OKLAHOMA               46\n",
              "MASSACHUSETTS          47\n",
              "NORTH DAKOTA           48\n",
              "WASHINGTON             49\n",
              "NEBRASKA               50\n",
              "HAWAII                 51\n",
              "NaN                    -2\n",
              "dtype: int64}],\n",
              "               return_df=True, verbose=0)"
            ]
          },
          "metadata": {
            "tags": []
          },
          "execution_count": 20
        }
      ]
    },
    {
      "cell_type": "markdown",
      "metadata": {
        "id": "XyDKp3ZCrexS"
      },
      "source": [
        "### 2) 랜덤포레스트 모델을 적용한 후의 결과를 캐글에 제출하세요.\n",
        "- 랜덤포레스트를 적용하고 성능이 오히려 떨어졌을 수도 있습니다! 만약 그렇다면 이유를 본인 논리로 분석해 보세요.\n",
        "- **캐글 Leaderboard의 본인 Score를 과제 제출폼에 제출하세요.**"
      ]
    },
    {
      "cell_type": "code",
      "metadata": {
        "id": "_7gSEfI-rexS"
      },
      "source": [
        "### 이곳에서 과제를 진행해 주세요 ###\n",
        "\n",
        "def engineer(df):\n",
        "    \"\"\"특성을 엔지니어링 하는 함수입니다.\"\"\"\n",
        "    \n",
        "    # 높은 카디널리티를 가지는 특성을 제거합니다.\n",
        "#     selected_cols = df.select_dtypes(include=['number', 'object'])\n",
        "#     colnames = selected_cols.columns.tolist()\n",
        "#     labels = selected_cols.nunique()\n",
        "    \n",
        "#     selected_features = labels[labels <= 30].index.tolist()\n",
        "#     df = df[selected_features]\n",
        "    \n",
        "    # 새로운 특성을 생성합니다.\n",
        "    behaviorals = [col for col in df.columns if 'behavioral' in col] \n",
        "    df['behaviorals'] = df[behaviorals].sum(axis=1)\n",
        "    \n",
        "    \n",
        "    dels = [col for col in df.columns if ('employment' in col or 'seas' in col)]\n",
        "    df.drop(columns=dels, inplace=True)\n",
        "        \n",
        "    return df\n",
        "\n",
        "\n",
        "train = engineer(train)\n",
        "val = engineer(val)\n",
        "test = engineer(test)"
      ],
      "execution_count": 21,
      "outputs": []
    },
    {
      "cell_type": "code",
      "metadata": {
        "id": "_DDXFC4A961u"
      },
      "source": [
        "# 훈련/검증/테스트 데이터를 특성과 타겟으로 분리\n",
        "\n",
        "features = train.drop(columns=[target]).columns\n",
        "\n",
        "X_train = train[features]\n",
        "y_train = train[target]\n",
        "X_val = val[features]\n",
        "y_val = val[target]\n",
        "X_test = test[features]"
      ],
      "execution_count": 22,
      "outputs": []
    },
    {
      "cell_type": "code",
      "metadata": {
        "colab": {
          "base_uri": "https://localhost:8080/"
        },
        "id": "3DxwSASv9_rC",
        "outputId": "3ddbf010-57db-4ef4-be94-10f98f59a1c0"
      },
      "source": [
        "#랜덤포레스트 적용\n",
        "\n",
        "from category_encoders import OneHotEncoder\n",
        "from sklearn.ensemble import RandomForestClassifier\n",
        "from sklearn.impute import SimpleImputer \n",
        "from sklearn.pipeline import make_pipeline\n",
        "\n",
        "# ordinal encoding\n",
        "pipe_ord = make_pipeline(\n",
        "    OrdinalEncoder(), \n",
        "    SimpleImputer(), \n",
        "    RandomForestClassifier(random_state=10, n_jobs=-1, oob_score=True)\n",
        ")\n",
        "\n",
        "pipe_ord.fit(X_train, y_train)\n",
        "print('검증 정확도', pipe_ord.score(X_val, y_val))\n",
        "\n"
      ],
      "execution_count": 44,
      "outputs": [
        {
          "output_type": "stream",
          "text": [
            "검증 정확도 0.8254062388803226\n"
          ],
          "name": "stdout"
        }
      ]
    },
    {
      "cell_type": "code",
      "metadata": {
        "colab": {
          "base_uri": "https://localhost:8080/"
        },
        "id": "IrKKhwh7I8We",
        "outputId": "9b7d3295-990d-44af-f81c-2c26116a44ee"
      },
      "source": [
        "y_test_pred = pipe.predict(X_test)\n",
        "y_test_pred"
      ],
      "execution_count": 46,
      "outputs": [
        {
          "output_type": "execute_result",
          "data": {
            "text/plain": [
              "array([0, 0, 0, ..., 0, 1, 0])"
            ]
          },
          "metadata": {
            "tags": []
          },
          "execution_count": 46
        }
      ]
    },
    {
      "cell_type": "markdown",
      "metadata": {
        "id": "WwiSupd6-rJH"
      },
      "source": [
        "submission 파일 만들기"
      ]
    },
    {
      "cell_type": "code",
      "metadata": {
        "colab": {
          "base_uri": "https://localhost:8080/",
          "height": 419
        },
        "id": "Uiu7m4Zc-iT_",
        "outputId": "e015d2b9-9bf4-419a-f990-d73c9a9eda7a"
      },
      "source": [
        "sample_submission"
      ],
      "execution_count": 24,
      "outputs": [
        {
          "output_type": "execute_result",
          "data": {
            "text/html": [
              "<div>\n",
              "<style scoped>\n",
              "    .dataframe tbody tr th:only-of-type {\n",
              "        vertical-align: middle;\n",
              "    }\n",
              "\n",
              "    .dataframe tbody tr th {\n",
              "        vertical-align: top;\n",
              "    }\n",
              "\n",
              "    .dataframe thead th {\n",
              "        text-align: right;\n",
              "    }\n",
              "</style>\n",
              "<table border=\"1\" class=\"dataframe\">\n",
              "  <thead>\n",
              "    <tr style=\"text-align: right;\">\n",
              "      <th></th>\n",
              "      <th>Id</th>\n",
              "      <th>vacc_h1n1_f</th>\n",
              "    </tr>\n",
              "  </thead>\n",
              "  <tbody>\n",
              "    <tr>\n",
              "      <th>0</th>\n",
              "      <td>0</td>\n",
              "      <td>0</td>\n",
              "    </tr>\n",
              "    <tr>\n",
              "      <th>1</th>\n",
              "      <td>1</td>\n",
              "      <td>1</td>\n",
              "    </tr>\n",
              "    <tr>\n",
              "      <th>2</th>\n",
              "      <td>2</td>\n",
              "      <td>1</td>\n",
              "    </tr>\n",
              "    <tr>\n",
              "      <th>3</th>\n",
              "      <td>3</td>\n",
              "      <td>1</td>\n",
              "    </tr>\n",
              "    <tr>\n",
              "      <th>4</th>\n",
              "      <td>4</td>\n",
              "      <td>0</td>\n",
              "    </tr>\n",
              "    <tr>\n",
              "      <th>...</th>\n",
              "      <td>...</td>\n",
              "      <td>...</td>\n",
              "    </tr>\n",
              "    <tr>\n",
              "      <th>28099</th>\n",
              "      <td>28099</td>\n",
              "      <td>0</td>\n",
              "    </tr>\n",
              "    <tr>\n",
              "      <th>28100</th>\n",
              "      <td>28100</td>\n",
              "      <td>1</td>\n",
              "    </tr>\n",
              "    <tr>\n",
              "      <th>28101</th>\n",
              "      <td>28101</td>\n",
              "      <td>1</td>\n",
              "    </tr>\n",
              "    <tr>\n",
              "      <th>28102</th>\n",
              "      <td>28102</td>\n",
              "      <td>0</td>\n",
              "    </tr>\n",
              "    <tr>\n",
              "      <th>28103</th>\n",
              "      <td>28103</td>\n",
              "      <td>0</td>\n",
              "    </tr>\n",
              "  </tbody>\n",
              "</table>\n",
              "<p>28104 rows × 2 columns</p>\n",
              "</div>"
            ],
            "text/plain": [
              "          Id  vacc_h1n1_f\n",
              "0          0            0\n",
              "1          1            1\n",
              "2          2            1\n",
              "3          3            1\n",
              "4          4            0\n",
              "...      ...          ...\n",
              "28099  28099            0\n",
              "28100  28100            1\n",
              "28101  28101            1\n",
              "28102  28102            0\n",
              "28103  28103            0\n",
              "\n",
              "[28104 rows x 2 columns]"
            ]
          },
          "metadata": {
            "tags": []
          },
          "execution_count": 24
        }
      ]
    },
    {
      "cell_type": "code",
      "metadata": {
        "id": "teDWQgfh-5Q4"
      },
      "source": [
        "submission = sample_submission.copy()\n",
        "# display(submission.head())\n",
        "submission['vacc_h1n1_f'] = y_test_pred\n",
        "submission = submission.set_index('Id')\n",
        "# display(submission.head())\n",
        "submission.to_csv('submission_v2_1.csv')"
      ],
      "execution_count": 47,
      "outputs": []
    },
    {
      "cell_type": "markdown",
      "metadata": {
        "id": "DgwWoat2rexT"
      },
      "source": [
        "## 🔥 도전과제"
      ]
    },
    {
      "cell_type": "markdown",
      "metadata": {
        "id": "fdA_Oi7arexT"
      },
      "source": [
        "### 3) 수업에 사용하지 않은 다른 종류의 [category_encoders](http://contrib.scikit-learn.org/category_encoders/)을 적용해 보고 인코더에 대해 설명하세요\n"
      ]
    },
    {
      "cell_type": "code",
      "metadata": {
        "id": "04duNEl1rexU"
      },
      "source": [
        "### 이곳에서 과제를 진행해 주세요 ###"
      ],
      "execution_count": null,
      "outputs": []
    },
    {
      "cell_type": "markdown",
      "metadata": {
        "id": "4irqVUKorexU"
      },
      "source": [
        "## 참고자료\n",
        "\n",
        "- [Random Forests for Complete Beginners](https://victorzhou.com/blog/intro-to-random-forests/)"
      ]
    }
  ]
}