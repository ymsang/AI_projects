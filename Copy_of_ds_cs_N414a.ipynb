{
  "nbformat": 4,
  "nbformat_minor": 0,
  "metadata": {
    "colab": {
      "name": "Copy of ds-cs-N414a.ipynb",
      "provenance": [],
      "toc_visible": true,
      "include_colab_link": true
    },
    "kernelspec": {
      "display_name": "Python 3",
      "language": "python",
      "name": "python3"
    },
    "language_info": {
      "codemirror_mode": {
        "name": "ipython",
        "version": 3
      },
      "file_extension": ".py",
      "mimetype": "text/x-python",
      "name": "python",
      "nbconvert_exporter": "python",
      "pygments_lexer": "ipython3",
      "version": "3.7.3"
    },
    "accelerator": "GPU"
  },
  "cells": [
    {
      "cell_type": "markdown",
      "metadata": {
        "id": "view-in-github",
        "colab_type": "text"
      },
      "source": [
        "<a href=\"https://colab.research.google.com/github/ymsang/AI_projects/blob/main/Copy_of_ds_cs_N414a.ipynb\" target=\"_parent\"><img src=\"https://colab.research.google.com/assets/colab-badge.svg\" alt=\"Open In Colab\"/></a>"
      ]
    },
    {
      "cell_type": "markdown",
      "metadata": {
        "id": "TzaaHL75OF2K"
      },
      "source": [
        "<img src='https://user-images.githubusercontent.com/6457691/90080969-0f758d00-dd47-11ea-8191-fa12fd2054a7.png' width = '200' align = 'right'>\n",
        "\n",
        "## *DATA SCIENCE / SECTION 4 / SPRINT 1 / Assignment 4*\n",
        "\n",
        "---\n",
        "# N414. 신경망과 학습에 관련된 파라미터 튜닝 (HyperTune)"
      ]
    },
    {
      "cell_type": "markdown",
      "metadata": {
        "id": "9Ryp-TVm4njD"
      },
      "source": [
        "\n",
        "\n",
        "## 실전 연습과제\n",
        "\n",
        "다음 통신사 고객 이탈(Churn) 데이터셋에서 정확도를 조정해보는 파라미터 학습을 진행해보겠습니다 : [다운로드](https://ds-lecture-data.s3.ap-northeast-2.amazonaws.com/telecom/TelcomCustomer.csv)\n",
        "\n",
        "## 진행방식\n",
        "\n",
        "- 데이터를 다운로드 받고 읽어옴(load)\n",
        "- 데이터 클리닝을 진행 (필수는 아니지만 추천)\n",
        "- Keras MLP model을 만들고, 학습 진행\n",
        "- Hyperparameter 튜닝 진행:\n",
        " - batch_size\n",
        " - training epochs\n",
        " - optimizer\n",
        " - learning rate (optimizer에 따라서 해당되면)\n",
        " - momentum (optimizer에 따라서 해당되면)\n",
        " - activation functions\n",
        " - network weight initialization\n",
        " - dropout regularization\n",
        " - number of neurons in the hidden layer\n",
        " \n",
        "하이퍼 파라미터의 초기 패스를 위해 그리드 검색 및 교차 검증을 사용할 수 있어야 합니다. \n",
        "\n",
        "실제 큰 통신회사의 데이터이기 때문에 최대한 정확하게 파악해 보십시오! \n"
      ]
    },
    {
      "cell_type": "markdown",
      "metadata": {
        "id": "j68yxJGopANf"
      },
      "source": [
        "# 데이터 전처리 "
      ]
    },
    {
      "cell_type": "markdown",
      "metadata": {
        "id": "aB91n40ySJxC"
      },
      "source": [
        "### 문항 1) 내 로컬 파일을 colab에 업로드하기\n",
        "\n",
        "충분한 GPU를 가지고 있다면, 쉽게 문제를 해결할 수 있겠지만, 제한된 자원에서 충분한 GPU를 제공받지 못할 지 모릅니다. 이럴 때에는 딥러닝 커뮤니티에 물어볼 수도 있겠지만, 가성비 좋은 Colab의 GPU를 이용해서 실제 GPU사용량을 예측할 수 있다면 좋겠습니다. 모델 파라미터의 개수와 batch size 등이 GPU메모리에 큰 영향을 미치니 여러가지로 활용해보시기 바랍니다.\n",
        "\n",
        "Colab의 GPU를 이용하기 위해서, 로컬로 진행하시던 분들도 이번에는 colab을 사용해봅시다. \n",
        "\n",
        "- 구글에서 colab의 라이브러리를 찾아서 업로드하세요. \n",
        "이후에 Pandas를 이용하여 데이터프레임으로 저장합니다.\n",
        "\n",
        "colab을 사용하기위해서는 colab 라이브러리들을 잘 활용할 수 있으면 좋습니다. colab 기본형의 GPU의 사용제한 때문에 하지 못하는 일이 있다면, colab pro를 사용할 수 있습니다. 코드스테이츠에서 제공하는 colab pro 설치 가이드가 있지만, 스스로 문제를 해결해보시면 좋습니다. 그러나 도움이 필요하시면 HelpDesk에 문의해주시기 바랍니다.\n",
        "\n",
        "### 로컬 파일을 업로드하는 코드를 입력하세요. "
      ]
    },
    {
      "cell_type": "code",
      "metadata": {
        "colab": {
          "resources": {
            "http://localhost:8080/nbextensions/google.colab/files.js": {
              "data": "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",
              "ok": true,
              "headers": [
                [
                  "content-type",
                  "application/javascript"
                ]
              ],
              "status": 200,
              "status_text": ""
            }
          },
          "base_uri": "https://localhost:8080/",
          "height": 73
        },
        "id": "hLJylhd0JeYO",
        "outputId": "ff8b1993-802d-4d36-c6f3-e9b88450f7e9"
      },
      "source": [
        "##### Your Code Here #####\n",
        "# 로컬 파일 업로드\n",
        "\n",
        "from google.colab import files\n",
        "\n",
        "file_uploaded= files.upload()\n",
        "\n",
        "\n",
        "# 데이터 불러오기\n",
        "import pandas as pd\n",
        "df = pd.read_csv('TelcomCustomer.csv')"
      ],
      "execution_count": 1,
      "outputs": [
        {
          "output_type": "display_data",
          "data": {
            "text/html": [
              "\n",
              "     <input type=\"file\" id=\"files-b6debd27-135c-48db-8255-5a361b4c126c\" name=\"files[]\" multiple disabled\n",
              "        style=\"border:none\" />\n",
              "     <output id=\"result-b6debd27-135c-48db-8255-5a361b4c126c\">\n",
              "      Upload widget is only available when the cell has been executed in the\n",
              "      current browser session. Please rerun this cell to enable.\n",
              "      </output>\n",
              "      <script src=\"/nbextensions/google.colab/files.js\"></script> "
            ],
            "text/plain": [
              "<IPython.core.display.HTML object>"
            ]
          },
          "metadata": {
            "tags": []
          }
        },
        {
          "output_type": "stream",
          "text": [
            "Saving TelcomCustomer.csv to TelcomCustomer.csv\n"
          ],
          "name": "stdout"
        }
      ]
    },
    {
      "cell_type": "code",
      "metadata": {
        "colab": {
          "base_uri": "https://localhost:8080/",
          "height": 305
        },
        "id": "MOSklFLyJ__j",
        "outputId": "8a2972e2-714b-4b6d-de66-b6e62ed1c08d"
      },
      "source": [
        "df.head()"
      ],
      "execution_count": 2,
      "outputs": [
        {
          "output_type": "execute_result",
          "data": {
            "text/html": [
              "<div>\n",
              "<style scoped>\n",
              "    .dataframe tbody tr th:only-of-type {\n",
              "        vertical-align: middle;\n",
              "    }\n",
              "\n",
              "    .dataframe tbody tr th {\n",
              "        vertical-align: top;\n",
              "    }\n",
              "\n",
              "    .dataframe thead th {\n",
              "        text-align: right;\n",
              "    }\n",
              "</style>\n",
              "<table border=\"1\" class=\"dataframe\">\n",
              "  <thead>\n",
              "    <tr style=\"text-align: right;\">\n",
              "      <th></th>\n",
              "      <th>customerID</th>\n",
              "      <th>gender</th>\n",
              "      <th>SeniorCitizen</th>\n",
              "      <th>Partner</th>\n",
              "      <th>Dependents</th>\n",
              "      <th>tenure</th>\n",
              "      <th>PhoneService</th>\n",
              "      <th>MultipleLines</th>\n",
              "      <th>InternetService</th>\n",
              "      <th>OnlineSecurity</th>\n",
              "      <th>OnlineBackup</th>\n",
              "      <th>DeviceProtection</th>\n",
              "      <th>TechSupport</th>\n",
              "      <th>StreamingTV</th>\n",
              "      <th>StreamingMovies</th>\n",
              "      <th>Contract</th>\n",
              "      <th>PaperlessBilling</th>\n",
              "      <th>PaymentMethod</th>\n",
              "      <th>MonthlyCharges</th>\n",
              "      <th>TotalCharges</th>\n",
              "      <th>Churn</th>\n",
              "    </tr>\n",
              "  </thead>\n",
              "  <tbody>\n",
              "    <tr>\n",
              "      <th>0</th>\n",
              "      <td>7590-VHVEG</td>\n",
              "      <td>Female</td>\n",
              "      <td>0</td>\n",
              "      <td>Yes</td>\n",
              "      <td>No</td>\n",
              "      <td>1</td>\n",
              "      <td>No</td>\n",
              "      <td>No phone service</td>\n",
              "      <td>DSL</td>\n",
              "      <td>No</td>\n",
              "      <td>Yes</td>\n",
              "      <td>No</td>\n",
              "      <td>No</td>\n",
              "      <td>No</td>\n",
              "      <td>No</td>\n",
              "      <td>Month-to-month</td>\n",
              "      <td>Yes</td>\n",
              "      <td>Electronic check</td>\n",
              "      <td>29.85</td>\n",
              "      <td>29.85</td>\n",
              "      <td>No</td>\n",
              "    </tr>\n",
              "    <tr>\n",
              "      <th>1</th>\n",
              "      <td>5575-GNVDE</td>\n",
              "      <td>Male</td>\n",
              "      <td>0</td>\n",
              "      <td>No</td>\n",
              "      <td>No</td>\n",
              "      <td>34</td>\n",
              "      <td>Yes</td>\n",
              "      <td>No</td>\n",
              "      <td>DSL</td>\n",
              "      <td>Yes</td>\n",
              "      <td>No</td>\n",
              "      <td>Yes</td>\n",
              "      <td>No</td>\n",
              "      <td>No</td>\n",
              "      <td>No</td>\n",
              "      <td>One year</td>\n",
              "      <td>No</td>\n",
              "      <td>Mailed check</td>\n",
              "      <td>56.95</td>\n",
              "      <td>1889.5</td>\n",
              "      <td>No</td>\n",
              "    </tr>\n",
              "    <tr>\n",
              "      <th>2</th>\n",
              "      <td>3668-QPYBK</td>\n",
              "      <td>Male</td>\n",
              "      <td>0</td>\n",
              "      <td>No</td>\n",
              "      <td>No</td>\n",
              "      <td>2</td>\n",
              "      <td>Yes</td>\n",
              "      <td>No</td>\n",
              "      <td>DSL</td>\n",
              "      <td>Yes</td>\n",
              "      <td>Yes</td>\n",
              "      <td>No</td>\n",
              "      <td>No</td>\n",
              "      <td>No</td>\n",
              "      <td>No</td>\n",
              "      <td>Month-to-month</td>\n",
              "      <td>Yes</td>\n",
              "      <td>Mailed check</td>\n",
              "      <td>53.85</td>\n",
              "      <td>108.15</td>\n",
              "      <td>Yes</td>\n",
              "    </tr>\n",
              "    <tr>\n",
              "      <th>3</th>\n",
              "      <td>7795-CFOCW</td>\n",
              "      <td>Male</td>\n",
              "      <td>0</td>\n",
              "      <td>No</td>\n",
              "      <td>No</td>\n",
              "      <td>45</td>\n",
              "      <td>No</td>\n",
              "      <td>No phone service</td>\n",
              "      <td>DSL</td>\n",
              "      <td>Yes</td>\n",
              "      <td>No</td>\n",
              "      <td>Yes</td>\n",
              "      <td>Yes</td>\n",
              "      <td>No</td>\n",
              "      <td>No</td>\n",
              "      <td>One year</td>\n",
              "      <td>No</td>\n",
              "      <td>Bank transfer (automatic)</td>\n",
              "      <td>42.30</td>\n",
              "      <td>1840.75</td>\n",
              "      <td>No</td>\n",
              "    </tr>\n",
              "    <tr>\n",
              "      <th>4</th>\n",
              "      <td>9237-HQITU</td>\n",
              "      <td>Female</td>\n",
              "      <td>0</td>\n",
              "      <td>No</td>\n",
              "      <td>No</td>\n",
              "      <td>2</td>\n",
              "      <td>Yes</td>\n",
              "      <td>No</td>\n",
              "      <td>Fiber optic</td>\n",
              "      <td>No</td>\n",
              "      <td>No</td>\n",
              "      <td>No</td>\n",
              "      <td>No</td>\n",
              "      <td>No</td>\n",
              "      <td>No</td>\n",
              "      <td>Month-to-month</td>\n",
              "      <td>Yes</td>\n",
              "      <td>Electronic check</td>\n",
              "      <td>70.70</td>\n",
              "      <td>151.65</td>\n",
              "      <td>Yes</td>\n",
              "    </tr>\n",
              "  </tbody>\n",
              "</table>\n",
              "</div>"
            ],
            "text/plain": [
              "   customerID  gender  SeniorCitizen  ... MonthlyCharges TotalCharges  Churn\n",
              "0  7590-VHVEG  Female              0  ...          29.85        29.85     No\n",
              "1  5575-GNVDE    Male              0  ...          56.95       1889.5     No\n",
              "2  3668-QPYBK    Male              0  ...          53.85       108.15    Yes\n",
              "3  7795-CFOCW    Male              0  ...          42.30      1840.75     No\n",
              "4  9237-HQITU  Female              0  ...          70.70       151.65    Yes\n",
              "\n",
              "[5 rows x 21 columns]"
            ]
          },
          "metadata": {
            "tags": []
          },
          "execution_count": 2
        }
      ]
    },
    {
      "cell_type": "markdown",
      "metadata": {
        "id": "X3q777ZqUvcb"
      },
      "source": [
        "### 문항 2) 결측치가 있는지 isnull()함수를 이용하여 확인하고 결과값을 입력하시오. "
      ]
    },
    {
      "cell_type": "code",
      "metadata": {
        "colab": {
          "base_uri": "https://localhost:8080/"
        },
        "id": "DRSyDmSzKJrr",
        "outputId": "b9b8b606-210c-4f52-9730-10517378cde4"
      },
      "source": [
        "##### Your Code Here #####\n",
        "# 결측치 확인\n",
        "\n",
        "df.isnull().sum()"
      ],
      "execution_count": 3,
      "outputs": [
        {
          "output_type": "execute_result",
          "data": {
            "text/plain": [
              "customerID          0\n",
              "gender              0\n",
              "SeniorCitizen       0\n",
              "Partner             0\n",
              "Dependents          0\n",
              "tenure              0\n",
              "PhoneService        0\n",
              "MultipleLines       0\n",
              "InternetService     0\n",
              "OnlineSecurity      0\n",
              "OnlineBackup        0\n",
              "DeviceProtection    0\n",
              "TechSupport         0\n",
              "StreamingTV         0\n",
              "StreamingMovies     0\n",
              "Contract            0\n",
              "PaperlessBilling    0\n",
              "PaymentMethod       0\n",
              "MonthlyCharges      0\n",
              "TotalCharges        0\n",
              "Churn               0\n",
              "dtype: int64"
            ]
          },
          "metadata": {
            "tags": []
          },
          "execution_count": 3
        }
      ]
    },
    {
      "cell_type": "markdown",
      "metadata": {
        "id": "SL9P54f2U8Is"
      },
      "source": [
        "### 문항 3) dtypes를 이용해서 데이터 타입을 확인하고 아래 문제에 답하시오.\n",
        "\n",
        "TotalCharges와 같이 중요한 타켓값이 숫자로 되어있어야 하는데, object로 되어있는 것을 확인하고 숫자형으로 바꿔주세요. <br>\n",
        "숫자형이 아닌 결측치의 개수는 몇개인가요? "
      ]
    },
    {
      "cell_type": "code",
      "metadata": {
        "id": "mMo04PeBLUO2",
        "colab": {
          "base_uri": "https://localhost:8080/"
        },
        "outputId": "7206f21a-828d-4fd1-b1a1-2cedbcb8e545"
      },
      "source": [
        "##### Your Code Here #####\n",
        "# 데이터 타입 확인\n",
        "df.dtypes\n"
      ],
      "execution_count": 4,
      "outputs": [
        {
          "output_type": "execute_result",
          "data": {
            "text/plain": [
              "customerID           object\n",
              "gender               object\n",
              "SeniorCitizen         int64\n",
              "Partner              object\n",
              "Dependents           object\n",
              "tenure                int64\n",
              "PhoneService         object\n",
              "MultipleLines        object\n",
              "InternetService      object\n",
              "OnlineSecurity       object\n",
              "OnlineBackup         object\n",
              "DeviceProtection     object\n",
              "TechSupport          object\n",
              "StreamingTV          object\n",
              "StreamingMovies      object\n",
              "Contract             object\n",
              "PaperlessBilling     object\n",
              "PaymentMethod        object\n",
              "MonthlyCharges      float64\n",
              "TotalCharges         object\n",
              "Churn                object\n",
              "dtype: object"
            ]
          },
          "metadata": {
            "tags": []
          },
          "execution_count": 4
        }
      ]
    },
    {
      "cell_type": "code",
      "metadata": {
        "id": "VF-Xg16WxoDo"
      },
      "source": [
        "# TotalCharges 숫자형으로 변환\n",
        "df['TotalCharges']= pd.to_numeric(df['TotalCharges'], errors='coerce')\n",
        "\n"
      ],
      "execution_count": 5,
      "outputs": []
    },
    {
      "cell_type": "code",
      "metadata": {
        "colab": {
          "base_uri": "https://localhost:8080/"
        },
        "id": "T7Y87z11xqxB",
        "outputId": "7722e312-aff6-47d2-d272-9bef087ab968"
      },
      "source": [
        "# 결측치 확인\n",
        "df.isnull().sum()\n",
        "\n"
      ],
      "execution_count": 6,
      "outputs": [
        {
          "output_type": "execute_result",
          "data": {
            "text/plain": [
              "customerID           0\n",
              "gender               0\n",
              "SeniorCitizen        0\n",
              "Partner              0\n",
              "Dependents           0\n",
              "tenure               0\n",
              "PhoneService         0\n",
              "MultipleLines        0\n",
              "InternetService      0\n",
              "OnlineSecurity       0\n",
              "OnlineBackup         0\n",
              "DeviceProtection     0\n",
              "TechSupport          0\n",
              "StreamingTV          0\n",
              "StreamingMovies      0\n",
              "Contract             0\n",
              "PaperlessBilling     0\n",
              "PaymentMethod        0\n",
              "MonthlyCharges       0\n",
              "TotalCharges        11\n",
              "Churn                0\n",
              "dtype: int64"
            ]
          },
          "metadata": {
            "tags": []
          },
          "execution_count": 6
        }
      ]
    },
    {
      "cell_type": "code",
      "metadata": {
        "id": "reKzJqHiy-Xx"
      },
      "source": [
        "# 결측치 드랍\n",
        "df= df.dropna()"
      ],
      "execution_count": 7,
      "outputs": []
    },
    {
      "cell_type": "code",
      "metadata": {
        "id": "YWdECRBDKWsj"
      },
      "source": [
        "# customerID 드랍\n",
        "df = df.drop(columns='customerID')"
      ],
      "execution_count": 8,
      "outputs": []
    },
    {
      "cell_type": "code",
      "metadata": {
        "id": "tT-P_VEV4s67"
      },
      "source": [
        "# Attributing No internet service to No\n",
        "no_internet_feats = [ 'TechSupport','OnlineBackup', 'DeviceProtection','StreamingTV',\n",
        "                 'OnlineSecurity','StreamingMovies']\n",
        "\n",
        "for i in no_internet_feats:\n",
        "    df[i] = df[i].replace({'No internet service':'No'})\n",
        "\n",
        "# Attributing No phone service to No\n",
        "df['MultipleLines']=df['MultipleLines'].replace({'No phone service':'No'})\n",
        "\n",
        "# Attributing No phone service to No\n",
        "df['SeniorCitizen']=df['SeniorCitizen'].replace({0:'No',\n",
        "                                                 1:'Yes'})"
      ],
      "execution_count": 9,
      "outputs": []
    },
    {
      "cell_type": "code",
      "metadata": {
        "id": "VlGG-AoeM0WY",
        "colab": {
          "base_uri": "https://localhost:8080/"
        },
        "outputId": "33ea84c6-32e0-4678-9650-3a863078a946"
      },
      "source": [
        "!pip install category_encoders"
      ],
      "execution_count": 10,
      "outputs": [
        {
          "output_type": "stream",
          "text": [
            "Collecting category_encoders\n",
            "\u001b[?25l  Downloading https://files.pythonhosted.org/packages/44/57/fcef41c248701ee62e8325026b90c432adea35555cbc870aff9cfba23727/category_encoders-2.2.2-py2.py3-none-any.whl (80kB)\n",
            "\r\u001b[K     |████                            | 10kB 16.8MB/s eta 0:00:01\r\u001b[K     |████████▏                       | 20kB 22.3MB/s eta 0:00:01\r\u001b[K     |████████████▏                   | 30kB 25.3MB/s eta 0:00:01\r\u001b[K     |████████████████▎               | 40kB 26.8MB/s eta 0:00:01\r\u001b[K     |████████████████████▎           | 51kB 11.7MB/s eta 0:00:01\r\u001b[K     |████████████████████████▍       | 61kB 11.6MB/s eta 0:00:01\r\u001b[K     |████████████████████████████▍   | 71kB 10.2MB/s eta 0:00:01\r\u001b[K     |████████████████████████████████| 81kB 6.2MB/s \n",
            "\u001b[?25hRequirement already satisfied: pandas>=0.21.1 in /usr/local/lib/python3.7/dist-packages (from category_encoders) (1.1.5)\n",
            "Requirement already satisfied: numpy>=1.14.0 in /usr/local/lib/python3.7/dist-packages (from category_encoders) (1.19.5)\n",
            "Requirement already satisfied: statsmodels>=0.9.0 in /usr/local/lib/python3.7/dist-packages (from category_encoders) (0.10.2)\n",
            "Requirement already satisfied: scipy>=1.0.0 in /usr/local/lib/python3.7/dist-packages (from category_encoders) (1.4.1)\n",
            "Requirement already satisfied: scikit-learn>=0.20.0 in /usr/local/lib/python3.7/dist-packages (from category_encoders) (0.22.2.post1)\n",
            "Requirement already satisfied: patsy>=0.5.1 in /usr/local/lib/python3.7/dist-packages (from category_encoders) (0.5.1)\n",
            "Requirement already satisfied: pytz>=2017.2 in /usr/local/lib/python3.7/dist-packages (from pandas>=0.21.1->category_encoders) (2018.9)\n",
            "Requirement already satisfied: python-dateutil>=2.7.3 in /usr/local/lib/python3.7/dist-packages (from pandas>=0.21.1->category_encoders) (2.8.1)\n",
            "Requirement already satisfied: joblib>=0.11 in /usr/local/lib/python3.7/dist-packages (from scikit-learn>=0.20.0->category_encoders) (1.0.1)\n",
            "Requirement already satisfied: six in /usr/local/lib/python3.7/dist-packages (from patsy>=0.5.1->category_encoders) (1.15.0)\n",
            "Installing collected packages: category-encoders\n",
            "Successfully installed category-encoders-2.2.2\n"
          ],
          "name": "stdout"
        }
      ]
    },
    {
      "cell_type": "code",
      "metadata": {
        "colab": {
          "base_uri": "https://localhost:8080/",
          "height": 194
        },
        "id": "oTiY-aTKTrbY",
        "outputId": "99295d2c-8047-4bb3-d70a-fba34003c87d"
      },
      "source": [
        "df.head(3)"
      ],
      "execution_count": 11,
      "outputs": [
        {
          "output_type": "execute_result",
          "data": {
            "text/html": [
              "<div>\n",
              "<style scoped>\n",
              "    .dataframe tbody tr th:only-of-type {\n",
              "        vertical-align: middle;\n",
              "    }\n",
              "\n",
              "    .dataframe tbody tr th {\n",
              "        vertical-align: top;\n",
              "    }\n",
              "\n",
              "    .dataframe thead th {\n",
              "        text-align: right;\n",
              "    }\n",
              "</style>\n",
              "<table border=\"1\" class=\"dataframe\">\n",
              "  <thead>\n",
              "    <tr style=\"text-align: right;\">\n",
              "      <th></th>\n",
              "      <th>gender</th>\n",
              "      <th>SeniorCitizen</th>\n",
              "      <th>Partner</th>\n",
              "      <th>Dependents</th>\n",
              "      <th>tenure</th>\n",
              "      <th>PhoneService</th>\n",
              "      <th>MultipleLines</th>\n",
              "      <th>InternetService</th>\n",
              "      <th>OnlineSecurity</th>\n",
              "      <th>OnlineBackup</th>\n",
              "      <th>DeviceProtection</th>\n",
              "      <th>TechSupport</th>\n",
              "      <th>StreamingTV</th>\n",
              "      <th>StreamingMovies</th>\n",
              "      <th>Contract</th>\n",
              "      <th>PaperlessBilling</th>\n",
              "      <th>PaymentMethod</th>\n",
              "      <th>MonthlyCharges</th>\n",
              "      <th>TotalCharges</th>\n",
              "      <th>Churn</th>\n",
              "    </tr>\n",
              "  </thead>\n",
              "  <tbody>\n",
              "    <tr>\n",
              "      <th>0</th>\n",
              "      <td>Female</td>\n",
              "      <td>No</td>\n",
              "      <td>Yes</td>\n",
              "      <td>No</td>\n",
              "      <td>1</td>\n",
              "      <td>No</td>\n",
              "      <td>No</td>\n",
              "      <td>DSL</td>\n",
              "      <td>No</td>\n",
              "      <td>Yes</td>\n",
              "      <td>No</td>\n",
              "      <td>No</td>\n",
              "      <td>No</td>\n",
              "      <td>No</td>\n",
              "      <td>Month-to-month</td>\n",
              "      <td>Yes</td>\n",
              "      <td>Electronic check</td>\n",
              "      <td>29.85</td>\n",
              "      <td>29.85</td>\n",
              "      <td>No</td>\n",
              "    </tr>\n",
              "    <tr>\n",
              "      <th>1</th>\n",
              "      <td>Male</td>\n",
              "      <td>No</td>\n",
              "      <td>No</td>\n",
              "      <td>No</td>\n",
              "      <td>34</td>\n",
              "      <td>Yes</td>\n",
              "      <td>No</td>\n",
              "      <td>DSL</td>\n",
              "      <td>Yes</td>\n",
              "      <td>No</td>\n",
              "      <td>Yes</td>\n",
              "      <td>No</td>\n",
              "      <td>No</td>\n",
              "      <td>No</td>\n",
              "      <td>One year</td>\n",
              "      <td>No</td>\n",
              "      <td>Mailed check</td>\n",
              "      <td>56.95</td>\n",
              "      <td>1889.50</td>\n",
              "      <td>No</td>\n",
              "    </tr>\n",
              "    <tr>\n",
              "      <th>2</th>\n",
              "      <td>Male</td>\n",
              "      <td>No</td>\n",
              "      <td>No</td>\n",
              "      <td>No</td>\n",
              "      <td>2</td>\n",
              "      <td>Yes</td>\n",
              "      <td>No</td>\n",
              "      <td>DSL</td>\n",
              "      <td>Yes</td>\n",
              "      <td>Yes</td>\n",
              "      <td>No</td>\n",
              "      <td>No</td>\n",
              "      <td>No</td>\n",
              "      <td>No</td>\n",
              "      <td>Month-to-month</td>\n",
              "      <td>Yes</td>\n",
              "      <td>Mailed check</td>\n",
              "      <td>53.85</td>\n",
              "      <td>108.15</td>\n",
              "      <td>Yes</td>\n",
              "    </tr>\n",
              "  </tbody>\n",
              "</table>\n",
              "</div>"
            ],
            "text/plain": [
              "   gender SeniorCitizen Partner  ... MonthlyCharges  TotalCharges Churn\n",
              "0  Female            No     Yes  ...          29.85         29.85    No\n",
              "1    Male            No      No  ...          56.95       1889.50    No\n",
              "2    Male            No      No  ...          53.85        108.15   Yes\n",
              "\n",
              "[3 rows x 20 columns]"
            ]
          },
          "metadata": {
            "tags": []
          },
          "execution_count": 11
        }
      ]
    },
    {
      "cell_type": "code",
      "metadata": {
        "id": "P8C8PGvoKW1h",
        "colab": {
          "base_uri": "https://localhost:8080/"
        },
        "outputId": "ae3e4e87-8a20-483c-913e-7f69aff03a7b"
      },
      "source": [
        "# 원핫 인코딩\n",
        "from category_encoders import OrdinalEncoder\n",
        "\n",
        "encoder = OrdinalEncoder()\n",
        "df_encoded = encoder.fit_transform(df)"
      ],
      "execution_count": 12,
      "outputs": [
        {
          "output_type": "stream",
          "text": [
            "/usr/local/lib/python3.7/dist-packages/statsmodels/tools/_testing.py:19: FutureWarning: pandas.util.testing is deprecated. Use the functions in the public API at pandas.testing instead.\n",
            "  import pandas.util.testing as tm\n"
          ],
          "name": "stderr"
        }
      ]
    },
    {
      "cell_type": "code",
      "metadata": {
        "colab": {
          "base_uri": "https://localhost:8080/",
          "height": 222
        },
        "id": "3BG1KYmSNCqr",
        "outputId": "7b2593d0-74cb-4e28-b8e7-6628af63946f"
      },
      "source": [
        "df_encoded.head()"
      ],
      "execution_count": 13,
      "outputs": [
        {
          "output_type": "execute_result",
          "data": {
            "text/html": [
              "<div>\n",
              "<style scoped>\n",
              "    .dataframe tbody tr th:only-of-type {\n",
              "        vertical-align: middle;\n",
              "    }\n",
              "\n",
              "    .dataframe tbody tr th {\n",
              "        vertical-align: top;\n",
              "    }\n",
              "\n",
              "    .dataframe thead th {\n",
              "        text-align: right;\n",
              "    }\n",
              "</style>\n",
              "<table border=\"1\" class=\"dataframe\">\n",
              "  <thead>\n",
              "    <tr style=\"text-align: right;\">\n",
              "      <th></th>\n",
              "      <th>gender</th>\n",
              "      <th>SeniorCitizen</th>\n",
              "      <th>Partner</th>\n",
              "      <th>Dependents</th>\n",
              "      <th>tenure</th>\n",
              "      <th>PhoneService</th>\n",
              "      <th>MultipleLines</th>\n",
              "      <th>InternetService</th>\n",
              "      <th>OnlineSecurity</th>\n",
              "      <th>OnlineBackup</th>\n",
              "      <th>DeviceProtection</th>\n",
              "      <th>TechSupport</th>\n",
              "      <th>StreamingTV</th>\n",
              "      <th>StreamingMovies</th>\n",
              "      <th>Contract</th>\n",
              "      <th>PaperlessBilling</th>\n",
              "      <th>PaymentMethod</th>\n",
              "      <th>MonthlyCharges</th>\n",
              "      <th>TotalCharges</th>\n",
              "      <th>Churn</th>\n",
              "    </tr>\n",
              "  </thead>\n",
              "  <tbody>\n",
              "    <tr>\n",
              "      <th>0</th>\n",
              "      <td>1</td>\n",
              "      <td>1</td>\n",
              "      <td>1</td>\n",
              "      <td>1</td>\n",
              "      <td>1</td>\n",
              "      <td>1</td>\n",
              "      <td>1</td>\n",
              "      <td>1</td>\n",
              "      <td>1</td>\n",
              "      <td>1</td>\n",
              "      <td>1</td>\n",
              "      <td>1</td>\n",
              "      <td>1</td>\n",
              "      <td>1</td>\n",
              "      <td>1</td>\n",
              "      <td>1</td>\n",
              "      <td>1</td>\n",
              "      <td>29.85</td>\n",
              "      <td>29.85</td>\n",
              "      <td>1</td>\n",
              "    </tr>\n",
              "    <tr>\n",
              "      <th>1</th>\n",
              "      <td>2</td>\n",
              "      <td>1</td>\n",
              "      <td>2</td>\n",
              "      <td>1</td>\n",
              "      <td>34</td>\n",
              "      <td>2</td>\n",
              "      <td>1</td>\n",
              "      <td>1</td>\n",
              "      <td>2</td>\n",
              "      <td>2</td>\n",
              "      <td>2</td>\n",
              "      <td>1</td>\n",
              "      <td>1</td>\n",
              "      <td>1</td>\n",
              "      <td>2</td>\n",
              "      <td>2</td>\n",
              "      <td>2</td>\n",
              "      <td>56.95</td>\n",
              "      <td>1889.50</td>\n",
              "      <td>1</td>\n",
              "    </tr>\n",
              "    <tr>\n",
              "      <th>2</th>\n",
              "      <td>2</td>\n",
              "      <td>1</td>\n",
              "      <td>2</td>\n",
              "      <td>1</td>\n",
              "      <td>2</td>\n",
              "      <td>2</td>\n",
              "      <td>1</td>\n",
              "      <td>1</td>\n",
              "      <td>2</td>\n",
              "      <td>1</td>\n",
              "      <td>1</td>\n",
              "      <td>1</td>\n",
              "      <td>1</td>\n",
              "      <td>1</td>\n",
              "      <td>1</td>\n",
              "      <td>1</td>\n",
              "      <td>2</td>\n",
              "      <td>53.85</td>\n",
              "      <td>108.15</td>\n",
              "      <td>2</td>\n",
              "    </tr>\n",
              "    <tr>\n",
              "      <th>3</th>\n",
              "      <td>2</td>\n",
              "      <td>1</td>\n",
              "      <td>2</td>\n",
              "      <td>1</td>\n",
              "      <td>45</td>\n",
              "      <td>1</td>\n",
              "      <td>1</td>\n",
              "      <td>1</td>\n",
              "      <td>2</td>\n",
              "      <td>2</td>\n",
              "      <td>2</td>\n",
              "      <td>2</td>\n",
              "      <td>1</td>\n",
              "      <td>1</td>\n",
              "      <td>2</td>\n",
              "      <td>2</td>\n",
              "      <td>3</td>\n",
              "      <td>42.30</td>\n",
              "      <td>1840.75</td>\n",
              "      <td>1</td>\n",
              "    </tr>\n",
              "    <tr>\n",
              "      <th>4</th>\n",
              "      <td>1</td>\n",
              "      <td>1</td>\n",
              "      <td>2</td>\n",
              "      <td>1</td>\n",
              "      <td>2</td>\n",
              "      <td>2</td>\n",
              "      <td>1</td>\n",
              "      <td>2</td>\n",
              "      <td>1</td>\n",
              "      <td>2</td>\n",
              "      <td>1</td>\n",
              "      <td>1</td>\n",
              "      <td>1</td>\n",
              "      <td>1</td>\n",
              "      <td>1</td>\n",
              "      <td>1</td>\n",
              "      <td>1</td>\n",
              "      <td>70.70</td>\n",
              "      <td>151.65</td>\n",
              "      <td>2</td>\n",
              "    </tr>\n",
              "  </tbody>\n",
              "</table>\n",
              "</div>"
            ],
            "text/plain": [
              "   gender  SeniorCitizen  Partner  ...  MonthlyCharges  TotalCharges  Churn\n",
              "0       1              1        1  ...           29.85         29.85      1\n",
              "1       2              1        2  ...           56.95       1889.50      1\n",
              "2       2              1        2  ...           53.85        108.15      2\n",
              "3       2              1        2  ...           42.30       1840.75      1\n",
              "4       1              1        2  ...           70.70        151.65      2\n",
              "\n",
              "[5 rows x 20 columns]"
            ]
          },
          "metadata": {
            "tags": []
          },
          "execution_count": 13
        }
      ]
    },
    {
      "cell_type": "code",
      "metadata": {
        "colab": {
          "base_uri": "https://localhost:8080/"
        },
        "id": "J7bZ586RWMhm",
        "outputId": "b1d3c31c-a1db-4adf-bf51-7beb4acfb2de"
      },
      "source": [
        "# 타겟을 0과 1로 바꿔주기\n",
        "df_encoded['Churn'] = df_encoded['Churn'].replace({1: 0, 2: 1})\n",
        "df_encoded['Churn'].value_counts()"
      ],
      "execution_count": 14,
      "outputs": [
        {
          "output_type": "execute_result",
          "data": {
            "text/plain": [
              "0    5163\n",
              "1    1869\n",
              "Name: Churn, dtype: int64"
            ]
          },
          "metadata": {
            "tags": []
          },
          "execution_count": 14
        }
      ]
    },
    {
      "cell_type": "code",
      "metadata": {
        "colab": {
          "base_uri": "https://localhost:8080/"
        },
        "id": "7cQShFbLW8zO",
        "outputId": "210aae05-02dd-412f-9fee-855c7a863004"
      },
      "source": [
        "df_encoded.shape"
      ],
      "execution_count": 15,
      "outputs": [
        {
          "output_type": "execute_result",
          "data": {
            "text/plain": [
              "(7032, 20)"
            ]
          },
          "metadata": {
            "tags": []
          },
          "execution_count": 15
        }
      ]
    },
    {
      "cell_type": "markdown",
      "metadata": {
        "id": "qO6qtHPGlUtk"
      },
      "source": [
        "### 문항 4) 훈련집합과 테스트 집합을 나누는 코드를 만들고, 해당 코드를 입력하시오.\n",
        "\n",
        "- random_state=1\n",
        "- test_size=0.25"
      ]
    },
    {
      "cell_type": "code",
      "metadata": {
        "colab": {
          "base_uri": "https://localhost:8080/"
        },
        "id": "cfcv-kpAWJz8",
        "outputId": "bd5d5f31-76d5-411b-89a9-d8ec0a41f2f5"
      },
      "source": [
        "##### Your Code Here #####\n",
        "# 훈련, 테스트 셋을 나누기\n",
        "from sklearn.model_selection import train_test_split\n",
        "\n",
        "train, test = train_test_split(df_encoded, stratify=df_encoded['Churn'], test_size=0.25, random_state=1)\n",
        "train.shape, test.shape\n",
        "\n",
        "#((5274, 20), (1758, 20))"
      ],
      "execution_count": 17,
      "outputs": [
        {
          "output_type": "execute_result",
          "data": {
            "text/plain": [
              "((5274, 20), (1758, 20))"
            ]
          },
          "metadata": {
            "tags": []
          },
          "execution_count": 17
        }
      ]
    },
    {
      "cell_type": "code",
      "metadata": {
        "id": "SrSGVTe_VOkF"
      },
      "source": [
        "# features 와 target 을 분리\n",
        "\n",
        "target = 'Churn'\n",
        "features = df_encoded.drop(columns=[target]).columns\n",
        "\n",
        "X_train = train[features]\n",
        "X_test = test[features]\n",
        "\n",
        "y_train = train[target]\n",
        "y_test = test[target]"
      ],
      "execution_count": 18,
      "outputs": []
    },
    {
      "cell_type": "markdown",
      "metadata": {
        "id": "PI7H5xZLmJYB"
      },
      "source": [
        "### 문항 5) sklearn.preprocessing.StandardScaler를 이용하여 정규화를 진행하시고, 문제를 보고 빈칸에 알맞은 단어를 넣으시오.\n",
        "\n",
        "`X_train_scaled = scaler.##### Your Code Here #####`"
      ]
    },
    {
      "cell_type": "code",
      "metadata": {
        "id": "iKngHITnNumF"
      },
      "source": [
        "##### Your Code Here #####\n",
        "# 정규화\n",
        "from sklearn.preprocessing import StandardScaler\n",
        "scaler = StandardScaler()\n",
        "X_train_scaled = scaler.fit_transform(X_train)\n",
        "X_test_scaled = scaler.transform(X_test)"
      ],
      "execution_count": 19,
      "outputs": []
    },
    {
      "cell_type": "code",
      "metadata": {
        "colab": {
          "base_uri": "https://localhost:8080/"
        },
        "id": "BMdVvfM3NuuI",
        "outputId": "f3391597-90eb-421e-b247-5802d5f05d52"
      },
      "source": [
        "# 19x1 형태 => 입력층의 노드수가 19개! \n",
        "X_train_scaled[0]"
      ],
      "execution_count": 20,
      "outputs": [
        {
          "output_type": "execute_result",
          "data": {
            "text/plain": [
              "array([ 0.99508225, -0.43925252,  0.96350214, -0.65400354, -0.09779796,\n",
              "        0.32541085,  1.16743446, -1.19019364,  1.59286639,  0.72650531,\n",
              "       -0.72042294, -0.64249881, -0.79264136,  1.25707392, -0.83276144,\n",
              "       -0.83448511, -0.27868378, -0.00881575, -0.17257846])"
            ]
          },
          "metadata": {
            "tags": []
          },
          "execution_count": 20
        }
      ]
    },
    {
      "cell_type": "markdown",
      "metadata": {
        "id": "xfztkd7Xdw5M"
      },
      "source": [
        "# 모델링"
      ]
    },
    {
      "cell_type": "markdown",
      "metadata": {
        "id": "OMyQPCy5pV21"
      },
      "source": [
        "## 기본 모델"
      ]
    },
    {
      "cell_type": "code",
      "metadata": {
        "id": "UW-ny1Fud4ML"
      },
      "source": [
        "import numpy as np\n",
        "from tensorflow.keras.models import Sequential\n",
        "from tensorflow.keras.layers import Dense, Dropout, Flatten\n",
        "import keras\n",
        "import tensorflow as tf\n",
        "import IPython\n",
        "from tensorflow.keras.wrappers.scikit_learn import KerasClassifier\n",
        "from sklearn.model_selection import GridSearchCV"
      ],
      "execution_count": 21,
      "outputs": []
    },
    {
      "cell_type": "code",
      "metadata": {
        "id": "HjzyQbLZwS4w",
        "colab": {
          "base_uri": "https://localhost:8080/"
        },
        "outputId": "69bf1b9e-6cd8-4fb4-e302-da624564a52b"
      },
      "source": [
        "!pip install -U keras-tuner\n",
        "import kerastuner as kt"
      ],
      "execution_count": 22,
      "outputs": [
        {
          "output_type": "stream",
          "text": [
            "Collecting keras-tuner\n",
            "\u001b[?25l  Downloading https://files.pythonhosted.org/packages/20/ec/1ef246787174b1e2bb591c95f29d3c1310070cad877824f907faba3dade9/keras-tuner-1.0.2.tar.gz (62kB)\n",
            "\r\u001b[K     |█████▏                          | 10kB 16.5MB/s eta 0:00:01\r\u001b[K     |██████████▍                     | 20kB 23.2MB/s eta 0:00:01\r\u001b[K     |███████████████▋                | 30kB 26.9MB/s eta 0:00:01\r\u001b[K     |████████████████████▉           | 40kB 19.2MB/s eta 0:00:01\r\u001b[K     |██████████████████████████      | 51kB 8.9MB/s eta 0:00:01\r\u001b[K     |███████████████████████████████▎| 61kB 8.1MB/s eta 0:00:01\r\u001b[K     |████████████████████████████████| 71kB 5.3MB/s \n",
            "\u001b[?25hRequirement already satisfied, skipping upgrade: packaging in /usr/local/lib/python3.7/dist-packages (from keras-tuner) (20.9)\n",
            "Requirement already satisfied, skipping upgrade: future in /usr/local/lib/python3.7/dist-packages (from keras-tuner) (0.16.0)\n",
            "Requirement already satisfied, skipping upgrade: numpy in /usr/local/lib/python3.7/dist-packages (from keras-tuner) (1.19.5)\n",
            "Requirement already satisfied, skipping upgrade: tabulate in /usr/local/lib/python3.7/dist-packages (from keras-tuner) (0.8.9)\n",
            "Collecting terminaltables\n",
            "  Downloading https://files.pythonhosted.org/packages/9b/c4/4a21174f32f8a7e1104798c445dacdc1d4df86f2f26722767034e4de4bff/terminaltables-3.1.0.tar.gz\n",
            "Collecting colorama\n",
            "  Downloading https://files.pythonhosted.org/packages/44/98/5b86278fbbf250d239ae0ecb724f8572af1c91f4a11edf4d36a206189440/colorama-0.4.4-py2.py3-none-any.whl\n",
            "Requirement already satisfied, skipping upgrade: tqdm in /usr/local/lib/python3.7/dist-packages (from keras-tuner) (4.41.1)\n",
            "Requirement already satisfied, skipping upgrade: requests in /usr/local/lib/python3.7/dist-packages (from keras-tuner) (2.23.0)\n",
            "Requirement already satisfied, skipping upgrade: scipy in /usr/local/lib/python3.7/dist-packages (from keras-tuner) (1.4.1)\n",
            "Requirement already satisfied, skipping upgrade: scikit-learn in /usr/local/lib/python3.7/dist-packages (from keras-tuner) (0.22.2.post1)\n",
            "Requirement already satisfied, skipping upgrade: pyparsing>=2.0.2 in /usr/local/lib/python3.7/dist-packages (from packaging->keras-tuner) (2.4.7)\n",
            "Requirement already satisfied, skipping upgrade: chardet<4,>=3.0.2 in /usr/local/lib/python3.7/dist-packages (from requests->keras-tuner) (3.0.4)\n",
            "Requirement already satisfied, skipping upgrade: idna<3,>=2.5 in /usr/local/lib/python3.7/dist-packages (from requests->keras-tuner) (2.10)\n",
            "Requirement already satisfied, skipping upgrade: urllib3!=1.25.0,!=1.25.1,<1.26,>=1.21.1 in /usr/local/lib/python3.7/dist-packages (from requests->keras-tuner) (1.24.3)\n",
            "Requirement already satisfied, skipping upgrade: certifi>=2017.4.17 in /usr/local/lib/python3.7/dist-packages (from requests->keras-tuner) (2020.12.5)\n",
            "Requirement already satisfied, skipping upgrade: joblib>=0.11 in /usr/local/lib/python3.7/dist-packages (from scikit-learn->keras-tuner) (1.0.1)\n",
            "Building wheels for collected packages: keras-tuner, terminaltables\n",
            "  Building wheel for keras-tuner (setup.py) ... \u001b[?25l\u001b[?25hdone\n",
            "  Created wheel for keras-tuner: filename=keras_tuner-1.0.2-cp37-none-any.whl size=78935 sha256=78a3fb3b8e8b4b924e234fe36aa1f7a67705fddfff40d96aadc80ef19e9c5f93\n",
            "  Stored in directory: /root/.cache/pip/wheels/bb/a1/8a/7c3de0efb3707a1701b36ebbfdbc4e67aedf6d4943a1f463d6\n",
            "  Building wheel for terminaltables (setup.py) ... \u001b[?25l\u001b[?25hdone\n",
            "  Created wheel for terminaltables: filename=terminaltables-3.1.0-cp37-none-any.whl size=15356 sha256=8e1e1e5dba7f260fe9e98546a822fd4e5a6e3d28c74cac26255c49a28901f560\n",
            "  Stored in directory: /root/.cache/pip/wheels/30/6b/50/6c75775b681fb36cdfac7f19799888ef9d8813aff9e379663e\n",
            "Successfully built keras-tuner terminaltables\n",
            "Installing collected packages: terminaltables, colorama, keras-tuner\n",
            "Successfully installed colorama-0.4.4 keras-tuner-1.0.2 terminaltables-3.1.0\n"
          ],
          "name": "stdout"
        }
      ]
    },
    {
      "cell_type": "markdown",
      "metadata": {
        "id": "xblH5R2pnsG8"
      },
      "source": [
        "### 문제 6. np.unique를 이용해서 y_train의 Class 의 개수를 확인하고 입력하시오."
      ]
    },
    {
      "cell_type": "code",
      "metadata": {
        "id": "lR709Nz8eCQH",
        "colab": {
          "base_uri": "https://localhost:8080/"
        },
        "outputId": "fe9f3584-b1cb-44d5-dbae-ebfecf7d1369"
      },
      "source": [
        "##### Your Code Here #####\n",
        "\n",
        "np.unique(y_train)\n",
        "# 이진분류의 경우 class는 2개이지만, 출력층의 노드수 = 1 "
      ],
      "execution_count": 23,
      "outputs": [
        {
          "output_type": "execute_result",
          "data": {
            "text/plain": [
              "array([0, 1])"
            ]
          },
          "metadata": {
            "tags": []
          },
          "execution_count": 23
        }
      ]
    },
    {
      "cell_type": "code",
      "metadata": {
        "colab": {
          "base_uri": "https://localhost:8080/"
        },
        "id": "pe3baua8j9aZ",
        "outputId": "2da688e4-30f8-4b12-b263-b1b3b7fd890c"
      },
      "source": [
        "# 간단한 모델 만들어서 성능을 보기 !\n",
        "tf.random.set_seed(7)\n",
        "\n",
        "model2 = Sequential()\n",
        "model2.add(Dense(64, activation='relu'))\n",
        "model2.add(Dense(64, activation='relu'))\n",
        "model2.add(Dense(1, activation='sigmoid')) # 00분류니까 노드수 1, 활성함수로는 시그모이드\n",
        "\n",
        "model2.compile(optimizer='adam', \n",
        "              loss='binary_crossentropy', \n",
        "              metrics=['accuracy'])\n",
        "\n",
        "results = model2.fit(X_train_scaled, y_train, epochs=10, validation_data=(X_test_scaled,y_test))"
      ],
      "execution_count": 24,
      "outputs": [
        {
          "output_type": "stream",
          "text": [
            "Epoch 1/10\n",
            "165/165 [==============================] - 4s 3ms/step - loss: 0.4604 - accuracy: 0.7710 - val_loss: 0.4491 - val_accuracy: 0.7912\n",
            "Epoch 2/10\n",
            "165/165 [==============================] - 0s 3ms/step - loss: 0.4164 - accuracy: 0.8019 - val_loss: 0.4461 - val_accuracy: 0.7986\n",
            "Epoch 3/10\n",
            "165/165 [==============================] - 0s 3ms/step - loss: 0.4071 - accuracy: 0.8066 - val_loss: 0.4482 - val_accuracy: 0.7918\n",
            "Epoch 4/10\n",
            "165/165 [==============================] - 0s 3ms/step - loss: 0.4018 - accuracy: 0.8117 - val_loss: 0.4452 - val_accuracy: 0.8020\n",
            "Epoch 5/10\n",
            "165/165 [==============================] - 0s 3ms/step - loss: 0.3969 - accuracy: 0.8159 - val_loss: 0.4512 - val_accuracy: 0.7947\n",
            "Epoch 6/10\n",
            "165/165 [==============================] - 0s 3ms/step - loss: 0.3943 - accuracy: 0.8151 - val_loss: 0.4527 - val_accuracy: 0.7901\n",
            "Epoch 7/10\n",
            "165/165 [==============================] - 0s 3ms/step - loss: 0.3900 - accuracy: 0.8176 - val_loss: 0.4520 - val_accuracy: 0.7958\n",
            "Epoch 8/10\n",
            "165/165 [==============================] - 0s 3ms/step - loss: 0.3886 - accuracy: 0.8180 - val_loss: 0.4533 - val_accuracy: 0.7929\n",
            "Epoch 9/10\n",
            "165/165 [==============================] - 0s 3ms/step - loss: 0.3836 - accuracy: 0.8210 - val_loss: 0.4551 - val_accuracy: 0.7856\n",
            "Epoch 10/10\n",
            "165/165 [==============================] - 1s 3ms/step - loss: 0.3799 - accuracy: 0.8225 - val_loss: 0.4638 - val_accuracy: 0.7810\n"
          ],
          "name": "stdout"
        }
      ]
    },
    {
      "cell_type": "code",
      "metadata": {
        "colab": {
          "base_uri": "https://localhost:8080/"
        },
        "id": "MKSycr4vKdcg",
        "outputId": "06b96c55-09f3-4707-d04f-1bf1bb02c527"
      },
      "source": [
        "# 테스트셋 사용해서 결과 보기\n",
        "model2.evaluate(X_test_scaled,  y_test, verbose=2) "
      ],
      "execution_count": 25,
      "outputs": [
        {
          "output_type": "stream",
          "text": [
            "55/55 - 0s - loss: 0.4638 - accuracy: 0.7810\n"
          ],
          "name": "stdout"
        },
        {
          "output_type": "execute_result",
          "data": {
            "text/plain": [
              "[0.4637787342071533, 0.7810011506080627]"
            ]
          },
          "metadata": {
            "tags": []
          },
          "execution_count": 25
        }
      ]
    },
    {
      "cell_type": "markdown",
      "metadata": {
        "id": "GOIeK9vgk7aS"
      },
      "source": [
        "파라미터 튜닝을 하기전에 간단히 임의로 넣어본 결과도 꽤 좋다. 이젠 GridSearchCV 를 사용해서 튜닝을 해보겠음!\n",
        "\n"
      ]
    },
    {
      "cell_type": "markdown",
      "metadata": {
        "id": "EH3zjICDpOpZ"
      },
      "source": [
        "## GridSearchCV 사용"
      ]
    },
    {
      "cell_type": "code",
      "metadata": {
        "colab": {
          "base_uri": "https://localhost:8080/"
        },
        "id": "K60WHG6gWYyG",
        "outputId": "00041cc5-6787-4f43-bfba-04546b91367c"
      },
      "source": [
        "# 모델 만들기\n",
        "tf.random.set_seed(7)\n",
        "\n",
        "def model_builder(nodes=16, activation='relu'):\n",
        "\n",
        "  model = Sequential()\n",
        "  model.add(Dense(nodes, activation=activation))\n",
        "  model.add(Dense(nodes, activation=activation))\n",
        "  model.add(Dense(1, activation='sigmoid')) # 이진분류니까 노드수 1, 활성함수로는 시그모이드\n",
        "\n",
        "  model.compile(optimizer='adam', \n",
        "                loss='binary_crossentropy', \n",
        "                metrics=['accuracy'])\n",
        "\n",
        "  return model\n",
        "\n",
        "# keras.wrapper를 활용하여 분류기를 만듭니다\n",
        "model = KerasClassifier(build_fn=model_builder, verbose=0)\n",
        "\n",
        "# GridSearch\n",
        "batch_size = [50, 100, 300]\n",
        "epochs = [10, 20, 30]\n",
        "nodes = [64, 128, 256]\n",
        "activation = ['relu', 'sigmoid']\n",
        "param_grid = dict(batch_size=batch_size, epochs=epochs, nodes=nodes, activation=activation)\n",
        "\n",
        "\n",
        "# GridSearch CV를 만들기\n",
        "grid = GridSearchCV(estimator=model, param_grid=param_grid, cv=3, verbose=1, n_jobs=-1)\n",
        "grid_result = grid.fit(X_train_scaled, y_train)"
      ],
      "execution_count": 26,
      "outputs": [
        {
          "output_type": "stream",
          "text": [
            "Fitting 3 folds for each of 54 candidates, totalling 162 fits\n"
          ],
          "name": "stdout"
        },
        {
          "output_type": "stream",
          "text": [
            "[Parallel(n_jobs=-1)]: Using backend LokyBackend with 2 concurrent workers.\n",
            "[Parallel(n_jobs=-1)]: Done  46 tasks      | elapsed:  1.6min\n",
            "[Parallel(n_jobs=-1)]: Done 162 out of 162 | elapsed:  4.5min finished\n"
          ],
          "name": "stderr"
        }
      ]
    },
    {
      "cell_type": "code",
      "metadata": {
        "colab": {
          "base_uri": "https://localhost:8080/"
        },
        "id": "LlDxZm42e95m",
        "outputId": "6ed5eaaf-ce68-437d-c8cb-9de53dc97ccb"
      },
      "source": [
        "# 최적의 결과값을 낸 파라미터를 출력합니다\n",
        "print(f\"Best: {grid_result.best_score_} using {grid_result.best_params_}\")\n",
        "means = grid_result.cv_results_['mean_test_score']\n",
        "stds = grid_result.cv_results_['std_test_score']\n",
        "params = grid_result.cv_results_['params']\n",
        "for mean, stdev, param in zip(means, stds, params):\n",
        "    print(f\"Means: {mean}, Stdev: {stdev} with: {param}\")"
      ],
      "execution_count": 27,
      "outputs": [
        {
          "output_type": "stream",
          "text": [
            "Best: 0.8058399756749471 using {'activation': 'sigmoid', 'batch_size': 100, 'epochs': 20, 'nodes': 128}\n",
            "Means: 0.7967387239138285, Stdev: 0.0027995450969407467 with: {'activation': 'relu', 'batch_size': 50, 'epochs': 10, 'nodes': 64}\n",
            "Means: 0.790291984875997, Stdev: 0.0007094536771614118 with: {'activation': 'relu', 'batch_size': 50, 'epochs': 10, 'nodes': 128}\n",
            "Means: 0.7912400364875793, Stdev: 0.0061440306774123085 with: {'activation': 'relu', 'batch_size': 50, 'epochs': 10, 'nodes': 256}\n",
            "Means: 0.7918088833491007, Stdev: 0.0013933602190875727 with: {'activation': 'relu', 'batch_size': 50, 'epochs': 20, 'nodes': 64}\n",
            "Means: 0.7866894205411276, Stdev: 0.006584648500420335 with: {'activation': 'relu', 'batch_size': 50, 'epochs': 20, 'nodes': 128}\n",
            "Means: 0.7709518472353617, Stdev: 0.013212922691376115 with: {'activation': 'relu', 'batch_size': 50, 'epochs': 20, 'nodes': 256}\n",
            "Means: 0.7870686451594034, Stdev: 0.012772965622647608 with: {'activation': 'relu', 'batch_size': 50, 'epochs': 30, 'nodes': 64}\n",
            "Means: 0.7715206543604533, Stdev: 0.010635053544808025 with: {'activation': 'relu', 'batch_size': 50, 'epochs': 30, 'nodes': 128}\n",
            "Means: 0.7576791842778524, Stdev: 0.010980976795237518 with: {'activation': 'relu', 'batch_size': 50, 'epochs': 30, 'nodes': 256}\n",
            "Means: 0.7986348271369934, Stdev: 0.005707211877720107 with: {'activation': 'relu', 'batch_size': 100, 'epochs': 10, 'nodes': 64}\n",
            "Means: 0.8022373914718628, Stdev: 0.00209432381625515 with: {'activation': 'relu', 'batch_size': 100, 'epochs': 10, 'nodes': 128}\n",
            "Means: 0.7904815872510275, Stdev: 0.00689406275659277 with: {'activation': 'relu', 'batch_size': 100, 'epochs': 10, 'nodes': 256}\n",
            "Means: 0.799582858880361, Stdev: 0.0020942986333580575 with: {'activation': 'relu', 'batch_size': 100, 'epochs': 20, 'nodes': 64}\n",
            "Means: 0.7866894404093424, Stdev: 0.002900459938728043 with: {'activation': 'relu', 'batch_size': 100, 'epochs': 20, 'nodes': 128}\n",
            "Means: 0.7834660609563192, Stdev: 0.010018840293072685 with: {'activation': 'relu', 'batch_size': 100, 'epochs': 20, 'nodes': 256}\n",
            "Means: 0.7906712094942728, Stdev: 0.002128355721301594 with: {'activation': 'relu', 'batch_size': 100, 'epochs': 30, 'nodes': 64}\n",
            "Means: 0.7789154251416525, Stdev: 0.0066390408488366725 with: {'activation': 'relu', 'batch_size': 100, 'epochs': 30, 'nodes': 128}\n",
            "Means: 0.7751232385635376, Stdev: 0.011789370729585639 with: {'activation': 'relu', 'batch_size': 100, 'epochs': 30, 'nodes': 256}\n",
            "Means: 0.798824409643809, Stdev: 0.0021948799729043064 with: {'activation': 'relu', 'batch_size': 300, 'epochs': 10, 'nodes': 64}\n",
            "Means: 0.8047023216883341, Stdev: 0.003423461247137249 with: {'activation': 'relu', 'batch_size': 300, 'epochs': 10, 'nodes': 128}\n",
            "Means: 0.7971179286638895, Stdev: 0.00604374864186182 with: {'activation': 'relu', 'batch_size': 300, 'epochs': 10, 'nodes': 256}\n",
            "Means: 0.797686755657196, Stdev: 0.0016310698037157122 with: {'activation': 'relu', 'batch_size': 300, 'epochs': 20, 'nodes': 64}\n",
            "Means: 0.7984452048937479, Stdev: 0.0023376749858804616 with: {'activation': 'relu', 'batch_size': 300, 'epochs': 20, 'nodes': 128}\n",
            "Means: 0.7906712094942728, Stdev: 0.0030455875512398786 with: {'activation': 'relu', 'batch_size': 300, 'epochs': 20, 'nodes': 256}\n",
            "Means: 0.797307550907135, Stdev: 0.00513698350581344 with: {'activation': 'relu', 'batch_size': 300, 'epochs': 30, 'nodes': 64}\n",
            "Means: 0.7923776904741923, Stdev: 0.003627447216988329 with: {'activation': 'relu', 'batch_size': 300, 'epochs': 30, 'nodes': 128}\n",
            "Means: 0.7893439332644144, Stdev: 0.007406904687906285 with: {'activation': 'relu', 'batch_size': 300, 'epochs': 30, 'nodes': 256}\n",
            "Means: 0.798824409643809, Stdev: 0.006184882294612296 with: {'activation': 'sigmoid', 'batch_size': 50, 'epochs': 10, 'nodes': 64}\n",
            "Means: 0.7988244295120239, Stdev: 0.003950051826349737 with: {'activation': 'sigmoid', 'batch_size': 50, 'epochs': 10, 'nodes': 128}\n",
            "Means: 0.7954114476839701, Stdev: 0.006590125201005383 with: {'activation': 'sigmoid', 'batch_size': 50, 'epochs': 10, 'nodes': 256}\n",
            "Means: 0.8052711486816406, Stdev: 0.0036075596539699595 with: {'activation': 'sigmoid', 'batch_size': 50, 'epochs': 20, 'nodes': 64}\n",
            "Means: 0.8028062184651693, Stdev: 0.005115947638935381 with: {'activation': 'sigmoid', 'batch_size': 50, 'epochs': 20, 'nodes': 128}\n",
            "Means: 0.8050815264383951, Stdev: 0.002721407078751164 with: {'activation': 'sigmoid', 'batch_size': 50, 'epochs': 20, 'nodes': 256}\n",
            "Means: 0.8050815264383951, Stdev: 0.0049661863597286835 with: {'activation': 'sigmoid', 'batch_size': 50, 'epochs': 30, 'nodes': 64}\n",
            "Means: 0.8016685644785563, Stdev: 0.006184882294612296 with: {'activation': 'sigmoid', 'batch_size': 50, 'epochs': 30, 'nodes': 128}\n",
            "Means: 0.8029958009719849, Stdev: 0.004558518841241276 with: {'activation': 'sigmoid', 'batch_size': 50, 'epochs': 30, 'nodes': 256}\n",
            "Means: 0.799203634262085, Stdev: 0.0016745700782774258 with: {'activation': 'sigmoid', 'batch_size': 100, 'epochs': 10, 'nodes': 64}\n",
            "Means: 0.7980660001436869, Stdev: 0.0024576288259158512 with: {'activation': 'sigmoid', 'batch_size': 100, 'epochs': 10, 'nodes': 128}\n",
            "Means: 0.8016685644785563, Stdev: 0.007995122292253775 with: {'activation': 'sigmoid', 'batch_size': 100, 'epochs': 10, 'nodes': 256}\n",
            "Means: 0.8014789422353109, Stdev: 0.003627447216988329 with: {'activation': 'sigmoid', 'batch_size': 100, 'epochs': 20, 'nodes': 64}\n",
            "Means: 0.8058399756749471, Stdev: 0.004462880404367244 with: {'activation': 'sigmoid', 'batch_size': 100, 'epochs': 20, 'nodes': 128}\n",
            "Means: 0.8028062184651693, Stdev: 0.007215139148671137 with: {'activation': 'sigmoid', 'batch_size': 100, 'epochs': 20, 'nodes': 256}\n",
            "Means: 0.7999620834986368, Stdev: 0.006767752845303972 with: {'activation': 'sigmoid', 'batch_size': 100, 'epochs': 30, 'nodes': 64}\n",
            "Means: 0.7963594992955526, Stdev: 0.009484241310263906 with: {'activation': 'sigmoid', 'batch_size': 100, 'epochs': 30, 'nodes': 128}\n",
            "Means: 0.7959802746772766, Stdev: 0.004510958934156072 with: {'activation': 'sigmoid', 'batch_size': 100, 'epochs': 30, 'nodes': 256}\n",
            "Means: 0.7813803553581238, Stdev: 0.008925738861597034 with: {'activation': 'sigmoid', 'batch_size': 300, 'epochs': 10, 'nodes': 64}\n",
            "Means: 0.7895335555076599, Stdev: 0.0024576104315690186 with: {'activation': 'sigmoid', 'batch_size': 300, 'epochs': 10, 'nodes': 128}\n",
            "Means: 0.7940841913223267, Stdev: 0.004574271316601401 with: {'activation': 'sigmoid', 'batch_size': 300, 'epochs': 10, 'nodes': 256}\n",
            "Means: 0.7997724811236063, Stdev: 0.004128091943235449 with: {'activation': 'sigmoid', 'batch_size': 300, 'epochs': 20, 'nodes': 64}\n",
            "Means: 0.7986348072687784, Stdev: 0.0012287914199756252 with: {'activation': 'sigmoid', 'batch_size': 300, 'epochs': 20, 'nodes': 128}\n",
            "Means: 0.8003412882486979, Stdev: 0.001674597073829323 with: {'activation': 'sigmoid', 'batch_size': 300, 'epochs': 20, 'nodes': 256}\n",
            "Means: 0.8024269938468933, Stdev: 0.0014189020442296053 with: {'activation': 'sigmoid', 'batch_size': 300, 'epochs': 30, 'nodes': 64}\n",
            "Means: 0.8014789621035258, Stdev: 0.0025859321606428085 with: {'activation': 'sigmoid', 'batch_size': 300, 'epochs': 30, 'nodes': 128}\n",
            "Means: 0.7986348072687784, Stdev: 0.003968231834885048 with: {'activation': 'sigmoid', 'batch_size': 300, 'epochs': 30, 'nodes': 256}\n"
          ],
          "name": "stdout"
        }
      ]
    },
    {
      "cell_type": "markdown",
      "metadata": {
        "id": "WVpkfckZoM4O"
      },
      "source": [
        "### 문항 7) 최적의 결과를 낸 파라미터와 결과값을 입력하시오.\n",
        "\n",
        "- batch_size\n",
        "- epochs\n",
        "- nodes\n",
        "- activation\n",
        "\n",
        "- 정답은 `[100, 100, 100], activation_name` 형태로 입력하시오."
      ]
    },
    {
      "cell_type": "markdown",
      "metadata": {
        "id": "bSvjGExCjvc_"
      },
      "source": [
        "'activation': 'sigmoid', 'batch_size': 100, 'epochs': 30, 'nodes': 128 가 최적으로 나왔다. 정확도는 약 0.80 \n",
        "\n",
        "이젠 Keras Tuner 를 사용한 파라미터 튜닝도 해보겠음!\n",
        "\n",
        "## Keras Tuner 사용"
      ]
    },
    {
      "cell_type": "code",
      "metadata": {
        "id": "8sICAonafRIG"
      },
      "source": [
        "# 모델 만들기\n",
        "\n",
        "def model_builder(hp):\n",
        "\n",
        "  model = Sequential()\n",
        "\n",
        "  # Dense layer에서 노드 수를 조정(32-512)\n",
        "  hp_units = hp.Int('units', min_value = 32, max_value = 512, step = 32)\n",
        "\n",
        "  model.add(Dense(units = hp_units, activation='relu'))\n",
        "  model.add(Dense(units = hp_units, activation='relu'))\n",
        "\n",
        "  model.add(Dense(1, activation='sigmoid')) # 이진분류니까 노드수 1, 활성함수로는 시그모이드\n",
        "\n",
        "  # Optimizer의 학습률(learning rate)을 조정[0.01, 0.001, 0.0001]합니다. \n",
        "  hp_learning_rate = hp.Choice('learning_rate', values = [1e-2, 1e-3, 1e-4])\n",
        "\n",
        "  # 컴파일 단계, 옵티마이저와 손실함수, 측정지표를 연결해서 계산 그래프를 구성함\n",
        "  model.compile(optimizer=keras.optimizers.Adam(learning_rate = hp_learning_rate), \n",
        "                loss=keras.losses.BinaryCrossentropy(from_logits = True), \n",
        "                metrics=['accuracy'])\n",
        "\n",
        "  return model"
      ],
      "execution_count": 28,
      "outputs": []
    },
    {
      "cell_type": "code",
      "metadata": {
        "id": "pldUkyetfRKa"
      },
      "source": [
        "# 튜너를 인스턴스화하고 하이퍼 튜닝을 수행\n",
        "\n",
        "tuner = kt.Hyperband(model_builder,\n",
        "                     objective = 'val_accuracy', \n",
        "                     max_epochs = 30, \n",
        "                     factor = 3,\n",
        "                     directory = 'my_dir',\n",
        "                     project_name = 'intro_to_kt')"
      ],
      "execution_count": 29,
      "outputs": []
    },
    {
      "cell_type": "code",
      "metadata": {
        "id": "0mTmNvRkfRMe"
      },
      "source": [
        "# callback 정의 : 하이퍼 파라미터 검색을 실행하기 전에 모든 교육 단계가 끝날 때마다 교육 출력을 지우도록 콜백을 정의합니다.\n",
        "\n",
        "class ClearTrainingOutput(tf.keras.callbacks.Callback):\n",
        "  def on_train_end(*args, **kwargs):\n",
        "    IPython.display.clear_output(wait = True)"
      ],
      "execution_count": 30,
      "outputs": []
    },
    {
      "cell_type": "code",
      "metadata": {
        "id": "ENk4-EMkfROz",
        "colab": {
          "base_uri": "https://localhost:8080/"
        },
        "outputId": "d29cd7da-2536-4972-ea86-252345418ebc"
      },
      "source": [
        "tuner.search(X_train_scaled, y_train, epochs = 30, batch_size=50, validation_data = (X_test_scaled,y_test), callbacks = [ClearTrainingOutput()])\n",
        "\n",
        "# Get the optimal hyperparameters\n",
        "best_hps = tuner.get_best_hyperparameters(num_trials = 1)[0]\n",
        "\n",
        "print(f\"\"\"\n",
        "최적화된 Dense 노드 수 : {best_hps.get('units')} \n",
        "최적화된 Learning Rate : {best_hps.get('learning_rate')} \n",
        "\"\"\")"
      ],
      "execution_count": 31,
      "outputs": [
        {
          "output_type": "stream",
          "text": [
            "Trial 63 Complete [00h 00m 03s]\n",
            "val_accuracy: 0.7844141125679016\n",
            "\n",
            "Best val_accuracy So Far: 0.806598424911499\n",
            "Total elapsed time: 00h 02m 21s\n",
            "INFO:tensorflow:Oracle triggered exit\n",
            "\n",
            "최적화된 Dense 노드 수 : 512 \n",
            "최적화된 Learning Rate : 0.0001 \n",
            "\n"
          ],
          "name": "stdout"
        }
      ]
    },
    {
      "cell_type": "markdown",
      "metadata": {
        "id": "LJzITjRromsc"
      },
      "source": [
        "### 문항 8) Keras 튜너를 활용하여 얻어낸 파라미터를 입력하시오. \n",
        "\n",
        "- 정답은 `[100, 100]` 형태로 입력하시오."
      ]
    },
    {
      "cell_type": "code",
      "metadata": {
        "colab": {
          "base_uri": "https://localhost:8080/"
        },
        "id": "TQtipKllUBAy",
        "outputId": "fd63f85f-d984-4dc3-8307-8a770352f9e4"
      },
      "source": [
        "# 찾은 파라미터들로 모델 만들어보기 (Dense 노드 수 : 416, Learning Rate : 0.01, batch_size : 100, epochs : 30)\n",
        "from tensorflow.keras import regularizers\n",
        "\n",
        "tf.random.set_seed(1442)\n",
        "initializer = tf.keras.initializers.HeNormal()\n",
        "\n",
        "model = Sequential()\n",
        "\n",
        "model.add(Dense(best_hps.get('units'), \n",
        "                activation='relu', kernel_initializer=initializer,          \n",
        "                kernel_regularizer=regularizers.l2(0.01),    # L2 norm regularization\n",
        "                activity_regularizer=regularizers.l1(0.01))) # L1 norm regularization))\n",
        "model.add(Dense(best_hps.get('units'),\n",
        "                activation='relu', kernel_initializer=initializer,            \n",
        "                kernel_regularizer=regularizers.l2(0.01),    # L2 norm regularization\n",
        "                activity_regularizer=regularizers.l1(0.01)))\n",
        "model.add(Dense(1, activation='sigmoid')) # 이진분류니까 노드수 1, 활성함수로는 시그모이드\n",
        "\n",
        "model.compile(optimizer=keras.optimizers.Adam(learning_rate = best_hps.get('learning_rate')), \n",
        "              loss='binary_crossentropy', \n",
        "              metrics=['accuracy'])\n",
        "\n",
        "results = model.fit(X_train_scaled, y_train, epochs=2, batch_size=50, validation_data=(X_test_scaled,y_test))"
      ],
      "execution_count": 32,
      "outputs": [
        {
          "output_type": "stream",
          "text": [
            "Epoch 1/2\n",
            "106/106 [==============================] - 1s 5ms/step - loss: 24.3501 - accuracy: 0.7706 - val_loss: 22.5509 - val_accuracy: 0.7810\n",
            "Epoch 2/2\n",
            "106/106 [==============================] - 0s 3ms/step - loss: 21.3742 - accuracy: 0.7869 - val_loss: 20.2729 - val_accuracy: 0.7856\n"
          ],
          "name": "stdout"
        }
      ]
    },
    {
      "cell_type": "code",
      "metadata": {
        "colab": {
          "base_uri": "https://localhost:8080/"
        },
        "id": "vt6EKBzUWI1E",
        "outputId": "ffbb94a2-90de-49e1-f524-4f9bb1788efc"
      },
      "source": [
        "# 테스트셋 사용해서 결과 보기\n",
        "model.evaluate(X_test_scaled,  y_test, verbose=2) "
      ],
      "execution_count": 33,
      "outputs": [
        {
          "output_type": "stream",
          "text": [
            "55/55 - 0s - loss: 20.2729 - accuracy: 0.7856\n"
          ],
          "name": "stdout"
        },
        {
          "output_type": "execute_result",
          "data": {
            "text/plain": [
              "[20.272859573364258, 0.7855517864227295]"
            ]
          },
          "metadata": {
            "tags": []
          },
          "execution_count": 33
        }
      ]
    },
    {
      "cell_type": "markdown",
      "metadata": {
        "id": "eAK2wZXOm8Tr"
      },
      "source": [
        "# 도전과제\n",
        "\n",
        "- Random Search 하이퍼 매개 변수 튜닝 구현해보세요.\n",
        "- hyperos 또는 hyperopts를 이용해서 Bayesian Optimiation tuning 수행 [(링크)](https://https://github.com/maxpumperla/hyperas)\n",
        "- 기존에 진행했던 강의&프로젝트 데이터셋을 하이퍼 파라미터로 조정해보세요. \n",
        "- Cifar100을 이용한다면 90% 이상 달성목표! [참고자료](https://paperswithcode.com/sota/image-classification-on-cifar-100)\n",
        "- MLP 모델을 forward 와 backward(학습까지)를 처음부터 구현할 수 있는가?\n",
        "- 케라스에서 MLP 모델을 구현하고 교차 검증(CV)을 통해 하이퍼 파라미터를 조정할 수 있는가?\n",
        "\n"
      ]
    },
    {
      "cell_type": "markdown",
      "metadata": {
        "id": "-DgncW3VL1N0"
      },
      "source": [
        "#### 1) Random Search 하이퍼 매개 변수 튜닝 구현해보세요."
      ]
    },
    {
      "cell_type": "code",
      "metadata": {
        "id": "xyWZXvlFm8Tr"
      },
      "source": [
        "def make_model_rscv(nodes=64, func='relu', rate=0.1, l2=0.01):\n",
        "  model = Sequential()\n",
        "  model.add(Dense(nodes,\n",
        "                  activation='relu',\n",
        "                  input_dim=X_train_encoded.shape[1]))\n",
        "  model.add(Dense(256, activation=func))\n",
        "  model.add(Dropout(rate))\n",
        "  model.add(Dense(512, activation='relu',\n",
        "            kernel_regularizer=regularizers.l2(l2)))\n",
        "  model.add(Dense(128, activation='relu'))\n",
        "  model.add(Dense(32, activation='relu'))\n",
        "  model.add(Dense(1, activation='sigmoid'))\n",
        "\n",
        "  model.compile(optimizer = 'adam',\n",
        "                loss='binary_crossentropy',\n",
        "                metrics=['accuracy'])\n",
        "\n",
        "  return model"
      ],
      "execution_count": null,
      "outputs": []
    },
    {
      "cell_type": "code",
      "metadata": {
        "id": "_hzXfmLZNOLX"
      },
      "source": [
        "from sklearn.model_selection import RandomizedSearchCV"
      ],
      "execution_count": null,
      "outputs": []
    },
    {
      "cell_type": "code",
      "metadata": {
        "colab": {
          "base_uri": "https://localhost:8080/"
        },
        "id": "gPtNFkICNA44",
        "outputId": "0025ec8b-5ef6-441d-a96c-69d6f682ea86"
      },
      "source": [
        "tf.random.set_seed(1442)\n",
        "param_grid = {'nodes': [32, 128, 256, 512],\n",
        "              'func':['tanh', 'relu', 'sigmoid', 'softmax'],\n",
        "              'rate':[0, 0.2, 0.5, 0.7],\n",
        "              'l2':[0.001, 0.005, 0.01, 0.05, 0.1]}\n",
        "\n",
        "model_rscv = KerasClassifier(build_fn=make_model_rscv, verbose=0)\n",
        "\n",
        "grid_rscv = RandomizedSearchCV(\n",
        "    estimator=model_rscv,\n",
        "    param_distributions=param_grid,\n",
        "    n_iter=20,\n",
        "    cv=3,\n",
        "    scoring='accuracy',\n",
        "    verbose=3,\n",
        "    n_jobs=1,\n",
        "    random_state=12)\n",
        "grid_result_rscv = grid_rscv.fit(X_train_encoded, y_train)"
      ],
      "execution_count": null,
      "outputs": [
        {
          "output_type": "stream",
          "text": [
            "Fitting 3 folds for each of 20 candidates, totalling 60 fits\n",
            "[CV] rate=0.7, nodes=512, l2=0.005, func=sigmoid .....................\n"
          ],
          "name": "stdout"
        },
        {
          "output_type": "stream",
          "text": [
            "[Parallel(n_jobs=1)]: Using backend SequentialBackend with 1 concurrent workers.\n"
          ],
          "name": "stderr"
        },
        {
          "output_type": "stream",
          "text": [
            "[CV]  rate=0.7, nodes=512, l2=0.005, func=sigmoid, score=0.760, total=   1.5s\n",
            "[CV] rate=0.7, nodes=512, l2=0.005, func=sigmoid .....................\n"
          ],
          "name": "stdout"
        },
        {
          "output_type": "stream",
          "text": [
            "[Parallel(n_jobs=1)]: Done   1 out of   1 | elapsed:    1.6s remaining:    0.0s\n"
          ],
          "name": "stderr"
        },
        {
          "output_type": "stream",
          "text": [
            "[CV]  rate=0.7, nodes=512, l2=0.005, func=sigmoid, score=0.729, total=   1.5s\n",
            "[CV] rate=0.7, nodes=512, l2=0.005, func=sigmoid .....................\n"
          ],
          "name": "stdout"
        },
        {
          "output_type": "stream",
          "text": [
            "[Parallel(n_jobs=1)]: Done   2 out of   2 | elapsed:    3.1s remaining:    0.0s\n"
          ],
          "name": "stderr"
        },
        {
          "output_type": "stream",
          "text": [
            "[CV]  rate=0.7, nodes=512, l2=0.005, func=sigmoid, score=0.737, total=   1.6s\n",
            "[CV] rate=0.2, nodes=32, l2=0.001, func=relu .........................\n",
            "[CV]  rate=0.2, nodes=32, l2=0.001, func=relu, score=0.761, total=   1.4s\n",
            "[CV] rate=0.2, nodes=32, l2=0.001, func=relu .........................\n",
            "[CV]  rate=0.2, nodes=32, l2=0.001, func=relu, score=0.740, total=   1.6s\n",
            "[CV] rate=0.2, nodes=32, l2=0.001, func=relu .........................\n",
            "[CV]  rate=0.2, nodes=32, l2=0.001, func=relu, score=0.762, total=   1.3s\n",
            "[CV] rate=0.2, nodes=256, l2=0.05, func=sigmoid ......................\n",
            "[CV]  rate=0.2, nodes=256, l2=0.05, func=sigmoid, score=0.755, total=   1.4s\n",
            "[CV] rate=0.2, nodes=256, l2=0.05, func=sigmoid ......................\n",
            "[CV]  rate=0.2, nodes=256, l2=0.05, func=sigmoid, score=0.726, total=   1.4s\n",
            "[CV] rate=0.2, nodes=256, l2=0.05, func=sigmoid ......................\n",
            "[CV]  rate=0.2, nodes=256, l2=0.05, func=sigmoid, score=0.763, total=   1.4s\n",
            "[CV] rate=0.5, nodes=512, l2=0.001, func=sigmoid .....................\n",
            "[CV]  rate=0.5, nodes=512, l2=0.001, func=sigmoid, score=0.757, total=   1.5s\n",
            "[CV] rate=0.5, nodes=512, l2=0.001, func=sigmoid .....................\n",
            "[CV]  rate=0.5, nodes=512, l2=0.001, func=sigmoid, score=0.731, total=   1.6s\n",
            "[CV] rate=0.5, nodes=512, l2=0.001, func=sigmoid .....................\n",
            "[CV]  rate=0.5, nodes=512, l2=0.001, func=sigmoid, score=0.737, total=   1.5s\n",
            "[CV] rate=0.2, nodes=128, l2=0.1, func=softmax .......................\n",
            "[CV]  rate=0.2, nodes=128, l2=0.1, func=softmax, score=0.739, total=   1.4s\n",
            "[CV] rate=0.2, nodes=128, l2=0.1, func=softmax .......................\n",
            "[CV]  rate=0.2, nodes=128, l2=0.1, func=softmax, score=0.726, total=   1.7s\n",
            "[CV] rate=0.2, nodes=128, l2=0.1, func=softmax .......................\n",
            "[CV]  rate=0.2, nodes=128, l2=0.1, func=softmax, score=0.770, total=   1.4s\n",
            "[CV] rate=0.2, nodes=256, l2=0.001, func=sigmoid .....................\n",
            "[CV]  rate=0.2, nodes=256, l2=0.001, func=sigmoid, score=0.759, total=   1.4s\n",
            "[CV] rate=0.2, nodes=256, l2=0.001, func=sigmoid .....................\n",
            "[CV]  rate=0.2, nodes=256, l2=0.001, func=sigmoid, score=0.737, total=   1.4s\n",
            "[CV] rate=0.2, nodes=256, l2=0.001, func=sigmoid .....................\n",
            "[CV]  rate=0.2, nodes=256, l2=0.001, func=sigmoid, score=0.759, total=   1.4s\n",
            "[CV] rate=0.5, nodes=128, l2=0.05, func=sigmoid ......................\n",
            "[CV]  rate=0.5, nodes=128, l2=0.05, func=sigmoid, score=0.762, total=   1.4s\n",
            "[CV] rate=0.5, nodes=128, l2=0.05, func=sigmoid ......................\n",
            "[CV]  rate=0.5, nodes=128, l2=0.05, func=sigmoid, score=0.728, total=   1.4s\n",
            "[CV] rate=0.5, nodes=128, l2=0.05, func=sigmoid ......................\n",
            "[CV]  rate=0.5, nodes=128, l2=0.05, func=sigmoid, score=0.737, total=   1.4s\n",
            "[CV] rate=0, nodes=512, l2=0.001, func=tanh ..........................\n",
            "[CV]  rate=0, nodes=512, l2=0.001, func=tanh, score=0.756, total=   1.8s\n",
            "[CV] rate=0, nodes=512, l2=0.001, func=tanh ..........................\n",
            "[CV]  rate=0, nodes=512, l2=0.001, func=tanh, score=0.740, total=   1.5s\n",
            "[CV] rate=0, nodes=512, l2=0.001, func=tanh ..........................\n",
            "[CV]  rate=0, nodes=512, l2=0.001, func=tanh, score=0.758, total=   1.5s\n",
            "[CV] rate=0, nodes=512, l2=0.1, func=sigmoid .........................\n",
            "[CV]  rate=0, nodes=512, l2=0.1, func=sigmoid, score=0.757, total=   1.5s\n",
            "[CV] rate=0, nodes=512, l2=0.1, func=sigmoid .........................\n",
            "[CV]  rate=0, nodes=512, l2=0.1, func=sigmoid, score=0.737, total=   1.5s\n",
            "[CV] rate=0, nodes=512, l2=0.1, func=sigmoid .........................\n",
            "[CV]  rate=0, nodes=512, l2=0.1, func=sigmoid, score=0.737, total=   1.5s\n",
            "[CV] rate=0.7, nodes=256, l2=0.1, func=sigmoid .......................\n",
            "[CV]  rate=0.7, nodes=256, l2=0.1, func=sigmoid, score=0.760, total=   1.5s\n",
            "[CV] rate=0.7, nodes=256, l2=0.1, func=sigmoid .......................\n",
            "[CV]  rate=0.7, nodes=256, l2=0.1, func=sigmoid, score=0.738, total=   1.4s\n",
            "[CV] rate=0.7, nodes=256, l2=0.1, func=sigmoid .......................\n",
            "[CV]  rate=0.7, nodes=256, l2=0.1, func=sigmoid, score=0.737, total=   1.4s\n",
            "[CV] rate=0, nodes=128, l2=0.05, func=tanh ...........................\n",
            "[CV]  rate=0, nodes=128, l2=0.05, func=tanh, score=0.759, total=   1.7s\n",
            "[CV] rate=0, nodes=128, l2=0.05, func=tanh ...........................\n",
            "[CV]  rate=0, nodes=128, l2=0.05, func=tanh, score=0.740, total=   1.4s\n",
            "[CV] rate=0, nodes=128, l2=0.05, func=tanh ...........................\n",
            "[CV]  rate=0, nodes=128, l2=0.05, func=tanh, score=0.749, total=   1.4s\n",
            "[CV] rate=0, nodes=32, l2=0.01, func=sigmoid .........................\n",
            "[CV]  rate=0, nodes=32, l2=0.01, func=sigmoid, score=0.765, total=   1.3s\n",
            "[CV] rate=0, nodes=32, l2=0.01, func=sigmoid .........................\n",
            "[CV]  rate=0, nodes=32, l2=0.01, func=sigmoid, score=0.733, total=   1.3s\n",
            "[CV] rate=0, nodes=32, l2=0.01, func=sigmoid .........................\n",
            "[CV]  rate=0, nodes=32, l2=0.01, func=sigmoid, score=0.753, total=   1.3s\n",
            "[CV] rate=0.5, nodes=128, l2=0.001, func=relu ........................\n",
            "[CV]  rate=0.5, nodes=128, l2=0.001, func=relu, score=0.762, total=   1.4s\n",
            "[CV] rate=0.5, nodes=128, l2=0.001, func=relu ........................\n",
            "[CV]  rate=0.5, nodes=128, l2=0.001, func=relu, score=0.741, total=   1.4s\n",
            "[CV] rate=0.5, nodes=128, l2=0.001, func=relu ........................\n",
            "[CV]  rate=0.5, nodes=128, l2=0.001, func=relu, score=0.263, total=   1.7s\n",
            "[CV] rate=0.2, nodes=128, l2=0.005, func=tanh ........................\n",
            "[CV]  rate=0.2, nodes=128, l2=0.005, func=tanh, score=0.759, total=   1.4s\n",
            "[CV] rate=0.2, nodes=128, l2=0.005, func=tanh ........................\n",
            "[CV]  rate=0.2, nodes=128, l2=0.005, func=tanh, score=0.736, total=   1.4s\n",
            "[CV] rate=0.2, nodes=128, l2=0.005, func=tanh ........................\n",
            "[CV]  rate=0.2, nodes=128, l2=0.005, func=tanh, score=0.737, total=   1.4s\n",
            "[CV] rate=0.7, nodes=512, l2=0.05, func=sigmoid ......................\n",
            "[CV]  rate=0.7, nodes=512, l2=0.05, func=sigmoid, score=0.743, total=   1.5s\n",
            "[CV] rate=0.7, nodes=512, l2=0.05, func=sigmoid ......................\n",
            "[CV]  rate=0.7, nodes=512, l2=0.05, func=sigmoid, score=0.743, total=   1.5s\n",
            "[CV] rate=0.7, nodes=512, l2=0.05, func=sigmoid ......................\n",
            "[CV]  rate=0.7, nodes=512, l2=0.05, func=sigmoid, score=0.737, total=   1.5s\n",
            "[CV] rate=0.2, nodes=32, l2=0.001, func=tanh .........................\n",
            "[CV]  rate=0.2, nodes=32, l2=0.001, func=tanh, score=0.758, total=   1.3s\n",
            "[CV] rate=0.2, nodes=32, l2=0.001, func=tanh .........................\n",
            "[CV]  rate=0.2, nodes=32, l2=0.001, func=tanh, score=0.737, total=   1.3s\n",
            "[CV] rate=0.2, nodes=32, l2=0.001, func=tanh .........................\n",
            "[CV]  rate=0.2, nodes=32, l2=0.001, func=tanh, score=0.660, total=   1.7s\n",
            "[CV] rate=0.2, nodes=256, l2=0.01, func=tanh .........................\n",
            "[CV]  rate=0.2, nodes=256, l2=0.01, func=tanh, score=0.761, total=   1.4s\n",
            "[CV] rate=0.2, nodes=256, l2=0.01, func=tanh .........................\n",
            "[CV]  rate=0.2, nodes=256, l2=0.01, func=tanh, score=0.730, total=   1.5s\n",
            "[CV] rate=0.2, nodes=256, l2=0.01, func=tanh .........................\n",
            "[CV]  rate=0.2, nodes=256, l2=0.01, func=tanh, score=0.765, total=   1.4s\n",
            "[CV] rate=0.2, nodes=512, l2=0.05, func=softmax ......................\n",
            "[CV]  rate=0.2, nodes=512, l2=0.05, func=softmax, score=0.739, total=   1.5s\n",
            "[CV] rate=0.2, nodes=512, l2=0.05, func=softmax ......................\n",
            "[CV]  rate=0.2, nodes=512, l2=0.05, func=softmax, score=0.750, total=   1.6s\n",
            "[CV] rate=0.2, nodes=512, l2=0.05, func=softmax ......................\n",
            "[CV]  rate=0.2, nodes=512, l2=0.05, func=softmax, score=0.737, total=   1.5s\n",
            "[CV] rate=0.2, nodes=32, l2=0.005, func=softmax ......................\n",
            "[CV]  rate=0.2, nodes=32, l2=0.005, func=softmax, score=0.764, total=   1.4s\n",
            "[CV] rate=0.2, nodes=32, l2=0.005, func=softmax ......................\n",
            "[CV]  rate=0.2, nodes=32, l2=0.005, func=softmax, score=0.759, total=   1.6s\n",
            "[CV] rate=0.2, nodes=32, l2=0.005, func=softmax ......................\n",
            "[CV]  rate=0.2, nodes=32, l2=0.005, func=softmax, score=0.737, total=   1.4s\n",
            "[CV] rate=0.7, nodes=32, l2=0.1, func=tanh ...........................\n",
            "[CV]  rate=0.7, nodes=32, l2=0.1, func=tanh, score=0.758, total=   1.4s\n",
            "[CV] rate=0.7, nodes=32, l2=0.1, func=tanh ...........................\n",
            "[CV]  rate=0.7, nodes=32, l2=0.1, func=tanh, score=0.739, total=   1.4s\n",
            "[CV] rate=0.7, nodes=32, l2=0.1, func=tanh ...........................\n",
            "[CV]  rate=0.7, nodes=32, l2=0.1, func=tanh, score=0.737, total=   1.3s\n"
          ],
          "name": "stdout"
        },
        {
          "output_type": "stream",
          "text": [
            "[Parallel(n_jobs=1)]: Done  60 out of  60 | elapsed:  1.5min finished\n"
          ],
          "name": "stderr"
        }
      ]
    },
    {
      "cell_type": "code",
      "metadata": {
        "colab": {
          "base_uri": "https://localhost:8080/",
          "height": 548
        },
        "id": "hANVaPFeP-59",
        "outputId": "f5fb6af7-4471-4891-b925-ac65267f9dd1"
      },
      "source": [
        "rs = pd.DataFrame(grid_result_rscv.cv_results_).sort_values(by='rank_test_score').head()\n",
        "rs.T"
      ],
      "execution_count": null,
      "outputs": [
        {
          "output_type": "execute_result",
          "data": {
            "text/html": [
              "<div>\n",
              "<style scoped>\n",
              "    .dataframe tbody tr th:only-of-type {\n",
              "        vertical-align: middle;\n",
              "    }\n",
              "\n",
              "    .dataframe tbody tr th {\n",
              "        vertical-align: top;\n",
              "    }\n",
              "\n",
              "    .dataframe thead th {\n",
              "        text-align: right;\n",
              "    }\n",
              "</style>\n",
              "<table border=\"1\" class=\"dataframe\">\n",
              "  <thead>\n",
              "    <tr style=\"text-align: right;\">\n",
              "      <th></th>\n",
              "      <th>1</th>\n",
              "      <th>18</th>\n",
              "      <th>5</th>\n",
              "      <th>16</th>\n",
              "      <th>7</th>\n",
              "    </tr>\n",
              "  </thead>\n",
              "  <tbody>\n",
              "    <tr>\n",
              "      <th>mean_fit_time</th>\n",
              "      <td>1.2708</td>\n",
              "      <td>1.28407</td>\n",
              "      <td>1.23298</td>\n",
              "      <td>1.25501</td>\n",
              "      <td>1.44011</td>\n",
              "    </tr>\n",
              "    <tr>\n",
              "      <th>std_fit_time</th>\n",
              "      <td>0.123766</td>\n",
              "      <td>0.123388</td>\n",
              "      <td>0.0152746</td>\n",
              "      <td>0.00997733</td>\n",
              "      <td>0.140968</td>\n",
              "    </tr>\n",
              "    <tr>\n",
              "      <th>mean_score_time</th>\n",
              "      <td>0.175653</td>\n",
              "      <td>0.177214</td>\n",
              "      <td>0.183628</td>\n",
              "      <td>0.183925</td>\n",
              "      <td>0.19618</td>\n",
              "    </tr>\n",
              "    <tr>\n",
              "      <th>std_score_time</th>\n",
              "      <td>0.00309413</td>\n",
              "      <td>0.00285347</td>\n",
              "      <td>0.00621667</td>\n",
              "      <td>0.00507204</td>\n",
              "      <td>0.00486579</td>\n",
              "    </tr>\n",
              "    <tr>\n",
              "      <th>param_rate</th>\n",
              "      <td>0.2</td>\n",
              "      <td>0.2</td>\n",
              "      <td>0.2</td>\n",
              "      <td>0.2</td>\n",
              "      <td>0</td>\n",
              "    </tr>\n",
              "    <tr>\n",
              "      <th>param_nodes</th>\n",
              "      <td>32</td>\n",
              "      <td>32</td>\n",
              "      <td>256</td>\n",
              "      <td>256</td>\n",
              "      <td>512</td>\n",
              "    </tr>\n",
              "    <tr>\n",
              "      <th>param_l2</th>\n",
              "      <td>0.001</td>\n",
              "      <td>0.005</td>\n",
              "      <td>0.001</td>\n",
              "      <td>0.01</td>\n",
              "      <td>0.001</td>\n",
              "    </tr>\n",
              "    <tr>\n",
              "      <th>param_func</th>\n",
              "      <td>relu</td>\n",
              "      <td>softmax</td>\n",
              "      <td>sigmoid</td>\n",
              "      <td>tanh</td>\n",
              "      <td>tanh</td>\n",
              "    </tr>\n",
              "    <tr>\n",
              "      <th>params</th>\n",
              "      <td>{'rate': 0.2, 'nodes': 32, 'l2': 0.001, 'func'...</td>\n",
              "      <td>{'rate': 0.2, 'nodes': 32, 'l2': 0.005, 'func'...</td>\n",
              "      <td>{'rate': 0.2, 'nodes': 256, 'l2': 0.001, 'func...</td>\n",
              "      <td>{'rate': 0.2, 'nodes': 256, 'l2': 0.01, 'func'...</td>\n",
              "      <td>{'rate': 0, 'nodes': 512, 'l2': 0.001, 'func':...</td>\n",
              "    </tr>\n",
              "    <tr>\n",
              "      <th>split0_test_score</th>\n",
              "      <td>0.760533</td>\n",
              "      <td>0.763733</td>\n",
              "      <td>0.759467</td>\n",
              "      <td>0.760533</td>\n",
              "      <td>0.755733</td>\n",
              "    </tr>\n",
              "    <tr>\n",
              "      <th>split1_test_score</th>\n",
              "      <td>0.740267</td>\n",
              "      <td>0.758933</td>\n",
              "      <td>0.737067</td>\n",
              "      <td>0.730133</td>\n",
              "      <td>0.740267</td>\n",
              "    </tr>\n",
              "    <tr>\n",
              "      <th>split2_test_score</th>\n",
              "      <td>0.7616</td>\n",
              "      <td>0.737067</td>\n",
              "      <td>0.759467</td>\n",
              "      <td>0.7648</td>\n",
              "      <td>0.7584</td>\n",
              "    </tr>\n",
              "    <tr>\n",
              "      <th>mean_test_score</th>\n",
              "      <td>0.754133</td>\n",
              "      <td>0.753244</td>\n",
              "      <td>0.752</td>\n",
              "      <td>0.751822</td>\n",
              "      <td>0.751467</td>\n",
              "    </tr>\n",
              "    <tr>\n",
              "      <th>std_test_score</th>\n",
              "      <td>0.00981488</td>\n",
              "      <td>0.011606</td>\n",
              "      <td>0.0105595</td>\n",
              "      <td>0.015435</td>\n",
              "      <td>0.00799407</td>\n",
              "    </tr>\n",
              "    <tr>\n",
              "      <th>rank_test_score</th>\n",
              "      <td>1</td>\n",
              "      <td>2</td>\n",
              "      <td>3</td>\n",
              "      <td>4</td>\n",
              "      <td>5</td>\n",
              "    </tr>\n",
              "  </tbody>\n",
              "</table>\n",
              "</div>"
            ],
            "text/plain": [
              "                                                                   1  ...                                                  7\n",
              "mean_fit_time                                                 1.2708  ...                                            1.44011\n",
              "std_fit_time                                                0.123766  ...                                           0.140968\n",
              "mean_score_time                                             0.175653  ...                                            0.19618\n",
              "std_score_time                                            0.00309413  ...                                         0.00486579\n",
              "param_rate                                                       0.2  ...                                                  0\n",
              "param_nodes                                                       32  ...                                                512\n",
              "param_l2                                                       0.001  ...                                              0.001\n",
              "param_func                                                      relu  ...                                               tanh\n",
              "params             {'rate': 0.2, 'nodes': 32, 'l2': 0.001, 'func'...  ...  {'rate': 0, 'nodes': 512, 'l2': 0.001, 'func':...\n",
              "split0_test_score                                           0.760533  ...                                           0.755733\n",
              "split1_test_score                                           0.740267  ...                                           0.740267\n",
              "split2_test_score                                             0.7616  ...                                             0.7584\n",
              "mean_test_score                                             0.754133  ...                                           0.751467\n",
              "std_test_score                                            0.00981488  ...                                         0.00799407\n",
              "rank_test_score                                                    1  ...                                                  5\n",
              "\n",
              "[15 rows x 5 columns]"
            ]
          },
          "metadata": {
            "tags": []
          },
          "execution_count": 89
        }
      ]
    },
    {
      "cell_type": "markdown",
      "metadata": {
        "id": "n-pnUspQsRNX"
      },
      "source": [
        "RandomizedSearchCV를 썼을 때의 결과도 GridSearchCV를 사용했을 때와 다르게 나왔다. 하지만 시간 때문에 RandomizedSearchCV의 iter수를 탐색 영역에 비해서 작게 설정했기 때문에 위 결과가 최선의 결과라고 할 수는 없다."
      ]
    },
    {
      "cell_type": "markdown",
      "metadata": {
        "id": "sYyJvyg9L8VV"
      },
      "source": [
        "4) MLP 모델을 forward 와 backward(학습까지)를 처음부터 구현할 수 있는가?"
      ]
    },
    {
      "cell_type": "code",
      "metadata": {
        "id": "sQA8OhW3WCaH"
      },
      "source": [
        "from math import sqrt"
      ],
      "execution_count": null,
      "outputs": []
    },
    {
      "cell_type": "code",
      "metadata": {
        "id": "fjYzDdX2L88s"
      },
      "source": [
        "class MLP:\n",
        "  def __init__(self, input_nodes, hidden_nodes, output_nodes, lr):\n",
        "    \"\"\"\n",
        "    MLP 클래스의 생성자 함수입니다.\n",
        "    \n",
        "    Args:\n",
        "        input_nodes: 입력층의 노드 개수\n",
        "        hidden_nodes: 은닉층의 노드 개수\n",
        "        output_nodes: 출력층의 노드 개수\n",
        "        lr: 학습률\n",
        "    \"\"\"\n",
        "    self.input_nodes = input_nodes\n",
        "    self.hidden_nodes = hidden_nodes\n",
        "    self.output_nodes = output_nodes\n",
        "    self.lr = lr\n",
        "\n",
        "    self.w_ih = np.random.normal(0,\n",
        "                                 sqrt(2/(self.input_nodes + self.hidden_nodes)),\n",
        "                                 (self.input_nodes, self.hidden_nodes))\n",
        "    self.w_ho = np.random.normal(0,\n",
        "                                 sqrt(2/(self.hidden_nodes + self.output_nodes)),\n",
        "                                 (self.hidden_nodes, self.output_nodes))\n",
        "    \n",
        "\n",
        "  def sigmoid(self, x):\n",
        "    \"\"\"\n",
        "    활성화 함수로 사용할 sigmoid 함수입니다.\n",
        "    \"\"\"\n",
        "    return 1/(1+np.exp(-x))\n",
        "\n",
        "\n",
        "  def fit(self, X_train, y_train):\n",
        "    \"\"\"\n",
        "    모델을 학습합니다.\n",
        "\n",
        "    Args:\n",
        "        X_train(2차원 numpy.array, float): 학습할 데이터\n",
        "        y_train(2차원 numpy.array, float): 학습할 데이터의 타겟\n",
        "    # \"\"\"\n",
        "    self.inputs = X_train\n",
        "    self.targets = y_train\n",
        "    return self.forward('train')\n",
        "\n",
        "\n",
        "  def forward(self, filter):\n",
        "    if filter == 'train':\n",
        "      self.h = np.dot(self.inputs, self.w_ih)\n",
        "      self.H = self.sigmoid(self.h)\n",
        "\n",
        "      self.y = np.dot(self.H, self.w_ho)\n",
        "      self.Y = self.sigmoid(self.y)\n",
        "\n",
        "      return self.backward()\n",
        "\n",
        "    elif filter == 'pred':\n",
        "      self.h = np.dot(self.inputs, self.w_ih)\n",
        "      self.H = self.sigmoid(self.h)\n",
        "\n",
        "      self.y = np.dot(self.H, self.w_ho)\n",
        "      self.Y = self.sigmoid(self.y)\n",
        "      return self.Y\n",
        "\n",
        "  # 가중치 업데이트\n",
        "  def backward(self):\n",
        "    self.o_error = -(self.targets-self.Y)\n",
        "    self.o_delta = self.o_error * (self.Y * (1 - self.Y))\n",
        "\n",
        "    self.h_error = self.o_delta.dot(self.w_ho.T)\n",
        "    self.h_delta = self.h_error * (self.y * (1 - self.y))\n",
        "\n",
        "    self.w_ih = self.w_ih - self.lr*self.inputs.T.dot(self.h_delta)\n",
        "    self.w_ho = self.w_ho - self.lr*self.H.T.dot(self.o_delta)\n",
        "\n",
        "\n",
        "  def predict(self, X_test):\n",
        "    \"\"\"\n",
        "    타겟을 예측하는 함수입니다.\n",
        "    \"\"\"\n",
        "    self.inputs = X_test\n",
        "\n",
        "    result = self.forward('pred')\n",
        "    return result"
      ],
      "execution_count": null,
      "outputs": []
    },
    {
      "cell_type": "code",
      "metadata": {
        "id": "aw3nAz9cUbu1"
      },
      "source": [
        "a = np.array([[1, 2], [3, 4], [5, 6]])\n",
        "b = np.array([[10], [20], [30]])"
      ],
      "execution_count": null,
      "outputs": []
    },
    {
      "cell_type": "code",
      "metadata": {
        "id": "F8jAtx6Yjmk5"
      },
      "source": [
        "mlp = MLP(2, 3, 1, 0.01)"
      ],
      "execution_count": null,
      "outputs": []
    },
    {
      "cell_type": "code",
      "metadata": {
        "id": "pcxbC2VblP3f",
        "colab": {
          "base_uri": "https://localhost:8080/"
        },
        "outputId": "87b57fdc-0479-4dec-a349-777029f3f41f"
      },
      "source": [
        "# 초기 가중치\n",
        "print(mlp.w_ih)\n",
        "print(mlp.w_ho)"
      ],
      "execution_count": null,
      "outputs": [
        {
          "output_type": "stream",
          "text": [
            "[[-0.61426513  0.10081131  1.02301425]\n",
            " [ 0.26841251 -0.42635879 -0.50733287]]\n",
            "[[ 0.74888138]\n",
            " [ 0.4527325 ]\n",
            " [-1.10382178]]\n"
          ],
          "name": "stdout"
        }
      ]
    },
    {
      "cell_type": "code",
      "metadata": {
        "id": "SqVk4i74k1Gy"
      },
      "source": [
        "mlp.fit(a, b)"
      ],
      "execution_count": null,
      "outputs": []
    },
    {
      "cell_type": "code",
      "metadata": {
        "id": "_M5qKLx8lUSi",
        "colab": {
          "base_uri": "https://localhost:8080/"
        },
        "outputId": "f426911e-8ebe-4fa5-b54d-5b12a562bd8b"
      },
      "source": [
        "# 학습 후 가중치\n",
        "print(mlp.w_ih)\n",
        "print(mlp.w_ho)"
      ],
      "execution_count": null,
      "outputs": [
        {
          "output_type": "stream",
          "text": [
            "[[-1.0272452  -0.14885373  1.63173068]\n",
            " [-0.23798233 -0.73249726  0.23907326]]\n",
            "[[ 0.78695969]\n",
            " [ 0.47672043]\n",
            " [-1.00107793]]\n"
          ],
          "name": "stdout"
        }
      ]
    },
    {
      "cell_type": "code",
      "metadata": {
        "id": "fIlISxqXk-yj"
      },
      "source": [
        "c = np.array([[10, 12]])"
      ],
      "execution_count": null,
      "outputs": []
    },
    {
      "cell_type": "code",
      "metadata": {
        "id": "sywyf9FGk4tN",
        "colab": {
          "base_uri": "https://localhost:8080/"
        },
        "outputId": "01f2c975-8c8c-4cc6-9c1f-f3c7b56eb8c6"
      },
      "source": [
        "mlp.predict(c)"
      ],
      "execution_count": null,
      "outputs": [
        {
          "output_type": "execute_result",
          "data": {
            "text/plain": [
              "array([[0.26873307]])"
            ]
          },
          "metadata": {
            "tags": []
          },
          "execution_count": 270
        }
      ]
    },
    {
      "cell_type": "code",
      "metadata": {
        "id": "iKzgp-brlkU5"
      },
      "source": [
        ""
      ],
      "execution_count": null,
      "outputs": []
    }
  ]
}