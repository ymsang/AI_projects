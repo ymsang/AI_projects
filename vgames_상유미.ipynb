{
  "nbformat": 4,
  "nbformat_minor": 0,
  "metadata": {
    "colab": {
      "name": "vgames_상유미",
      "provenance": [],
      "toc_visible": true,
      "authorship_tag": "ABX9TyPjELBjtY4gZEFL9UUcQV0f",
      "include_colab_link": true
    },
    "kernelspec": {
      "name": "python3",
      "display_name": "Python 3"
    },
    "language_info": {
      "name": "python"
    }
  },
  "cells": [
    {
      "cell_type": "markdown",
      "metadata": {
        "id": "view-in-github",
        "colab_type": "text"
      },
      "source": [
        "<a href=\"https://colab.research.google.com/github/ymsang/AI_projects/blob/main/vgames_%EC%83%81%EC%9C%A0%EB%AF%B8.ipynb\" target=\"_parent\"><img src=\"https://colab.research.google.com/assets/colab-badge.svg\" alt=\"Open In Colab\"/></a>"
      ]
    },
    {
      "cell_type": "markdown",
      "metadata": {
        "id": "z2q9ZNgOi1xC"
      },
      "source": [
        "#Video Games 데이터 분석 보고서\n",
        "\n",
        "목적: \n",
        "- 다음 분기에 어떤 게임을 설계해야 할까\n",
        "\n",
        "분석분야: \n",
        "1. 지역에 따라서 선호하는 게임 장르가 다를까 \n",
        "2. 연도별 게임의 트렌드가 있을까 \n",
        "3. 출고량이 높은 게임에 대한 분석 및 시각화 프로세스\n",
        "4. 나라별 sales 연관성\n",
        "\n"
      ]
    },
    {
      "cell_type": "markdown",
      "metadata": {
        "id": "LoCWErU5L5d7"
      },
      "source": [
        "##Code\n",
        "\n",
        "설명: 데이터 업로드"
      ]
    },
    {
      "cell_type": "code",
      "metadata": {
        "colab": {
          "base_uri": "https://localhost:8080/",
          "height": 419
        },
        "id": "cBH06k6XioF3",
        "outputId": "f4bfd28b-9ebc-4c86-db0e-bac865843ecb"
      },
      "source": [
        "import pandas as pd\n",
        "import numpy as np\n",
        "from sklearn.cluster import KMeans \n",
        "from sklearn.preprocessing import StandardScaler \n",
        "import seaborn as sns\n",
        "\n",
        "# read data as df\n",
        "from google.colab import files\n",
        "# uploaded = files.upload()\n",
        "\n",
        "import io\n",
        "df = pd.read_csv('vgames2.csv', index_col=0)\n",
        "df\n",
        "\n"
      ],
      "execution_count": 313,
      "outputs": [
        {
          "output_type": "execute_result",
          "data": {
            "text/html": [
              "<div>\n",
              "<style scoped>\n",
              "    .dataframe tbody tr th:only-of-type {\n",
              "        vertical-align: middle;\n",
              "    }\n",
              "\n",
              "    .dataframe tbody tr th {\n",
              "        vertical-align: top;\n",
              "    }\n",
              "\n",
              "    .dataframe thead th {\n",
              "        text-align: right;\n",
              "    }\n",
              "</style>\n",
              "<table border=\"1\" class=\"dataframe\">\n",
              "  <thead>\n",
              "    <tr style=\"text-align: right;\">\n",
              "      <th></th>\n",
              "      <th>Name</th>\n",
              "      <th>Platform</th>\n",
              "      <th>Year</th>\n",
              "      <th>Genre</th>\n",
              "      <th>Publisher</th>\n",
              "      <th>NA_Sales</th>\n",
              "      <th>EU_Sales</th>\n",
              "      <th>JP_Sales</th>\n",
              "      <th>Other_Sales</th>\n",
              "    </tr>\n",
              "  </thead>\n",
              "  <tbody>\n",
              "    <tr>\n",
              "      <th>1</th>\n",
              "      <td>Candace Kane's Candy Factory</td>\n",
              "      <td>DS</td>\n",
              "      <td>2008.0</td>\n",
              "      <td>Action</td>\n",
              "      <td>Destineer</td>\n",
              "      <td>0.04</td>\n",
              "      <td>0</td>\n",
              "      <td>0</td>\n",
              "      <td>0</td>\n",
              "    </tr>\n",
              "    <tr>\n",
              "      <th>2</th>\n",
              "      <td>The Munchables</td>\n",
              "      <td>Wii</td>\n",
              "      <td>2009.0</td>\n",
              "      <td>Action</td>\n",
              "      <td>Namco Bandai Games</td>\n",
              "      <td>0.17</td>\n",
              "      <td>0</td>\n",
              "      <td>0</td>\n",
              "      <td>0.01</td>\n",
              "    </tr>\n",
              "    <tr>\n",
              "      <th>3</th>\n",
              "      <td>Otome wa Oanesama Boku ni Koi Shiteru Portable</td>\n",
              "      <td>PSP</td>\n",
              "      <td>2010.0</td>\n",
              "      <td>Adventure</td>\n",
              "      <td>Alchemist</td>\n",
              "      <td>0</td>\n",
              "      <td>0</td>\n",
              "      <td>0.02</td>\n",
              "      <td>0</td>\n",
              "    </tr>\n",
              "    <tr>\n",
              "      <th>4</th>\n",
              "      <td>Deal or No Deal: Special Edition</td>\n",
              "      <td>DS</td>\n",
              "      <td>2010.0</td>\n",
              "      <td>Misc</td>\n",
              "      <td>Zoo Games</td>\n",
              "      <td>0.04</td>\n",
              "      <td>0</td>\n",
              "      <td>0</td>\n",
              "      <td>0</td>\n",
              "    </tr>\n",
              "    <tr>\n",
              "      <th>5</th>\n",
              "      <td>Ben 10 Ultimate Alien: Cosmic Destruction</td>\n",
              "      <td>PS3</td>\n",
              "      <td>2010.0</td>\n",
              "      <td>Platform</td>\n",
              "      <td>D3Publisher</td>\n",
              "      <td>0.12</td>\n",
              "      <td>0.09</td>\n",
              "      <td>0</td>\n",
              "      <td>0.04</td>\n",
              "    </tr>\n",
              "    <tr>\n",
              "      <th>...</th>\n",
              "      <td>...</td>\n",
              "      <td>...</td>\n",
              "      <td>...</td>\n",
              "      <td>...</td>\n",
              "      <td>...</td>\n",
              "      <td>...</td>\n",
              "      <td>...</td>\n",
              "      <td>...</td>\n",
              "      <td>...</td>\n",
              "    </tr>\n",
              "    <tr>\n",
              "      <th>16594</th>\n",
              "      <td>Ice Age 2: The Meltdown</td>\n",
              "      <td>GC</td>\n",
              "      <td>2006.0</td>\n",
              "      <td>Platform</td>\n",
              "      <td>Vivendi Games</td>\n",
              "      <td>0.15</td>\n",
              "      <td>0.04</td>\n",
              "      <td>0</td>\n",
              "      <td>0.01</td>\n",
              "    </tr>\n",
              "    <tr>\n",
              "      <th>16595</th>\n",
              "      <td>Rainbow Islands: Revolution</td>\n",
              "      <td>PSP</td>\n",
              "      <td>2005.0</td>\n",
              "      <td>Action</td>\n",
              "      <td>Rising Star Games</td>\n",
              "      <td>0.01</td>\n",
              "      <td>0</td>\n",
              "      <td>0</td>\n",
              "      <td>0</td>\n",
              "    </tr>\n",
              "    <tr>\n",
              "      <th>16596</th>\n",
              "      <td>NBA 2K16</td>\n",
              "      <td>PS3</td>\n",
              "      <td>2015.0</td>\n",
              "      <td>Sports</td>\n",
              "      <td>Take-Two Interactive</td>\n",
              "      <td>0.44</td>\n",
              "      <td>0.19</td>\n",
              "      <td>0.03</td>\n",
              "      <td>0.13</td>\n",
              "    </tr>\n",
              "    <tr>\n",
              "      <th>16597</th>\n",
              "      <td>Toukiden: The Age of Demons</td>\n",
              "      <td>PSV</td>\n",
              "      <td>2013.0</td>\n",
              "      <td>Action</td>\n",
              "      <td>Tecmo Koei</td>\n",
              "      <td>0.05</td>\n",
              "      <td>0.05</td>\n",
              "      <td>0.25</td>\n",
              "      <td>0.03</td>\n",
              "    </tr>\n",
              "    <tr>\n",
              "      <th>16598</th>\n",
              "      <td>The King of Fighters '95</td>\n",
              "      <td>PS</td>\n",
              "      <td>1996.0</td>\n",
              "      <td>Fighting</td>\n",
              "      <td>Sony Computer Entertainment</td>\n",
              "      <td>0</td>\n",
              "      <td>0</td>\n",
              "      <td>0.16</td>\n",
              "      <td>0.01</td>\n",
              "    </tr>\n",
              "  </tbody>\n",
              "</table>\n",
              "<p>16598 rows × 9 columns</p>\n",
              "</div>"
            ],
            "text/plain": [
              "                                                 Name  ... Other_Sales\n",
              "1                        Candace Kane's Candy Factory  ...           0\n",
              "2                                      The Munchables  ...        0.01\n",
              "3      Otome wa Oanesama Boku ni Koi Shiteru Portable  ...           0\n",
              "4                    Deal or No Deal: Special Edition  ...           0\n",
              "5           Ben 10 Ultimate Alien: Cosmic Destruction  ...        0.04\n",
              "...                                               ...  ...         ...\n",
              "16594                         Ice Age 2: The Meltdown  ...        0.01\n",
              "16595                     Rainbow Islands: Revolution  ...           0\n",
              "16596                                        NBA 2K16  ...        0.13\n",
              "16597                     Toukiden: The Age of Demons  ...        0.03\n",
              "16598                        The King of Fighters '95  ...        0.01\n",
              "\n",
              "[16598 rows x 9 columns]"
            ]
          },
          "metadata": {
            "tags": []
          },
          "execution_count": 313
        }
      ]
    },
    {
      "cell_type": "markdown",
      "metadata": {
        "id": "zIw9Ps5Pojci"
      },
      "source": [
        "##전처리\n",
        "\n",
        "전처리 진행 사항 요약:\n",
        "- Sales 를 M 값으로 통합\n",
        "- 년도 4자리로 통일하게 수정\n",
        "- missingdata 를 0 또는 제거\n"
      ]
    },
    {
      "cell_type": "code",
      "metadata": {
        "id": "7cF7U2F48gUt"
      },
      "source": [
        "#erase M\n",
        "\n",
        "df['NA_Sales'] = df['NA_Sales'].str.replace(\"M\",\"\")\n",
        "df['EU_Sales'] = df['EU_Sales'].str.replace(\"M\",\"\")\n",
        "df['JP_Sales'] = df['JP_Sales'].str.replace(\"M\",\"\")\n",
        "df['Other_Sales'] = df['Other_Sales'].str.replace(\"M\",\"\")\n",
        "\n",
        "#df.dtypes "
      ],
      "execution_count": 314,
      "outputs": []
    },
    {
      "cell_type": "code",
      "metadata": {
        "id": "S32ZuC_fNNn0"
      },
      "source": [
        "def value_to_float(x):  #erase K and divide by 1000\n",
        "    if type(x) == float or type(x) == int:\n",
        "        return x\n",
        "    if 'K' in x:\n",
        "        if len(x) > 1:\n",
        "            x= float(x.replace('K', '')) / 1000\n",
        "    return float(x)\n",
        "\n",
        "#tesing with NA\n",
        "df['NA_Sales'] = df['NA_Sales'].apply(value_to_float)"
      ],
      "execution_count": 315,
      "outputs": []
    },
    {
      "cell_type": "code",
      "metadata": {
        "colab": {
          "base_uri": "https://localhost:8080/"
        },
        "id": "E3W4k4mRNt3y",
        "outputId": "445529ec-255c-4978-b4a7-a9302ce0ca00"
      },
      "source": [
        "df.iloc[5296] #value is correct"
      ],
      "execution_count": 305,
      "outputs": [
        {
          "output_type": "execute_result",
          "data": {
            "text/plain": [
              "Name               Forza Motorsport 5\n",
              "Platform                         XOne\n",
              "Year                             2013\n",
              "Genre                          Racing\n",
              "Publisher      Microsoft Game Studios\n",
              "NA_Sales                         1.21\n",
              "EU_Sales                         0.78\n",
              "JP_Sales                         0.01\n",
              "Other_Sales                      0.17\n",
              "Total_Sales                      2.17\n",
              "Interval                        2010s\n",
              "Name: 5297, dtype: object"
            ]
          },
          "metadata": {
            "tags": []
          },
          "execution_count": 305
        }
      ]
    },
    {
      "cell_type": "code",
      "metadata": {
        "id": "BtY-aOEaN15o"
      },
      "source": [
        "#apply to other sales column\n",
        "df['EU_Sales'] = df['EU_Sales'].apply(value_to_float)\n",
        "df['JP_Sales'] = df['JP_Sales'].apply(value_to_float)\n",
        "df['Other_Sales'] = df['Other_Sales'].apply(value_to_float)"
      ],
      "execution_count": 306,
      "outputs": []
    },
    {
      "cell_type": "code",
      "metadata": {
        "colab": {
          "base_uri": "https://localhost:8080/"
        },
        "id": "fDR5sfLzN-v9",
        "outputId": "04b48179-fe8d-4448-d091-8c2ec617b6eb"
      },
      "source": [
        "df.iloc[5296] #value is correct"
      ],
      "execution_count": 307,
      "outputs": [
        {
          "output_type": "execute_result",
          "data": {
            "text/plain": [
              "Name               Forza Motorsport 5\n",
              "Platform                         XOne\n",
              "Year                             2013\n",
              "Genre                          Racing\n",
              "Publisher      Microsoft Game Studios\n",
              "NA_Sales                         1.21\n",
              "EU_Sales                         0.78\n",
              "JP_Sales                         0.01\n",
              "Other_Sales                      0.17\n",
              "Total_Sales                      2.17\n",
              "Interval                        2010s\n",
              "Name: 5297, dtype: object"
            ]
          },
          "metadata": {
            "tags": []
          },
          "execution_count": 307
        }
      ]
    },
    {
      "cell_type": "code",
      "metadata": {
        "colab": {
          "base_uri": "https://localhost:8080/"
        },
        "id": "Qfc8lDZROt1G",
        "outputId": "70a3a481-cf4e-43ea-82c9-cc9923a2a797"
      },
      "source": [
        "df.dtypes #sales float 로 변경 확인"
      ],
      "execution_count": 308,
      "outputs": [
        {
          "output_type": "execute_result",
          "data": {
            "text/plain": [
              "Name            object\n",
              "Platform        object\n",
              "Year             int64\n",
              "Genre           object\n",
              "Publisher       object\n",
              "NA_Sales       float64\n",
              "EU_Sales       float64\n",
              "JP_Sales       float64\n",
              "Other_Sales    float64\n",
              "Total_Sales    float64\n",
              "Interval        object\n",
              "dtype: object"
            ]
          },
          "metadata": {
            "tags": []
          },
          "execution_count": 308
        }
      ]
    },
    {
      "cell_type": "markdown",
      "metadata": {
        "id": "-dovIPCuPofG"
      },
      "source": [
        "현재까지: \n",
        "- df upload\n",
        "- sales 를 million 값으로 모두 처리\n",
        "- null 요약: \n",
        "    - Year: 271\n",
        "    - Genre: 50\n",
        "    - Publisher: 58"
      ]
    },
    {
      "cell_type": "code",
      "metadata": {
        "colab": {
          "base_uri": "https://localhost:8080/"
        },
        "id": "JxL3h8IAQAVw",
        "outputId": "1470f19b-0cbf-4122-8e98-0fef2828c77c"
      },
      "source": [
        "df.isnull().sum()"
      ],
      "execution_count": 309,
      "outputs": [
        {
          "output_type": "execute_result",
          "data": {
            "text/plain": [
              "Name            0\n",
              "Platform        0\n",
              "Year            0\n",
              "Genre          50\n",
              "Publisher      58\n",
              "NA_Sales        0\n",
              "EU_Sales        0\n",
              "JP_Sales        0\n",
              "Other_Sales     0\n",
              "Total_Sales     0\n",
              "Interval        0\n",
              "dtype: int64"
            ]
          },
          "metadata": {
            "tags": []
          },
          "execution_count": 309
        }
      ]
    },
    {
      "cell_type": "code",
      "metadata": {
        "id": "ale-TyU9Tcqi"
      },
      "source": [
        "def clean_year(x):\n",
        "    if x < 20:\n",
        "        x = x + 2000\n",
        "    else:\n",
        "        if 60 < x < 99:\n",
        "            x = x + 1900\n",
        "    return x\n",
        "\n",
        "#fix 2-digit data and change to int or float\n",
        "df['Year']= df['Year'].apply(clean_year)\n"
      ],
      "execution_count": 310,
      "outputs": []
    },
    {
      "cell_type": "code",
      "metadata": {
        "colab": {
          "base_uri": "https://localhost:8080/"
        },
        "id": "d0eixvWfVOYy",
        "outputId": "a6ed4dd7-11cc-4f14-d5c6-e856409da6e3"
      },
      "source": [
        "df.iloc[2429] #value is correct"
      ],
      "execution_count": 311,
      "outputs": [
        {
          "output_type": "execute_result",
          "data": {
            "text/plain": [
              "Name              Casper\n",
              "Platform              PS\n",
              "Year                1996\n",
              "Genre          Adventure\n",
              "Publisher      Interplay\n",
              "NA_Sales            0.46\n",
              "EU_Sales            0.31\n",
              "JP_Sales               0\n",
              "Other_Sales         0.05\n",
              "Total_Sales         0.82\n",
              "Interval           1990s\n",
              "Name: 2430, dtype: object"
            ]
          },
          "metadata": {
            "tags": []
          },
          "execution_count": 311
        }
      ]
    },
    {
      "cell_type": "code",
      "metadata": {
        "id": "j_lqpP02QZKX"
      },
      "source": [
        "#fill Nan in 'year' to 0, change to int\n",
        "df['Year']= df['Year'].fillna(0).astype(int)\n"
      ],
      "execution_count": 312,
      "outputs": []
    },
    {
      "cell_type": "markdown",
      "metadata": {
        "id": "99JQ0MIKWife"
      },
      "source": [
        "#Q1. 지역에 따라서 선호하는 게임 장르가 다를까\n",
        "\n",
        "진행 순서:\n",
        "1. genre 종류 파악\n",
        "2. genre 그룹별로 묶어 means 를 확인\n",
        "3. 표로 결과 시각화 \n",
        "\n"
      ]
    },
    {
      "cell_type": "markdown",
      "metadata": {
        "id": "n3CcRvwCMRgY"
      },
      "source": [
        "##Code"
      ]
    },
    {
      "cell_type": "code",
      "metadata": {
        "colab": {
          "base_uri": "https://localhost:8080/"
        },
        "id": "4FvCk-1uWhzT",
        "outputId": "af06f09b-0913-4865-a028-64b97ee07689"
      },
      "source": [
        "#Genre 종류 보기\n",
        "df['Genre'].unique()"
      ],
      "execution_count": 173,
      "outputs": [
        {
          "output_type": "execute_result",
          "data": {
            "text/plain": [
              "array(['Action', 'Adventure', 'Misc', 'Platform', 'Sports', 'Simulation',\n",
              "       'Racing', 'Role-Playing', 'Puzzle', 'Strategy', 'Fighting',\n",
              "       'Shooter', nan], dtype=object)"
            ]
          },
          "metadata": {
            "tags": []
          },
          "execution_count": 173
        }
      ]
    },
    {
      "cell_type": "code",
      "metadata": {
        "id": "Fz853pNvA9Kl"
      },
      "source": [
        "#df1= genre + location \n",
        "gen_loc = {'Genre': df['Genre'], 'NA': df['NA_Sales'], 'EU': df['EU_Sales'], 'JP': df['JP_Sales'], 'Other': df['Other_Sales']}\n",
        "\n",
        "df1= pd.DataFrame(data=gen_loc)\n"
      ],
      "execution_count": 174,
      "outputs": []
    },
    {
      "cell_type": "code",
      "metadata": {
        "id": "go65KwRZ_4YU",
        "colab": {
          "base_uri": "https://localhost:8080/",
          "height": 421
        },
        "outputId": "2cfabb2f-584d-4cf1-e566-50201dccc65d"
      },
      "source": [
        "#grouby 이용해서 그룹별로 나누기이용해서 그룹별로 나누기\n",
        "\n",
        "df_genre= df1.groupby(['Genre'], as_index=False).mean()\n",
        "df_genre"
      ],
      "execution_count": 175,
      "outputs": [
        {
          "output_type": "execute_result",
          "data": {
            "text/html": [
              "<div>\n",
              "<style scoped>\n",
              "    .dataframe tbody tr th:only-of-type {\n",
              "        vertical-align: middle;\n",
              "    }\n",
              "\n",
              "    .dataframe tbody tr th {\n",
              "        vertical-align: top;\n",
              "    }\n",
              "\n",
              "    .dataframe thead th {\n",
              "        text-align: right;\n",
              "    }\n",
              "</style>\n",
              "<table border=\"1\" class=\"dataframe\">\n",
              "  <thead>\n",
              "    <tr style=\"text-align: right;\">\n",
              "      <th></th>\n",
              "      <th>Genre</th>\n",
              "      <th>NA</th>\n",
              "      <th>EU</th>\n",
              "      <th>JP</th>\n",
              "      <th>Other</th>\n",
              "    </tr>\n",
              "  </thead>\n",
              "  <tbody>\n",
              "    <tr>\n",
              "      <th>0</th>\n",
              "      <td>Action</td>\n",
              "      <td>0.264693</td>\n",
              "      <td>0.157991</td>\n",
              "      <td>0.047776</td>\n",
              "      <td>0.056415</td>\n",
              "    </tr>\n",
              "    <tr>\n",
              "      <th>1</th>\n",
              "      <td>Adventure</td>\n",
              "      <td>0.082547</td>\n",
              "      <td>0.050039</td>\n",
              "      <td>0.040586</td>\n",
              "      <td>0.013133</td>\n",
              "    </tr>\n",
              "    <tr>\n",
              "      <th>2</th>\n",
              "      <td>Fighting</td>\n",
              "      <td>0.263518</td>\n",
              "      <td>0.119504</td>\n",
              "      <td>0.103117</td>\n",
              "      <td>0.043259</td>\n",
              "    </tr>\n",
              "    <tr>\n",
              "      <th>3</th>\n",
              "      <td>Misc</td>\n",
              "      <td>0.235323</td>\n",
              "      <td>0.122468</td>\n",
              "      <td>0.060709</td>\n",
              "      <td>0.042699</td>\n",
              "    </tr>\n",
              "    <tr>\n",
              "      <th>4</th>\n",
              "      <td>Platform</td>\n",
              "      <td>0.505023</td>\n",
              "      <td>0.228066</td>\n",
              "      <td>0.147794</td>\n",
              "      <td>0.058292</td>\n",
              "    </tr>\n",
              "    <tr>\n",
              "      <th>5</th>\n",
              "      <td>Puzzle</td>\n",
              "      <td>0.213408</td>\n",
              "      <td>0.087768</td>\n",
              "      <td>0.098391</td>\n",
              "      <td>0.021661</td>\n",
              "    </tr>\n",
              "    <tr>\n",
              "      <th>6</th>\n",
              "      <td>Racing</td>\n",
              "      <td>0.287361</td>\n",
              "      <td>0.190748</td>\n",
              "      <td>0.045374</td>\n",
              "      <td>0.062027</td>\n",
              "    </tr>\n",
              "    <tr>\n",
              "      <th>7</th>\n",
              "      <td>Role-Playing</td>\n",
              "      <td>0.215469</td>\n",
              "      <td>0.123790</td>\n",
              "      <td>0.232603</td>\n",
              "      <td>0.038409</td>\n",
              "    </tr>\n",
              "    <tr>\n",
              "      <th>8</th>\n",
              "      <td>Shooter</td>\n",
              "      <td>0.444893</td>\n",
              "      <td>0.239335</td>\n",
              "      <td>0.029266</td>\n",
              "      <td>0.078479</td>\n",
              "    </tr>\n",
              "    <tr>\n",
              "      <th>9</th>\n",
              "      <td>Simulation</td>\n",
              "      <td>0.211514</td>\n",
              "      <td>0.131040</td>\n",
              "      <td>0.073642</td>\n",
              "      <td>0.036393</td>\n",
              "    </tr>\n",
              "    <tr>\n",
              "      <th>10</th>\n",
              "      <td>Sports</td>\n",
              "      <td>0.290696</td>\n",
              "      <td>0.160820</td>\n",
              "      <td>0.057826</td>\n",
              "      <td>0.057527</td>\n",
              "    </tr>\n",
              "    <tr>\n",
              "      <th>11</th>\n",
              "      <td>Strategy</td>\n",
              "      <td>0.101029</td>\n",
              "      <td>0.066647</td>\n",
              "      <td>0.072735</td>\n",
              "      <td>0.016706</td>\n",
              "    </tr>\n",
              "  </tbody>\n",
              "</table>\n",
              "</div>"
            ],
            "text/plain": [
              "           Genre        NA        EU        JP     Other\n",
              "0         Action  0.264693  0.157991  0.047776  0.056415\n",
              "1      Adventure  0.082547  0.050039  0.040586  0.013133\n",
              "2       Fighting  0.263518  0.119504  0.103117  0.043259\n",
              "3           Misc  0.235323  0.122468  0.060709  0.042699\n",
              "4       Platform  0.505023  0.228066  0.147794  0.058292\n",
              "5         Puzzle  0.213408  0.087768  0.098391  0.021661\n",
              "6         Racing  0.287361  0.190748  0.045374  0.062027\n",
              "7   Role-Playing  0.215469  0.123790  0.232603  0.038409\n",
              "8        Shooter  0.444893  0.239335  0.029266  0.078479\n",
              "9     Simulation  0.211514  0.131040  0.073642  0.036393\n",
              "10        Sports  0.290696  0.160820  0.057826  0.057527\n",
              "11      Strategy  0.101029  0.066647  0.072735  0.016706"
            ]
          },
          "metadata": {
            "tags": []
          },
          "execution_count": 175
        }
      ]
    },
    {
      "cell_type": "markdown",
      "metadata": {
        "id": "31jpG23Ad6OP"
      },
      "source": [
        "####Tidy\n",
        "df name: tidy_genre"
      ]
    },
    {
      "cell_type": "code",
      "metadata": {
        "colab": {
          "base_uri": "https://localhost:8080/",
          "height": 1000
        },
        "id": "bjygSikM9p0a",
        "outputId": "d21c241b-ad83-4a07-f078-4c54d0d996b0"
      },
      "source": [
        "#sns 시각화를 위해 tidy 형태로 변형\n",
        "tidy_genre = df_genre.reset_index()\n",
        "tidy_genre= tidy_genre.melt(id_vars = 'Genre', value_vars = ['NA', 'EU', 'JP', 'Other'])\n",
        "tidy_genre\n",
        "\n",
        "#rename column\n",
        "tidy_genre = tidy_genre.rename(\n",
        "    columns = {\n",
        "        'variable': 'Country', \n",
        "        'value': 'Mean of Sales'\n",
        "        })\n",
        "tidy_genre"
      ],
      "execution_count": 316,
      "outputs": [
        {
          "output_type": "execute_result",
          "data": {
            "text/html": [
              "<div>\n",
              "<style scoped>\n",
              "    .dataframe tbody tr th:only-of-type {\n",
              "        vertical-align: middle;\n",
              "    }\n",
              "\n",
              "    .dataframe tbody tr th {\n",
              "        vertical-align: top;\n",
              "    }\n",
              "\n",
              "    .dataframe thead th {\n",
              "        text-align: right;\n",
              "    }\n",
              "</style>\n",
              "<table border=\"1\" class=\"dataframe\">\n",
              "  <thead>\n",
              "    <tr style=\"text-align: right;\">\n",
              "      <th></th>\n",
              "      <th>Genre</th>\n",
              "      <th>Country</th>\n",
              "      <th>Mean of Sales</th>\n",
              "    </tr>\n",
              "  </thead>\n",
              "  <tbody>\n",
              "    <tr>\n",
              "      <th>0</th>\n",
              "      <td>Action</td>\n",
              "      <td>NA</td>\n",
              "      <td>0.264693</td>\n",
              "    </tr>\n",
              "    <tr>\n",
              "      <th>1</th>\n",
              "      <td>Adventure</td>\n",
              "      <td>NA</td>\n",
              "      <td>0.082547</td>\n",
              "    </tr>\n",
              "    <tr>\n",
              "      <th>2</th>\n",
              "      <td>Fighting</td>\n",
              "      <td>NA</td>\n",
              "      <td>0.263518</td>\n",
              "    </tr>\n",
              "    <tr>\n",
              "      <th>3</th>\n",
              "      <td>Misc</td>\n",
              "      <td>NA</td>\n",
              "      <td>0.235323</td>\n",
              "    </tr>\n",
              "    <tr>\n",
              "      <th>4</th>\n",
              "      <td>Platform</td>\n",
              "      <td>NA</td>\n",
              "      <td>0.505023</td>\n",
              "    </tr>\n",
              "    <tr>\n",
              "      <th>5</th>\n",
              "      <td>Puzzle</td>\n",
              "      <td>NA</td>\n",
              "      <td>0.213408</td>\n",
              "    </tr>\n",
              "    <tr>\n",
              "      <th>6</th>\n",
              "      <td>Racing</td>\n",
              "      <td>NA</td>\n",
              "      <td>0.287361</td>\n",
              "    </tr>\n",
              "    <tr>\n",
              "      <th>7</th>\n",
              "      <td>Role-Playing</td>\n",
              "      <td>NA</td>\n",
              "      <td>0.215469</td>\n",
              "    </tr>\n",
              "    <tr>\n",
              "      <th>8</th>\n",
              "      <td>Shooter</td>\n",
              "      <td>NA</td>\n",
              "      <td>0.444893</td>\n",
              "    </tr>\n",
              "    <tr>\n",
              "      <th>9</th>\n",
              "      <td>Simulation</td>\n",
              "      <td>NA</td>\n",
              "      <td>0.211514</td>\n",
              "    </tr>\n",
              "    <tr>\n",
              "      <th>10</th>\n",
              "      <td>Sports</td>\n",
              "      <td>NA</td>\n",
              "      <td>0.290696</td>\n",
              "    </tr>\n",
              "    <tr>\n",
              "      <th>11</th>\n",
              "      <td>Strategy</td>\n",
              "      <td>NA</td>\n",
              "      <td>0.101029</td>\n",
              "    </tr>\n",
              "    <tr>\n",
              "      <th>12</th>\n",
              "      <td>Action</td>\n",
              "      <td>EU</td>\n",
              "      <td>0.157991</td>\n",
              "    </tr>\n",
              "    <tr>\n",
              "      <th>13</th>\n",
              "      <td>Adventure</td>\n",
              "      <td>EU</td>\n",
              "      <td>0.050039</td>\n",
              "    </tr>\n",
              "    <tr>\n",
              "      <th>14</th>\n",
              "      <td>Fighting</td>\n",
              "      <td>EU</td>\n",
              "      <td>0.119504</td>\n",
              "    </tr>\n",
              "    <tr>\n",
              "      <th>15</th>\n",
              "      <td>Misc</td>\n",
              "      <td>EU</td>\n",
              "      <td>0.122468</td>\n",
              "    </tr>\n",
              "    <tr>\n",
              "      <th>16</th>\n",
              "      <td>Platform</td>\n",
              "      <td>EU</td>\n",
              "      <td>0.228066</td>\n",
              "    </tr>\n",
              "    <tr>\n",
              "      <th>17</th>\n",
              "      <td>Puzzle</td>\n",
              "      <td>EU</td>\n",
              "      <td>0.087768</td>\n",
              "    </tr>\n",
              "    <tr>\n",
              "      <th>18</th>\n",
              "      <td>Racing</td>\n",
              "      <td>EU</td>\n",
              "      <td>0.190748</td>\n",
              "    </tr>\n",
              "    <tr>\n",
              "      <th>19</th>\n",
              "      <td>Role-Playing</td>\n",
              "      <td>EU</td>\n",
              "      <td>0.123790</td>\n",
              "    </tr>\n",
              "    <tr>\n",
              "      <th>20</th>\n",
              "      <td>Shooter</td>\n",
              "      <td>EU</td>\n",
              "      <td>0.239335</td>\n",
              "    </tr>\n",
              "    <tr>\n",
              "      <th>21</th>\n",
              "      <td>Simulation</td>\n",
              "      <td>EU</td>\n",
              "      <td>0.131040</td>\n",
              "    </tr>\n",
              "    <tr>\n",
              "      <th>22</th>\n",
              "      <td>Sports</td>\n",
              "      <td>EU</td>\n",
              "      <td>0.160820</td>\n",
              "    </tr>\n",
              "    <tr>\n",
              "      <th>23</th>\n",
              "      <td>Strategy</td>\n",
              "      <td>EU</td>\n",
              "      <td>0.066647</td>\n",
              "    </tr>\n",
              "    <tr>\n",
              "      <th>24</th>\n",
              "      <td>Action</td>\n",
              "      <td>JP</td>\n",
              "      <td>0.047776</td>\n",
              "    </tr>\n",
              "    <tr>\n",
              "      <th>25</th>\n",
              "      <td>Adventure</td>\n",
              "      <td>JP</td>\n",
              "      <td>0.040586</td>\n",
              "    </tr>\n",
              "    <tr>\n",
              "      <th>26</th>\n",
              "      <td>Fighting</td>\n",
              "      <td>JP</td>\n",
              "      <td>0.103117</td>\n",
              "    </tr>\n",
              "    <tr>\n",
              "      <th>27</th>\n",
              "      <td>Misc</td>\n",
              "      <td>JP</td>\n",
              "      <td>0.060709</td>\n",
              "    </tr>\n",
              "    <tr>\n",
              "      <th>28</th>\n",
              "      <td>Platform</td>\n",
              "      <td>JP</td>\n",
              "      <td>0.147794</td>\n",
              "    </tr>\n",
              "    <tr>\n",
              "      <th>29</th>\n",
              "      <td>Puzzle</td>\n",
              "      <td>JP</td>\n",
              "      <td>0.098391</td>\n",
              "    </tr>\n",
              "    <tr>\n",
              "      <th>30</th>\n",
              "      <td>Racing</td>\n",
              "      <td>JP</td>\n",
              "      <td>0.045374</td>\n",
              "    </tr>\n",
              "    <tr>\n",
              "      <th>31</th>\n",
              "      <td>Role-Playing</td>\n",
              "      <td>JP</td>\n",
              "      <td>0.232603</td>\n",
              "    </tr>\n",
              "    <tr>\n",
              "      <th>32</th>\n",
              "      <td>Shooter</td>\n",
              "      <td>JP</td>\n",
              "      <td>0.029266</td>\n",
              "    </tr>\n",
              "    <tr>\n",
              "      <th>33</th>\n",
              "      <td>Simulation</td>\n",
              "      <td>JP</td>\n",
              "      <td>0.073642</td>\n",
              "    </tr>\n",
              "    <tr>\n",
              "      <th>34</th>\n",
              "      <td>Sports</td>\n",
              "      <td>JP</td>\n",
              "      <td>0.057826</td>\n",
              "    </tr>\n",
              "    <tr>\n",
              "      <th>35</th>\n",
              "      <td>Strategy</td>\n",
              "      <td>JP</td>\n",
              "      <td>0.072735</td>\n",
              "    </tr>\n",
              "    <tr>\n",
              "      <th>36</th>\n",
              "      <td>Action</td>\n",
              "      <td>Other</td>\n",
              "      <td>0.056415</td>\n",
              "    </tr>\n",
              "    <tr>\n",
              "      <th>37</th>\n",
              "      <td>Adventure</td>\n",
              "      <td>Other</td>\n",
              "      <td>0.013133</td>\n",
              "    </tr>\n",
              "    <tr>\n",
              "      <th>38</th>\n",
              "      <td>Fighting</td>\n",
              "      <td>Other</td>\n",
              "      <td>0.043259</td>\n",
              "    </tr>\n",
              "    <tr>\n",
              "      <th>39</th>\n",
              "      <td>Misc</td>\n",
              "      <td>Other</td>\n",
              "      <td>0.042699</td>\n",
              "    </tr>\n",
              "    <tr>\n",
              "      <th>40</th>\n",
              "      <td>Platform</td>\n",
              "      <td>Other</td>\n",
              "      <td>0.058292</td>\n",
              "    </tr>\n",
              "    <tr>\n",
              "      <th>41</th>\n",
              "      <td>Puzzle</td>\n",
              "      <td>Other</td>\n",
              "      <td>0.021661</td>\n",
              "    </tr>\n",
              "    <tr>\n",
              "      <th>42</th>\n",
              "      <td>Racing</td>\n",
              "      <td>Other</td>\n",
              "      <td>0.062027</td>\n",
              "    </tr>\n",
              "    <tr>\n",
              "      <th>43</th>\n",
              "      <td>Role-Playing</td>\n",
              "      <td>Other</td>\n",
              "      <td>0.038409</td>\n",
              "    </tr>\n",
              "    <tr>\n",
              "      <th>44</th>\n",
              "      <td>Shooter</td>\n",
              "      <td>Other</td>\n",
              "      <td>0.078479</td>\n",
              "    </tr>\n",
              "    <tr>\n",
              "      <th>45</th>\n",
              "      <td>Simulation</td>\n",
              "      <td>Other</td>\n",
              "      <td>0.036393</td>\n",
              "    </tr>\n",
              "    <tr>\n",
              "      <th>46</th>\n",
              "      <td>Sports</td>\n",
              "      <td>Other</td>\n",
              "      <td>0.057527</td>\n",
              "    </tr>\n",
              "    <tr>\n",
              "      <th>47</th>\n",
              "      <td>Strategy</td>\n",
              "      <td>Other</td>\n",
              "      <td>0.016706</td>\n",
              "    </tr>\n",
              "  </tbody>\n",
              "</table>\n",
              "</div>"
            ],
            "text/plain": [
              "           Genre Country  Mean of Sales\n",
              "0         Action      NA       0.264693\n",
              "1      Adventure      NA       0.082547\n",
              "2       Fighting      NA       0.263518\n",
              "3           Misc      NA       0.235323\n",
              "4       Platform      NA       0.505023\n",
              "5         Puzzle      NA       0.213408\n",
              "6         Racing      NA       0.287361\n",
              "7   Role-Playing      NA       0.215469\n",
              "8        Shooter      NA       0.444893\n",
              "9     Simulation      NA       0.211514\n",
              "10        Sports      NA       0.290696\n",
              "11      Strategy      NA       0.101029\n",
              "12        Action      EU       0.157991\n",
              "13     Adventure      EU       0.050039\n",
              "14      Fighting      EU       0.119504\n",
              "15          Misc      EU       0.122468\n",
              "16      Platform      EU       0.228066\n",
              "17        Puzzle      EU       0.087768\n",
              "18        Racing      EU       0.190748\n",
              "19  Role-Playing      EU       0.123790\n",
              "20       Shooter      EU       0.239335\n",
              "21    Simulation      EU       0.131040\n",
              "22        Sports      EU       0.160820\n",
              "23      Strategy      EU       0.066647\n",
              "24        Action      JP       0.047776\n",
              "25     Adventure      JP       0.040586\n",
              "26      Fighting      JP       0.103117\n",
              "27          Misc      JP       0.060709\n",
              "28      Platform      JP       0.147794\n",
              "29        Puzzle      JP       0.098391\n",
              "30        Racing      JP       0.045374\n",
              "31  Role-Playing      JP       0.232603\n",
              "32       Shooter      JP       0.029266\n",
              "33    Simulation      JP       0.073642\n",
              "34        Sports      JP       0.057826\n",
              "35      Strategy      JP       0.072735\n",
              "36        Action   Other       0.056415\n",
              "37     Adventure   Other       0.013133\n",
              "38      Fighting   Other       0.043259\n",
              "39          Misc   Other       0.042699\n",
              "40      Platform   Other       0.058292\n",
              "41        Puzzle   Other       0.021661\n",
              "42        Racing   Other       0.062027\n",
              "43  Role-Playing   Other       0.038409\n",
              "44       Shooter   Other       0.078479\n",
              "45    Simulation   Other       0.036393\n",
              "46        Sports   Other       0.057527\n",
              "47      Strategy   Other       0.016706"
            ]
          },
          "metadata": {
            "tags": []
          },
          "execution_count": 316
        }
      ]
    },
    {
      "cell_type": "markdown",
      "metadata": {
        "id": "OkVbUnwCMWVn"
      },
      "source": [
        "##Visualization"
      ]
    },
    {
      "cell_type": "markdown",
      "metadata": {
        "id": "4cZjNPZ3PRot"
      },
      "source": [
        "### Bar Plot: Sales Mean for each genre organized by country"
      ]
    },
    {
      "cell_type": "code",
      "metadata": {
        "colab": {
          "base_uri": "https://localhost:8080/",
          "height": 334
        },
        "id": "4LoB9TGNvrQc",
        "outputId": "703136f3-dd56-416a-d6ea-e6d22d6e5554"
      },
      "source": [
        "import seaborn as sns\n",
        "import matplotlib.pyplot as plt\n",
        "#barplot\n",
        "\n",
        "plt.figure(figsize=(10,5))\n",
        "sns.barplot(x= 'Country', y= 'Mean of Sales', hue= 'Genre', palette = 'hls', data=tidy_genre)\n",
        "plt.show()\n",
        "# g.despine(left=True)\n",
        "# g.set_axis_labels(\"\", \"Body mass (g)\")\n",
        "# g.legend.set_title(\"\")"
      ],
      "execution_count": 177,
      "outputs": [
        {
          "output_type": "display_data",
          "data": {
            "image/png": "[encoded data removed]",
            "text/plain": [
              "<Figure size 720x360 with 1 Axes>"
            ]
          },
          "metadata": {
            "tags": [],
            "needs_background": "light"
          }
        }
      ]
    },
    {
      "cell_type": "code",
      "metadata": {
        "colab": {
          "base_uri": "https://localhost:8080/",
          "height": 297
        },
        "id": "H2a9U8jTB7FL",
        "outputId": "c38fa042-7be5-4862-e6d4-3f62fb4771a7"
      },
      "source": [
        "#make separate graphs by country\n",
        "g = sns.FacetGrid(data = tidy_genre, col = 'Country', height=4, aspect=.8)\n",
        "\n",
        "g.map_dataframe(\n",
        "    sns.barplot,\n",
        "    x = 'Country',\n",
        "    y = 'Mean of Sales',\n",
        "    hue = 'Genre', # color\n",
        "    palette = 'hls',\n",
        "    data = tidy_genre\n",
        ")\n",
        "g.add_legend();\n",
        "g.set_axis_labels(\"\", \"Sales Mean\")\n",
        "g.legend.set_title(\"Genre\")"
      ],
      "execution_count": 178,
      "outputs": [
        {
          "output_type": "display_data",
          "data": {
            "image/png": "[encoded data removed]",
            "text/plain": [
              "<Figure size 1019.1x288 with 4 Axes>"
            ]
          },
          "metadata": {
            "tags": [],
            "needs_background": "light"
          }
        }
      ]
    },
    {
      "cell_type": "markdown",
      "metadata": {
        "id": "2r1DI1oWPp6F"
      },
      "source": [
        "###Pie Chart: ratio of genre for each country"
      ]
    },
    {
      "cell_type": "markdown",
      "metadata": {
        "id": "vjrmEcJ4gm13"
      },
      "source": [
        "####Code"
      ]
    },
    {
      "cell_type": "code",
      "metadata": {
        "colab": {
          "base_uri": "https://localhost:8080/"
        },
        "id": "HNoEv2PsBr0K",
        "outputId": "9a973bfc-5253-46d6-f451-4fb672c5701c"
      },
      "source": [
        "#organize list by largest for each region\n",
        "\n",
        "NA_genre_list= df_genre.nlargest(1, 'NA'). drop(['EU', 'JP', 'Other'], axis=1)\n",
        "print(NA_genre_list)\n",
        "print(\"---------------------------------\")\n",
        "EU_genre_list= df_genre.nlargest(1, 'EU'). drop(['NA', 'JP', 'Other'], axis=1)\n",
        "print(EU_genre_list)\n",
        "print(\"---------------------------------\")\n",
        "JP_genre_list= df_genre.nlargest(1, 'JP'). drop(['NA', 'EU', 'Other'], axis=1)\n",
        "print(JP_genre_list)\n",
        "print(\"---------------------------------\")\n",
        "Other_genre_list= df_genre.nlargest(1, 'Other'). drop(['NA', 'EU', 'JP'], axis=1)\n",
        "print(Other_genre_list)"
      ],
      "execution_count": 179,
      "outputs": [
        {
          "output_type": "stream",
          "text": [
            "      Genre        NA\n",
            "4  Platform  0.505023\n",
            "---------------------------------\n",
            "     Genre        EU\n",
            "8  Shooter  0.239335\n",
            "---------------------------------\n",
            "          Genre        JP\n",
            "7  Role-Playing  0.232603\n",
            "---------------------------------\n",
            "     Genre     Other\n",
            "8  Shooter  0.078479\n"
          ],
          "name": "stdout"
        }
      ]
    },
    {
      "cell_type": "markdown",
      "metadata": {
        "id": "Qw9XSsW9gsN6"
      },
      "source": [
        "####Pie Chart"
      ]
    },
    {
      "cell_type": "code",
      "metadata": {
        "colab": {
          "base_uri": "https://localhost:8080/",
          "height": 321
        },
        "id": "5AhVpS4ESW-J",
        "outputId": "be5ceb5c-ffe0-4f7e-b250-b4bc1b216385"
      },
      "source": [
        "#NA pie chart\n",
        "explode = (0, 0, 0, 0, 0.1, 0, 0, 0, 0, 0, 0, 0)\n",
        "fig1, ax1 = plt.subplots(figsize=(5,5))\n",
        "\n",
        "ax1.pie(df_genre['NA'], explode=explode, labels=df_genre['Genre'], autopct='%1.1f%%',\n",
        "        shadow=True, startangle=90)\n",
        "ax1.set_title(\"NA Sales Mean by Genre\")\n",
        "ax1.axis('equal')  # Equal aspect ratio ensures that pie is drawn as a circle.\n",
        "\n",
        "plt.show()\n"
      ],
      "execution_count": 180,
      "outputs": [
        {
          "output_type": "display_data",
          "data": {
            "image/png": "[encoded data removed]",
            "text/plain": [
              "<Figure size 360x360 with 1 Axes>"
            ]
          },
          "metadata": {
            "tags": []
          }
        }
      ]
    },
    {
      "cell_type": "code",
      "metadata": {
        "colab": {
          "base_uri": "https://localhost:8080/",
          "height": 322
        },
        "id": "jNA3PHt4VHPe",
        "outputId": "60bdb3a8-9b84-403e-85c5-8e7f0861e36b"
      },
      "source": [
        "#EU\n",
        "explode = (0, 0, 0, 0, 0, 0, 0, 0, 0.1, 0, 0, 0)\n",
        "fig2, ax2 = plt.subplots(figsize=(5,5))\n",
        "\n",
        "ax2.pie(df_genre['EU'], explode=explode, labels=df_genre['Genre'], autopct='%1.1f%%',\n",
        "        shadow=True, startangle=90)\n",
        "ax2.set_title(\"EU Sales Mean by Genre\")\n",
        "ax2.axis('equal')  # Equal aspect ratio ensures that pie is drawn as a circle.\n",
        "\n",
        "plt.show()"
      ],
      "execution_count": 181,
      "outputs": [
        {
          "output_type": "display_data",
          "data": {
            "image/png": "[encoded data removed]",
            "text/plain": [
              "<Figure size 360x360 with 1 Axes>"
            ]
          },
          "metadata": {
            "tags": []
          }
        }
      ]
    },
    {
      "cell_type": "code",
      "metadata": {
        "colab": {
          "base_uri": "https://localhost:8080/",
          "height": 319
        },
        "id": "N2M5snykWSF3",
        "outputId": "bef5e6d7-0e41-4aba-ed6e-bfa95f97f18a"
      },
      "source": [
        "#JP\n",
        "explode = (0, 0, 0, 0, 0, 0, 0, 0.1, 0, 0, 0, 0)\n",
        "fig3, ax3 = plt.subplots(figsize=(5,5))\n",
        "\n",
        "ax3.pie(df_genre['JP'], explode=explode, labels=df_genre['Genre'], autopct='%1.1f%%',\n",
        "        shadow=True, startangle=90)\n",
        "ax3.set_title(\"JP Sales Mean by Genre\")\n",
        "ax3.axis('equal')  # Equal aspect ratio ensures that pie is drawn as a circle.\n",
        "\n",
        "plt.show()"
      ],
      "execution_count": 182,
      "outputs": [
        {
          "output_type": "display_data",
          "data": {
            "image/png": "[encoded data removed]",
            "text/plain": [
              "<Figure size 360x360 with 1 Axes>"
            ]
          },
          "metadata": {
            "tags": []
          }
        }
      ]
    },
    {
      "cell_type": "code",
      "metadata": {
        "colab": {
          "base_uri": "https://localhost:8080/",
          "height": 323
        },
        "id": "D7Rzu85FWtCM",
        "outputId": "fa2bd01d-ba5a-4a99-cc95-728ff341044b"
      },
      "source": [
        "#Other\n",
        "explode = (0, 0, 0, 0, 0, 0, 0, 0, 0.1, 0, 0, 0)\n",
        "fig4, ax4 = plt.subplots(figsize=(5,5))\n",
        "ax4.pie(df_genre['Other']*10, explode=explode, labels=df_genre['Genre'], autopct='%1.1f%%',\n",
        "        shadow=True, startangle=90)\n",
        "ax4.set_title(\"Other Sales Mean by Genre\")\n",
        "ax4.axis('equal')  # Equal aspect ratio ensures that pie is drawn as a circle.\n",
        "\n",
        "plt.show()"
      ],
      "execution_count": 183,
      "outputs": [
        {
          "output_type": "display_data",
          "data": {
            "image/png": "[encoded data removed]",
            "text/plain": [
              "<Figure size 360x360 with 1 Axes>"
            ]
          },
          "metadata": {
            "tags": []
          }
        }
      ]
    },
    {
      "cell_type": "markdown",
      "metadata": {
        "id": "M9sfyZLfDTLO"
      },
      "source": [
        "##Findings: \n",
        "- 북미에서는 Platform, Shooter, sports, racing action 순으로 많이 팔렸다. \n",
        "- Europe 에서는 1위가 Shooter 이며 shooter>platform>racing>sports>action 순이였다 \n",
        "- 일본에서는 특이하게 Role-playing 이 1위로 나타났다. 그 다음 순위는 platform, fighting, puzzle, simulation 으로 북미와 유럽에 비해 싸움과 액션보다는 시뮬레이션, 퍼즐 위주의 게임이 많이 팔림을 볼 수 있다. \n",
        "- 그 외 Other 에서는 shooter 이 가장 많이 팔렸으며 그 이후는 racing, platform, sports, action 등으로 북미와 유럽의 최고 5순위와 비슷했다. "
      ]
    },
    {
      "cell_type": "markdown",
      "metadata": {
        "id": "u_3AHZAgWqae"
      },
      "source": [
        "#Q2. 연도별 게임의 트렌드가 있을까 \n",
        "- year vs genre"
      ]
    },
    {
      "cell_type": "markdown",
      "metadata": {
        "id": "BJyA9WUgMkk_"
      },
      "source": [
        "##Code"
      ]
    },
    {
      "cell_type": "code",
      "metadata": {
        "colab": {
          "base_uri": "https://localhost:8080/",
          "height": 419
        },
        "id": "jQ8_Apm6f7QC",
        "cellView": "code",
        "outputId": "7f405e21-e209-4932-a523-a9d415e5d2e6"
      },
      "source": [
        "\n",
        "#df2= year+ genre\n",
        "year_genre = {'Year2': df['Year'], 'Genre2': df['Genre'], 'Count': 1 }\n",
        "\n",
        "df2= pd.DataFrame(data=year_genre)\n",
        "df2"
      ],
      "execution_count": 184,
      "outputs": [
        {
          "output_type": "execute_result",
          "data": {
            "text/html": [
              "<div>\n",
              "<style scoped>\n",
              "    .dataframe tbody tr th:only-of-type {\n",
              "        vertical-align: middle;\n",
              "    }\n",
              "\n",
              "    .dataframe tbody tr th {\n",
              "        vertical-align: top;\n",
              "    }\n",
              "\n",
              "    .dataframe thead th {\n",
              "        text-align: right;\n",
              "    }\n",
              "</style>\n",
              "<table border=\"1\" class=\"dataframe\">\n",
              "  <thead>\n",
              "    <tr style=\"text-align: right;\">\n",
              "      <th></th>\n",
              "      <th>Year2</th>\n",
              "      <th>Genre2</th>\n",
              "      <th>Count</th>\n",
              "    </tr>\n",
              "  </thead>\n",
              "  <tbody>\n",
              "    <tr>\n",
              "      <th>1</th>\n",
              "      <td>2008</td>\n",
              "      <td>Action</td>\n",
              "      <td>1</td>\n",
              "    </tr>\n",
              "    <tr>\n",
              "      <th>2</th>\n",
              "      <td>2009</td>\n",
              "      <td>Action</td>\n",
              "      <td>1</td>\n",
              "    </tr>\n",
              "    <tr>\n",
              "      <th>3</th>\n",
              "      <td>2010</td>\n",
              "      <td>Adventure</td>\n",
              "      <td>1</td>\n",
              "    </tr>\n",
              "    <tr>\n",
              "      <th>4</th>\n",
              "      <td>2010</td>\n",
              "      <td>Misc</td>\n",
              "      <td>1</td>\n",
              "    </tr>\n",
              "    <tr>\n",
              "      <th>5</th>\n",
              "      <td>2010</td>\n",
              "      <td>Platform</td>\n",
              "      <td>1</td>\n",
              "    </tr>\n",
              "    <tr>\n",
              "      <th>...</th>\n",
              "      <td>...</td>\n",
              "      <td>...</td>\n",
              "      <td>...</td>\n",
              "    </tr>\n",
              "    <tr>\n",
              "      <th>16594</th>\n",
              "      <td>2006</td>\n",
              "      <td>Platform</td>\n",
              "      <td>1</td>\n",
              "    </tr>\n",
              "    <tr>\n",
              "      <th>16595</th>\n",
              "      <td>2005</td>\n",
              "      <td>Action</td>\n",
              "      <td>1</td>\n",
              "    </tr>\n",
              "    <tr>\n",
              "      <th>16596</th>\n",
              "      <td>2015</td>\n",
              "      <td>Sports</td>\n",
              "      <td>1</td>\n",
              "    </tr>\n",
              "    <tr>\n",
              "      <th>16597</th>\n",
              "      <td>2013</td>\n",
              "      <td>Action</td>\n",
              "      <td>1</td>\n",
              "    </tr>\n",
              "    <tr>\n",
              "      <th>16598</th>\n",
              "      <td>1996</td>\n",
              "      <td>Fighting</td>\n",
              "      <td>1</td>\n",
              "    </tr>\n",
              "  </tbody>\n",
              "</table>\n",
              "<p>16598 rows × 3 columns</p>\n",
              "</div>"
            ],
            "text/plain": [
              "       Year2     Genre2  Count\n",
              "1       2008     Action      1\n",
              "2       2009     Action      1\n",
              "3       2010  Adventure      1\n",
              "4       2010       Misc      1\n",
              "5       2010   Platform      1\n",
              "...      ...        ...    ...\n",
              "16594   2006   Platform      1\n",
              "16595   2005     Action      1\n",
              "16596   2015     Sports      1\n",
              "16597   2013     Action      1\n",
              "16598   1996   Fighting      1\n",
              "\n",
              "[16598 rows x 3 columns]"
            ]
          },
          "metadata": {
            "tags": []
          },
          "execution_count": 184
        }
      ]
    },
    {
      "cell_type": "code",
      "metadata": {
        "id": "IoLE4xoZmgU8"
      },
      "source": [
        "#rid null values\n",
        "df2=df2.dropna()\n",
        "df2 = df2.loc[(df2[['Year2']] != 0).all(axis=1)]  #drop row with year:0\n"
      ],
      "execution_count": 185,
      "outputs": []
    },
    {
      "cell_type": "code",
      "metadata": {
        "colab": {
          "base_uri": "https://localhost:8080/",
          "height": 419
        },
        "id": "kTtWk8ZrzuWa",
        "outputId": "ab121410-8762-45c7-f134-77d8cd773eb7"
      },
      "source": [
        "df2_tidy= df2.groupby(['Year2', 'Genre2'], as_index=False)['Count'].count()\n",
        "df2_tidy"
      ],
      "execution_count": 186,
      "outputs": [
        {
          "output_type": "execute_result",
          "data": {
            "text/html": [
              "<div>\n",
              "<style scoped>\n",
              "    .dataframe tbody tr th:only-of-type {\n",
              "        vertical-align: middle;\n",
              "    }\n",
              "\n",
              "    .dataframe tbody tr th {\n",
              "        vertical-align: top;\n",
              "    }\n",
              "\n",
              "    .dataframe thead th {\n",
              "        text-align: right;\n",
              "    }\n",
              "</style>\n",
              "<table border=\"1\" class=\"dataframe\">\n",
              "  <thead>\n",
              "    <tr style=\"text-align: right;\">\n",
              "      <th></th>\n",
              "      <th>Year2</th>\n",
              "      <th>Genre2</th>\n",
              "      <th>Count</th>\n",
              "    </tr>\n",
              "  </thead>\n",
              "  <tbody>\n",
              "    <tr>\n",
              "      <th>0</th>\n",
              "      <td>1980</td>\n",
              "      <td>Action</td>\n",
              "      <td>1</td>\n",
              "    </tr>\n",
              "    <tr>\n",
              "      <th>1</th>\n",
              "      <td>1980</td>\n",
              "      <td>Fighting</td>\n",
              "      <td>1</td>\n",
              "    </tr>\n",
              "    <tr>\n",
              "      <th>2</th>\n",
              "      <td>1980</td>\n",
              "      <td>Misc</td>\n",
              "      <td>4</td>\n",
              "    </tr>\n",
              "    <tr>\n",
              "      <th>3</th>\n",
              "      <td>1980</td>\n",
              "      <td>Shooter</td>\n",
              "      <td>2</td>\n",
              "    </tr>\n",
              "    <tr>\n",
              "      <th>4</th>\n",
              "      <td>1981</td>\n",
              "      <td>Action</td>\n",
              "      <td>25</td>\n",
              "    </tr>\n",
              "    <tr>\n",
              "      <th>...</th>\n",
              "      <td>...</td>\n",
              "      <td>...</td>\n",
              "      <td>...</td>\n",
              "    </tr>\n",
              "    <tr>\n",
              "      <th>383</th>\n",
              "      <td>2016</td>\n",
              "      <td>Sports</td>\n",
              "      <td>38</td>\n",
              "    </tr>\n",
              "    <tr>\n",
              "      <th>384</th>\n",
              "      <td>2016</td>\n",
              "      <td>Strategy</td>\n",
              "      <td>10</td>\n",
              "    </tr>\n",
              "    <tr>\n",
              "      <th>385</th>\n",
              "      <td>2017</td>\n",
              "      <td>Action</td>\n",
              "      <td>1</td>\n",
              "    </tr>\n",
              "    <tr>\n",
              "      <th>386</th>\n",
              "      <td>2017</td>\n",
              "      <td>Role-Playing</td>\n",
              "      <td>2</td>\n",
              "    </tr>\n",
              "    <tr>\n",
              "      <th>387</th>\n",
              "      <td>2020</td>\n",
              "      <td>Simulation</td>\n",
              "      <td>1</td>\n",
              "    </tr>\n",
              "  </tbody>\n",
              "</table>\n",
              "<p>388 rows × 3 columns</p>\n",
              "</div>"
            ],
            "text/plain": [
              "     Year2        Genre2  Count\n",
              "0     1980        Action      1\n",
              "1     1980      Fighting      1\n",
              "2     1980          Misc      4\n",
              "3     1980       Shooter      2\n",
              "4     1981        Action     25\n",
              "..     ...           ...    ...\n",
              "383   2016        Sports     38\n",
              "384   2016      Strategy     10\n",
              "385   2017        Action      1\n",
              "386   2017  Role-Playing      2\n",
              "387   2020    Simulation      1\n",
              "\n",
              "[388 rows x 3 columns]"
            ]
          },
          "metadata": {
            "tags": []
          },
          "execution_count": 186
        }
      ]
    },
    {
      "cell_type": "markdown",
      "metadata": {
        "id": "drNbNVlrVdpO"
      },
      "source": [
        "##10년별로 year 정리\n"
      ]
    },
    {
      "cell_type": "code",
      "metadata": {
        "id": "ubgR8s9aVmQB"
      },
      "source": [
        "#decade 별 새로운 카테고리 \"interval\" 만들기\n",
        "\n",
        "df_decade= df\n",
        "\n",
        "df_decade['Interval'] = (10 * (df['Year'] // 10)).astype(str) + 's'\n",
        "df_decade= df.drop({'Year','NA_Sales', 'EU_Sales', 'JP_Sales', 'Other_Sales'}, axis=1) #drop Sales column\n",
        "df_decade = df_decade.loc[(df_decade[['Interval']] != \"0s\").all(axis=1)] #drop \"0s\" column in ['Interval']\n",
        "df_decade = df_decade.loc[(df_decade[['Interval']] != \"2020s\").all(axis=1)] #drop \"2020s\" column in ['Interval'] - only 1 value"
      ],
      "execution_count": 266,
      "outputs": []
    },
    {
      "cell_type": "code",
      "metadata": {
        "colab": {
          "base_uri": "https://localhost:8080/",
          "height": 173
        },
        "id": "vSqk5_jQX-at",
        "outputId": "41f2c81c-3997-488d-d47b-06cbefc7dab8"
      },
      "source": [
        "#interval sums\n",
        "df_decade.groupby(df_decade['Interval'], as_index=False).count()\n"
      ],
      "execution_count": 267,
      "outputs": [
        {
          "output_type": "execute_result",
          "data": {
            "text/html": [
              "<div>\n",
              "<style scoped>\n",
              "    .dataframe tbody tr th:only-of-type {\n",
              "        vertical-align: middle;\n",
              "    }\n",
              "\n",
              "    .dataframe tbody tr th {\n",
              "        vertical-align: top;\n",
              "    }\n",
              "\n",
              "    .dataframe thead th {\n",
              "        text-align: right;\n",
              "    }\n",
              "</style>\n",
              "<table border=\"1\" class=\"dataframe\">\n",
              "  <thead>\n",
              "    <tr style=\"text-align: right;\">\n",
              "      <th></th>\n",
              "      <th>Interval</th>\n",
              "      <th>Name</th>\n",
              "      <th>Platform</th>\n",
              "      <th>Genre</th>\n",
              "      <th>Publisher</th>\n",
              "      <th>Total_Sales</th>\n",
              "    </tr>\n",
              "  </thead>\n",
              "  <tbody>\n",
              "    <tr>\n",
              "      <th>0</th>\n",
              "      <td>1980s</td>\n",
              "      <td>205</td>\n",
              "      <td>205</td>\n",
              "      <td>204</td>\n",
              "      <td>205</td>\n",
              "      <td>205</td>\n",
              "    </tr>\n",
              "    <tr>\n",
              "      <th>1</th>\n",
              "      <td>1990s</td>\n",
              "      <td>1769</td>\n",
              "      <td>1769</td>\n",
              "      <td>1764</td>\n",
              "      <td>1769</td>\n",
              "      <td>1769</td>\n",
              "    </tr>\n",
              "    <tr>\n",
              "      <th>2</th>\n",
              "      <td>2000s</td>\n",
              "      <td>9208</td>\n",
              "      <td>9208</td>\n",
              "      <td>9178</td>\n",
              "      <td>9183</td>\n",
              "      <td>9208</td>\n",
              "    </tr>\n",
              "    <tr>\n",
              "      <th>3</th>\n",
              "      <td>2010s</td>\n",
              "      <td>5144</td>\n",
              "      <td>5144</td>\n",
              "      <td>5130</td>\n",
              "      <td>5133</td>\n",
              "      <td>5144</td>\n",
              "    </tr>\n",
              "  </tbody>\n",
              "</table>\n",
              "</div>"
            ],
            "text/plain": [
              "  Interval  Name  Platform  Genre  Publisher  Total_Sales\n",
              "0    1980s   205       205    204        205          205\n",
              "1    1990s  1769      1769   1764       1769         1769\n",
              "2    2000s  9208      9208   9178       9183         9208\n",
              "3    2010s  5144      5144   5130       5133         5144"
            ]
          },
          "metadata": {
            "tags": []
          },
          "execution_count": 267
        }
      ]
    },
    {
      "cell_type": "code",
      "metadata": {
        "colab": {
          "base_uri": "https://localhost:8080/"
        },
        "id": "wNQv0c9CrOEq",
        "outputId": "c34d9530-0fb5-42aa-de66-495ce2f925e4"
      },
      "source": [
        "df_decade['Platform'].unique()"
      ],
      "execution_count": 281,
      "outputs": [
        {
          "output_type": "execute_result",
          "data": {
            "text/plain": [
              "array(['DS', 'Wii', 'PSP', 'PS3', 'PC', 'PS', 'GBA', 'PS4', 'PS2', 'XB',\n",
              "       'X360', 'GC', '3DS', '2600', 'SAT', 'GB', 'NES', 'DC', 'N64',\n",
              "       'XOne', 'SNES', 'WiiU', 'PSV', 'GEN', 'SCD', 'WS', 'NG', 'TG16',\n",
              "       '3DO', 'GG', 'PCFX'], dtype=object)"
            ]
          },
          "metadata": {
            "tags": []
          },
          "execution_count": 281
        }
      ]
    },
    {
      "cell_type": "code",
      "metadata": {
        "colab": {
          "base_uri": "https://localhost:8080/",
          "height": 173
        },
        "id": "ehOj8fnzgljc",
        "outputId": "ce9e4529-f0f4-4ea4-d10c-19fe9bcc1916"
      },
      "source": [
        "#interval sums\n",
        "df_decade.groupby((df_decade['Interval']), as_index=False).mean()\n"
      ],
      "execution_count": 268,
      "outputs": [
        {
          "output_type": "execute_result",
          "data": {
            "text/html": [
              "<div>\n",
              "<style scoped>\n",
              "    .dataframe tbody tr th:only-of-type {\n",
              "        vertical-align: middle;\n",
              "    }\n",
              "\n",
              "    .dataframe tbody tr th {\n",
              "        vertical-align: top;\n",
              "    }\n",
              "\n",
              "    .dataframe thead th {\n",
              "        text-align: right;\n",
              "    }\n",
              "</style>\n",
              "<table border=\"1\" class=\"dataframe\">\n",
              "  <thead>\n",
              "    <tr style=\"text-align: right;\">\n",
              "      <th></th>\n",
              "      <th>Interval</th>\n",
              "      <th>Total_Sales</th>\n",
              "    </tr>\n",
              "  </thead>\n",
              "  <tbody>\n",
              "    <tr>\n",
              "      <th>0</th>\n",
              "      <td>1980s</td>\n",
              "      <td>1.836488</td>\n",
              "    </tr>\n",
              "    <tr>\n",
              "      <th>1</th>\n",
              "      <td>1990s</td>\n",
              "      <td>0.722855</td>\n",
              "    </tr>\n",
              "    <tr>\n",
              "      <th>2</th>\n",
              "      <td>2000s</td>\n",
              "      <td>0.503965</td>\n",
              "    </tr>\n",
              "    <tr>\n",
              "      <th>3</th>\n",
              "      <td>2010s</td>\n",
              "      <td>0.489862</td>\n",
              "    </tr>\n",
              "  </tbody>\n",
              "</table>\n",
              "</div>"
            ],
            "text/plain": [
              "  Interval  Total_Sales\n",
              "0    1980s     1.836488\n",
              "1    1990s     0.722855\n",
              "2    2000s     0.503965\n",
              "3    2010s     0.489862"
            ]
          },
          "metadata": {
            "tags": []
          },
          "execution_count": 268
        }
      ]
    },
    {
      "cell_type": "markdown",
      "metadata": {
        "id": "BkGCM-9vfFOA"
      },
      "source": [
        "###Genre"
      ]
    },
    {
      "cell_type": "code",
      "metadata": {
        "colab": {
          "base_uri": "https://localhost:8080/",
          "height": 1000
        },
        "id": "cnfLKrZBfIVx",
        "outputId": "fd894186-860b-40e1-8b82-23360f06f5b8"
      },
      "source": [
        "#ddf_g= interval + genre\n",
        "decade_genre = {'Decade': df_decade['Interval'], 'Genre': df_decade['Genre'], 'Sales': df_decade['Total_Sales'] }\n",
        "\n",
        "ddf_g= pd.DataFrame(data=decade_genre)\n",
        "ddf_g\n",
        "\n",
        "#decade tidy \n",
        "ddf_g= ddf_g.groupby(['Decade', 'Genre'], as_index=False)['Sales'].mean()\n",
        "ddf_g"
      ],
      "execution_count": 269,
      "outputs": [
        {
          "output_type": "execute_result",
          "data": {
            "text/html": [
              "<div>\n",
              "<style scoped>\n",
              "    .dataframe tbody tr th:only-of-type {\n",
              "        vertical-align: middle;\n",
              "    }\n",
              "\n",
              "    .dataframe tbody tr th {\n",
              "        vertical-align: top;\n",
              "    }\n",
              "\n",
              "    .dataframe thead th {\n",
              "        text-align: right;\n",
              "    }\n",
              "</style>\n",
              "<table border=\"1\" class=\"dataframe\">\n",
              "  <thead>\n",
              "    <tr style=\"text-align: right;\">\n",
              "      <th></th>\n",
              "      <th>Decade</th>\n",
              "      <th>Genre</th>\n",
              "      <th>Sales</th>\n",
              "    </tr>\n",
              "  </thead>\n",
              "  <tbody>\n",
              "    <tr>\n",
              "      <th>0</th>\n",
              "      <td>1980s</td>\n",
              "      <td>Action</td>\n",
              "      <td>0.774242</td>\n",
              "    </tr>\n",
              "    <tr>\n",
              "      <th>1</th>\n",
              "      <td>1980s</td>\n",
              "      <td>Adventure</td>\n",
              "      <td>2.390000</td>\n",
              "    </tr>\n",
              "    <tr>\n",
              "      <th>2</th>\n",
              "      <td>1980s</td>\n",
              "      <td>Fighting</td>\n",
              "      <td>1.810000</td>\n",
              "    </tr>\n",
              "    <tr>\n",
              "      <th>3</th>\n",
              "      <td>1980s</td>\n",
              "      <td>Misc</td>\n",
              "      <td>1.055000</td>\n",
              "    </tr>\n",
              "    <tr>\n",
              "      <th>4</th>\n",
              "      <td>1980s</td>\n",
              "      <td>Platform</td>\n",
              "      <td>3.704848</td>\n",
              "    </tr>\n",
              "    <tr>\n",
              "      <th>5</th>\n",
              "      <td>1980s</td>\n",
              "      <td>Puzzle</td>\n",
              "      <td>3.302632</td>\n",
              "    </tr>\n",
              "    <tr>\n",
              "      <th>6</th>\n",
              "      <td>1980s</td>\n",
              "      <td>Racing</td>\n",
              "      <td>1.512500</td>\n",
              "    </tr>\n",
              "    <tr>\n",
              "      <th>7</th>\n",
              "      <td>1980s</td>\n",
              "      <td>Role-Playing</td>\n",
              "      <td>1.694444</td>\n",
              "    </tr>\n",
              "    <tr>\n",
              "      <th>8</th>\n",
              "      <td>1980s</td>\n",
              "      <td>Shooter</td>\n",
              "      <td>1.992333</td>\n",
              "    </tr>\n",
              "    <tr>\n",
              "      <th>9</th>\n",
              "      <td>1980s</td>\n",
              "      <td>Simulation</td>\n",
              "      <td>0.170000</td>\n",
              "    </tr>\n",
              "    <tr>\n",
              "      <th>10</th>\n",
              "      <td>1980s</td>\n",
              "      <td>Sports</td>\n",
              "      <td>1.444545</td>\n",
              "    </tr>\n",
              "    <tr>\n",
              "      <th>11</th>\n",
              "      <td>1990s</td>\n",
              "      <td>Action</td>\n",
              "      <td>0.864286</td>\n",
              "    </tr>\n",
              "    <tr>\n",
              "      <th>12</th>\n",
              "      <td>1990s</td>\n",
              "      <td>Adventure</td>\n",
              "      <td>0.461856</td>\n",
              "    </tr>\n",
              "    <tr>\n",
              "      <th>13</th>\n",
              "      <td>1990s</td>\n",
              "      <td>Fighting</td>\n",
              "      <td>0.639948</td>\n",
              "    </tr>\n",
              "    <tr>\n",
              "      <th>14</th>\n",
              "      <td>1990s</td>\n",
              "      <td>Misc</td>\n",
              "      <td>0.551565</td>\n",
              "    </tr>\n",
              "    <tr>\n",
              "      <th>15</th>\n",
              "      <td>1990s</td>\n",
              "      <td>Platform</td>\n",
              "      <td>1.670960</td>\n",
              "    </tr>\n",
              "    <tr>\n",
              "      <th>16</th>\n",
              "      <td>1990s</td>\n",
              "      <td>Puzzle</td>\n",
              "      <td>0.548451</td>\n",
              "    </tr>\n",
              "    <tr>\n",
              "      <th>17</th>\n",
              "      <td>1990s</td>\n",
              "      <td>Racing</td>\n",
              "      <td>0.822155</td>\n",
              "    </tr>\n",
              "    <tr>\n",
              "      <th>18</th>\n",
              "      <td>1990s</td>\n",
              "      <td>Role-Playing</td>\n",
              "      <td>1.068830</td>\n",
              "    </tr>\n",
              "    <tr>\n",
              "      <th>19</th>\n",
              "      <td>1990s</td>\n",
              "      <td>Shooter</td>\n",
              "      <td>0.502847</td>\n",
              "    </tr>\n",
              "    <tr>\n",
              "      <th>20</th>\n",
              "      <td>1990s</td>\n",
              "      <td>Simulation</td>\n",
              "      <td>0.605116</td>\n",
              "    </tr>\n",
              "    <tr>\n",
              "      <th>21</th>\n",
              "      <td>1990s</td>\n",
              "      <td>Sports</td>\n",
              "      <td>0.481809</td>\n",
              "    </tr>\n",
              "    <tr>\n",
              "      <th>22</th>\n",
              "      <td>1990s</td>\n",
              "      <td>Strategy</td>\n",
              "      <td>0.467561</td>\n",
              "    </tr>\n",
              "    <tr>\n",
              "      <th>23</th>\n",
              "      <td>2000s</td>\n",
              "      <td>Action</td>\n",
              "      <td>0.540298</td>\n",
              "    </tr>\n",
              "    <tr>\n",
              "      <th>24</th>\n",
              "      <td>2000s</td>\n",
              "      <td>Adventure</td>\n",
              "      <td>0.195839</td>\n",
              "    </tr>\n",
              "    <tr>\n",
              "      <th>25</th>\n",
              "      <td>2000s</td>\n",
              "      <td>Fighting</td>\n",
              "      <td>0.523213</td>\n",
              "    </tr>\n",
              "    <tr>\n",
              "      <th>26</th>\n",
              "      <td>2000s</td>\n",
              "      <td>Misc</td>\n",
              "      <td>0.476239</td>\n",
              "    </tr>\n",
              "    <tr>\n",
              "      <th>27</th>\n",
              "      <td>2000s</td>\n",
              "      <td>Platform</td>\n",
              "      <td>0.665717</td>\n",
              "    </tr>\n",
              "    <tr>\n",
              "      <th>28</th>\n",
              "      <td>2000s</td>\n",
              "      <td>Puzzle</td>\n",
              "      <td>0.326482</td>\n",
              "    </tr>\n",
              "    <tr>\n",
              "      <th>29</th>\n",
              "      <td>2000s</td>\n",
              "      <td>Racing</td>\n",
              "      <td>0.549561</td>\n",
              "    </tr>\n",
              "    <tr>\n",
              "      <th>30</th>\n",
              "      <td>2000s</td>\n",
              "      <td>Role-Playing</td>\n",
              "      <td>0.565432</td>\n",
              "    </tr>\n",
              "    <tr>\n",
              "      <th>31</th>\n",
              "      <td>2000s</td>\n",
              "      <td>Shooter</td>\n",
              "      <td>0.603691</td>\n",
              "    </tr>\n",
              "    <tr>\n",
              "      <th>32</th>\n",
              "      <td>2000s</td>\n",
              "      <td>Simulation</td>\n",
              "      <td>0.482105</td>\n",
              "    </tr>\n",
              "    <tr>\n",
              "      <th>33</th>\n",
              "      <td>2000s</td>\n",
              "      <td>Sports</td>\n",
              "      <td>0.571802</td>\n",
              "    </tr>\n",
              "    <tr>\n",
              "      <th>34</th>\n",
              "      <td>2000s</td>\n",
              "      <td>Strategy</td>\n",
              "      <td>0.210607</td>\n",
              "    </tr>\n",
              "    <tr>\n",
              "      <th>35</th>\n",
              "      <td>2010s</td>\n",
              "      <td>Action</td>\n",
              "      <td>0.466323</td>\n",
              "    </tr>\n",
              "    <tr>\n",
              "      <th>36</th>\n",
              "      <td>2010s</td>\n",
              "      <td>Adventure</td>\n",
              "      <td>0.112931</td>\n",
              "    </tr>\n",
              "    <tr>\n",
              "      <th>37</th>\n",
              "      <td>2010s</td>\n",
              "      <td>Fighting</td>\n",
              "      <td>0.415969</td>\n",
              "    </tr>\n",
              "    <tr>\n",
              "      <th>38</th>\n",
              "      <td>2010s</td>\n",
              "      <td>Misc</td>\n",
              "      <td>0.408734</td>\n",
              "    </tr>\n",
              "    <tr>\n",
              "      <th>39</th>\n",
              "      <td>2010s</td>\n",
              "      <td>Platform</td>\n",
              "      <td>0.799669</td>\n",
              "    </tr>\n",
              "    <tr>\n",
              "      <th>40</th>\n",
              "      <td>2010s</td>\n",
              "      <td>Puzzle</td>\n",
              "      <td>0.182672</td>\n",
              "    </tr>\n",
              "    <tr>\n",
              "      <th>41</th>\n",
              "      <td>2010s</td>\n",
              "      <td>Racing</td>\n",
              "      <td>0.528419</td>\n",
              "    </tr>\n",
              "    <tr>\n",
              "      <th>42</th>\n",
              "      <td>2010s</td>\n",
              "      <td>Role-Playing</td>\n",
              "      <td>0.522980</td>\n",
              "    </tr>\n",
              "    <tr>\n",
              "      <th>43</th>\n",
              "      <td>2010s</td>\n",
              "      <td>Shooter</td>\n",
              "      <td>1.171241</td>\n",
              "    </tr>\n",
              "    <tr>\n",
              "      <th>44</th>\n",
              "      <td>2010s</td>\n",
              "      <td>Simulation</td>\n",
              "      <td>0.341250</td>\n",
              "    </tr>\n",
              "    <tr>\n",
              "      <th>45</th>\n",
              "      <td>2010s</td>\n",
              "      <td>Sports</td>\n",
              "      <td>0.569912</td>\n",
              "    </tr>\n",
              "    <tr>\n",
              "      <th>46</th>\n",
              "      <td>2010s</td>\n",
              "      <td>Strategy</td>\n",
              "      <td>0.213155</td>\n",
              "    </tr>\n",
              "  </tbody>\n",
              "</table>\n",
              "</div>"
            ],
            "text/plain": [
              "   Decade         Genre     Sales\n",
              "0   1980s        Action  0.774242\n",
              "1   1980s     Adventure  2.390000\n",
              "2   1980s      Fighting  1.810000\n",
              "3   1980s          Misc  1.055000\n",
              "4   1980s      Platform  3.704848\n",
              "5   1980s        Puzzle  3.302632\n",
              "6   1980s        Racing  1.512500\n",
              "7   1980s  Role-Playing  1.694444\n",
              "8   1980s       Shooter  1.992333\n",
              "9   1980s    Simulation  0.170000\n",
              "10  1980s        Sports  1.444545\n",
              "11  1990s        Action  0.864286\n",
              "12  1990s     Adventure  0.461856\n",
              "13  1990s      Fighting  0.639948\n",
              "14  1990s          Misc  0.551565\n",
              "15  1990s      Platform  1.670960\n",
              "16  1990s        Puzzle  0.548451\n",
              "17  1990s        Racing  0.822155\n",
              "18  1990s  Role-Playing  1.068830\n",
              "19  1990s       Shooter  0.502847\n",
              "20  1990s    Simulation  0.605116\n",
              "21  1990s        Sports  0.481809\n",
              "22  1990s      Strategy  0.467561\n",
              "23  2000s        Action  0.540298\n",
              "24  2000s     Adventure  0.195839\n",
              "25  2000s      Fighting  0.523213\n",
              "26  2000s          Misc  0.476239\n",
              "27  2000s      Platform  0.665717\n",
              "28  2000s        Puzzle  0.326482\n",
              "29  2000s        Racing  0.549561\n",
              "30  2000s  Role-Playing  0.565432\n",
              "31  2000s       Shooter  0.603691\n",
              "32  2000s    Simulation  0.482105\n",
              "33  2000s        Sports  0.571802\n",
              "34  2000s      Strategy  0.210607\n",
              "35  2010s        Action  0.466323\n",
              "36  2010s     Adventure  0.112931\n",
              "37  2010s      Fighting  0.415969\n",
              "38  2010s          Misc  0.408734\n",
              "39  2010s      Platform  0.799669\n",
              "40  2010s        Puzzle  0.182672\n",
              "41  2010s        Racing  0.528419\n",
              "42  2010s  Role-Playing  0.522980\n",
              "43  2010s       Shooter  1.171241\n",
              "44  2010s    Simulation  0.341250\n",
              "45  2010s        Sports  0.569912\n",
              "46  2010s      Strategy  0.213155"
            ]
          },
          "metadata": {
            "tags": []
          },
          "execution_count": 269
        }
      ]
    },
    {
      "cell_type": "markdown",
      "metadata": {
        "id": "0TknRmIFqFdN"
      },
      "source": [
        "#Decade vs Publisher\n",
        "\n",
        "\n"
      ]
    },
    {
      "cell_type": "code",
      "metadata": {
        "colab": {
          "base_uri": "https://localhost:8080/"
        },
        "id": "yWmG14cncYSI",
        "outputId": "815a8cc1-d87a-423e-baca-3fca9696017e"
      },
      "source": [
        "# ddf_p: decade vs publisher \n",
        "\n",
        "decade_pub = {'Decade': df_decade['Interval'], 'Publisher': df_decade['Publisher'], 'Sales': df_decade['Total_Sales'] }\n",
        "\n",
        "ddf_pub= pd.DataFrame(data=decade_pub)\n",
        "ddf_pub\n",
        "\n",
        "#decade tidy \n",
        "ddf_pub= ddf_pub.groupby(['Decade', 'Publisher'], as_index=False)['Sales'].mean()\n",
        "ddf_pub['Publisher'].value_counts().nlargest(10)"
      ],
      "execution_count": 288,
      "outputs": [
        {
          "output_type": "execute_result",
          "data": {
            "text/plain": [
              "Atari                           4\n",
              "Konami Digital Entertainment    4\n",
              "Taito                           4\n",
              "Capcom                          4\n",
              "Unknown                         4\n",
              "Hudson Soft                     4\n",
              "Namco Bandai Games              4\n",
              "Activision                      4\n",
              "Nintendo                        4\n",
              "Sega                            4\n",
              "Name: Publisher, dtype: int64"
            ]
          },
          "metadata": {
            "tags": []
          },
          "execution_count": 288
        }
      ]
    },
    {
      "cell_type": "code",
      "metadata": {
        "colab": {
          "base_uri": "https://localhost:8080/",
          "height": 419
        },
        "id": "Zesw3cPkYkKz",
        "outputId": "c6619697-313c-4e78-8315-6eb89c990623"
      },
      "source": [
        "ddf_pub"
      ],
      "execution_count": 289,
      "outputs": [
        {
          "output_type": "execute_result",
          "data": {
            "text/html": [
              "<div>\n",
              "<style scoped>\n",
              "    .dataframe tbody tr th:only-of-type {\n",
              "        vertical-align: middle;\n",
              "    }\n",
              "\n",
              "    .dataframe tbody tr th {\n",
              "        vertical-align: top;\n",
              "    }\n",
              "\n",
              "    .dataframe thead th {\n",
              "        text-align: right;\n",
              "    }\n",
              "</style>\n",
              "<table border=\"1\" class=\"dataframe\">\n",
              "  <thead>\n",
              "    <tr style=\"text-align: right;\">\n",
              "      <th></th>\n",
              "      <th>Decade</th>\n",
              "      <th>Publisher</th>\n",
              "      <th>Sales</th>\n",
              "    </tr>\n",
              "  </thead>\n",
              "  <tbody>\n",
              "    <tr>\n",
              "      <th>0</th>\n",
              "      <td>1980s</td>\n",
              "      <td>20th Century Fox Video Games</td>\n",
              "      <td>0.386000</td>\n",
              "    </tr>\n",
              "    <tr>\n",
              "      <th>1</th>\n",
              "      <td>1980s</td>\n",
              "      <td>Activision</td>\n",
              "      <td>0.709231</td>\n",
              "    </tr>\n",
              "    <tr>\n",
              "      <th>2</th>\n",
              "      <td>1980s</td>\n",
              "      <td>Answer Software</td>\n",
              "      <td>0.500000</td>\n",
              "    </tr>\n",
              "    <tr>\n",
              "      <th>3</th>\n",
              "      <td>1980s</td>\n",
              "      <td>Atari</td>\n",
              "      <td>0.982381</td>\n",
              "    </tr>\n",
              "    <tr>\n",
              "      <th>4</th>\n",
              "      <td>1980s</td>\n",
              "      <td>Avalon Interactive</td>\n",
              "      <td>0.160000</td>\n",
              "    </tr>\n",
              "    <tr>\n",
              "      <th>...</th>\n",
              "      <td>...</td>\n",
              "      <td>...</td>\n",
              "      <td>...</td>\n",
              "    </tr>\n",
              "    <tr>\n",
              "      <th>826</th>\n",
              "      <td>2010s</td>\n",
              "      <td>dramatic create</td>\n",
              "      <td>0.022000</td>\n",
              "    </tr>\n",
              "    <tr>\n",
              "      <th>827</th>\n",
              "      <td>2010s</td>\n",
              "      <td>iWin</td>\n",
              "      <td>0.060000</td>\n",
              "    </tr>\n",
              "    <tr>\n",
              "      <th>828</th>\n",
              "      <td>2010s</td>\n",
              "      <td>imageepoch Inc.</td>\n",
              "      <td>0.020000</td>\n",
              "    </tr>\n",
              "    <tr>\n",
              "      <th>829</th>\n",
              "      <td>2010s</td>\n",
              "      <td>inXile Entertainment</td>\n",
              "      <td>0.090000</td>\n",
              "    </tr>\n",
              "    <tr>\n",
              "      <th>830</th>\n",
              "      <td>2010s</td>\n",
              "      <td>mixi, Inc</td>\n",
              "      <td>0.860000</td>\n",
              "    </tr>\n",
              "  </tbody>\n",
              "</table>\n",
              "<p>831 rows × 3 columns</p>\n",
              "</div>"
            ],
            "text/plain": [
              "    Decade                     Publisher     Sales\n",
              "0    1980s  20th Century Fox Video Games  0.386000\n",
              "1    1980s                    Activision  0.709231\n",
              "2    1980s               Answer Software  0.500000\n",
              "3    1980s                         Atari  0.982381\n",
              "4    1980s            Avalon Interactive  0.160000\n",
              "..     ...                           ...       ...\n",
              "826  2010s               dramatic create  0.022000\n",
              "827  2010s                          iWin  0.060000\n",
              "828  2010s               imageepoch Inc.  0.020000\n",
              "829  2010s          inXile Entertainment  0.090000\n",
              "830  2010s                     mixi, Inc  0.860000\n",
              "\n",
              "[831 rows x 3 columns]"
            ]
          },
          "metadata": {
            "tags": []
          },
          "execution_count": 289
        }
      ]
    },
    {
      "cell_type": "markdown",
      "metadata": {
        "id": "3OAcdoWfMnzV"
      },
      "source": [
        "##Visualization\n",
        "\n",
        "df 정의: \n",
        "- df2_tidy: 전체 year + genre tidy data \n",
        "- ddf: \"Year\" categorized by decade"
      ]
    },
    {
      "cell_type": "code",
      "metadata": {
        "colab": {
          "base_uri": "https://localhost:8080/",
          "height": 475
        },
        "id": "5eTVYcROWc5b",
        "outputId": "9098e3e6-5f1e-4d12-f122-7b9cc03bccef"
      },
      "source": [
        "#lineplot\n",
        "plt.figure(figsize=(15,7))\n",
        "sns.lineplot(x='Year2', y='Count', hue= 'Genre2', style= \"Genre2\", markers=True, dashes=False, data=df2_tidy).set_title(\"Total number of Games per Genre\")"
      ],
      "execution_count": 278,
      "outputs": [
        {
          "output_type": "execute_result",
          "data": {
            "text/plain": [
              "Text(0.5, 1.0, 'Total number of Games per Genre')"
            ]
          },
          "metadata": {
            "tags": []
          },
          "execution_count": 278
        },
        {
          "output_type": "display_data",
          "data": {
            "image/png": "[encoded data removed]",
            "text/plain": [
              "<Figure size 1080x504 with 1 Axes>"
            ]
          },
          "metadata": {
            "tags": [],
            "needs_background": "light"
          }
        }
      ]
    },
    {
      "cell_type": "code",
      "metadata": {
        "colab": {
          "base_uri": "https://localhost:8080/",
          "height": 638
        },
        "id": "Uvus7Qimb_U6",
        "outputId": "85c625fc-cc35-4aa8-ff9f-c5624600eadc"
      },
      "source": [
        "#lineplot- decade- genre\n",
        "plt.figure(figsize=(10,10))\n",
        "sns.lineplot(x='Decade', y='Sales', hue= 'Genre', style= \"Genre\", markers=True, dashes=False, data=ddf_g).set_title(\"Mean of Sales: Genres\")"
      ],
      "execution_count": 276,
      "outputs": [
        {
          "output_type": "execute_result",
          "data": {
            "text/plain": [
              "Text(0.5, 1.0, 'Mean of Sales: Genres')"
            ]
          },
          "metadata": {
            "tags": []
          },
          "execution_count": 276
        },
        {
          "output_type": "display_data",
          "data": {
            "image/png": "[encoded data removed]",
            "text/plain": [
              "<Figure size 720x720 with 1 Axes>"
            ]
          },
          "metadata": {
            "tags": [],
            "needs_background": "light"
          }
        }
      ]
    },
    {
      "cell_type": "markdown",
      "metadata": {
        "id": "HJWaDuYcJJVE"
      },
      "source": [
        "##Findings: \n",
        "\n",
        "- 2005년도부터 2015년까지 Action 장르가 가장 많이 출시됨\n",
        "- Simulation 은 1995 부터 2000초반까지 가장 많이 출기가 되었다가 Action 게임으로 2위로 밀려났음\n",
        "- 2010년도 초반까지는 Action과 simulation 이 가장 많은 출시를 보였지만 2010년도 초반부터 role-playing 이 simulation장르를 앞서나가고 있음 "
      ]
    },
    {
      "cell_type": "markdown",
      "metadata": {
        "id": "N7qy7iQWf8GH"
      },
      "source": [
        "#Q3. 출고량이 높은 게임에 대한 분석 및 시각화 프로세스\n",
        "\n",
        "\n",
        "1. find top 50 games \n",
        "- check for each location (NA, EU, JP, Other)- maybe\n",
        "2. top10 게임들의 장르, 플랫폼, 회사, 년도(?) 분석\n",
        "3. find:\n",
        " - 어느 플랫폼을 선호하는지\n",
        " - 어느 회사가 인기 게임을 만드는지\n",
        " - sales 비교\n"
      ]
    },
    {
      "cell_type": "markdown",
      "metadata": {
        "id": "QFrQMKAINACq"
      },
      "source": [
        "##Code: new df for top 50 games\n",
        "- new df for top 50 games"
      ]
    },
    {
      "cell_type": "code",
      "metadata": {
        "colab": {
          "base_uri": "https://localhost:8080/",
          "height": 1000
        },
        "id": "c6gGaqJxPA5w",
        "outputId": "6e7b1dd1-a385-4da7-b899-2b93def63efa"
      },
      "source": [
        "import numpy as np\n",
        "#find total sales number \n",
        "df['Total_Sales']= df['EU_Sales']+ df['JP_Sales'] + df['Other_Sales']+ df['NA_Sales']\n",
        "df\n",
        "\n",
        "#find top 10 sales games and create new df\n",
        "top_df= df.nlargest(50, 'Total_Sales')\n",
        "top_df= top_df.rename_axis('id').reset_index()\n",
        "top_df= top_df.drop(['id'], axis=1)\n",
        "top_df"
      ],
      "execution_count": 191,
      "outputs": [
        {
          "output_type": "execute_result",
          "data": {
            "text/html": [
              "<div>\n",
              "<style scoped>\n",
              "    .dataframe tbody tr th:only-of-type {\n",
              "        vertical-align: middle;\n",
              "    }\n",
              "\n",
              "    .dataframe tbody tr th {\n",
              "        vertical-align: top;\n",
              "    }\n",
              "\n",
              "    .dataframe thead th {\n",
              "        text-align: right;\n",
              "    }\n",
              "</style>\n",
              "<table border=\"1\" class=\"dataframe\">\n",
              "  <thead>\n",
              "    <tr style=\"text-align: right;\">\n",
              "      <th></th>\n",
              "      <th>Name</th>\n",
              "      <th>Platform</th>\n",
              "      <th>Year</th>\n",
              "      <th>Genre</th>\n",
              "      <th>Publisher</th>\n",
              "      <th>NA_Sales</th>\n",
              "      <th>EU_Sales</th>\n",
              "      <th>JP_Sales</th>\n",
              "      <th>Other_Sales</th>\n",
              "      <th>Total_Sales</th>\n",
              "    </tr>\n",
              "  </thead>\n",
              "  <tbody>\n",
              "    <tr>\n",
              "      <th>0</th>\n",
              "      <td>Wii Sports</td>\n",
              "      <td>Wii</td>\n",
              "      <td>2006</td>\n",
              "      <td>Sports</td>\n",
              "      <td>Nintendo</td>\n",
              "      <td>41.49</td>\n",
              "      <td>29.02</td>\n",
              "      <td>3.77</td>\n",
              "      <td>8.46</td>\n",
              "      <td>82.74</td>\n",
              "    </tr>\n",
              "    <tr>\n",
              "      <th>1</th>\n",
              "      <td>Super Mario Bros.</td>\n",
              "      <td>NES</td>\n",
              "      <td>1985</td>\n",
              "      <td>Platform</td>\n",
              "      <td>Nintendo</td>\n",
              "      <td>29.08</td>\n",
              "      <td>3.58</td>\n",
              "      <td>6.81</td>\n",
              "      <td>0.77</td>\n",
              "      <td>40.24</td>\n",
              "    </tr>\n",
              "    <tr>\n",
              "      <th>2</th>\n",
              "      <td>Mario Kart Wii</td>\n",
              "      <td>Wii</td>\n",
              "      <td>2008</td>\n",
              "      <td>Racing</td>\n",
              "      <td>Nintendo</td>\n",
              "      <td>15.85</td>\n",
              "      <td>12.88</td>\n",
              "      <td>3.79</td>\n",
              "      <td>3.31</td>\n",
              "      <td>35.83</td>\n",
              "    </tr>\n",
              "    <tr>\n",
              "      <th>3</th>\n",
              "      <td>Wii Sports Resort</td>\n",
              "      <td>Wii</td>\n",
              "      <td>2009</td>\n",
              "      <td>Sports</td>\n",
              "      <td>Nintendo</td>\n",
              "      <td>15.75</td>\n",
              "      <td>11.01</td>\n",
              "      <td>3.28</td>\n",
              "      <td>2.96</td>\n",
              "      <td>33.00</td>\n",
              "    </tr>\n",
              "    <tr>\n",
              "      <th>4</th>\n",
              "      <td>Pokemon Red/Pokemon Blue</td>\n",
              "      <td>GB</td>\n",
              "      <td>1996</td>\n",
              "      <td>Role-Playing</td>\n",
              "      <td>Nintendo</td>\n",
              "      <td>11.27</td>\n",
              "      <td>8.89</td>\n",
              "      <td>10.22</td>\n",
              "      <td>1.00</td>\n",
              "      <td>31.38</td>\n",
              "    </tr>\n",
              "    <tr>\n",
              "      <th>5</th>\n",
              "      <td>Tetris</td>\n",
              "      <td>GB</td>\n",
              "      <td>1989</td>\n",
              "      <td>Puzzle</td>\n",
              "      <td>Nintendo</td>\n",
              "      <td>23.20</td>\n",
              "      <td>2.26</td>\n",
              "      <td>4.22</td>\n",
              "      <td>0.58</td>\n",
              "      <td>30.26</td>\n",
              "    </tr>\n",
              "    <tr>\n",
              "      <th>6</th>\n",
              "      <td>New Super Mario Bros.</td>\n",
              "      <td>DS</td>\n",
              "      <td>2006</td>\n",
              "      <td>Platform</td>\n",
              "      <td>Nintendo</td>\n",
              "      <td>11.38</td>\n",
              "      <td>9.23</td>\n",
              "      <td>6.50</td>\n",
              "      <td>2.90</td>\n",
              "      <td>30.01</td>\n",
              "    </tr>\n",
              "    <tr>\n",
              "      <th>7</th>\n",
              "      <td>Wii Play</td>\n",
              "      <td>Wii</td>\n",
              "      <td>2006</td>\n",
              "      <td>Misc</td>\n",
              "      <td>Nintendo</td>\n",
              "      <td>14.03</td>\n",
              "      <td>9.20</td>\n",
              "      <td>2.93</td>\n",
              "      <td>2.85</td>\n",
              "      <td>29.01</td>\n",
              "    </tr>\n",
              "    <tr>\n",
              "      <th>8</th>\n",
              "      <td>New Super Mario Bros. Wii</td>\n",
              "      <td>Wii</td>\n",
              "      <td>2009</td>\n",
              "      <td>Platform</td>\n",
              "      <td>Nintendo</td>\n",
              "      <td>14.59</td>\n",
              "      <td>7.06</td>\n",
              "      <td>4.70</td>\n",
              "      <td>2.26</td>\n",
              "      <td>28.61</td>\n",
              "    </tr>\n",
              "    <tr>\n",
              "      <th>9</th>\n",
              "      <td>Duck Hunt</td>\n",
              "      <td>NES</td>\n",
              "      <td>1984</td>\n",
              "      <td>Shooter</td>\n",
              "      <td>Nintendo</td>\n",
              "      <td>26.93</td>\n",
              "      <td>0.63</td>\n",
              "      <td>0.28</td>\n",
              "      <td>0.47</td>\n",
              "      <td>28.31</td>\n",
              "    </tr>\n",
              "    <tr>\n",
              "      <th>10</th>\n",
              "      <td>Nintendogs</td>\n",
              "      <td>DS</td>\n",
              "      <td>2005</td>\n",
              "      <td>Simulation</td>\n",
              "      <td>Nintendo</td>\n",
              "      <td>9.07</td>\n",
              "      <td>11.00</td>\n",
              "      <td>1.93</td>\n",
              "      <td>2.75</td>\n",
              "      <td>24.75</td>\n",
              "    </tr>\n",
              "    <tr>\n",
              "      <th>11</th>\n",
              "      <td>Mario Kart DS</td>\n",
              "      <td>DS</td>\n",
              "      <td>2005</td>\n",
              "      <td>Racing</td>\n",
              "      <td>Nintendo</td>\n",
              "      <td>9.81</td>\n",
              "      <td>7.57</td>\n",
              "      <td>4.13</td>\n",
              "      <td>1.92</td>\n",
              "      <td>23.43</td>\n",
              "    </tr>\n",
              "    <tr>\n",
              "      <th>12</th>\n",
              "      <td>Pokemon Gold/Pokemon Silver</td>\n",
              "      <td>GB</td>\n",
              "      <td>1999</td>\n",
              "      <td>Role-Playing</td>\n",
              "      <td>Nintendo</td>\n",
              "      <td>9.00</td>\n",
              "      <td>6.18</td>\n",
              "      <td>7.20</td>\n",
              "      <td>0.71</td>\n",
              "      <td>23.09</td>\n",
              "    </tr>\n",
              "    <tr>\n",
              "      <th>13</th>\n",
              "      <td>Wii Fit</td>\n",
              "      <td>Wii</td>\n",
              "      <td>2007</td>\n",
              "      <td>Sports</td>\n",
              "      <td>Nintendo</td>\n",
              "      <td>8.94</td>\n",
              "      <td>8.03</td>\n",
              "      <td>3.60</td>\n",
              "      <td>2.15</td>\n",
              "      <td>22.72</td>\n",
              "    </tr>\n",
              "    <tr>\n",
              "      <th>14</th>\n",
              "      <td>Wii Fit Plus</td>\n",
              "      <td>Wii</td>\n",
              "      <td>2009</td>\n",
              "      <td>Sports</td>\n",
              "      <td>Nintendo</td>\n",
              "      <td>9.09</td>\n",
              "      <td>8.59</td>\n",
              "      <td>2.53</td>\n",
              "      <td>1.79</td>\n",
              "      <td>22.00</td>\n",
              "    </tr>\n",
              "    <tr>\n",
              "      <th>15</th>\n",
              "      <td>Kinect Adventures!</td>\n",
              "      <td>X360</td>\n",
              "      <td>2010</td>\n",
              "      <td>Misc</td>\n",
              "      <td>Microsoft Game Studios</td>\n",
              "      <td>14.97</td>\n",
              "      <td>4.94</td>\n",
              "      <td>0.24</td>\n",
              "      <td>1.67</td>\n",
              "      <td>21.82</td>\n",
              "    </tr>\n",
              "    <tr>\n",
              "      <th>16</th>\n",
              "      <td>Grand Theft Auto V</td>\n",
              "      <td>PS3</td>\n",
              "      <td>2013</td>\n",
              "      <td>Action</td>\n",
              "      <td>Take-Two Interactive</td>\n",
              "      <td>7.01</td>\n",
              "      <td>9.27</td>\n",
              "      <td>0.97</td>\n",
              "      <td>4.14</td>\n",
              "      <td>21.39</td>\n",
              "    </tr>\n",
              "    <tr>\n",
              "      <th>17</th>\n",
              "      <td>Grand Theft Auto: San Andreas</td>\n",
              "      <td>PS2</td>\n",
              "      <td>2004</td>\n",
              "      <td>Action</td>\n",
              "      <td>Take-Two Interactive</td>\n",
              "      <td>9.43</td>\n",
              "      <td>0.40</td>\n",
              "      <td>0.41</td>\n",
              "      <td>10.57</td>\n",
              "      <td>20.81</td>\n",
              "    </tr>\n",
              "    <tr>\n",
              "      <th>18</th>\n",
              "      <td>Super Mario World</td>\n",
              "      <td>SNES</td>\n",
              "      <td>1990</td>\n",
              "      <td>Platform</td>\n",
              "      <td>Nintendo</td>\n",
              "      <td>12.78</td>\n",
              "      <td>3.75</td>\n",
              "      <td>3.54</td>\n",
              "      <td>0.55</td>\n",
              "      <td>20.62</td>\n",
              "    </tr>\n",
              "    <tr>\n",
              "      <th>19</th>\n",
              "      <td>Brain Age: Train Your Brain in Minutes a Day</td>\n",
              "      <td>DS</td>\n",
              "      <td>2005</td>\n",
              "      <td>Misc</td>\n",
              "      <td>Nintendo</td>\n",
              "      <td>4.75</td>\n",
              "      <td>9.26</td>\n",
              "      <td>4.16</td>\n",
              "      <td>2.05</td>\n",
              "      <td>20.22</td>\n",
              "    </tr>\n",
              "    <tr>\n",
              "      <th>20</th>\n",
              "      <td>Pokemon Diamond/Pokemon Pearl</td>\n",
              "      <td>DS</td>\n",
              "      <td>2006</td>\n",
              "      <td>Role-Playing</td>\n",
              "      <td>Nintendo</td>\n",
              "      <td>6.42</td>\n",
              "      <td>4.52</td>\n",
              "      <td>6.04</td>\n",
              "      <td>1.37</td>\n",
              "      <td>18.35</td>\n",
              "    </tr>\n",
              "    <tr>\n",
              "      <th>21</th>\n",
              "      <td>Super Mario Land</td>\n",
              "      <td>GB</td>\n",
              "      <td>1989</td>\n",
              "      <td>Platform</td>\n",
              "      <td>Nintendo</td>\n",
              "      <td>10.83</td>\n",
              "      <td>2.71</td>\n",
              "      <td>4.18</td>\n",
              "      <td>0.42</td>\n",
              "      <td>18.14</td>\n",
              "    </tr>\n",
              "    <tr>\n",
              "      <th>22</th>\n",
              "      <td>Super Mario Bros. 3</td>\n",
              "      <td>NES</td>\n",
              "      <td>1988</td>\n",
              "      <td>Platform</td>\n",
              "      <td>Nintendo</td>\n",
              "      <td>9.54</td>\n",
              "      <td>3.44</td>\n",
              "      <td>3.84</td>\n",
              "      <td>0.46</td>\n",
              "      <td>17.28</td>\n",
              "    </tr>\n",
              "    <tr>\n",
              "      <th>23</th>\n",
              "      <td>Grand Theft Auto V</td>\n",
              "      <td>X360</td>\n",
              "      <td>2013</td>\n",
              "      <td>Action</td>\n",
              "      <td>Take-Two Interactive</td>\n",
              "      <td>9.63</td>\n",
              "      <td>5.31</td>\n",
              "      <td>0.06</td>\n",
              "      <td>1.38</td>\n",
              "      <td>16.38</td>\n",
              "    </tr>\n",
              "    <tr>\n",
              "      <th>24</th>\n",
              "      <td>Grand Theft Auto: Vice City</td>\n",
              "      <td>PS2</td>\n",
              "      <td>2002</td>\n",
              "      <td>Action</td>\n",
              "      <td>Take-Two Interactive</td>\n",
              "      <td>8.41</td>\n",
              "      <td>5.49</td>\n",
              "      <td>0.47</td>\n",
              "      <td>1.78</td>\n",
              "      <td>16.15</td>\n",
              "    </tr>\n",
              "    <tr>\n",
              "      <th>25</th>\n",
              "      <td>Pokemon Ruby/Pokemon Sapphire</td>\n",
              "      <td>GBA</td>\n",
              "      <td>2002</td>\n",
              "      <td>Role-Playing</td>\n",
              "      <td>Nintendo</td>\n",
              "      <td>6.06</td>\n",
              "      <td>3.90</td>\n",
              "      <td>5.38</td>\n",
              "      <td>0.50</td>\n",
              "      <td>15.84</td>\n",
              "    </tr>\n",
              "    <tr>\n",
              "      <th>26</th>\n",
              "      <td>Pokemon Black/Pokemon White</td>\n",
              "      <td>DS</td>\n",
              "      <td>2010</td>\n",
              "      <td>Role-Playing</td>\n",
              "      <td>Nintendo</td>\n",
              "      <td>5.57</td>\n",
              "      <td>3.28</td>\n",
              "      <td>5.65</td>\n",
              "      <td>0.82</td>\n",
              "      <td>15.32</td>\n",
              "    </tr>\n",
              "    <tr>\n",
              "      <th>27</th>\n",
              "      <td>Brain Age 2: More Training in Minutes a Day</td>\n",
              "      <td>DS</td>\n",
              "      <td>2005</td>\n",
              "      <td>Puzzle</td>\n",
              "      <td>Nintendo</td>\n",
              "      <td>3.44</td>\n",
              "      <td>5.36</td>\n",
              "      <td>5.32</td>\n",
              "      <td>1.18</td>\n",
              "      <td>15.30</td>\n",
              "    </tr>\n",
              "    <tr>\n",
              "      <th>28</th>\n",
              "      <td>Gran Turismo 3: A-Spec</td>\n",
              "      <td>PS2</td>\n",
              "      <td>2001</td>\n",
              "      <td>Racing</td>\n",
              "      <td>Sony Computer Entertainment</td>\n",
              "      <td>6.85</td>\n",
              "      <td>5.09</td>\n",
              "      <td>1.87</td>\n",
              "      <td>1.16</td>\n",
              "      <td>14.97</td>\n",
              "    </tr>\n",
              "    <tr>\n",
              "      <th>29</th>\n",
              "      <td>Call of Duty: Modern Warfare 3</td>\n",
              "      <td>X360</td>\n",
              "      <td>2011</td>\n",
              "      <td>Shooter</td>\n",
              "      <td>Activision</td>\n",
              "      <td>9.03</td>\n",
              "      <td>4.28</td>\n",
              "      <td>0.13</td>\n",
              "      <td>1.32</td>\n",
              "      <td>14.76</td>\n",
              "    </tr>\n",
              "    <tr>\n",
              "      <th>30</th>\n",
              "      <td>Call of Duty: Black Ops</td>\n",
              "      <td>X360</td>\n",
              "      <td>2010</td>\n",
              "      <td>Shooter</td>\n",
              "      <td>Activision</td>\n",
              "      <td>9.67</td>\n",
              "      <td>3.73</td>\n",
              "      <td>0.11</td>\n",
              "      <td>1.13</td>\n",
              "      <td>14.64</td>\n",
              "    </tr>\n",
              "    <tr>\n",
              "      <th>31</th>\n",
              "      <td>Pokémon Yellow: Special Pikachu Edition</td>\n",
              "      <td>GB</td>\n",
              "      <td>1998</td>\n",
              "      <td>Role-Playing</td>\n",
              "      <td>Nintendo</td>\n",
              "      <td>5.89</td>\n",
              "      <td>5.04</td>\n",
              "      <td>3.12</td>\n",
              "      <td>0.59</td>\n",
              "      <td>14.64</td>\n",
              "    </tr>\n",
              "    <tr>\n",
              "      <th>32</th>\n",
              "      <td>Pokemon X/Pokemon Y</td>\n",
              "      <td>3DS</td>\n",
              "      <td>2013</td>\n",
              "      <td>NaN</td>\n",
              "      <td>Nintendo</td>\n",
              "      <td>5.17</td>\n",
              "      <td>4.05</td>\n",
              "      <td>4.34</td>\n",
              "      <td>0.79</td>\n",
              "      <td>14.35</td>\n",
              "    </tr>\n",
              "    <tr>\n",
              "      <th>33</th>\n",
              "      <td>Call of Duty: Black Ops 3</td>\n",
              "      <td>PS4</td>\n",
              "      <td>2015</td>\n",
              "      <td>Shooter</td>\n",
              "      <td>Activision</td>\n",
              "      <td>5.77</td>\n",
              "      <td>5.81</td>\n",
              "      <td>0.35</td>\n",
              "      <td>2.31</td>\n",
              "      <td>14.24</td>\n",
              "    </tr>\n",
              "    <tr>\n",
              "      <th>34</th>\n",
              "      <td>Call of Duty: Black Ops II</td>\n",
              "      <td>PS3</td>\n",
              "      <td>2012</td>\n",
              "      <td>Shooter</td>\n",
              "      <td>Activision</td>\n",
              "      <td>4.99</td>\n",
              "      <td>5.88</td>\n",
              "      <td>0.65</td>\n",
              "      <td>2.52</td>\n",
              "      <td>14.04</td>\n",
              "    </tr>\n",
              "    <tr>\n",
              "      <th>35</th>\n",
              "      <td>Call of Duty: Black Ops II</td>\n",
              "      <td>X360</td>\n",
              "      <td>2012</td>\n",
              "      <td>Shooter</td>\n",
              "      <td>Activision</td>\n",
              "      <td>8.25</td>\n",
              "      <td>4.30</td>\n",
              "      <td>0.07</td>\n",
              "      <td>1.12</td>\n",
              "      <td>13.74</td>\n",
              "    </tr>\n",
              "    <tr>\n",
              "      <th>36</th>\n",
              "      <td>Call of Duty: Modern Warfare 2</td>\n",
              "      <td>X360</td>\n",
              "      <td>2009</td>\n",
              "      <td>Shooter</td>\n",
              "      <td>Activision</td>\n",
              "      <td>8.52</td>\n",
              "      <td>3.63</td>\n",
              "      <td>0.08</td>\n",
              "      <td>1.29</td>\n",
              "      <td>13.52</td>\n",
              "    </tr>\n",
              "    <tr>\n",
              "      <th>37</th>\n",
              "      <td>Call of Duty: Modern Warfare 3</td>\n",
              "      <td>PS3</td>\n",
              "      <td>2011</td>\n",
              "      <td>Shooter</td>\n",
              "      <td>Activision</td>\n",
              "      <td>5.54</td>\n",
              "      <td>5.82</td>\n",
              "      <td>0.49</td>\n",
              "      <td>1.62</td>\n",
              "      <td>13.47</td>\n",
              "    </tr>\n",
              "    <tr>\n",
              "      <th>38</th>\n",
              "      <td>Grand Theft Auto III</td>\n",
              "      <td>PS2</td>\n",
              "      <td>2001</td>\n",
              "      <td>Action</td>\n",
              "      <td>Take-Two Interactive</td>\n",
              "      <td>6.99</td>\n",
              "      <td>4.51</td>\n",
              "      <td>0.30</td>\n",
              "      <td>1.30</td>\n",
              "      <td>13.10</td>\n",
              "    </tr>\n",
              "    <tr>\n",
              "      <th>39</th>\n",
              "      <td>Super Smash Bros. Brawl</td>\n",
              "      <td>Wii</td>\n",
              "      <td>2008</td>\n",
              "      <td>Fighting</td>\n",
              "      <td>Nintendo</td>\n",
              "      <td>6.75</td>\n",
              "      <td>2.61</td>\n",
              "      <td>2.66</td>\n",
              "      <td>1.02</td>\n",
              "      <td>13.04</td>\n",
              "    </tr>\n",
              "    <tr>\n",
              "      <th>40</th>\n",
              "      <td>Call of Duty: Black Ops</td>\n",
              "      <td>PS3</td>\n",
              "      <td>2010</td>\n",
              "      <td>Shooter</td>\n",
              "      <td>Activision</td>\n",
              "      <td>5.98</td>\n",
              "      <td>4.44</td>\n",
              "      <td>0.48</td>\n",
              "      <td>1.83</td>\n",
              "      <td>12.73</td>\n",
              "    </tr>\n",
              "    <tr>\n",
              "      <th>41</th>\n",
              "      <td>Animal Crossing: Wild World</td>\n",
              "      <td>DS</td>\n",
              "      <td>2005</td>\n",
              "      <td>Simulation</td>\n",
              "      <td>Nintendo</td>\n",
              "      <td>2.55</td>\n",
              "      <td>3.52</td>\n",
              "      <td>5.33</td>\n",
              "      <td>0.88</td>\n",
              "      <td>12.28</td>\n",
              "    </tr>\n",
              "    <tr>\n",
              "      <th>42</th>\n",
              "      <td>Mario Kart 7</td>\n",
              "      <td>3DS</td>\n",
              "      <td>2011</td>\n",
              "      <td>Racing</td>\n",
              "      <td>Nintendo</td>\n",
              "      <td>4.74</td>\n",
              "      <td>3.91</td>\n",
              "      <td>2.67</td>\n",
              "      <td>0.89</td>\n",
              "      <td>12.21</td>\n",
              "    </tr>\n",
              "    <tr>\n",
              "      <th>43</th>\n",
              "      <td>Halo 3</td>\n",
              "      <td>X360</td>\n",
              "      <td>2007</td>\n",
              "      <td>Shooter</td>\n",
              "      <td>Microsoft Game Studios</td>\n",
              "      <td>7.97</td>\n",
              "      <td>2.83</td>\n",
              "      <td>0.13</td>\n",
              "      <td>1.21</td>\n",
              "      <td>12.14</td>\n",
              "    </tr>\n",
              "    <tr>\n",
              "      <th>44</th>\n",
              "      <td>Grand Theft Auto V</td>\n",
              "      <td>PS4</td>\n",
              "      <td>2014</td>\n",
              "      <td>Action</td>\n",
              "      <td>Take-Two Interactive</td>\n",
              "      <td>3.80</td>\n",
              "      <td>5.81</td>\n",
              "      <td>0.36</td>\n",
              "      <td>2.02</td>\n",
              "      <td>11.99</td>\n",
              "    </tr>\n",
              "    <tr>\n",
              "      <th>45</th>\n",
              "      <td>Pokemon HeartGold/Pokemon SoulSilver</td>\n",
              "      <td>DS</td>\n",
              "      <td>2009</td>\n",
              "      <td>Action</td>\n",
              "      <td>Nintendo</td>\n",
              "      <td>4.40</td>\n",
              "      <td>2.77</td>\n",
              "      <td>3.96</td>\n",
              "      <td>0.77</td>\n",
              "      <td>11.90</td>\n",
              "    </tr>\n",
              "    <tr>\n",
              "      <th>46</th>\n",
              "      <td>Super Mario 64</td>\n",
              "      <td>N64</td>\n",
              "      <td>1996</td>\n",
              "      <td>Platform</td>\n",
              "      <td>Nintendo</td>\n",
              "      <td>6.91</td>\n",
              "      <td>2.85</td>\n",
              "      <td>1.91</td>\n",
              "      <td>0.23</td>\n",
              "      <td>11.90</td>\n",
              "    </tr>\n",
              "    <tr>\n",
              "      <th>47</th>\n",
              "      <td>Gran Turismo 4</td>\n",
              "      <td>PS2</td>\n",
              "      <td>2004</td>\n",
              "      <td>Racing</td>\n",
              "      <td>Sony Computer Entertainment</td>\n",
              "      <td>3.01</td>\n",
              "      <td>0.01</td>\n",
              "      <td>1.10</td>\n",
              "      <td>7.53</td>\n",
              "      <td>11.65</td>\n",
              "    </tr>\n",
              "    <tr>\n",
              "      <th>48</th>\n",
              "      <td>Super Mario Galaxy</td>\n",
              "      <td>Wii</td>\n",
              "      <td>2007</td>\n",
              "      <td>Platform</td>\n",
              "      <td>Nintendo</td>\n",
              "      <td>6.16</td>\n",
              "      <td>3.40</td>\n",
              "      <td>1.20</td>\n",
              "      <td>0.76</td>\n",
              "      <td>11.52</td>\n",
              "    </tr>\n",
              "    <tr>\n",
              "      <th>49</th>\n",
              "      <td>Pokemon Omega Ruby/Pokemon Alpha Sapphire</td>\n",
              "      <td>3DS</td>\n",
              "      <td>2014</td>\n",
              "      <td>Role-Playing</td>\n",
              "      <td>Nintendo</td>\n",
              "      <td>4.23</td>\n",
              "      <td>3.37</td>\n",
              "      <td>3.08</td>\n",
              "      <td>0.65</td>\n",
              "      <td>11.33</td>\n",
              "    </tr>\n",
              "  </tbody>\n",
              "</table>\n",
              "</div>"
            ],
            "text/plain": [
              "                                            Name  ... Total_Sales\n",
              "0                                     Wii Sports  ...       82.74\n",
              "1                              Super Mario Bros.  ...       40.24\n",
              "2                                 Mario Kart Wii  ...       35.83\n",
              "3                              Wii Sports Resort  ...       33.00\n",
              "4                       Pokemon Red/Pokemon Blue  ...       31.38\n",
              "5                                         Tetris  ...       30.26\n",
              "6                          New Super Mario Bros.  ...       30.01\n",
              "7                                       Wii Play  ...       29.01\n",
              "8                      New Super Mario Bros. Wii  ...       28.61\n",
              "9                                      Duck Hunt  ...       28.31\n",
              "10                                    Nintendogs  ...       24.75\n",
              "11                                 Mario Kart DS  ...       23.43\n",
              "12                   Pokemon Gold/Pokemon Silver  ...       23.09\n",
              "13                                       Wii Fit  ...       22.72\n",
              "14                                  Wii Fit Plus  ...       22.00\n",
              "15                            Kinect Adventures!  ...       21.82\n",
              "16                            Grand Theft Auto V  ...       21.39\n",
              "17                 Grand Theft Auto: San Andreas  ...       20.81\n",
              "18                             Super Mario World  ...       20.62\n",
              "19  Brain Age: Train Your Brain in Minutes a Day  ...       20.22\n",
              "20                 Pokemon Diamond/Pokemon Pearl  ...       18.35\n",
              "21                              Super Mario Land  ...       18.14\n",
              "22                           Super Mario Bros. 3  ...       17.28\n",
              "23                            Grand Theft Auto V  ...       16.38\n",
              "24                   Grand Theft Auto: Vice City  ...       16.15\n",
              "25                 Pokemon Ruby/Pokemon Sapphire  ...       15.84\n",
              "26                   Pokemon Black/Pokemon White  ...       15.32\n",
              "27   Brain Age 2: More Training in Minutes a Day  ...       15.30\n",
              "28                        Gran Turismo 3: A-Spec  ...       14.97\n",
              "29                Call of Duty: Modern Warfare 3  ...       14.76\n",
              "30                       Call of Duty: Black Ops  ...       14.64\n",
              "31       Pokémon Yellow: Special Pikachu Edition  ...       14.64\n",
              "32                           Pokemon X/Pokemon Y  ...       14.35\n",
              "33                     Call of Duty: Black Ops 3  ...       14.24\n",
              "34                    Call of Duty: Black Ops II  ...       14.04\n",
              "35                    Call of Duty: Black Ops II  ...       13.74\n",
              "36                Call of Duty: Modern Warfare 2  ...       13.52\n",
              "37                Call of Duty: Modern Warfare 3  ...       13.47\n",
              "38                          Grand Theft Auto III  ...       13.10\n",
              "39                       Super Smash Bros. Brawl  ...       13.04\n",
              "40                       Call of Duty: Black Ops  ...       12.73\n",
              "41                   Animal Crossing: Wild World  ...       12.28\n",
              "42                                  Mario Kart 7  ...       12.21\n",
              "43                                        Halo 3  ...       12.14\n",
              "44                            Grand Theft Auto V  ...       11.99\n",
              "45          Pokemon HeartGold/Pokemon SoulSilver  ...       11.90\n",
              "46                                Super Mario 64  ...       11.90\n",
              "47                                Gran Turismo 4  ...       11.65\n",
              "48                            Super Mario Galaxy  ...       11.52\n",
              "49     Pokemon Omega Ruby/Pokemon Alpha Sapphire  ...       11.33\n",
              "\n",
              "[50 rows x 10 columns]"
            ]
          },
          "metadata": {
            "tags": []
          },
          "execution_count": 191
        }
      ]
    },
    {
      "cell_type": "code",
      "metadata": {
        "id": "xzvgBX3vbOlY",
        "colab": {
          "base_uri": "https://localhost:8080/"
        },
        "outputId": "76979717-7f11-4b12-a181-224e097e5519"
      },
      "source": [
        "#find values for Genre and Platform\n",
        "top_df_genre= top_df['Genre'].unique()\n",
        "top_df_plat= top_df['Platform'].unique()\n",
        "top_df_pub= top_df['Publisher'].unique()\n",
        "\n",
        "print(\"Genre:\", top_df_genre)\n",
        "print(\"--------------------------\")\n",
        "print(\"Platform:\", top_df_plat)\n",
        "print(\"--------------------------\")\n",
        "print(\"Publisher:\", top_df_pub)"
      ],
      "execution_count": 192,
      "outputs": [
        {
          "output_type": "stream",
          "text": [
            "Genre: ['Sports' 'Platform' 'Racing' 'Role-Playing' 'Puzzle' 'Misc' 'Shooter'\n",
            " 'Simulation' 'Action' nan 'Fighting']\n",
            "--------------------------\n",
            "Platform: ['Wii' 'NES' 'GB' 'DS' 'X360' 'PS3' 'PS2' 'SNES' 'GBA' '3DS' 'PS4' 'N64']\n",
            "--------------------------\n",
            "Publisher: ['Nintendo' 'Microsoft Game Studios' 'Take-Two Interactive'\n",
            " 'Sony Computer Entertainment' 'Activision']\n"
          ],
          "name": "stdout"
        }
      ]
    },
    {
      "cell_type": "markdown",
      "metadata": {
        "id": "2eqTwiWmNI2X"
      },
      "source": [
        "##Top 50 report"
      ]
    },
    {
      "cell_type": "code",
      "metadata": {
        "colab": {
          "base_uri": "https://localhost:8080/"
        },
        "id": "z-05VeW8wh9d",
        "outputId": "3820ede2-720c-4925-afc3-c59412f4e969"
      },
      "source": [
        "#50위 게임들의 Publisher values\n",
        "pub_count= [top_df['Publisher'].value_counts()]\n",
        "pub_count"
      ],
      "execution_count": 193,
      "outputs": [
        {
          "output_type": "execute_result",
          "data": {
            "text/plain": [
              "[Nintendo                       32\n",
              " Activision                      8\n",
              " Take-Two Interactive            6\n",
              " Sony Computer Entertainment     2\n",
              " Microsoft Game Studios          2\n",
              " Name: Publisher, dtype: int64]"
            ]
          },
          "metadata": {
            "tags": []
          },
          "execution_count": 193
        }
      ]
    },
    {
      "cell_type": "code",
      "metadata": {
        "id": "CuY_bE4Qw--D",
        "colab": {
          "base_uri": "https://localhost:8080/",
          "height": 334
        },
        "outputId": "e1e49003-09c0-4c94-df1a-868e23cc7613"
      },
      "source": [
        "#create bar chart for Publisher\n",
        "\n",
        "pub = {'Publisher': [\"Nintendo\", \"Activision\", \"Take-Two Interactive\", \"Sony Computer Entertainment\", \"Microsoft Game Studios\"], \n",
        "      'Sum': [32, 8, 6, 2, 2]}\n",
        "\n",
        "pub_bar= pd.DataFrame(data=pub)\n",
        "pub_bar\n",
        "\n",
        "#platform bar chart\n",
        "\n",
        "plt.figure(figsize=(13,5))\n",
        "sns.barplot(x= 'Publisher', y= 'Sum', data=pub_bar)\n",
        "plt.show()\n"
      ],
      "execution_count": 194,
      "outputs": [
        {
          "output_type": "display_data",
          "data": {
            "image/png": "[encoded data removed]",
            "text/plain": [
              "<Figure size 936x360 with 1 Axes>"
            ]
          },
          "metadata": {
            "tags": [],
            "needs_background": "light"
          }
        }
      ]
    },
    {
      "cell_type": "code",
      "metadata": {
        "colab": {
          "base_uri": "https://localhost:8080/"
        },
        "id": "My7IMM0SlXA1",
        "outputId": "30557946-4855-4911-cb9e-19da975d703d"
      },
      "source": [
        "#Nintendo 게임들 \n",
        "Nintendo= top_df[top_df['Publisher'].isin(['Nintendo'])]\n",
        "Nintendo.drop({'NA_Sales', 'EU_Sales', 'JP_Sales', 'Other_Sales'}, axis=1)\n",
        "Nintendo['Total_Sales'].sum()"
      ],
      "execution_count": 224,
      "outputs": [
        {
          "output_type": "execute_result",
          "data": {
            "text/plain": [
              "739.62"
            ]
          },
          "metadata": {
            "tags": []
          },
          "execution_count": 224
        }
      ]
    },
    {
      "cell_type": "code",
      "metadata": {
        "colab": {
          "base_uri": "https://localhost:8080/"
        },
        "id": "7a369_8uqFzs",
        "outputId": "546e5f45-1fd2-462c-c968-3ccdf57324cc"
      },
      "source": [
        "#50위 게임들의 Platform values\n",
        "platform_count= [top_df['Platform'].value_counts()]\n",
        "platform_count"
      ],
      "execution_count": 196,
      "outputs": [
        {
          "output_type": "execute_result",
          "data": {
            "text/plain": [
              "[Wii     9\n",
              " DS      9\n",
              " X360    7\n",
              " GB      5\n",
              " PS2     5\n",
              " PS3     4\n",
              " NES     3\n",
              " 3DS     3\n",
              " PS4     2\n",
              " N64     1\n",
              " SNES    1\n",
              " GBA     1\n",
              " Name: Platform, dtype: int64]"
            ]
          },
          "metadata": {
            "tags": []
          },
          "execution_count": 196
        }
      ]
    },
    {
      "cell_type": "code",
      "metadata": {
        "colab": {
          "base_uri": "https://localhost:8080/",
          "height": 334
        },
        "id": "i2Q-cg1eslT_",
        "outputId": "76c137dc-a90e-4227-e67f-f35c4e7fb089"
      },
      "source": [
        "#create bar chart for Platform \n",
        "pl = {'Platform': [\"Wii\", \"DS\", \"X360\", \"PS2\", \"GB\", \"PS3\", \"NES\", \"3DS\", \"PS4\", \"SNES\", \"N64\", \"GBA\"], \n",
        "      'Sum': [9, 9, 7, 5, 5, 4, 3, 3, 2, 1, 1, 1]}\n",
        "\n",
        "platform_bar= pd.DataFrame(data=pl)\n",
        "platform_bar\n",
        "\n",
        "#platform bar chart\n",
        "\n",
        "plt.figure(figsize=(10,5))\n",
        "sns.barplot(x= 'Platform', y= 'Sum', data=platform_bar)\n",
        "plt.show()"
      ],
      "execution_count": 197,
      "outputs": [
        {
          "output_type": "display_data",
          "data": {
            "image/png": "[encoded data removed]",
            "text/plain": [
              "<Figure size 720x360 with 1 Axes>"
            ]
          },
          "metadata": {
            "tags": [],
            "needs_background": "light"
          }
        }
      ]
    },
    {
      "cell_type": "code",
      "metadata": {
        "colab": {
          "base_uri": "https://localhost:8080/",
          "height": 328
        },
        "id": "MXZQ5ZzSrzAY",
        "outputId": "c2426ecc-6e9b-4ec4-9a3a-7e7ca7816179"
      },
      "source": [
        "wii= top_df[top_df['Platform'].isin(['Wii'])]\n",
        "DS= top_df[top_df['Platform'].isin(['DS'])]\n",
        "wii.drop({'NA_Sales', 'EU_Sales', 'JP_Sales', 'Other_Sales'}, axis=1)\n"
      ],
      "execution_count": 213,
      "outputs": [
        {
          "output_type": "execute_result",
          "data": {
            "text/html": [
              "<div>\n",
              "<style scoped>\n",
              "    .dataframe tbody tr th:only-of-type {\n",
              "        vertical-align: middle;\n",
              "    }\n",
              "\n",
              "    .dataframe tbody tr th {\n",
              "        vertical-align: top;\n",
              "    }\n",
              "\n",
              "    .dataframe thead th {\n",
              "        text-align: right;\n",
              "    }\n",
              "</style>\n",
              "<table border=\"1\" class=\"dataframe\">\n",
              "  <thead>\n",
              "    <tr style=\"text-align: right;\">\n",
              "      <th></th>\n",
              "      <th>Name</th>\n",
              "      <th>Platform</th>\n",
              "      <th>Year</th>\n",
              "      <th>Genre</th>\n",
              "      <th>Publisher</th>\n",
              "      <th>Total_Sales</th>\n",
              "    </tr>\n",
              "  </thead>\n",
              "  <tbody>\n",
              "    <tr>\n",
              "      <th>0</th>\n",
              "      <td>Wii Sports</td>\n",
              "      <td>Wii</td>\n",
              "      <td>2006</td>\n",
              "      <td>Sports</td>\n",
              "      <td>Nintendo</td>\n",
              "      <td>82.74</td>\n",
              "    </tr>\n",
              "    <tr>\n",
              "      <th>2</th>\n",
              "      <td>Mario Kart Wii</td>\n",
              "      <td>Wii</td>\n",
              "      <td>2008</td>\n",
              "      <td>Racing</td>\n",
              "      <td>Nintendo</td>\n",
              "      <td>35.83</td>\n",
              "    </tr>\n",
              "    <tr>\n",
              "      <th>3</th>\n",
              "      <td>Wii Sports Resort</td>\n",
              "      <td>Wii</td>\n",
              "      <td>2009</td>\n",
              "      <td>Sports</td>\n",
              "      <td>Nintendo</td>\n",
              "      <td>33.00</td>\n",
              "    </tr>\n",
              "    <tr>\n",
              "      <th>7</th>\n",
              "      <td>Wii Play</td>\n",
              "      <td>Wii</td>\n",
              "      <td>2006</td>\n",
              "      <td>Misc</td>\n",
              "      <td>Nintendo</td>\n",
              "      <td>29.01</td>\n",
              "    </tr>\n",
              "    <tr>\n",
              "      <th>8</th>\n",
              "      <td>New Super Mario Bros. Wii</td>\n",
              "      <td>Wii</td>\n",
              "      <td>2009</td>\n",
              "      <td>Platform</td>\n",
              "      <td>Nintendo</td>\n",
              "      <td>28.61</td>\n",
              "    </tr>\n",
              "    <tr>\n",
              "      <th>13</th>\n",
              "      <td>Wii Fit</td>\n",
              "      <td>Wii</td>\n",
              "      <td>2007</td>\n",
              "      <td>Sports</td>\n",
              "      <td>Nintendo</td>\n",
              "      <td>22.72</td>\n",
              "    </tr>\n",
              "    <tr>\n",
              "      <th>14</th>\n",
              "      <td>Wii Fit Plus</td>\n",
              "      <td>Wii</td>\n",
              "      <td>2009</td>\n",
              "      <td>Sports</td>\n",
              "      <td>Nintendo</td>\n",
              "      <td>22.00</td>\n",
              "    </tr>\n",
              "    <tr>\n",
              "      <th>39</th>\n",
              "      <td>Super Smash Bros. Brawl</td>\n",
              "      <td>Wii</td>\n",
              "      <td>2008</td>\n",
              "      <td>Fighting</td>\n",
              "      <td>Nintendo</td>\n",
              "      <td>13.04</td>\n",
              "    </tr>\n",
              "    <tr>\n",
              "      <th>48</th>\n",
              "      <td>Super Mario Galaxy</td>\n",
              "      <td>Wii</td>\n",
              "      <td>2007</td>\n",
              "      <td>Platform</td>\n",
              "      <td>Nintendo</td>\n",
              "      <td>11.52</td>\n",
              "    </tr>\n",
              "  </tbody>\n",
              "</table>\n",
              "</div>"
            ],
            "text/plain": [
              "                         Name Platform  Year     Genre Publisher  Total_Sales\n",
              "0                  Wii Sports      Wii  2006    Sports  Nintendo        82.74\n",
              "2              Mario Kart Wii      Wii  2008    Racing  Nintendo        35.83\n",
              "3           Wii Sports Resort      Wii  2009    Sports  Nintendo        33.00\n",
              "7                    Wii Play      Wii  2006      Misc  Nintendo        29.01\n",
              "8   New Super Mario Bros. Wii      Wii  2009  Platform  Nintendo        28.61\n",
              "13                    Wii Fit      Wii  2007    Sports  Nintendo        22.72\n",
              "14               Wii Fit Plus      Wii  2009    Sports  Nintendo        22.00\n",
              "39    Super Smash Bros. Brawl      Wii  2008  Fighting  Nintendo        13.04\n",
              "48         Super Mario Galaxy      Wii  2007  Platform  Nintendo        11.52"
            ]
          },
          "metadata": {
            "tags": []
          },
          "execution_count": 213
        }
      ]
    },
    {
      "cell_type": "code",
      "metadata": {
        "colab": {
          "base_uri": "https://localhost:8080/",
          "height": 328
        },
        "id": "-tyh6iTx1CiC",
        "outputId": "f37ca093-dcfd-482a-83a7-16470c37856b"
      },
      "source": [
        "DS.drop({'NA_Sales', 'EU_Sales', 'JP_Sales', 'Other_Sales'}, axis=1)"
      ],
      "execution_count": 214,
      "outputs": [
        {
          "output_type": "execute_result",
          "data": {
            "text/html": [
              "<div>\n",
              "<style scoped>\n",
              "    .dataframe tbody tr th:only-of-type {\n",
              "        vertical-align: middle;\n",
              "    }\n",
              "\n",
              "    .dataframe tbody tr th {\n",
              "        vertical-align: top;\n",
              "    }\n",
              "\n",
              "    .dataframe thead th {\n",
              "        text-align: right;\n",
              "    }\n",
              "</style>\n",
              "<table border=\"1\" class=\"dataframe\">\n",
              "  <thead>\n",
              "    <tr style=\"text-align: right;\">\n",
              "      <th></th>\n",
              "      <th>Name</th>\n",
              "      <th>Platform</th>\n",
              "      <th>Year</th>\n",
              "      <th>Genre</th>\n",
              "      <th>Publisher</th>\n",
              "      <th>Total_Sales</th>\n",
              "    </tr>\n",
              "  </thead>\n",
              "  <tbody>\n",
              "    <tr>\n",
              "      <th>6</th>\n",
              "      <td>New Super Mario Bros.</td>\n",
              "      <td>DS</td>\n",
              "      <td>2006</td>\n",
              "      <td>Platform</td>\n",
              "      <td>Nintendo</td>\n",
              "      <td>30.01</td>\n",
              "    </tr>\n",
              "    <tr>\n",
              "      <th>10</th>\n",
              "      <td>Nintendogs</td>\n",
              "      <td>DS</td>\n",
              "      <td>2005</td>\n",
              "      <td>Simulation</td>\n",
              "      <td>Nintendo</td>\n",
              "      <td>24.75</td>\n",
              "    </tr>\n",
              "    <tr>\n",
              "      <th>11</th>\n",
              "      <td>Mario Kart DS</td>\n",
              "      <td>DS</td>\n",
              "      <td>2005</td>\n",
              "      <td>Racing</td>\n",
              "      <td>Nintendo</td>\n",
              "      <td>23.43</td>\n",
              "    </tr>\n",
              "    <tr>\n",
              "      <th>19</th>\n",
              "      <td>Brain Age: Train Your Brain in Minutes a Day</td>\n",
              "      <td>DS</td>\n",
              "      <td>2005</td>\n",
              "      <td>Misc</td>\n",
              "      <td>Nintendo</td>\n",
              "      <td>20.22</td>\n",
              "    </tr>\n",
              "    <tr>\n",
              "      <th>20</th>\n",
              "      <td>Pokemon Diamond/Pokemon Pearl</td>\n",
              "      <td>DS</td>\n",
              "      <td>2006</td>\n",
              "      <td>Role-Playing</td>\n",
              "      <td>Nintendo</td>\n",
              "      <td>18.35</td>\n",
              "    </tr>\n",
              "    <tr>\n",
              "      <th>26</th>\n",
              "      <td>Pokemon Black/Pokemon White</td>\n",
              "      <td>DS</td>\n",
              "      <td>2010</td>\n",
              "      <td>Role-Playing</td>\n",
              "      <td>Nintendo</td>\n",
              "      <td>15.32</td>\n",
              "    </tr>\n",
              "    <tr>\n",
              "      <th>27</th>\n",
              "      <td>Brain Age 2: More Training in Minutes a Day</td>\n",
              "      <td>DS</td>\n",
              "      <td>2005</td>\n",
              "      <td>Puzzle</td>\n",
              "      <td>Nintendo</td>\n",
              "      <td>15.30</td>\n",
              "    </tr>\n",
              "    <tr>\n",
              "      <th>41</th>\n",
              "      <td>Animal Crossing: Wild World</td>\n",
              "      <td>DS</td>\n",
              "      <td>2005</td>\n",
              "      <td>Simulation</td>\n",
              "      <td>Nintendo</td>\n",
              "      <td>12.28</td>\n",
              "    </tr>\n",
              "    <tr>\n",
              "      <th>45</th>\n",
              "      <td>Pokemon HeartGold/Pokemon SoulSilver</td>\n",
              "      <td>DS</td>\n",
              "      <td>2009</td>\n",
              "      <td>Action</td>\n",
              "      <td>Nintendo</td>\n",
              "      <td>11.90</td>\n",
              "    </tr>\n",
              "  </tbody>\n",
              "</table>\n",
              "</div>"
            ],
            "text/plain": [
              "                                            Name  ... Total_Sales\n",
              "6                          New Super Mario Bros.  ...       30.01\n",
              "10                                    Nintendogs  ...       24.75\n",
              "11                                 Mario Kart DS  ...       23.43\n",
              "19  Brain Age: Train Your Brain in Minutes a Day  ...       20.22\n",
              "20                 Pokemon Diamond/Pokemon Pearl  ...       18.35\n",
              "26                   Pokemon Black/Pokemon White  ...       15.32\n",
              "27   Brain Age 2: More Training in Minutes a Day  ...       15.30\n",
              "41                   Animal Crossing: Wild World  ...       12.28\n",
              "45          Pokemon HeartGold/Pokemon SoulSilver  ...       11.90\n",
              "\n",
              "[9 rows x 6 columns]"
            ]
          },
          "metadata": {
            "tags": []
          },
          "execution_count": 214
        }
      ]
    },
    {
      "cell_type": "code",
      "metadata": {
        "colab": {
          "base_uri": "https://localhost:8080/"
        },
        "id": "51Q-Fdzxrh4C",
        "outputId": "60166a75-f364-459a-9fa9-b03d53574c08"
      },
      "source": [
        "#50위 안에 어느 genre values count\n",
        "genre_bar=top_df['Genre'].value_counts()\n",
        "genre_bar"
      ],
      "execution_count": 199,
      "outputs": [
        {
          "output_type": "execute_result",
          "data": {
            "text/plain": [
              "Shooter         10\n",
              "Platform         8\n",
              "Action           7\n",
              "Role-Playing     7\n",
              "Racing           5\n",
              "Sports           4\n",
              "Misc             3\n",
              "Puzzle           2\n",
              "Simulation       2\n",
              "Fighting         1\n",
              "Name: Genre, dtype: int64"
            ]
          },
          "metadata": {
            "tags": []
          },
          "execution_count": 199
        }
      ]
    },
    {
      "cell_type": "code",
      "metadata": {
        "id": "9OQxLe83xIg9",
        "colab": {
          "base_uri": "https://localhost:8080/",
          "height": 334
        },
        "outputId": "a5368282-f428-4c4b-9fd5-7e250fe39006"
      },
      "source": [
        "#create bar chart for Genre\n",
        "genr = {'Genre': [\"Shooter\", \"Platform\", \"Role-Playing\", \"Action\", \"Racing\", \"Sports\", \"Misc\", \"Puzzle\", \"Simulation\", \"Fighting\"], \n",
        "      'Sum': [10, 8, 7, 7, 5, 4, 3, 2, 2, 1]}\n",
        "\n",
        "genr_bar= pd.DataFrame(data=genr)\n",
        "genr_bar\n",
        "\n",
        "#platform bar chart\n",
        "\n",
        "plt.figure(figsize=(10,5))\n",
        "sns.barplot(x= 'Genre', y= 'Sum', data=genr_bar)\n",
        "plt.show()\n"
      ],
      "execution_count": 200,
      "outputs": [
        {
          "output_type": "display_data",
          "data": {
            "image/png": "[encoded data removed]",
            "text/plain": [
              "<Figure size 720x360 with 1 Axes>"
            ]
          },
          "metadata": {
            "tags": [],
            "needs_background": "light"
          }
        }
      ]
    },
    {
      "cell_type": "code",
      "metadata": {
        "colab": {
          "base_uri": "https://localhost:8080/",
          "height": 266
        },
        "id": "KP7BSCbjsJcX",
        "outputId": "c901e00b-9c3a-4143-c39d-ee45cb308aa2"
      },
      "source": [
        "Shooter = top_df[top_df['Genre'].isin(['Shooter'])]\n",
        "Platform = top_df[top_df['Genre'].isin(['Platform'])]\n",
        "RolePlaying = top_df[top_df['Genre'].isin(['Role-Playing'])]\n",
        "Action = top_df[top_df['Genre'].isin(['Action'])]\n",
        "\n",
        "# print(\"Shooter games:\", Shooter)\n",
        "# print(\"Platform games:\",Platform)\n",
        "# print(\"RolePlaying games:\",RolePlaying)\n",
        "# print(\"Action games:\",Action)\n",
        "Shooter\n",
        "Platform\n",
        "RolePlaying\n",
        "Action"
      ],
      "execution_count": 223,
      "outputs": [
        {
          "output_type": "execute_result",
          "data": {
            "text/html": [
              "<div>\n",
              "<style scoped>\n",
              "    .dataframe tbody tr th:only-of-type {\n",
              "        vertical-align: middle;\n",
              "    }\n",
              "\n",
              "    .dataframe tbody tr th {\n",
              "        vertical-align: top;\n",
              "    }\n",
              "\n",
              "    .dataframe thead th {\n",
              "        text-align: right;\n",
              "    }\n",
              "</style>\n",
              "<table border=\"1\" class=\"dataframe\">\n",
              "  <thead>\n",
              "    <tr style=\"text-align: right;\">\n",
              "      <th></th>\n",
              "      <th>Name</th>\n",
              "      <th>Platform</th>\n",
              "      <th>Year</th>\n",
              "      <th>Genre</th>\n",
              "      <th>Publisher</th>\n",
              "      <th>NA_Sales</th>\n",
              "      <th>EU_Sales</th>\n",
              "      <th>JP_Sales</th>\n",
              "      <th>Other_Sales</th>\n",
              "      <th>Total_Sales</th>\n",
              "    </tr>\n",
              "  </thead>\n",
              "  <tbody>\n",
              "    <tr>\n",
              "      <th>16</th>\n",
              "      <td>Grand Theft Auto V</td>\n",
              "      <td>PS3</td>\n",
              "      <td>2013</td>\n",
              "      <td>Action</td>\n",
              "      <td>Take-Two Interactive</td>\n",
              "      <td>7.01</td>\n",
              "      <td>9.27</td>\n",
              "      <td>0.97</td>\n",
              "      <td>4.14</td>\n",
              "      <td>21.39</td>\n",
              "    </tr>\n",
              "    <tr>\n",
              "      <th>17</th>\n",
              "      <td>Grand Theft Auto: San Andreas</td>\n",
              "      <td>PS2</td>\n",
              "      <td>2004</td>\n",
              "      <td>Action</td>\n",
              "      <td>Take-Two Interactive</td>\n",
              "      <td>9.43</td>\n",
              "      <td>0.40</td>\n",
              "      <td>0.41</td>\n",
              "      <td>10.57</td>\n",
              "      <td>20.81</td>\n",
              "    </tr>\n",
              "    <tr>\n",
              "      <th>23</th>\n",
              "      <td>Grand Theft Auto V</td>\n",
              "      <td>X360</td>\n",
              "      <td>2013</td>\n",
              "      <td>Action</td>\n",
              "      <td>Take-Two Interactive</td>\n",
              "      <td>9.63</td>\n",
              "      <td>5.31</td>\n",
              "      <td>0.06</td>\n",
              "      <td>1.38</td>\n",
              "      <td>16.38</td>\n",
              "    </tr>\n",
              "    <tr>\n",
              "      <th>24</th>\n",
              "      <td>Grand Theft Auto: Vice City</td>\n",
              "      <td>PS2</td>\n",
              "      <td>2002</td>\n",
              "      <td>Action</td>\n",
              "      <td>Take-Two Interactive</td>\n",
              "      <td>8.41</td>\n",
              "      <td>5.49</td>\n",
              "      <td>0.47</td>\n",
              "      <td>1.78</td>\n",
              "      <td>16.15</td>\n",
              "    </tr>\n",
              "    <tr>\n",
              "      <th>38</th>\n",
              "      <td>Grand Theft Auto III</td>\n",
              "      <td>PS2</td>\n",
              "      <td>2001</td>\n",
              "      <td>Action</td>\n",
              "      <td>Take-Two Interactive</td>\n",
              "      <td>6.99</td>\n",
              "      <td>4.51</td>\n",
              "      <td>0.30</td>\n",
              "      <td>1.30</td>\n",
              "      <td>13.10</td>\n",
              "    </tr>\n",
              "    <tr>\n",
              "      <th>44</th>\n",
              "      <td>Grand Theft Auto V</td>\n",
              "      <td>PS4</td>\n",
              "      <td>2014</td>\n",
              "      <td>Action</td>\n",
              "      <td>Take-Two Interactive</td>\n",
              "      <td>3.80</td>\n",
              "      <td>5.81</td>\n",
              "      <td>0.36</td>\n",
              "      <td>2.02</td>\n",
              "      <td>11.99</td>\n",
              "    </tr>\n",
              "    <tr>\n",
              "      <th>45</th>\n",
              "      <td>Pokemon HeartGold/Pokemon SoulSilver</td>\n",
              "      <td>DS</td>\n",
              "      <td>2009</td>\n",
              "      <td>Action</td>\n",
              "      <td>Nintendo</td>\n",
              "      <td>4.40</td>\n",
              "      <td>2.77</td>\n",
              "      <td>3.96</td>\n",
              "      <td>0.77</td>\n",
              "      <td>11.90</td>\n",
              "    </tr>\n",
              "  </tbody>\n",
              "</table>\n",
              "</div>"
            ],
            "text/plain": [
              "                                    Name Platform  ...  Other_Sales Total_Sales\n",
              "16                    Grand Theft Auto V      PS3  ...         4.14       21.39\n",
              "17         Grand Theft Auto: San Andreas      PS2  ...        10.57       20.81\n",
              "23                    Grand Theft Auto V     X360  ...         1.38       16.38\n",
              "24           Grand Theft Auto: Vice City      PS2  ...         1.78       16.15\n",
              "38                  Grand Theft Auto III      PS2  ...         1.30       13.10\n",
              "44                    Grand Theft Auto V      PS4  ...         2.02       11.99\n",
              "45  Pokemon HeartGold/Pokemon SoulSilver       DS  ...         0.77       11.90\n",
              "\n",
              "[7 rows x 10 columns]"
            ]
          },
          "metadata": {
            "tags": []
          },
          "execution_count": 223
        }
      ]
    },
    {
      "cell_type": "markdown",
      "metadata": {
        "id": "ZuCcL3gzYb3J"
      },
      "source": [
        "##Findings: \n",
        "\n",
        "- 우선 전체 중 top 10 sales 와 2000년도 이후 출고된 게임의 top ten을 비교하였다 \n",
        "- 전체와 2000년이후 게임 비교결과 가장 많은 sales를 기록한 게임회사는 Nintendo 였다. \n",
        "\n"
      ]
    },
    {
      "cell_type": "markdown",
      "metadata": {
        "id": "gYmDjN8faiyw"
      },
      "source": [
        "#Extra: Sales 숫자로 얻을 수 있는건 없을까? "
      ]
    },
    {
      "cell_type": "markdown",
      "metadata": {
        "id": "a-yxKpJqvpob"
      },
      "source": [
        "##Code\n",
        "\n",
        "- 나라별 sales 값들을 PCA 이용하여 2차원으로 만들어 비교하기\n",
        "- 목적: 나라별로 sales 가 상이 하기 때문에 전반적으로 genre 와 platform 별로 어느 게임이 잘 팔리는지 분석"
      ]
    },
    {
      "cell_type": "code",
      "metadata": {
        "colab": {
          "base_uri": "https://localhost:8080/",
          "height": 1000
        },
        "id": "vGvdY_ytMMY0",
        "outputId": "87c0a079-2575-4dbd-eefb-5db4ac4aa81e"
      },
      "source": [
        "#sales DataFrame\n",
        "#sales dic\n",
        "sales= {'NA_Sales', 'EU_Sales', 'JP_Sales', 'Other_Sales'}\n",
        "#sales 값으로 새로운 df 만들기\n",
        "sales_df= pd.DataFrame(top_df, columns= sales)\n",
        "sales_df= sales_df.rename_axis('id').reset_index()\n",
        "sales_df= sales_df.drop(['id'], axis=1)\n",
        "sales_df"
      ],
      "execution_count": 301,
      "outputs": [
        {
          "output_type": "execute_result",
          "data": {
            "text/html": [
              "<div>\n",
              "<style scoped>\n",
              "    .dataframe tbody tr th:only-of-type {\n",
              "        vertical-align: middle;\n",
              "    }\n",
              "\n",
              "    .dataframe tbody tr th {\n",
              "        vertical-align: top;\n",
              "    }\n",
              "\n",
              "    .dataframe thead th {\n",
              "        text-align: right;\n",
              "    }\n",
              "</style>\n",
              "<table border=\"1\" class=\"dataframe\">\n",
              "  <thead>\n",
              "    <tr style=\"text-align: right;\">\n",
              "      <th></th>\n",
              "      <th>NA_Sales</th>\n",
              "      <th>JP_Sales</th>\n",
              "      <th>EU_Sales</th>\n",
              "      <th>Other_Sales</th>\n",
              "    </tr>\n",
              "  </thead>\n",
              "  <tbody>\n",
              "    <tr>\n",
              "      <th>0</th>\n",
              "      <td>41.49</td>\n",
              "      <td>3.77</td>\n",
              "      <td>29.02</td>\n",
              "      <td>8.46</td>\n",
              "    </tr>\n",
              "    <tr>\n",
              "      <th>1</th>\n",
              "      <td>29.08</td>\n",
              "      <td>6.81</td>\n",
              "      <td>3.58</td>\n",
              "      <td>0.77</td>\n",
              "    </tr>\n",
              "    <tr>\n",
              "      <th>2</th>\n",
              "      <td>15.85</td>\n",
              "      <td>3.79</td>\n",
              "      <td>12.88</td>\n",
              "      <td>3.31</td>\n",
              "    </tr>\n",
              "    <tr>\n",
              "      <th>3</th>\n",
              "      <td>15.75</td>\n",
              "      <td>3.28</td>\n",
              "      <td>11.01</td>\n",
              "      <td>2.96</td>\n",
              "    </tr>\n",
              "    <tr>\n",
              "      <th>4</th>\n",
              "      <td>11.27</td>\n",
              "      <td>10.22</td>\n",
              "      <td>8.89</td>\n",
              "      <td>1.00</td>\n",
              "    </tr>\n",
              "    <tr>\n",
              "      <th>5</th>\n",
              "      <td>23.20</td>\n",
              "      <td>4.22</td>\n",
              "      <td>2.26</td>\n",
              "      <td>0.58</td>\n",
              "    </tr>\n",
              "    <tr>\n",
              "      <th>6</th>\n",
              "      <td>11.38</td>\n",
              "      <td>6.50</td>\n",
              "      <td>9.23</td>\n",
              "      <td>2.90</td>\n",
              "    </tr>\n",
              "    <tr>\n",
              "      <th>7</th>\n",
              "      <td>14.03</td>\n",
              "      <td>2.93</td>\n",
              "      <td>9.20</td>\n",
              "      <td>2.85</td>\n",
              "    </tr>\n",
              "    <tr>\n",
              "      <th>8</th>\n",
              "      <td>14.59</td>\n",
              "      <td>4.70</td>\n",
              "      <td>7.06</td>\n",
              "      <td>2.26</td>\n",
              "    </tr>\n",
              "    <tr>\n",
              "      <th>9</th>\n",
              "      <td>26.93</td>\n",
              "      <td>0.28</td>\n",
              "      <td>0.63</td>\n",
              "      <td>0.47</td>\n",
              "    </tr>\n",
              "    <tr>\n",
              "      <th>10</th>\n",
              "      <td>9.07</td>\n",
              "      <td>1.93</td>\n",
              "      <td>11.00</td>\n",
              "      <td>2.75</td>\n",
              "    </tr>\n",
              "    <tr>\n",
              "      <th>11</th>\n",
              "      <td>9.81</td>\n",
              "      <td>4.13</td>\n",
              "      <td>7.57</td>\n",
              "      <td>1.92</td>\n",
              "    </tr>\n",
              "    <tr>\n",
              "      <th>12</th>\n",
              "      <td>9.00</td>\n",
              "      <td>7.20</td>\n",
              "      <td>6.18</td>\n",
              "      <td>0.71</td>\n",
              "    </tr>\n",
              "    <tr>\n",
              "      <th>13</th>\n",
              "      <td>8.94</td>\n",
              "      <td>3.60</td>\n",
              "      <td>8.03</td>\n",
              "      <td>2.15</td>\n",
              "    </tr>\n",
              "    <tr>\n",
              "      <th>14</th>\n",
              "      <td>9.09</td>\n",
              "      <td>2.53</td>\n",
              "      <td>8.59</td>\n",
              "      <td>1.79</td>\n",
              "    </tr>\n",
              "    <tr>\n",
              "      <th>15</th>\n",
              "      <td>14.97</td>\n",
              "      <td>0.24</td>\n",
              "      <td>4.94</td>\n",
              "      <td>1.67</td>\n",
              "    </tr>\n",
              "    <tr>\n",
              "      <th>16</th>\n",
              "      <td>7.01</td>\n",
              "      <td>0.97</td>\n",
              "      <td>9.27</td>\n",
              "      <td>4.14</td>\n",
              "    </tr>\n",
              "    <tr>\n",
              "      <th>17</th>\n",
              "      <td>9.43</td>\n",
              "      <td>0.41</td>\n",
              "      <td>0.40</td>\n",
              "      <td>10.57</td>\n",
              "    </tr>\n",
              "    <tr>\n",
              "      <th>18</th>\n",
              "      <td>12.78</td>\n",
              "      <td>3.54</td>\n",
              "      <td>3.75</td>\n",
              "      <td>0.55</td>\n",
              "    </tr>\n",
              "    <tr>\n",
              "      <th>19</th>\n",
              "      <td>4.75</td>\n",
              "      <td>4.16</td>\n",
              "      <td>9.26</td>\n",
              "      <td>2.05</td>\n",
              "    </tr>\n",
              "    <tr>\n",
              "      <th>20</th>\n",
              "      <td>6.42</td>\n",
              "      <td>6.04</td>\n",
              "      <td>4.52</td>\n",
              "      <td>1.37</td>\n",
              "    </tr>\n",
              "    <tr>\n",
              "      <th>21</th>\n",
              "      <td>10.83</td>\n",
              "      <td>4.18</td>\n",
              "      <td>2.71</td>\n",
              "      <td>0.42</td>\n",
              "    </tr>\n",
              "    <tr>\n",
              "      <th>22</th>\n",
              "      <td>9.54</td>\n",
              "      <td>3.84</td>\n",
              "      <td>3.44</td>\n",
              "      <td>0.46</td>\n",
              "    </tr>\n",
              "    <tr>\n",
              "      <th>23</th>\n",
              "      <td>9.63</td>\n",
              "      <td>0.06</td>\n",
              "      <td>5.31</td>\n",
              "      <td>1.38</td>\n",
              "    </tr>\n",
              "    <tr>\n",
              "      <th>24</th>\n",
              "      <td>8.41</td>\n",
              "      <td>0.47</td>\n",
              "      <td>5.49</td>\n",
              "      <td>1.78</td>\n",
              "    </tr>\n",
              "    <tr>\n",
              "      <th>25</th>\n",
              "      <td>6.06</td>\n",
              "      <td>5.38</td>\n",
              "      <td>3.90</td>\n",
              "      <td>0.50</td>\n",
              "    </tr>\n",
              "    <tr>\n",
              "      <th>26</th>\n",
              "      <td>5.57</td>\n",
              "      <td>5.65</td>\n",
              "      <td>3.28</td>\n",
              "      <td>0.82</td>\n",
              "    </tr>\n",
              "    <tr>\n",
              "      <th>27</th>\n",
              "      <td>3.44</td>\n",
              "      <td>5.32</td>\n",
              "      <td>5.36</td>\n",
              "      <td>1.18</td>\n",
              "    </tr>\n",
              "    <tr>\n",
              "      <th>28</th>\n",
              "      <td>6.85</td>\n",
              "      <td>1.87</td>\n",
              "      <td>5.09</td>\n",
              "      <td>1.16</td>\n",
              "    </tr>\n",
              "    <tr>\n",
              "      <th>29</th>\n",
              "      <td>9.03</td>\n",
              "      <td>0.13</td>\n",
              "      <td>4.28</td>\n",
              "      <td>1.32</td>\n",
              "    </tr>\n",
              "    <tr>\n",
              "      <th>30</th>\n",
              "      <td>9.67</td>\n",
              "      <td>0.11</td>\n",
              "      <td>3.73</td>\n",
              "      <td>1.13</td>\n",
              "    </tr>\n",
              "    <tr>\n",
              "      <th>31</th>\n",
              "      <td>5.89</td>\n",
              "      <td>3.12</td>\n",
              "      <td>5.04</td>\n",
              "      <td>0.59</td>\n",
              "    </tr>\n",
              "    <tr>\n",
              "      <th>32</th>\n",
              "      <td>5.17</td>\n",
              "      <td>4.34</td>\n",
              "      <td>4.05</td>\n",
              "      <td>0.79</td>\n",
              "    </tr>\n",
              "    <tr>\n",
              "      <th>33</th>\n",
              "      <td>5.77</td>\n",
              "      <td>0.35</td>\n",
              "      <td>5.81</td>\n",
              "      <td>2.31</td>\n",
              "    </tr>\n",
              "    <tr>\n",
              "      <th>34</th>\n",
              "      <td>4.99</td>\n",
              "      <td>0.65</td>\n",
              "      <td>5.88</td>\n",
              "      <td>2.52</td>\n",
              "    </tr>\n",
              "    <tr>\n",
              "      <th>35</th>\n",
              "      <td>8.25</td>\n",
              "      <td>0.07</td>\n",
              "      <td>4.30</td>\n",
              "      <td>1.12</td>\n",
              "    </tr>\n",
              "    <tr>\n",
              "      <th>36</th>\n",
              "      <td>8.52</td>\n",
              "      <td>0.08</td>\n",
              "      <td>3.63</td>\n",
              "      <td>1.29</td>\n",
              "    </tr>\n",
              "    <tr>\n",
              "      <th>37</th>\n",
              "      <td>5.54</td>\n",
              "      <td>0.49</td>\n",
              "      <td>5.82</td>\n",
              "      <td>1.62</td>\n",
              "    </tr>\n",
              "    <tr>\n",
              "      <th>38</th>\n",
              "      <td>6.99</td>\n",
              "      <td>0.30</td>\n",
              "      <td>4.51</td>\n",
              "      <td>1.30</td>\n",
              "    </tr>\n",
              "    <tr>\n",
              "      <th>39</th>\n",
              "      <td>6.75</td>\n",
              "      <td>2.66</td>\n",
              "      <td>2.61</td>\n",
              "      <td>1.02</td>\n",
              "    </tr>\n",
              "    <tr>\n",
              "      <th>40</th>\n",
              "      <td>5.98</td>\n",
              "      <td>0.48</td>\n",
              "      <td>4.44</td>\n",
              "      <td>1.83</td>\n",
              "    </tr>\n",
              "    <tr>\n",
              "      <th>41</th>\n",
              "      <td>2.55</td>\n",
              "      <td>5.33</td>\n",
              "      <td>3.52</td>\n",
              "      <td>0.88</td>\n",
              "    </tr>\n",
              "    <tr>\n",
              "      <th>42</th>\n",
              "      <td>4.74</td>\n",
              "      <td>2.67</td>\n",
              "      <td>3.91</td>\n",
              "      <td>0.89</td>\n",
              "    </tr>\n",
              "    <tr>\n",
              "      <th>43</th>\n",
              "      <td>7.97</td>\n",
              "      <td>0.13</td>\n",
              "      <td>2.83</td>\n",
              "      <td>1.21</td>\n",
              "    </tr>\n",
              "    <tr>\n",
              "      <th>44</th>\n",
              "      <td>3.80</td>\n",
              "      <td>0.36</td>\n",
              "      <td>5.81</td>\n",
              "      <td>2.02</td>\n",
              "    </tr>\n",
              "    <tr>\n",
              "      <th>45</th>\n",
              "      <td>4.40</td>\n",
              "      <td>3.96</td>\n",
              "      <td>2.77</td>\n",
              "      <td>0.77</td>\n",
              "    </tr>\n",
              "    <tr>\n",
              "      <th>46</th>\n",
              "      <td>6.91</td>\n",
              "      <td>1.91</td>\n",
              "      <td>2.85</td>\n",
              "      <td>0.23</td>\n",
              "    </tr>\n",
              "    <tr>\n",
              "      <th>47</th>\n",
              "      <td>3.01</td>\n",
              "      <td>1.10</td>\n",
              "      <td>0.01</td>\n",
              "      <td>7.53</td>\n",
              "    </tr>\n",
              "    <tr>\n",
              "      <th>48</th>\n",
              "      <td>6.16</td>\n",
              "      <td>1.20</td>\n",
              "      <td>3.40</td>\n",
              "      <td>0.76</td>\n",
              "    </tr>\n",
              "    <tr>\n",
              "      <th>49</th>\n",
              "      <td>4.23</td>\n",
              "      <td>3.08</td>\n",
              "      <td>3.37</td>\n",
              "      <td>0.65</td>\n",
              "    </tr>\n",
              "  </tbody>\n",
              "</table>\n",
              "</div>"
            ],
            "text/plain": [
              "    NA_Sales  JP_Sales  EU_Sales  Other_Sales\n",
              "0      41.49      3.77     29.02         8.46\n",
              "1      29.08      6.81      3.58         0.77\n",
              "2      15.85      3.79     12.88         3.31\n",
              "3      15.75      3.28     11.01         2.96\n",
              "4      11.27     10.22      8.89         1.00\n",
              "5      23.20      4.22      2.26         0.58\n",
              "6      11.38      6.50      9.23         2.90\n",
              "7      14.03      2.93      9.20         2.85\n",
              "8      14.59      4.70      7.06         2.26\n",
              "9      26.93      0.28      0.63         0.47\n",
              "10      9.07      1.93     11.00         2.75\n",
              "11      9.81      4.13      7.57         1.92\n",
              "12      9.00      7.20      6.18         0.71\n",
              "13      8.94      3.60      8.03         2.15\n",
              "14      9.09      2.53      8.59         1.79\n",
              "15     14.97      0.24      4.94         1.67\n",
              "16      7.01      0.97      9.27         4.14\n",
              "17      9.43      0.41      0.40        10.57\n",
              "18     12.78      3.54      3.75         0.55\n",
              "19      4.75      4.16      9.26         2.05\n",
              "20      6.42      6.04      4.52         1.37\n",
              "21     10.83      4.18      2.71         0.42\n",
              "22      9.54      3.84      3.44         0.46\n",
              "23      9.63      0.06      5.31         1.38\n",
              "24      8.41      0.47      5.49         1.78\n",
              "25      6.06      5.38      3.90         0.50\n",
              "26      5.57      5.65      3.28         0.82\n",
              "27      3.44      5.32      5.36         1.18\n",
              "28      6.85      1.87      5.09         1.16\n",
              "29      9.03      0.13      4.28         1.32\n",
              "30      9.67      0.11      3.73         1.13\n",
              "31      5.89      3.12      5.04         0.59\n",
              "32      5.17      4.34      4.05         0.79\n",
              "33      5.77      0.35      5.81         2.31\n",
              "34      4.99      0.65      5.88         2.52\n",
              "35      8.25      0.07      4.30         1.12\n",
              "36      8.52      0.08      3.63         1.29\n",
              "37      5.54      0.49      5.82         1.62\n",
              "38      6.99      0.30      4.51         1.30\n",
              "39      6.75      2.66      2.61         1.02\n",
              "40      5.98      0.48      4.44         1.83\n",
              "41      2.55      5.33      3.52         0.88\n",
              "42      4.74      2.67      3.91         0.89\n",
              "43      7.97      0.13      2.83         1.21\n",
              "44      3.80      0.36      5.81         2.02\n",
              "45      4.40      3.96      2.77         0.77\n",
              "46      6.91      1.91      2.85         0.23\n",
              "47      3.01      1.10      0.01         7.53\n",
              "48      6.16      1.20      3.40         0.76\n",
              "49      4.23      3.08      3.37         0.65"
            ]
          },
          "metadata": {
            "tags": []
          },
          "execution_count": 301
        }
      ]
    },
    {
      "cell_type": "code",
      "metadata": {
        "colab": {
          "base_uri": "https://localhost:8080/",
          "height": 173
        },
        "id": "i8_VX7iR47xy",
        "outputId": "7853dc95-cfd7-4004-bc64-30d0818cbb32"
      },
      "source": [
        "sales_df.corr()"
      ],
      "execution_count": 302,
      "outputs": [
        {
          "output_type": "execute_result",
          "data": {
            "text/html": [
              "<div>\n",
              "<style scoped>\n",
              "    .dataframe tbody tr th:only-of-type {\n",
              "        vertical-align: middle;\n",
              "    }\n",
              "\n",
              "    .dataframe tbody tr th {\n",
              "        vertical-align: top;\n",
              "    }\n",
              "\n",
              "    .dataframe thead th {\n",
              "        text-align: right;\n",
              "    }\n",
              "</style>\n",
              "<table border=\"1\" class=\"dataframe\">\n",
              "  <thead>\n",
              "    <tr style=\"text-align: right;\">\n",
              "      <th></th>\n",
              "      <th>NA_Sales</th>\n",
              "      <th>JP_Sales</th>\n",
              "      <th>EU_Sales</th>\n",
              "      <th>Other_Sales</th>\n",
              "    </tr>\n",
              "  </thead>\n",
              "  <tbody>\n",
              "    <tr>\n",
              "      <th>NA_Sales</th>\n",
              "      <td>1.000000</td>\n",
              "      <td>0.150437</td>\n",
              "      <td>0.519829</td>\n",
              "      <td>0.254122</td>\n",
              "    </tr>\n",
              "    <tr>\n",
              "      <th>JP_Sales</th>\n",
              "      <td>0.150437</td>\n",
              "      <td>1.000000</td>\n",
              "      <td>0.194564</td>\n",
              "      <td>-0.182604</td>\n",
              "    </tr>\n",
              "    <tr>\n",
              "      <th>EU_Sales</th>\n",
              "      <td>0.519829</td>\n",
              "      <td>0.194564</td>\n",
              "      <td>1.000000</td>\n",
              "      <td>0.397974</td>\n",
              "    </tr>\n",
              "    <tr>\n",
              "      <th>Other_Sales</th>\n",
              "      <td>0.254122</td>\n",
              "      <td>-0.182604</td>\n",
              "      <td>0.397974</td>\n",
              "      <td>1.000000</td>\n",
              "    </tr>\n",
              "  </tbody>\n",
              "</table>\n",
              "</div>"
            ],
            "text/plain": [
              "             NA_Sales  JP_Sales  EU_Sales  Other_Sales\n",
              "NA_Sales     1.000000  0.150437  0.519829     0.254122\n",
              "JP_Sales     0.150437  1.000000  0.194564    -0.182604\n",
              "EU_Sales     0.519829  0.194564  1.000000     0.397974\n",
              "Other_Sales  0.254122 -0.182604  0.397974     1.000000"
            ]
          },
          "metadata": {
            "tags": []
          },
          "execution_count": 302
        }
      ]
    },
    {
      "cell_type": "code",
      "metadata": {
        "id": "5R_jrWinTuBc",
        "colab": {
          "base_uri": "https://localhost:8080/",
          "height": 1000
        },
        "outputId": "272b451e-a0e5-4690-92ab-5488730a0d4e"
      },
      "source": [
        "#PCA 사용해서 top 50 games 의 sales 비교하기\n",
        "\n",
        "import pandas as pd\n",
        "from sklearn.preprocessing import StandardScaler, Normalizer\n",
        "from sklearn.decomposition import PCA\n",
        "import matplotlib.pyplot as plt\n",
        "\n",
        "\n",
        "top_plat= top_df['Platform']\n",
        "top_genre_type= top_df['Genre']\n",
        "total_sales= top_df['Total_Sales']\n",
        "\n",
        "scaler = StandardScaler()\n",
        "Z = scaler.fit_transform(sales_df)\n",
        "print(Z)\n",
        "\n",
        "pca = PCA(n_components= 2)\n",
        "pc = pca.fit_transform(Z)\n",
        "print(pc)\n",
        "\n",
        "ratio = pca.explained_variance_ratio_\n",
        "print(ratio)\n",
        "\n",
        "plt.scatter(pc[:,0], pc[:,1])\n"
      ],
      "execution_count": 295,
      "outputs": [
        {
          "output_type": "stream",
          "text": [
            "[[ 4.46892829e+00  4.09406140e-01  5.39551667e+00  3.32323957e+00]\n",
            " [ 2.71722110e+00  1.70694019e+00 -4.87575106e-01 -5.69006964e-01]\n",
            " [ 8.49768546e-01  4.17942548e-01  1.66308344e+00  7.16598523e-01]\n",
            " [ 8.35653258e-01  2.00264138e-01  1.23063920e+00  5.39448161e-01]\n",
            " [ 2.03288372e-01  3.16239780e+00  7.40381550e-01 -4.52593869e-01]\n",
            " [ 1.88724219e+00  6.01475326e-01 -7.92829868e-01 -6.65174304e-01]\n",
            " [ 2.18815189e-01  1.57462587e+00  8.19007776e-01  5.09079527e-01]\n",
            " [ 5.92870311e-01  5.08769932e-02  8.12070168e-01  4.83772332e-01]\n",
            " [ 6.71915922e-01  8.06349124e-01  3.17187448e-01  1.85147436e-01]\n",
            " [ 2.41374242e+00 -1.08019710e+00 -1.16977325e+00 -7.20850132e-01]\n",
            " [-1.07247955e-01 -3.75943420e-01  1.22832666e+00  4.33157943e-01]\n",
            " [-2.79482695e-03  5.63061489e-01  4.35126788e-01  1.30585124e-02]\n",
            " [-1.17128657e-01  1.87340016e+00  1.13684273e-01 -5.99375597e-01]\n",
            " [-1.25597829e-01  3.36846670e-01  5.41503447e-01  1.29471608e-01]\n",
            " [-1.04424898e-01 -1.19851172e-01  6.71005468e-01 -5.27401936e-02]\n",
            " [ 7.25554015e-01 -1.09726992e+00 -1.73070200e-01 -1.13477461e-01]\n",
            " [-3.98022881e-01 -7.85691016e-01  8.28257921e-01  1.13669795e+00]\n",
            " [-5.64329199e-02 -1.02471045e+00 -1.22296158e+00  4.39120318e+00]\n",
            " [ 4.16429216e-01  3.11237445e-01 -4.48261993e-01 -6.80358620e-01]\n",
            " [-7.17028381e-01  5.75866101e-01  8.25945385e-01  7.88572185e-02]\n",
            " [-4.81303078e-01  1.37828848e+00 -2.70196715e-01 -2.65320628e-01]\n",
            " [ 1.41181107e-01  5.84402509e-01 -6.88765745e-01 -7.46157326e-01]\n",
            " [-4.09061036e-02  4.39283569e-01 -5.19950611e-01 -7.25911571e-01]\n",
            " [-2.82023447e-02 -1.17409759e+00 -8.75063651e-02 -2.60259190e-01]\n",
            " [-2.00408854e-01 -9.99101222e-01 -4.58807157e-02 -5.78016325e-02]\n",
            " [-5.32118113e-01  1.09658700e+00 -4.13573952e-01 -7.05665815e-01]\n",
            " [-6.01283023e-01  1.21182852e+00 -5.56951188e-01 -5.43699769e-01]\n",
            " [-9.01938649e-01  1.07097778e+00 -7.59436847e-02 -3.61487968e-01]\n",
            " [-4.20607341e-01 -4.01552644e-01 -1.38382159e-01 -3.71610846e-01]\n",
            " [-1.12894070e-01 -1.14422016e+00 -3.25697581e-01 -2.90627823e-01]\n",
            " [-2.25562296e-02 -1.15275657e+00 -4.52887065e-01 -3.86795163e-01]\n",
            " [-5.56114102e-01  1.31972872e-01 -1.49944839e-01 -6.60112865e-01]\n",
            " [-6.57744173e-01  6.52693775e-01 -3.78885911e-01 -5.58884086e-01]\n",
            " [-5.73052447e-01 -1.05031967e+00  2.81204387e-02  2.10454631e-01]\n",
            " [-6.83151691e-01 -9.22273548e-01  4.43081912e-02  3.16744848e-01]\n",
            " [-2.22993314e-01 -1.16982939e+00 -3.21072509e-01 -3.91856602e-01]\n",
            " [-1.84882037e-01 -1.16556118e+00 -4.76012426e-01 -3.05812140e-01]\n",
            " [-6.05517609e-01 -9.90564814e-01  3.04329747e-02 -1.38784655e-01]\n",
            " [-4.00845938e-01 -1.07166069e+00 -2.72509251e-01 -3.00750701e-01]\n",
            " [-4.34722628e-01 -6.43645183e-02 -7.11891105e-01 -4.42470991e-01]\n",
            " [-5.43410343e-01 -9.94833018e-01 -2.88697004e-01 -3.24944379e-02]\n",
            " [-1.02756471e+00  1.07524598e+00 -5.01450323e-01 -5.13331136e-01]\n",
            " [-7.18439910e-01 -6.00963141e-02 -4.11261416e-01 -5.08269697e-01]\n",
            " [-2.62516119e-01 -1.14422016e+00 -6.61015312e-01 -3.46303651e-01]\n",
            " [-8.51123614e-01 -1.04605147e+00  2.81204387e-02  6.36729017e-02]\n",
            " [-7.66431888e-01  4.90502018e-01 -6.74890528e-01 -5.69006964e-01]\n",
            " [-4.12138168e-01 -3.84479828e-01 -6.56390240e-01 -8.42324666e-01]\n",
            " [-9.62634386e-01 -7.30204362e-01 -1.31315048e+00  2.85252575e+00]\n",
            " [-5.18002825e-01 -6.87522321e-01 -5.29200755e-01 -5.74068403e-01]\n",
            " [-7.90427877e-01  1.14900055e-01 -5.36138364e-01 -6.29744231e-01]]\n",
            "[[ 7.70511196  0.50864389]\n",
            " [ 1.29032216 -2.04275502]\n",
            " [ 1.96829146 -0.18190425]\n",
            " [ 1.56499625 -0.06722033]\n",
            " [ 0.88799695 -2.93106402]\n",
            " [ 0.38588691 -1.05347319]\n",
            " [ 1.14198415 -1.10497692]\n",
            " [ 1.10349516  0.08699553]\n",
            " [ 0.81300764 -0.67416369]\n",
            " [ 0.15980847  0.2577976 ]\n",
            " [ 0.86844194  0.47428353]\n",
            " [ 0.37376138 -0.48683712]\n",
            " [ 0.02361924 -1.86320939]\n",
            " [ 0.38812541 -0.22807269]\n",
            " [ 0.32668531  0.03644552]\n",
            " [ 0.08805465  0.75763138]\n",
            " [ 0.70182369  1.26328844]\n",
            " [ 1.05655402  3.33959572]\n",
            " [-0.31006821 -0.65211438]\n",
            " [ 0.23796252 -0.39426291]\n",
            " [-0.36086668 -1.19743364]\n",
            " [-0.61367833 -0.85966753]\n",
            " [-0.6257677  -0.71683671]\n",
            " [-0.38027052  0.83446635]\n",
            " [-0.33288365  0.82098469]\n",
            " [-0.73219541 -1.18948768]\n",
            " [-0.77154151 -1.17653566]\n",
            " [-0.57662188 -0.95489043]\n",
            " [-0.57257227  0.1928995 ]\n",
            " [-0.59260473  0.82124195]\n",
            " [-0.66733426  0.77265092]\n",
            " [-0.70884748 -0.38553691]\n",
            " [-0.78608574 -0.72941852]\n",
            " [-0.3878607   1.05407795]\n",
            " [-0.37245172  1.02021771]\n",
            " [-0.70541333  0.80122157]\n",
            " [-0.74203765  0.85063425]\n",
            " [-0.55813557  0.81796274]\n",
            " [-0.72079828  0.79035937]\n",
            " [-0.92907853 -0.08130487]\n",
            " [-0.67821922  0.89386159]\n",
            " [-0.99397355 -0.9948606 ]\n",
            " [-0.93233399 -0.10438545]\n",
            " [-0.92207035  0.83422236]\n",
            " [-0.61876941  1.00711695]\n",
            " [-1.070825   -0.56613763]\n",
            " [-1.11665146 -0.04330241]\n",
            " [-0.20176377  2.38178907]\n",
            " [-1.02064143  0.35808613]\n",
            " [-1.08356693 -0.29662275]]\n",
            "[0.45259283 0.29053233]\n"
          ],
          "name": "stdout"
        },
        {
          "output_type": "execute_result",
          "data": {
            "text/plain": [
              "<matplotlib.collections.PathCollection at 0x7f5885fb2f50>"
            ]
          },
          "metadata": {
            "tags": []
          },
          "execution_count": 295
        },
        {
          "output_type": "display_data",
          "data": {
            "image/png": "[encoded data removed]",
            "text/plain": [
              "<Figure size 432x288 with 1 Axes>"
            ]
          },
          "metadata": {
            "tags": [],
            "needs_background": "light"
          }
        }
      ]
    },
    {
      "cell_type": "code",
      "metadata": {
        "colab": {
          "base_uri": "https://localhost:8080/"
        },
        "id": "z3cBRfE6g5oj",
        "outputId": "808c8218-6520-464a-da83-381f797556ec"
      },
      "source": [
        "ratio"
      ],
      "execution_count": 231,
      "outputs": [
        {
          "output_type": "execute_result",
          "data": {
            "text/plain": [
              "array([0.45259283, 0.29053233])"
            ]
          },
          "metadata": {
            "tags": []
          },
          "execution_count": 231
        }
      ]
    },
    {
      "cell_type": "markdown",
      "metadata": {
        "id": "Exz7QitVo5ve"
      },
      "source": [
        "###Screeplot"
      ]
    },
    {
      "cell_type": "code",
      "metadata": {
        "colab": {
          "base_uri": "https://localhost:8080/",
          "height": 298
        },
        "id": "vbVFIrsGo-vT",
        "outputId": "d61e43bd-1ac5-4c88-cc00-e2540545671c"
      },
      "source": [
        "#screeplot\n",
        "plt.plot(pca.explained_variance_)\n",
        "plt.title('Scree Plot')"
      ],
      "execution_count": 299,
      "outputs": [
        {
          "output_type": "execute_result",
          "data": {
            "text/plain": [
              "Text(0.5, 1.0, 'Scree Plot')"
            ]
          },
          "metadata": {
            "tags": []
          },
          "execution_count": 299
        },
        {
          "output_type": "display_data",
          "data": {
            "image/png": "[encoded data removed]",
            "text/plain": [
              "<Figure size 432x288 with 1 Axes>"
            ]
          },
          "metadata": {
            "tags": [],
            "needs_background": "light"
          }
        }
      ]
    },
    {
      "cell_type": "markdown",
      "metadata": {
        "id": "19unaGvxvu18"
      },
      "source": [
        "##ScatterPlots (Platform / Genre vs Sales)"
      ]
    },
    {
      "cell_type": "code",
      "metadata": {
        "colab": {
          "base_uri": "https://localhost:8080/",
          "height": 497
        },
        "id": "4fZlObkv42Ga",
        "outputId": "75af9dfb-aeb8-4afe-e6df-c038860c6d41"
      },
      "source": [
        "#Platform scatter\n",
        "new_df= pd.DataFrame({'Platform': top_plat,\n",
        "                     'pc1': pc[:,0],\n",
        "                     'pc2': pc[:,1],\n",
        "                     'sales': total_sales})\n",
        "\n",
        "new_df\n",
        "plt.figure(figsize=(10,8))\n",
        "sns.scatterplot(data= new_df, x= 'pc1', y= 'pc2', hue= 'Platform', s=100)\n",
        "plt.show()"
      ],
      "execution_count": 298,
      "outputs": [
        {
          "output_type": "display_data",
          "data": {
            "image/png": "[encoded data removed]",
            "text/plain": [
              "<Figure size 720x576 with 1 Axes>"
            ]
          },
          "metadata": {
            "tags": [],
            "needs_background": "light"
          }
        }
      ]
    },
    {
      "cell_type": "code",
      "metadata": {
        "colab": {
          "base_uri": "https://localhost:8080/",
          "height": 514
        },
        "id": "x8zK-1gEnxkX",
        "outputId": "fd8efebe-d9dd-4d59-b70d-ffc375ce3854"
      },
      "source": [
        "#genre scatter\n",
        "\n",
        "new_df2= pd.DataFrame({'Genre': top_genre_type,\n",
        "                     'pc1': pc[:,0],\n",
        "                     'pc2': pc[:,1]})\n",
        "\n",
        "new_df2\n",
        "plt.figure(figsize=(10,8))\n",
        "sns.scatterplot(data= new_df2, x= 'pc1', y= 'pc2', hue= 'Genre', s=100)"
      ],
      "execution_count": 228,
      "outputs": [
        {
          "output_type": "execute_result",
          "data": {
            "text/plain": [
              "<matplotlib.axes._subplots.AxesSubplot at 0x7f5888ec9b10>"
            ]
          },
          "metadata": {
            "tags": []
          },
          "execution_count": 228
        },
        {
          "output_type": "display_data",
          "data": {
            "image/png": "[encoded data removed]",
            "text/plain": [
              "<Figure size 720x576 with 1 Axes>"
            ]
          },
          "metadata": {
            "tags": [],
            "needs_background": "light"
          }
        }
      ]
    },
    {
      "cell_type": "markdown",
      "metadata": {
        "id": "UXLV8B-ONXg4"
      },
      "source": [
        "##Findings\n",
        "\n",
        "- 연관이 없다"
      ]
    },
    {
      "cell_type": "markdown",
      "metadata": {
        "id": "X-i7Zt_pNdW4"
      },
      "source": [
        "#Conclusion"
      ]
    }
  ]
}